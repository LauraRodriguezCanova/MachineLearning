{
 "cells": [
  {
   "cell_type": "markdown",
   "metadata": {},
   "source": [
    "# <div class=\"text-center\"> Fundamentos de Machine Learning</div>\n",
    "\n",
    "\n",
    "### <div class=\"text-center\">***LABORATORIO 2019***</div>\n",
    "\n",
    "---\n",
    "\n",
    "![DevIt](logo.jpg)\n",
    "\n",
    "---\n",
    "<div class=\"text-center\"> Andrea Correa </div>\n",
    "<div class=\"text-center\">María Laura Gayo </div>\n",
    "<div class=\"text-center\"> Mariano Koci </div>\n",
    "<div class=\"text-center\">Alejandro Wohlwend </div>\n",
    "<div class=\"text-center\">Renzo Daset </div>\n",
    "<div class=\"text-center\">Laura Rodríguez </div>\n",
    "\n",
    "---\n",
    "\n",
    "\n",
    "\n",
    "\n"
   ]
  },
  {
   "cell_type": "markdown",
   "metadata": {},
   "source": [
    "<a id='Indice'></a>\n",
    "### Índice\n",
    "\n",
    "1. [Objetivo](#Objetivo)\n",
    "\n",
    "2. [Realidad Planteada](#Realidad)\n",
    "\n",
    "3. [Requerimientos Planteados](#Requerimientos)\n",
    "\n",
    "4. [Adquisición de datos](#Adquisicion-Datos)\n",
    "    4. [Dependencias](#Dependencias)\n",
    "    4. [Import de CSV](#Import-CSV)\n",
    "\n",
    "5. [Transformación de los datos](#Transformacion)\n",
    "    5. [Transformación de Monedas](#Transformación-Moneda)\n",
    "    5. [Descartando columnas no utilizadas](#Descartadas)\n",
    "    5. [Agrupación de posiciones](#Posiciones)    \n",
    "    5. [Limpieza de valores inválidos](#Transformación-Inválidos)\n",
    "    \n",
    "6. [Creación de Datasets](#Datasets)\n",
    "    6. [Dataset para Goalkeepers](#Goalkeepers)\n",
    "    6. [Dataset para CentralDefenders](#CentralDefenders)\n",
    "    6. [Dataset para Right/Left Backs](#Right/LeftBacks)\n",
    "    6. [Dataset para Right/Left Winger Backs](#Right/LeftWingerBacks)\n",
    "    6. [Dataset para Center Defender Midfielders](#CenterDefenderMidfielders)\n",
    "    6. [Dataset para Central Midfielders](#CentralMidfielders)\n",
    "    6. [Dataset para Left/Right Central Midfielders](#Left/RightCentralMidfielders)\n",
    "    6. [Dataset para Central Attacking Midfielders](#CentralAttackingMidfielders)\n",
    "    6. [Dataset para Left/Right Midfielders](#Left/RightMidfielders)\n",
    "    6. [Dataset para Left/Right Attacking Wingers](#Left/RightAttackingWingers)\n",
    "    6. [Dataset para Center/Left/Right Forwarders](#Center/Left/RightForwarders)\n",
    "    6. [Dataset para Strikers](#Strikers)\n",
    "  \n",
    "\n",
    "7. [Pre-procesamiento de datos para optimizar el algoritmo.](#Pre)\n",
    "\n",
    "8. [Evaluación del algoritmo](#Evaluación)\n",
    "\n",
    "---"
   ]
  },
  {
   "cell_type": "markdown",
   "metadata": {},
   "source": [
    "<a id='Objetivo'></a>\n",
    "# Objetivo\n",
    "---\n",
    "[Inicio ▲](#Indice)"
   ]
  },
  {
   "cell_type": "markdown",
   "metadata": {},
   "source": [
    "Esta tarea pretende la puesta en práctica y profundización de los siguientes puntos vistos en el taller:\n",
    "- Pre-procesar los datos para un algoritmo de Machine Learning\n",
    "- Aplicar un algoritmo de Machine Learning a un caso de estudio\n",
    "- Evaluar los resultados del algoritmo y extraer conclusiones"
   ]
  },
  {
   "cell_type": "markdown",
   "metadata": {},
   "source": [
    "<a id='Realidad'></a>\n",
    "# Realidad planteada\n",
    "---\n",
    "[Inicio ▲](#Indice)"
   ]
  },
  {
   "cell_type": "markdown",
   "metadata": {},
   "source": [
    "Un jugador de FIFA 2019 online quiere construir un equipo competitivo y para ello quiere\n",
    "predecir el valor de los jugadores en base a sus estadísticas, para de esta forma poder\n",
    "armar un equipo sin perder dinero. Para ello se utiliza un conjunto de datos [1] escrapeado\n",
    "de [2]."
   ]
  },
  {
   "cell_type": "markdown",
   "metadata": {},
   "source": [
    "<a id='Requerimientos'></a>\n",
    "# Requerimientos planteados\n",
    "---\n",
    "[Inicio ▲](#Indice)"
   ]
  },
  {
   "cell_type": "markdown",
   "metadata": {},
   "source": [
    "- La ingesta de los datos desde los archivos .csv y .xml a un DataFrame de R.\n",
    "- Validación y limpieza de datos.\n",
    "- Análisis del conjunto de datos.\n",
    "- Pre-procesamiento de los datos para obtener los mejores resultados del algoritmo.\n",
    "- Evaluar el algoritmo con las técnicas vistas en el taller.\n"
   ]
  },
  {
   "cell_type": "markdown",
   "metadata": {},
   "source": [
    "<a id='Adquisicion-Datos'></a>\n",
    "# Adquisición de datos\n",
    "---"
   ]
  },
  {
   "cell_type": "markdown",
   "metadata": {},
   "source": [
    "<a id='Dependencias'></a>\n",
    "## Dependencias\n",
    "[Inicio ▲](#Indice)"
   ]
  },
  {
   "cell_type": "code",
   "execution_count": 1,
   "metadata": {},
   "outputs": [
    {
     "name": "stderr",
     "output_type": "stream",
     "text": [
      "Installing package into 'C:/Users/arual/Documents/R/win-library/3.6'\n",
      "(as 'lib' is unspecified)\n"
     ]
    },
    {
     "name": "stdout",
     "output_type": "stream",
     "text": [
      "package 'mice' successfully unpacked and MD5 sums checked\n"
     ]
    },
    {
     "name": "stderr",
     "output_type": "stream",
     "text": [
      "Warning message:\n",
      "\"cannot remove prior installation of package 'mice'\"Warning message in file.copy(savedcopy, lib, recursive = TRUE):\n",
      "\"problema al copiar C:\\Users\\arual\\Documents\\R\\win-library\\3.6\\00LOCK\\mice\\libs\\x64\\mice.dll  a C:\\Users\\arual\\Documents\\R\\win-library\\3.6\\mice\\libs\\x64\\mice.dll: Permission denied\"Warning message:\n",
      "\"restored 'mice'\""
     ]
    },
    {
     "name": "stdout",
     "output_type": "stream",
     "text": [
      "\n",
      "The downloaded binary packages are in\n",
      "\tC:\\Users\\Public\\Documents\\Wondershare\\CreatorTemp\\RtmpYRow7I\\downloaded_packages\n"
     ]
    },
    {
     "name": "stderr",
     "output_type": "stream",
     "text": [
      "Installing package into 'C:/Users/arual/Documents/R/win-library/3.6'\n",
      "(as 'lib' is unspecified)\n"
     ]
    },
    {
     "name": "stdout",
     "output_type": "stream",
     "text": [
      "package 'lattice' successfully unpacked and MD5 sums checked\n"
     ]
    },
    {
     "name": "stderr",
     "output_type": "stream",
     "text": [
      "Warning message:\n",
      "\"cannot remove prior installation of package 'lattice'\"Warning message in file.copy(savedcopy, lib, recursive = TRUE):\n",
      "\"problema al copiar C:\\Users\\arual\\Documents\\R\\win-library\\3.6\\00LOCK\\lattice\\libs\\x64\\lattice.dll  a C:\\Users\\arual\\Documents\\R\\win-library\\3.6\\lattice\\libs\\x64\\lattice.dll: Permission denied\"Warning message:\n",
      "\"restored 'lattice'\""
     ]
    },
    {
     "name": "stdout",
     "output_type": "stream",
     "text": [
      "\n",
      "The downloaded binary packages are in\n",
      "\tC:\\Users\\Public\\Documents\\Wondershare\\CreatorTemp\\RtmpYRow7I\\downloaded_packages\n"
     ]
    },
    {
     "name": "stderr",
     "output_type": "stream",
     "text": [
      "Installing package into 'C:/Users/arual/Documents/R/win-library/3.6'\n",
      "(as 'lib' is unspecified)\n"
     ]
    },
    {
     "name": "stdout",
     "output_type": "stream",
     "text": [
      "package 'dplyr' successfully unpacked and MD5 sums checked\n"
     ]
    },
    {
     "name": "stderr",
     "output_type": "stream",
     "text": [
      "Warning message:\n",
      "\"cannot remove prior installation of package 'dplyr'\"Warning message in file.copy(savedcopy, lib, recursive = TRUE):\n",
      "\"problema al copiar C:\\Users\\arual\\Documents\\R\\win-library\\3.6\\00LOCK\\dplyr\\libs\\x64\\dplyr.dll  a C:\\Users\\arual\\Documents\\R\\win-library\\3.6\\dplyr\\libs\\x64\\dplyr.dll: Permission denied\"Warning message:\n",
      "\"restored 'dplyr'\""
     ]
    },
    {
     "name": "stdout",
     "output_type": "stream",
     "text": [
      "\n",
      "The downloaded binary packages are in\n",
      "\tC:\\Users\\Public\\Documents\\Wondershare\\CreatorTemp\\RtmpYRow7I\\downloaded_packages\n"
     ]
    },
    {
     "name": "stderr",
     "output_type": "stream",
     "text": [
      "Installing package into 'C:/Users/arual/Documents/R/win-library/3.6'\n",
      "(as 'lib' is unspecified)\n"
     ]
    },
    {
     "name": "stdout",
     "output_type": "stream",
     "text": [
      "package 'e1071' successfully unpacked and MD5 sums checked\n"
     ]
    },
    {
     "name": "stderr",
     "output_type": "stream",
     "text": [
      "Warning message:\n",
      "\"cannot remove prior installation of package 'e1071'\"Warning message in file.copy(savedcopy, lib, recursive = TRUE):\n",
      "\"problema al copiar C:\\Users\\arual\\Documents\\R\\win-library\\3.6\\00LOCK\\e1071\\libs\\x64\\e1071.dll  a C:\\Users\\arual\\Documents\\R\\win-library\\3.6\\e1071\\libs\\x64\\e1071.dll: Permission denied\"Warning message:\n",
      "\"restored 'e1071'\""
     ]
    },
    {
     "name": "stdout",
     "output_type": "stream",
     "text": [
      "\n",
      "The downloaded binary packages are in\n",
      "\tC:\\Users\\Public\\Documents\\Wondershare\\CreatorTemp\\RtmpYRow7I\\downloaded_packages\n"
     ]
    },
    {
     "name": "stderr",
     "output_type": "stream",
     "text": [
      "Installing package into 'C:/Users/arual/Documents/R/win-library/3.6'\n",
      "(as 'lib' is unspecified)\n"
     ]
    },
    {
     "name": "stdout",
     "output_type": "stream",
     "text": [
      "package 'caret' successfully unpacked and MD5 sums checked\n"
     ]
    },
    {
     "name": "stderr",
     "output_type": "stream",
     "text": [
      "Warning message:\n",
      "\"cannot remove prior installation of package 'caret'\"Warning message in file.copy(savedcopy, lib, recursive = TRUE):\n",
      "\"problema al copiar C:\\Users\\arual\\Documents\\R\\win-library\\3.6\\00LOCK\\caret\\libs\\x64\\caret.dll  a C:\\Users\\arual\\Documents\\R\\win-library\\3.6\\caret\\libs\\x64\\caret.dll: Permission denied\"Warning message:\n",
      "\"restored 'caret'\""
     ]
    },
    {
     "name": "stdout",
     "output_type": "stream",
     "text": [
      "\n",
      "The downloaded binary packages are in\n",
      "\tC:\\Users\\Public\\Documents\\Wondershare\\CreatorTemp\\RtmpYRow7I\\downloaded_packages\n"
     ]
    },
    {
     "name": "stderr",
     "output_type": "stream",
     "text": [
      "Installing package into 'C:/Users/arual/Documents/R/win-library/3.6'\n",
      "(as 'lib' is unspecified)\n"
     ]
    },
    {
     "name": "stdout",
     "output_type": "stream",
     "text": [
      "package 'ggplot2' successfully unpacked and MD5 sums checked\n",
      "\n",
      "The downloaded binary packages are in\n",
      "\tC:\\Users\\Public\\Documents\\Wondershare\\CreatorTemp\\RtmpYRow7I\\downloaded_packages\n"
     ]
    },
    {
     "name": "stderr",
     "output_type": "stream",
     "text": [
      "Installing package into 'C:/Users/arual/Documents/R/win-library/3.6'\n",
      "(as 'lib' is unspecified)\n"
     ]
    },
    {
     "name": "stdout",
     "output_type": "stream",
     "text": [
      "package 'tidyverse' successfully unpacked and MD5 sums checked\n",
      "\n",
      "The downloaded binary packages are in\n",
      "\tC:\\Users\\Public\\Documents\\Wondershare\\CreatorTemp\\RtmpYRow7I\\downloaded_packages\n"
     ]
    },
    {
     "name": "stderr",
     "output_type": "stream",
     "text": [
      "Installing package into 'C:/Users/arual/Documents/R/win-library/3.6'\n",
      "(as 'lib' is unspecified)\n"
     ]
    },
    {
     "name": "stdout",
     "output_type": "stream",
     "text": [
      "package 'naniar' successfully unpacked and MD5 sums checked\n",
      "\n",
      "The downloaded binary packages are in\n",
      "\tC:\\Users\\Public\\Documents\\Wondershare\\CreatorTemp\\RtmpYRow7I\\downloaded_packages\n"
     ]
    },
    {
     "name": "stderr",
     "output_type": "stream",
     "text": [
      "Installing package into 'C:/Users/arual/Documents/R/win-library/3.6'\n",
      "(as 'lib' is unspecified)\n"
     ]
    },
    {
     "name": "stdout",
     "output_type": "stream",
     "text": [
      "package 'DataExplorer' successfully unpacked and MD5 sums checked\n",
      "\n",
      "The downloaded binary packages are in\n",
      "\tC:\\Users\\Public\\Documents\\Wondershare\\CreatorTemp\\RtmpYRow7I\\downloaded_packages\n"
     ]
    }
   ],
   "source": [
    "install.packages(\"mice\")\n",
    "install.packages(\"lattice\")\n",
    "install.packages(\"dplyr\")\n",
    "install.packages(\"e1071\")\n",
    "install.packages(\"caret\")\n",
    "install.packages(\"ggplot2\")\n",
    "install.packages(\"tidyverse\")\n",
    "install.packages(\"naniar\")\n",
    "install.packages(\"DataExplorer\")\n"
   ]
  },
  {
   "cell_type": "code",
   "execution_count": 2,
   "metadata": {},
   "outputs": [
    {
     "name": "stderr",
     "output_type": "stream",
     "text": [
      "\n",
      "Attaching package: 'dplyr'\n",
      "\n",
      "The following objects are masked from 'package:stats':\n",
      "\n",
      "    filter, lag\n",
      "\n",
      "The following objects are masked from 'package:base':\n",
      "\n",
      "    intersect, setdiff, setequal, union\n",
      "\n",
      "-- Attaching packages --------------------------------------- tidyverse 1.2.1 --\n",
      "v tibble  2.1.3     v purrr   0.3.2\n",
      "v tidyr   0.8.3     v stringr 1.4.0\n",
      "v readr   1.3.1     v forcats 0.4.0\n",
      "-- Conflicts ------------------------------------------ tidyverse_conflicts() --\n",
      "x dplyr::filter() masks stats::filter()\n",
      "x dplyr::lag()    masks stats::lag()\n",
      "x purrr::lift()   masks caret::lift()\n",
      "\n",
      "Attaching package: 'mice'\n",
      "\n",
      "The following object is masked from 'package:tidyr':\n",
      "\n",
      "    complete\n",
      "\n",
      "The following objects are masked from 'package:base':\n",
      "\n",
      "    cbind, rbind\n",
      "\n"
     ]
    }
   ],
   "source": [
    "library(dplyr)\n",
    "library(lattice)\n",
    "library(ggplot2)\n",
    "library(e1071)\n",
    "library(caret)\n",
    "library(DataExplorer)\n",
    "library(tidyverse)\n",
    "library(naniar)\n",
    "library(mice)"
   ]
  },
  {
   "cell_type": "markdown",
   "metadata": {},
   "source": [
    "### Biblioteca caret para R\n",
    "**caret** es un acrónimo para **C** lassification  **A**nd **RE**gression **T**raining (Entrenamiento de Regresión y Clasificación).\n",
    "\n",
    "- Caret nos permite acelerar nuestro trabajo proveyendo una interfaz común a cientos de algoritmos de Machine Learning: \n",
    "    - Este paquete nos permite utilizar más de 200 algoritmos de Machine Learning distintos.\n",
    "    - Funciones para dividir los datos y muestrear los datos (Data splitting/sampling). \n",
    "    - Seleccionar características (Feature selection).\n",
    "    - Tuneo de modelos.\n",
    "\n",
    "Documentación de caret: http://topepo.github.io/caret/index.html\n",
    "\n",
    "### Biblioteca e1071\n",
    "**e1071** implementa varios algoritmos de Mahchine Learning que se pueden acceder con caret."
   ]
  },
  {
   "cell_type": "markdown",
   "metadata": {},
   "source": [
    "### Dataset **FIFA 2019**\n",
    "Para este trabajo vamos a utilizar el un conjunto de datos de jugadores del juego FIFA 2019. https://www.kaggle.com/karangadiya/fifa19\n",
    "\n",
    "Este dataset contiene informacion de los distintos jugadores del video juego FIFA 2019. El mismo contiene estadísticas de los distintos jugadores de fútbol que están en el juego.\n",
    "\n",
    "En esta tarea vamos a intentar predecir el valor de los jugadores a partir de las distintas estadísticas.\n"
   ]
  },
  {
   "cell_type": "markdown",
   "metadata": {},
   "source": [
    "<a id='Import-CSV'></a>\n",
    "### Import-CSV\n",
    "[Inicio ▲](#Indice)"
   ]
  },
  {
   "cell_type": "code",
   "execution_count": 3,
   "metadata": {
    "scrolled": true
   },
   "outputs": [],
   "source": [
    "# Defino url del archivo csv\n",
    "fifa_url <- 'datasets/fifa19.csv'\n",
    "\n",
    "# cargo el dataset en un dataframe\n",
    "fifa <- read.table(fifa_url, sep = \",\", header = TRUE, quote = \"\\\"\", encoding=\"UTF-8\")"
   ]
  },
  {
   "cell_type": "markdown",
   "metadata": {},
   "source": [
    "Observamos los datos antes de hacerles cualquier preprocesamiento"
   ]
  },
  {
   "cell_type": "code",
   "execution_count": 4,
   "metadata": {},
   "outputs": [
    {
     "data": {
      "text/plain": [
       "       X               ID                   Name            Age       \n",
       " Min.   :    0   Min.   :    16   J. Rodríguez:   11   Min.   :16.00  \n",
       " 1st Qu.: 4552   1st Qu.:200316   Paulinho    :    8   1st Qu.:21.00  \n",
       " Median : 9103   Median :221759   J. Williams :    7   Median :25.00  \n",
       " Mean   : 9103   Mean   :214298   R. Williams :    7   Mean   :25.12  \n",
       " 3rd Qu.:13654   3rd Qu.:236530   Felipe      :    6   3rd Qu.:28.00  \n",
       " Max.   :18206   Max.   :246620   J. Gómez    :    6   Max.   :45.00  \n",
       "                                  (Other)     :18162                  \n",
       "                                            Photo          Nationality   \n",
       " https://cdn.sofifa.org/players/4/19/100803.png:    1   England  : 1662  \n",
       " https://cdn.sofifa.org/players/4/19/100899.png:    1   Germany  : 1198  \n",
       " https://cdn.sofifa.org/players/4/19/101317.png:    1   Spain    : 1072  \n",
       " https://cdn.sofifa.org/players/4/19/101473.png:    1   Argentina:  937  \n",
       " https://cdn.sofifa.org/players/4/19/101488.png:    1   France   :  914  \n",
       " https://cdn.sofifa.org/players/4/19/101880.png:    1   Brazil   :  827  \n",
       " (Other)                                       :18201   (Other)  :11597  \n",
       "                                  Flag          Overall        Potential    \n",
       " https://cdn.sofifa.org/flags/14.png: 1662   Min.   :46.00   Min.   :48.00  \n",
       " https://cdn.sofifa.org/flags/21.png: 1198   1st Qu.:62.00   1st Qu.:67.00  \n",
       " https://cdn.sofifa.org/flags/45.png: 1072   Median :66.00   Median :71.00  \n",
       " https://cdn.sofifa.org/flags/52.png:  937   Mean   :66.24   Mean   :71.31  \n",
       " https://cdn.sofifa.org/flags/18.png:  914   3rd Qu.:71.00   3rd Qu.:75.00  \n",
       " https://cdn.sofifa.org/flags/54.png:  827   Max.   :94.00   Max.   :95.00  \n",
       " (Other)                            :11597                                  \n",
       "                Club      \n",
       "                  :  241  \n",
       " Arsenal          :   33  \n",
       " AS Monaco        :   33  \n",
       " Atlético Madrid  :   33  \n",
       " Borussia Dortmund:   33  \n",
       " Burnley          :   33  \n",
       " (Other)          :17801  \n",
       "                                           Club.Logo         Value      \n",
       " https://cdn.sofifa.org/teams/2/light/1.png     :   33   \\2001.1M  :  431  \n",
       " https://cdn.sofifa.org/teams/2/light/10.png    :   33   \\200375K  :  372  \n",
       " https://cdn.sofifa.org/teams/2/light/10029.png :   33   \\200425K  :  354  \n",
       " https://cdn.sofifa.org/teams/2/light/100888.png:   33   \\200325K  :  351  \n",
       " https://cdn.sofifa.org/teams/2/light/11.png    :   33   \\200450K  :  343  \n",
       " https://cdn.sofifa.org/teams/2/light/110.png   :   33   \\200525K  :  338  \n",
       " (Other)                                        :18009   (Other):16018  \n",
       "      Wage         Special     Preferred.Foot International.Reputation\n",
       " \\2001K    :4900   Min.   : 731        :   48    Min.   :1.000           \n",
       " \\2002K    :2827   1st Qu.:1457   Left : 4211    1st Qu.:1.000           \n",
       " \\2003K    :1857   Median :1635   Right:13948    Median :1.000           \n",
       " \\2004K    :1255   Mean   :1598                  Mean   :1.113           \n",
       " \\2005K    : 869   3rd Qu.:1787                  3rd Qu.:1.000           \n",
       " \\2006K    : 682   Max.   :2346                  Max.   :5.000           \n",
       " (Other):5817                                 NA's   :48              \n",
       "   Weak.Foot      Skill.Moves             Work.Rate         Body.Type    \n",
       " Min.   :1.000   Min.   :1.000   Medium/ Medium:9810   Normal    :10595  \n",
       " 1st Qu.:3.000   1st Qu.:2.000   High/ Medium  :3173   Lean      : 6417  \n",
       " Median :3.000   Median :2.000   Medium/ High  :1690   Stocky    : 1140  \n",
       " Mean   :2.947   Mean   :2.361   High/ High    :1015             :   48  \n",
       " 3rd Qu.:3.000   3rd Qu.:3.000   Medium/ Low   : 850   Akinfenwa :    1  \n",
       " Max.   :5.000   Max.   :5.000   High/ Low     : 699   C. Ronaldo:    1  \n",
       " NA's   :48      NA's   :48      (Other)       : 970   (Other)   :    5  \n",
       " Real.Face      Position    Jersey.Number           Joined     \n",
       "    :   48   ST     :2152   Min.   : 1.00              : 1553  \n",
       " No :16505   GK     :2025   1st Qu.: 8.00   Jul 1, 2018: 1538  \n",
       " Yes: 1654   CB     :1778   Median :17.00   Jul 1, 2017: 1133  \n",
       "             CM     :1394   Mean   :19.55   Jan 1, 2018:  635  \n",
       "             LB     :1322   3rd Qu.:26.00   Jul 1, 2016:  614  \n",
       "             RB     :1291   Max.   :99.00   Jul 1, 2015:  368  \n",
       "             (Other):8245   NA's   :60      (Other)    :12366  \n",
       "      Loaned.From      Contract.Valid.Until     Height         Weight     \n",
       "            :16943   2019        :4819      6'0    :2881   165lbs : 1483  \n",
       " Atalanta   :   20   2021        :4360      5'10   :2479   154lbs : 1439  \n",
       " Sassuolo   :   18   2020        :4027      5'9    :2238   176lbs : 1041  \n",
       " Juventus   :   17   2022        :1477      5'11   :2159   172lbs :  987  \n",
       " SL Benfica :   17   2023        :1053      6'2    :2015   159lbs :  946  \n",
       " Sporting CP:   14   Jun 30, 2019: 931      6'1    :1908   161lbs :  936  \n",
       " (Other)    : 1178   (Other)     :1540      (Other):4527   (Other):11375  \n",
       "       LS              ST              RS              LW       \n",
       "        : 2085          : 2085          : 2085          : 2085  \n",
       " 61+2   :  705   61+2   :  705   61+2   :  705   63+2   :  745  \n",
       " 60+2   :  695   60+2   :  695   60+2   :  695   61+2   :  705  \n",
       " 59+2   :  688   59+2   :  688   59+2   :  688   62+2   :  687  \n",
       " 63+2   :  667   63+2   :  667   63+2   :  667   59+2   :  678  \n",
       " 64+2   :  666   64+2   :  666   64+2   :  666   60+2   :  678  \n",
       " (Other):12701   (Other):12701   (Other):12701   (Other):12629  \n",
       "       LF              CF              RF              RW       \n",
       "        : 2085          : 2085          : 2085          : 2085  \n",
       " 61+2   :  713   61+2   :  713   61+2   :  713   63+2   :  745  \n",
       " 63+2   :  694   63+2   :  694   63+2   :  694   61+2   :  705  \n",
       " 62+2   :  686   62+2   :  686   62+2   :  686   62+2   :  687  \n",
       " 60+2   :  677   60+2   :  677   60+2   :  677   59+2   :  678  \n",
       " 64+2   :  676   64+2   :  676   64+2   :  676   60+2   :  678  \n",
       " (Other):12676   (Other):12676   (Other):12676   (Other):12629  \n",
       "      LAM             CAM             RAM              LM       \n",
       "        : 2085          : 2085          : 2085          : 2085  \n",
       " 61+2   :  744   61+2   :  744   61+2   :  744   61+2   :  804  \n",
       " 62+2   :  722   62+2   :  722   62+2   :  722   62+2   :  757  \n",
       " 60+2   :  702   60+2   :  702   60+2   :  702   60+2   :  744  \n",
       " 63+2   :  675   63+2   :  675   63+2   :  675   63+2   :  742  \n",
       " 59+2   :  674   59+2   :  674   59+2   :  674   64+2   :  715  \n",
       " (Other):12605   (Other):12605   (Other):12605   (Other):12360  \n",
       "      LCM              CM             RCM              RM       \n",
       "        : 2085          : 2085          : 2085          : 2085  \n",
       " 58+2   :  762   58+2   :  762   58+2   :  762   61+2   :  804  \n",
       " 62+2   :  747   62+2   :  747   62+2   :  747   62+2   :  757  \n",
       " 60+2   :  743   60+2   :  743   60+2   :  743   60+2   :  744  \n",
       " 61+2   :  731   61+2   :  731   61+2   :  731   63+2   :  742  \n",
       " 59+2   :  726   59+2   :  726   59+2   :  726   64+2   :  715  \n",
       " (Other):12413   (Other):12413   (Other):12413   (Other):12360  \n",
       "      LWB             LDM             CDM             RDM       \n",
       "        : 2085          : 2085          : 2085          : 2085  \n",
       " 61+2   :  713   62+2   :  660   62+2   :  660   62+2   :  660  \n",
       " 60+2   :  697   60+2   :  620   60+2   :  620   60+2   :  620  \n",
       " 59+2   :  685   61+2   :  620   61+2   :  620   61+2   :  620  \n",
       " 56+2   :  679   59+2   :  592   59+2   :  592   59+2   :  592  \n",
       " 62+2   :  677   64+2   :  592   64+2   :  592   64+2   :  592  \n",
       " (Other):12671   (Other):13038   (Other):13038   (Other):13038  \n",
       "      RWB              LB             LCB              CB       \n",
       "        : 2085          : 2085          : 2085          : 2085  \n",
       " 61+2   :  713   61+2   :  669   63+2   :  634   63+2   :  634  \n",
       " 60+2   :  697   58+2   :  659   62+2   :  618   62+2   :  618  \n",
       " 59+2   :  685   59+2   :  653   64+2   :  591   64+2   :  591  \n",
       " 56+2   :  679   63+2   :  652   65+2   :  580   65+2   :  580  \n",
       " 62+2   :  677   64+2   :  646   61+2   :  569   61+2   :  569  \n",
       " (Other):12671   (Other):12843   (Other):13130   (Other):13130  \n",
       "      RCB              RB           Crossing       Finishing    \n",
       "        : 2085          : 2085   Min.   : 5.00   Min.   : 2.00  \n",
       " 63+2   :  634   61+2   :  669   1st Qu.:38.00   1st Qu.:30.00  \n",
       " 62+2   :  618   58+2   :  659   Median :54.00   Median :49.00  \n",
       " 64+2   :  591   59+2   :  653   Mean   :49.73   Mean   :45.55  \n",
       " 65+2   :  580   63+2   :  652   3rd Qu.:64.00   3rd Qu.:62.00  \n",
       " 61+2   :  569   64+2   :  646   Max.   :93.00   Max.   :95.00  \n",
       " (Other):13130   (Other):12843   NA's   :48      NA's   :48     \n",
       " HeadingAccuracy  ShortPassing      Volleys        Dribbling    \n",
       " Min.   : 4.0    Min.   : 7.00   Min.   : 4.00   Min.   : 4.00  \n",
       " 1st Qu.:44.0    1st Qu.:54.00   1st Qu.:30.00   1st Qu.:49.00  \n",
       " Median :56.0    Median :62.00   Median :44.00   Median :61.00  \n",
       " Mean   :52.3    Mean   :58.69   Mean   :42.91   Mean   :55.37  \n",
       " 3rd Qu.:64.0    3rd Qu.:68.00   3rd Qu.:57.00   3rd Qu.:68.00  \n",
       " Max.   :94.0    Max.   :93.00   Max.   :90.00   Max.   :97.00  \n",
       " NA's   :48      NA's   :48      NA's   :48      NA's   :48     \n",
       "     Curve         FKAccuracy     LongPassing     BallControl   \n",
       " Min.   : 6.00   Min.   : 3.00   Min.   : 9.00   Min.   : 5.00  \n",
       " 1st Qu.:34.00   1st Qu.:31.00   1st Qu.:43.00   1st Qu.:54.00  \n",
       " Median :48.00   Median :41.00   Median :56.00   Median :63.00  \n",
       " Mean   :47.17   Mean   :42.86   Mean   :52.71   Mean   :58.37  \n",
       " 3rd Qu.:62.00   3rd Qu.:57.00   3rd Qu.:64.00   3rd Qu.:69.00  \n",
       " Max.   :94.00   Max.   :94.00   Max.   :93.00   Max.   :96.00  \n",
       " NA's   :48      NA's   :48      NA's   :48      NA's   :48     \n",
       "  Acceleration    SprintSpeed       Agility       Reactions        Balance     \n",
       " Min.   :12.00   Min.   :12.00   Min.   :14.0   Min.   :21.00   Min.   :16.00  \n",
       " 1st Qu.:57.00   1st Qu.:57.00   1st Qu.:55.0   1st Qu.:56.00   1st Qu.:56.00  \n",
       " Median :67.00   Median :67.00   Median :66.0   Median :62.00   Median :66.00  \n",
       " Mean   :64.61   Mean   :64.73   Mean   :63.5   Mean   :61.84   Mean   :63.97  \n",
       " 3rd Qu.:75.00   3rd Qu.:75.00   3rd Qu.:74.0   3rd Qu.:68.00   3rd Qu.:74.00  \n",
       " Max.   :97.00   Max.   :96.00   Max.   :96.0   Max.   :96.00   Max.   :96.00  \n",
       " NA's   :48      NA's   :48      NA's   :48     NA's   :48      NA's   :48     \n",
       "   ShotPower        Jumping         Stamina         Strength    \n",
       " Min.   : 2.00   Min.   :15.00   Min.   :12.00   Min.   :17.00  \n",
       " 1st Qu.:45.00   1st Qu.:58.00   1st Qu.:56.00   1st Qu.:58.00  \n",
       " Median :59.00   Median :66.00   Median :66.00   Median :67.00  \n",
       " Mean   :55.46   Mean   :65.09   Mean   :63.22   Mean   :65.31  \n",
       " 3rd Qu.:68.00   3rd Qu.:73.00   3rd Qu.:74.00   3rd Qu.:74.00  \n",
       " Max.   :95.00   Max.   :95.00   Max.   :96.00   Max.   :97.00  \n",
       " NA's   :48      NA's   :48      NA's   :48      NA's   :48     \n",
       "   LongShots       Aggression    Interceptions   Positioning        Vision    \n",
       " Min.   : 3.00   Min.   :11.00   Min.   : 3.0   Min.   : 2.00   Min.   :10.0  \n",
       " 1st Qu.:33.00   1st Qu.:44.00   1st Qu.:26.0   1st Qu.:38.00   1st Qu.:44.0  \n",
       " Median :51.00   Median :59.00   Median :52.0   Median :55.00   Median :55.0  \n",
       " Mean   :47.11   Mean   :55.87   Mean   :46.7   Mean   :49.96   Mean   :53.4  \n",
       " 3rd Qu.:62.00   3rd Qu.:69.00   3rd Qu.:64.0   3rd Qu.:64.00   3rd Qu.:64.0  \n",
       " Max.   :94.00   Max.   :95.00   Max.   :92.0   Max.   :95.00   Max.   :94.0  \n",
       " NA's   :48      NA's   :48      NA's   :48     NA's   :48      NA's   :48    \n",
       "   Penalties       Composure        Marking      StandingTackle SlidingTackle  \n",
       " Min.   : 5.00   Min.   : 3.00   Min.   : 3.00   Min.   : 2.0   Min.   : 3.00  \n",
       " 1st Qu.:39.00   1st Qu.:51.00   1st Qu.:30.00   1st Qu.:27.0   1st Qu.:24.00  \n",
       " Median :49.00   Median :60.00   Median :53.00   Median :55.0   Median :52.00  \n",
       " Mean   :48.55   Mean   :58.65   Mean   :47.28   Mean   :47.7   Mean   :45.66  \n",
       " 3rd Qu.:60.00   3rd Qu.:67.00   3rd Qu.:64.00   3rd Qu.:66.0   3rd Qu.:64.00  \n",
       " Max.   :92.00   Max.   :96.00   Max.   :94.00   Max.   :93.0   Max.   :91.00  \n",
       " NA's   :48      NA's   :48      NA's   :48      NA's   :48     NA's   :48     \n",
       "    GKDiving       GKHandling      GKKicking     GKPositioning  \n",
       " Min.   : 1.00   Min.   : 1.00   Min.   : 1.00   Min.   : 1.00  \n",
       " 1st Qu.: 8.00   1st Qu.: 8.00   1st Qu.: 8.00   1st Qu.: 8.00  \n",
       " Median :11.00   Median :11.00   Median :11.00   Median :11.00  \n",
       " Mean   :16.62   Mean   :16.39   Mean   :16.23   Mean   :16.39  \n",
       " 3rd Qu.:14.00   3rd Qu.:14.00   3rd Qu.:14.00   3rd Qu.:14.00  \n",
       " Max.   :90.00   Max.   :92.00   Max.   :91.00   Max.   :90.00  \n",
       " NA's   :48      NA's   :48      NA's   :48      NA's   :48     \n",
       "   GKReflexes    Release.Clause \n",
       " Min.   : 1.00          : 1564  \n",
       " 1st Qu.: 8.00   \\2001.1M  :  557  \n",
       " Median :11.00   \\2001.3M  :  423  \n",
       " Mean   :16.71   \\2001.4M  :  386  \n",
       " 3rd Qu.:14.00   \\2001.2M  :  385  \n",
       " Max.   :94.00   \\2001.5M  :  337  \n",
       " NA's   :48      (Other):14555  "
      ]
     },
     "metadata": {},
     "output_type": "display_data"
    }
   ],
   "source": [
    "summary(fifa)"
   ]
  },
  {
   "cell_type": "markdown",
   "metadata": {},
   "source": [
    "<a id='Transformacion'></a>\n",
    "\n",
    "# Transformación de los datos\n",
    "---\n",
    "[Inicio ▲](#Indice)"
   ]
  },
  {
   "cell_type": "markdown",
   "metadata": {},
   "source": [
    "Descartamos columnas que no son útiles para el aprendizaje: IDs y URLs"
   ]
  },
  {
   "cell_type": "code",
   "execution_count": 5,
   "metadata": {},
   "outputs": [],
   "source": [
    "fifa <- select(fifa,-c('X', 'ID', 'Flag', 'Photo', 'Club.Logo'))"
   ]
  },
  {
   "cell_type": "markdown",
   "metadata": {},
   "source": [
    "\n",
    "<a id='Transformación-Moneda'></a>\n",
    "### Transformación de Monedas\n",
    "[Inicio ▲](#Indice)"
   ]
  },
  {
   "cell_type": "markdown",
   "metadata": {},
   "source": [
    "Convertimos a numéricos los valores sacandoles el símbolo de euros y los K y M al final, de miles y millones respectivamente."
   ]
  },
  {
   "cell_type": "code",
   "execution_count": 6,
   "metadata": {
    "scrolled": true
   },
   "outputs": [],
   "source": [
    "value_wage <- function(df_value) {\n",
    "      value<- substr(df_value[[1]], start=2, stop=nchar(df_value[[1]])-1)\n",
    "      end  <- substr(df_value[[1]], start=nchar(df_value[[1]]), stop=nchar(df_value[[1]]))\n",
    "      if (identical(end, \"M\")) {\n",
    "        value <- as.numeric(value) * 1000000 \n",
    "      } else if (identical(end, 'K')) {\n",
    "        value <- as.numeric(value) * 1000\n",
    "      } else {\n",
    "        value <- 0\n",
    "      }\n",
    "      return(value)\n",
    "}\n",
    "\n",
    "fifa['Value'] <- apply(select(fifa, 'Value'), 1, value_wage)\n",
    "fifa['Wage'] <- apply(select(fifa, 'Wage'), 1, value_wage)\n",
    "fifa['Release.Clause'] <- apply(select(fifa, 'Release.Clause'), 1, value_wage)"
   ]
  },
  {
   "cell_type": "markdown",
   "metadata": {},
   "source": [
    "<a id='Descartadas'></a>\n",
    "### Descartando columnas no utilizadas\n",
    "[Inicio ▲](#Indice)"
   ]
  },
  {
   "cell_type": "markdown",
   "metadata": {},
   "source": [
    "Descartamos algunas columnas que no vamos a utilizar"
   ]
  },
  {
   "cell_type": "code",
   "execution_count": 7,
   "metadata": {
    "scrolled": true
   },
   "outputs": [
    {
     "data": {
      "text/plain": [
       "           Name            Age           Nationality       Overall     \n",
       " J. Rodríguez:   11   Min.   :16.00   England  : 1662   Min.   :46.00  \n",
       " Paulinho    :    8   1st Qu.:21.00   Germany  : 1198   1st Qu.:62.00  \n",
       " J. Williams :    7   Median :25.00   Spain    : 1072   Median :66.00  \n",
       " R. Williams :    7   Mean   :25.12   Argentina:  937   Mean   :66.24  \n",
       " Felipe      :    6   3rd Qu.:28.00   France   :  914   3rd Qu.:71.00  \n",
       " J. Gómez    :    6   Max.   :45.00   Brazil   :  827   Max.   :94.00  \n",
       " (Other)     :18162                   (Other)  :11597                  \n",
       "   Potential                    Club           Value                Wage       \n",
       " Min.   :48.00                    :  241   Min.   :        0   Min.   :     0  \n",
       " 1st Qu.:67.00   Arsenal          :   33   1st Qu.:   300000   1st Qu.:  1000  \n",
       " Median :71.00   AS Monaco        :   33   Median :   675000   Median :  3000  \n",
       " Mean   :71.31   Atlético Madrid  :   33   Mean   :  2410696   Mean   :  9731  \n",
       " 3rd Qu.:75.00   Borussia Dortmund:   33   3rd Qu.:  2000000   3rd Qu.:  9000  \n",
       " Max.   :95.00   Burnley          :   33   Max.   :118500000   Max.   :565000  \n",
       "                 (Other)          :17801                                       \n",
       "    Special     Preferred.Foot International.Reputation   Weak.Foot    \n",
       " Min.   : 731        :   48    Min.   :1.000            Min.   :1.000  \n",
       " 1st Qu.:1457   Left : 4211    1st Qu.:1.000            1st Qu.:3.000  \n",
       " Median :1635   Right:13948    Median :1.000            Median :3.000  \n",
       " Mean   :1598                  Mean   :1.113            Mean   :2.947  \n",
       " 3rd Qu.:1787                  3rd Qu.:1.000            3rd Qu.:3.000  \n",
       " Max.   :2346                  Max.   :5.000            Max.   :5.000  \n",
       "                               NA's   :48               NA's   :48     \n",
       "  Skill.Moves             Work.Rate         Body.Type     Real.Face  \n",
       " Min.   :1.000   Medium/ Medium:9810   Normal    :10595      :   48  \n",
       " 1st Qu.:2.000   High/ Medium  :3173   Lean      : 6417   No :16505  \n",
       " Median :2.000   Medium/ High  :1690   Stocky    : 1140   Yes: 1654  \n",
       " Mean   :2.361   High/ High    :1015             :   48              \n",
       " 3rd Qu.:3.000   Medium/ Low   : 850   Akinfenwa :    1              \n",
       " Max.   :5.000   High/ Low     : 699   C. Ronaldo:    1              \n",
       " NA's   :48      (Other)       : 970   (Other)   :    5              \n",
       "    Position    Jersey.Number           Joined           Loaned.From   \n",
       " ST     :2152   Min.   : 1.00              : 1553              :16943  \n",
       " GK     :2025   1st Qu.: 8.00   Jul 1, 2018: 1538   Atalanta   :   20  \n",
       " CB     :1778   Median :17.00   Jul 1, 2017: 1133   Sassuolo   :   18  \n",
       " CM     :1394   Mean   :19.55   Jan 1, 2018:  635   Juventus   :   17  \n",
       " LB     :1322   3rd Qu.:26.00   Jul 1, 2016:  614   SL Benfica :   17  \n",
       " RB     :1291   Max.   :99.00   Jul 1, 2015:  368   Sporting CP:   14  \n",
       " (Other):8245   NA's   :60      (Other)    :12366   (Other)    : 1178  \n",
       "   Contract.Valid.Until     Height         Weight         Crossing    \n",
       " 2019        :4819      6'0    :2881   165lbs : 1483   Min.   : 5.00  \n",
       " 2021        :4360      5'10   :2479   154lbs : 1439   1st Qu.:38.00  \n",
       " 2020        :4027      5'9    :2238   176lbs : 1041   Median :54.00  \n",
       " 2022        :1477      5'11   :2159   172lbs :  987   Mean   :49.73  \n",
       " 2023        :1053      6'2    :2015   159lbs :  946   3rd Qu.:64.00  \n",
       " Jun 30, 2019: 931      6'1    :1908   161lbs :  936   Max.   :93.00  \n",
       " (Other)     :1540      (Other):4527   (Other):11375   NA's   :48     \n",
       "   Finishing     HeadingAccuracy  ShortPassing      Volleys     \n",
       " Min.   : 2.00   Min.   : 4.0    Min.   : 7.00   Min.   : 4.00  \n",
       " 1st Qu.:30.00   1st Qu.:44.0    1st Qu.:54.00   1st Qu.:30.00  \n",
       " Median :49.00   Median :56.0    Median :62.00   Median :44.00  \n",
       " Mean   :45.55   Mean   :52.3    Mean   :58.69   Mean   :42.91  \n",
       " 3rd Qu.:62.00   3rd Qu.:64.0    3rd Qu.:68.00   3rd Qu.:57.00  \n",
       " Max.   :95.00   Max.   :94.0    Max.   :93.00   Max.   :90.00  \n",
       " NA's   :48      NA's   :48      NA's   :48      NA's   :48     \n",
       "   Dribbling         Curve         FKAccuracy     LongPassing   \n",
       " Min.   : 4.00   Min.   : 6.00   Min.   : 3.00   Min.   : 9.00  \n",
       " 1st Qu.:49.00   1st Qu.:34.00   1st Qu.:31.00   1st Qu.:43.00  \n",
       " Median :61.00   Median :48.00   Median :41.00   Median :56.00  \n",
       " Mean   :55.37   Mean   :47.17   Mean   :42.86   Mean   :52.71  \n",
       " 3rd Qu.:68.00   3rd Qu.:62.00   3rd Qu.:57.00   3rd Qu.:64.00  \n",
       " Max.   :97.00   Max.   :94.00   Max.   :94.00   Max.   :93.00  \n",
       " NA's   :48      NA's   :48      NA's   :48      NA's   :48     \n",
       "  BallControl     Acceleration    SprintSpeed       Agility       Reactions    \n",
       " Min.   : 5.00   Min.   :12.00   Min.   :12.00   Min.   :14.0   Min.   :21.00  \n",
       " 1st Qu.:54.00   1st Qu.:57.00   1st Qu.:57.00   1st Qu.:55.0   1st Qu.:56.00  \n",
       " Median :63.00   Median :67.00   Median :67.00   Median :66.0   Median :62.00  \n",
       " Mean   :58.37   Mean   :64.61   Mean   :64.73   Mean   :63.5   Mean   :61.84  \n",
       " 3rd Qu.:69.00   3rd Qu.:75.00   3rd Qu.:75.00   3rd Qu.:74.0   3rd Qu.:68.00  \n",
       " Max.   :96.00   Max.   :97.00   Max.   :96.00   Max.   :96.0   Max.   :96.00  \n",
       " NA's   :48      NA's   :48      NA's   :48      NA's   :48     NA's   :48     \n",
       "    Balance        ShotPower        Jumping         Stamina     \n",
       " Min.   :16.00   Min.   : 2.00   Min.   :15.00   Min.   :12.00  \n",
       " 1st Qu.:56.00   1st Qu.:45.00   1st Qu.:58.00   1st Qu.:56.00  \n",
       " Median :66.00   Median :59.00   Median :66.00   Median :66.00  \n",
       " Mean   :63.97   Mean   :55.46   Mean   :65.09   Mean   :63.22  \n",
       " 3rd Qu.:74.00   3rd Qu.:68.00   3rd Qu.:73.00   3rd Qu.:74.00  \n",
       " Max.   :96.00   Max.   :95.00   Max.   :95.00   Max.   :96.00  \n",
       " NA's   :48      NA's   :48      NA's   :48      NA's   :48     \n",
       "    Strength       LongShots       Aggression    Interceptions   Positioning   \n",
       " Min.   :17.00   Min.   : 3.00   Min.   :11.00   Min.   : 3.0   Min.   : 2.00  \n",
       " 1st Qu.:58.00   1st Qu.:33.00   1st Qu.:44.00   1st Qu.:26.0   1st Qu.:38.00  \n",
       " Median :67.00   Median :51.00   Median :59.00   Median :52.0   Median :55.00  \n",
       " Mean   :65.31   Mean   :47.11   Mean   :55.87   Mean   :46.7   Mean   :49.96  \n",
       " 3rd Qu.:74.00   3rd Qu.:62.00   3rd Qu.:69.00   3rd Qu.:64.0   3rd Qu.:64.00  \n",
       " Max.   :97.00   Max.   :94.00   Max.   :95.00   Max.   :92.0   Max.   :95.00  \n",
       " NA's   :48      NA's   :48      NA's   :48      NA's   :48     NA's   :48     \n",
       "     Vision       Penalties       Composure        Marking      StandingTackle\n",
       " Min.   :10.0   Min.   : 5.00   Min.   : 3.00   Min.   : 3.00   Min.   : 2.0  \n",
       " 1st Qu.:44.0   1st Qu.:39.00   1st Qu.:51.00   1st Qu.:30.00   1st Qu.:27.0  \n",
       " Median :55.0   Median :49.00   Median :60.00   Median :53.00   Median :55.0  \n",
       " Mean   :53.4   Mean   :48.55   Mean   :58.65   Mean   :47.28   Mean   :47.7  \n",
       " 3rd Qu.:64.0   3rd Qu.:60.00   3rd Qu.:67.00   3rd Qu.:64.00   3rd Qu.:66.0  \n",
       " Max.   :94.0   Max.   :92.00   Max.   :96.00   Max.   :94.00   Max.   :93.0  \n",
       " NA's   :48     NA's   :48      NA's   :48      NA's   :48      NA's   :48    \n",
       " SlidingTackle      GKDiving       GKHandling      GKKicking    \n",
       " Min.   : 3.00   Min.   : 1.00   Min.   : 1.00   Min.   : 1.00  \n",
       " 1st Qu.:24.00   1st Qu.: 8.00   1st Qu.: 8.00   1st Qu.: 8.00  \n",
       " Median :52.00   Median :11.00   Median :11.00   Median :11.00  \n",
       " Mean   :45.66   Mean   :16.62   Mean   :16.39   Mean   :16.23  \n",
       " 3rd Qu.:64.00   3rd Qu.:14.00   3rd Qu.:14.00   3rd Qu.:14.00  \n",
       " Max.   :91.00   Max.   :90.00   Max.   :92.00   Max.   :91.00  \n",
       " NA's   :48      NA's   :48      NA's   :48      NA's   :48     \n",
       " GKPositioning     GKReflexes    Release.Clause     \n",
       " Min.   : 1.00   Min.   : 1.00   Min.   :        0  \n",
       " 1st Qu.: 8.00   1st Qu.: 8.00   1st Qu.:   392000  \n",
       " Median :11.00   Median :11.00   Median :  1000000  \n",
       " Mean   :16.39   Mean   :16.71   Mean   :  4191200  \n",
       " 3rd Qu.:14.00   3rd Qu.:14.00   3rd Qu.:  3000000  \n",
       " Max.   :90.00   Max.   :94.00   Max.   :228100000  \n",
       " NA's   :48      NA's   :48                         "
      ]
     },
     "metadata": {},
     "output_type": "display_data"
    }
   ],
   "source": [
    "fifa <- select(fifa, -c('LS', 'ST', 'RS', 'LW', 'LF', 'CF', 'RF', 'RW', 'LAM', 'CAM', 'RAM', \n",
    "                        'LM', 'LCM', 'CM', 'RCM', 'RM', 'LWB', 'LDM', 'CDM', 'RDM', 'RWB', 'LB',\n",
    "                        'LCB', 'CB', 'RCB', 'RB'))\n",
    "summary(fifa)"
   ]
  },
  {
   "cell_type": "code",
   "execution_count": 8,
   "metadata": {},
   "outputs": [
    {
     "data": {
      "text/html": [
       "<ol class=list-inline>\n",
       "\t<li>RF</li>\n",
       "\t<li>ST</li>\n",
       "\t<li>LW</li>\n",
       "\t<li>GK</li>\n",
       "\t<li>RCM</li>\n",
       "\t<li>LF</li>\n",
       "\t<li>RS</li>\n",
       "\t<li>RCB</li>\n",
       "\t<li>LCM</li>\n",
       "\t<li>CB</li>\n",
       "\t<li>LDM</li>\n",
       "\t<li>CAM</li>\n",
       "\t<li>CDM</li>\n",
       "\t<li>LS</li>\n",
       "\t<li>LCB</li>\n",
       "\t<li>RM</li>\n",
       "\t<li>LAM</li>\n",
       "\t<li>LM</li>\n",
       "\t<li>LB</li>\n",
       "\t<li>RDM</li>\n",
       "\t<li>RW</li>\n",
       "\t<li>CM</li>\n",
       "\t<li>RB</li>\n",
       "\t<li>RAM</li>\n",
       "\t<li>CF</li>\n",
       "\t<li>RWB</li>\n",
       "\t<li>LWB</li>\n",
       "\t<li></li>\n",
       "</ol>\n",
       "\n",
       "<details>\n",
       "\t<summary style=display:list-item;cursor:pointer>\n",
       "\t\t<strong>Levels</strong>:\n",
       "\t</summary>\n",
       "\t<ol class=list-inline>\n",
       "\t\t<li>''</li>\n",
       "\t\t<li>'CAM'</li>\n",
       "\t\t<li>'CB'</li>\n",
       "\t\t<li>'CDM'</li>\n",
       "\t\t<li>'CF'</li>\n",
       "\t\t<li>'CM'</li>\n",
       "\t\t<li>'GK'</li>\n",
       "\t\t<li>'LAM'</li>\n",
       "\t\t<li>'LB'</li>\n",
       "\t\t<li>'LCB'</li>\n",
       "\t\t<li>'LCM'</li>\n",
       "\t\t<li>'LDM'</li>\n",
       "\t\t<li>'LF'</li>\n",
       "\t\t<li>'LM'</li>\n",
       "\t\t<li>'LS'</li>\n",
       "\t\t<li>'LW'</li>\n",
       "\t\t<li>'LWB'</li>\n",
       "\t\t<li>'RAM'</li>\n",
       "\t\t<li>'RB'</li>\n",
       "\t\t<li>'RCB'</li>\n",
       "\t\t<li>'RCM'</li>\n",
       "\t\t<li>'RDM'</li>\n",
       "\t\t<li>'RF'</li>\n",
       "\t\t<li>'RM'</li>\n",
       "\t\t<li>'RS'</li>\n",
       "\t\t<li>'RW'</li>\n",
       "\t\t<li>'RWB'</li>\n",
       "\t\t<li>'ST'</li>\n",
       "\t</ol>\n",
       "</details>"
      ],
      "text/latex": [
       "\\begin{enumerate*}\n",
       "\\item RF\n",
       "\\item ST\n",
       "\\item LW\n",
       "\\item GK\n",
       "\\item RCM\n",
       "\\item LF\n",
       "\\item RS\n",
       "\\item RCB\n",
       "\\item LCM\n",
       "\\item CB\n",
       "\\item LDM\n",
       "\\item CAM\n",
       "\\item CDM\n",
       "\\item LS\n",
       "\\item LCB\n",
       "\\item RM\n",
       "\\item LAM\n",
       "\\item LM\n",
       "\\item LB\n",
       "\\item RDM\n",
       "\\item RW\n",
       "\\item CM\n",
       "\\item RB\n",
       "\\item RAM\n",
       "\\item CF\n",
       "\\item RWB\n",
       "\\item LWB\n",
       "\\item \n",
       "\\end{enumerate*}\n",
       "\n",
       "\\emph{Levels}: \\begin{enumerate*}\n",
       "\\item ''\n",
       "\\item 'CAM'\n",
       "\\item 'CB'\n",
       "\\item 'CDM'\n",
       "\\item 'CF'\n",
       "\\item 'CM'\n",
       "\\item 'GK'\n",
       "\\item 'LAM'\n",
       "\\item 'LB'\n",
       "\\item 'LCB'\n",
       "\\item 'LCM'\n",
       "\\item 'LDM'\n",
       "\\item 'LF'\n",
       "\\item 'LM'\n",
       "\\item 'LS'\n",
       "\\item 'LW'\n",
       "\\item 'LWB'\n",
       "\\item 'RAM'\n",
       "\\item 'RB'\n",
       "\\item 'RCB'\n",
       "\\item 'RCM'\n",
       "\\item 'RDM'\n",
       "\\item 'RF'\n",
       "\\item 'RM'\n",
       "\\item 'RS'\n",
       "\\item 'RW'\n",
       "\\item 'RWB'\n",
       "\\item 'ST'\n",
       "\\end{enumerate*}\n"
      ],
      "text/markdown": [
       "1. RF\n",
       "2. ST\n",
       "3. LW\n",
       "4. GK\n",
       "5. RCM\n",
       "6. LF\n",
       "7. RS\n",
       "8. RCB\n",
       "9. LCM\n",
       "10. CB\n",
       "11. LDM\n",
       "12. CAM\n",
       "13. CDM\n",
       "14. LS\n",
       "15. LCB\n",
       "16. RM\n",
       "17. LAM\n",
       "18. LM\n",
       "19. LB\n",
       "20. RDM\n",
       "21. RW\n",
       "22. CM\n",
       "23. RB\n",
       "24. RAM\n",
       "25. CF\n",
       "26. RWB\n",
       "27. LWB\n",
       "28. \n",
       "\n",
       "\n",
       "\n",
       "**Levels**: 1. ''\n",
       "2. 'CAM'\n",
       "3. 'CB'\n",
       "4. 'CDM'\n",
       "5. 'CF'\n",
       "6. 'CM'\n",
       "7. 'GK'\n",
       "8. 'LAM'\n",
       "9. 'LB'\n",
       "10. 'LCB'\n",
       "11. 'LCM'\n",
       "12. 'LDM'\n",
       "13. 'LF'\n",
       "14. 'LM'\n",
       "15. 'LS'\n",
       "16. 'LW'\n",
       "17. 'LWB'\n",
       "18. 'RAM'\n",
       "19. 'RB'\n",
       "20. 'RCB'\n",
       "21. 'RCM'\n",
       "22. 'RDM'\n",
       "23. 'RF'\n",
       "24. 'RM'\n",
       "25. 'RS'\n",
       "26. 'RW'\n",
       "27. 'RWB'\n",
       "28. 'ST'\n",
       "\n",
       "\n"
      ],
      "text/plain": [
       " [1] RF  ST  LW  GK  RCM LF  RS  RCB LCM CB  LDM CAM CDM LS  LCB RM  LAM LM  LB \n",
       "[20] RDM RW  CM  RB  RAM CF  RWB LWB    \n",
       "28 Levels:  CAM CB CDM CF CM GK LAM LB LCB LCM LDM LF LM LS LW LWB RAM ... ST"
      ]
     },
     "metadata": {},
     "output_type": "display_data"
    }
   ],
   "source": [
    "unique(fifa$Position)"
   ]
  },
  {
   "cell_type": "markdown",
   "metadata": {},
   "source": [
    "## Ahora vamos a trabajar un poco en las features"
   ]
  },
  {
   "cell_type": "markdown",
   "metadata": {},
   "source": [
    "**>>>>>>>>>>>>>>>>> (revisar)**\n",
    "---\n",
    "En el dataset claramente tenemos features que no son numéricas, a este tipo de features es necesario transformarlas para llevarlas a algo numérico, para esto recurrimos a one_hot_encoding que nos permite llevar a numérico features no numéricas, esto se hace creando una columna nueva por cada uno de los valores posibles que puede tomar la feature.\n",
    "\n",
    "Pare ello recurrimos a la función dummyVars"
   ]
  },
  {
   "cell_type": "code",
   "execution_count": 9,
   "metadata": {},
   "outputs": [],
   "source": [
    "# aplicamos one hot enconding a Preferred.Foot es decir si es diestro o zurdo\n",
    "dmy <- dummyVars(\" ~ .\", data = fifa['Preferred.Foot'])\n",
    "dmy <- data.frame(predict(dmy, newdata = fifa))\n",
    "# agregamos las columnas nuevas al dataframe\n",
    "fifa[colnames(dmy)] <- dmy\n",
    "# descartamos la columna vieja\n",
    "fifa <- select(fifa,-c('Preferred.Foot.'))"
   ]
  },
  {
   "cell_type": "code",
   "execution_count": 10,
   "metadata": {},
   "outputs": [
    {
     "data": {
      "text/html": [
       "<table>\n",
       "<thead><tr><th scope=col>Name</th><th scope=col>Age</th><th scope=col>Nationality</th><th scope=col>Overall</th><th scope=col>Potential</th><th scope=col>Club</th><th scope=col>Value</th><th scope=col>Wage</th><th scope=col>Special</th><th scope=col>Preferred.Foot</th><th scope=col>...</th><th scope=col>StandingTackle</th><th scope=col>SlidingTackle</th><th scope=col>GKDiving</th><th scope=col>GKHandling</th><th scope=col>GKKicking</th><th scope=col>GKPositioning</th><th scope=col>GKReflexes</th><th scope=col>Release.Clause</th><th scope=col>Preferred.Foot.Left</th><th scope=col>Preferred.Foot.Right</th></tr></thead>\n",
       "<tbody>\n",
       "\t<tr><td>L. Messi           </td><td>31                 </td><td>Argentina          </td><td>94                 </td><td>94                 </td><td>FC Barcelona       </td><td>110500000          </td><td>565000             </td><td>2202               </td><td>Left               </td><td>...                </td><td>28                 </td><td>26                 </td><td> 6                 </td><td>11                 </td><td>15                 </td><td>14                 </td><td> 8                 </td><td>226500000          </td><td>1                  </td><td>0                  </td></tr>\n",
       "\t<tr><td>Cristiano Ronaldo  </td><td>33                 </td><td>Portugal           </td><td>94                 </td><td>94                 </td><td>Juventus           </td><td> 77000000          </td><td>405000             </td><td>2228               </td><td>Right              </td><td>...                </td><td>31                 </td><td>23                 </td><td> 7                 </td><td>11                 </td><td>15                 </td><td>14                 </td><td>11                 </td><td>127100000          </td><td>0                  </td><td>1                  </td></tr>\n",
       "\t<tr><td>Neymar Jr          </td><td>26                 </td><td>Brazil             </td><td>92                 </td><td>93                 </td><td>Paris Saint-Germain</td><td>118500000          </td><td>290000             </td><td>2143               </td><td>Right              </td><td>...                </td><td>24                 </td><td>33                 </td><td> 9                 </td><td> 9                 </td><td>15                 </td><td>15                 </td><td>11                 </td><td>228100000          </td><td>0                  </td><td>1                  </td></tr>\n",
       "\t<tr><td>De Gea             </td><td>27                 </td><td>Spain              </td><td>91                 </td><td>93                 </td><td>Manchester United  </td><td> 72000000          </td><td>260000             </td><td>1471               </td><td>Right              </td><td>...                </td><td>21                 </td><td>13                 </td><td>90                 </td><td>85                 </td><td>87                 </td><td>88                 </td><td>94                 </td><td>138600000          </td><td>0                  </td><td>1                  </td></tr>\n",
       "\t<tr><td>K. De Bruyne       </td><td>27                 </td><td>Belgium            </td><td>91                 </td><td>92                 </td><td>Manchester City    </td><td>102000000          </td><td>355000             </td><td>2281               </td><td>Right              </td><td>...                </td><td>58                 </td><td>51                 </td><td>15                 </td><td>13                 </td><td> 5                 </td><td>10                 </td><td>13                 </td><td>196400000          </td><td>0                  </td><td>1                  </td></tr>\n",
       "\t<tr><td>E. Hazard          </td><td>27                 </td><td>Belgium            </td><td>91                 </td><td>91                 </td><td>Chelsea            </td><td> 93000000          </td><td>340000             </td><td>2142               </td><td>Right              </td><td>...                </td><td>27                 </td><td>22                 </td><td>11                 </td><td>12                 </td><td> 6                 </td><td> 8                 </td><td> 8                 </td><td>172100000          </td><td>0                  </td><td>1                  </td></tr>\n",
       "</tbody>\n",
       "</table>\n"
      ],
      "text/latex": [
       "\\begin{tabular}{r|llllllllllllllllllllllllllllllllllllllllllllllllllllllllllll}\n",
       " Name & Age & Nationality & Overall & Potential & Club & Value & Wage & Special & Preferred.Foot & ... & StandingTackle & SlidingTackle & GKDiving & GKHandling & GKKicking & GKPositioning & GKReflexes & Release.Clause & Preferred.Foot.Left & Preferred.Foot.Right\\\\\n",
       "\\hline\n",
       "\t L. Messi            & 31                  & Argentina           & 94                  & 94                  & FC Barcelona        & 110500000           & 565000              & 2202                & Left                & ...                 & 28                  & 26                  &  6                  & 11                  & 15                  & 14                  &  8                  & 226500000           & 1                   & 0                  \\\\\n",
       "\t Cristiano Ronaldo   & 33                  & Portugal            & 94                  & 94                  & Juventus            &  77000000           & 405000              & 2228                & Right               & ...                 & 31                  & 23                  &  7                  & 11                  & 15                  & 14                  & 11                  & 127100000           & 0                   & 1                  \\\\\n",
       "\t Neymar Jr           & 26                  & Brazil              & 92                  & 93                  & Paris Saint-Germain & 118500000           & 290000              & 2143                & Right               & ...                 & 24                  & 33                  &  9                  &  9                  & 15                  & 15                  & 11                  & 228100000           & 0                   & 1                  \\\\\n",
       "\t De Gea              & 27                  & Spain               & 91                  & 93                  & Manchester United   &  72000000           & 260000              & 1471                & Right               & ...                 & 21                  & 13                  & 90                  & 85                  & 87                  & 88                  & 94                  & 138600000           & 0                   & 1                  \\\\\n",
       "\t K. De Bruyne        & 27                  & Belgium             & 91                  & 92                  & Manchester City     & 102000000           & 355000              & 2281                & Right               & ...                 & 58                  & 51                  & 15                  & 13                  &  5                  & 10                  & 13                  & 196400000           & 0                   & 1                  \\\\\n",
       "\t E. Hazard           & 27                  & Belgium             & 91                  & 91                  & Chelsea             &  93000000           & 340000              & 2142                & Right               & ...                 & 27                  & 22                  & 11                  & 12                  &  6                  &  8                  &  8                  & 172100000           & 0                   & 1                  \\\\\n",
       "\\end{tabular}\n"
      ],
      "text/markdown": [
       "\n",
       "| Name | Age | Nationality | Overall | Potential | Club | Value | Wage | Special | Preferred.Foot | ... | StandingTackle | SlidingTackle | GKDiving | GKHandling | GKKicking | GKPositioning | GKReflexes | Release.Clause | Preferred.Foot.Left | Preferred.Foot.Right |\n",
       "|---|---|---|---|---|---|---|---|---|---|---|---|---|---|---|---|---|---|---|---|---|\n",
       "| L. Messi            | 31                  | Argentina           | 94                  | 94                  | FC Barcelona        | 110500000           | 565000              | 2202                | Left                | ...                 | 28                  | 26                  |  6                  | 11                  | 15                  | 14                  |  8                  | 226500000           | 1                   | 0                   |\n",
       "| Cristiano Ronaldo   | 33                  | Portugal            | 94                  | 94                  | Juventus            |  77000000           | 405000              | 2228                | Right               | ...                 | 31                  | 23                  |  7                  | 11                  | 15                  | 14                  | 11                  | 127100000           | 0                   | 1                   |\n",
       "| Neymar Jr           | 26                  | Brazil              | 92                  | 93                  | Paris Saint-Germain | 118500000           | 290000              | 2143                | Right               | ...                 | 24                  | 33                  |  9                  |  9                  | 15                  | 15                  | 11                  | 228100000           | 0                   | 1                   |\n",
       "| De Gea              | 27                  | Spain               | 91                  | 93                  | Manchester United   |  72000000           | 260000              | 1471                | Right               | ...                 | 21                  | 13                  | 90                  | 85                  | 87                  | 88                  | 94                  | 138600000           | 0                   | 1                   |\n",
       "| K. De Bruyne        | 27                  | Belgium             | 91                  | 92                  | Manchester City     | 102000000           | 355000              | 2281                | Right               | ...                 | 58                  | 51                  | 15                  | 13                  |  5                  | 10                  | 13                  | 196400000           | 0                   | 1                   |\n",
       "| E. Hazard           | 27                  | Belgium             | 91                  | 91                  | Chelsea             |  93000000           | 340000              | 2142                | Right               | ...                 | 27                  | 22                  | 11                  | 12                  |  6                  |  8                  |  8                  | 172100000           | 0                   | 1                   |\n",
       "\n"
      ],
      "text/plain": [
       "  Name              Age Nationality Overall Potential Club               \n",
       "1 L. Messi          31  Argentina   94      94        FC Barcelona       \n",
       "2 Cristiano Ronaldo 33  Portugal    94      94        Juventus           \n",
       "3 Neymar Jr         26  Brazil      92      93        Paris Saint-Germain\n",
       "4 De Gea            27  Spain       91      93        Manchester United  \n",
       "5 K. De Bruyne      27  Belgium     91      92        Manchester City    \n",
       "6 E. Hazard         27  Belgium     91      91        Chelsea            \n",
       "  Value     Wage   Special Preferred.Foot ... StandingTackle SlidingTackle\n",
       "1 110500000 565000 2202    Left           ... 28             26           \n",
       "2  77000000 405000 2228    Right          ... 31             23           \n",
       "3 118500000 290000 2143    Right          ... 24             33           \n",
       "4  72000000 260000 1471    Right          ... 21             13           \n",
       "5 102000000 355000 2281    Right          ... 58             51           \n",
       "6  93000000 340000 2142    Right          ... 27             22           \n",
       "  GKDiving GKHandling GKKicking GKPositioning GKReflexes Release.Clause\n",
       "1  6       11         15        14             8         226500000     \n",
       "2  7       11         15        14            11         127100000     \n",
       "3  9        9         15        15            11         228100000     \n",
       "4 90       85         87        88            94         138600000     \n",
       "5 15       13          5        10            13         196400000     \n",
       "6 11       12          6         8             8         172100000     \n",
       "  Preferred.Foot.Left Preferred.Foot.Right\n",
       "1 1                   0                   \n",
       "2 0                   1                   \n",
       "3 0                   1                   \n",
       "4 0                   1                   \n",
       "5 0                   1                   \n",
       "6 0                   1                   "
      ]
     },
     "metadata": {},
     "output_type": "display_data"
    }
   ],
   "source": [
    "head(fifa)"
   ]
  },
  {
   "cell_type": "markdown",
   "metadata": {},
   "source": [
    "Antes de aplicar el procedimiento anterior a las distintas variables categóricas hay que tener en cuenta que si la cantidad de valores posibles para una columna es muy alta, puede darnos problemas (de memoria y dificultad para que el algoritmo aprenda), por lo tanto hay que crear agrupaciones o descartar la columna."
   ]
  },
  {
   "cell_type": "markdown",
   "metadata": {},
   "source": [
    "<a id='Posiciones'></a>\n",
    "### Agrupación de posiciones\n",
    "[Inicio ▲](#Indice)"
   ]
  },
  {
   "cell_type": "markdown",
   "metadata": {},
   "source": [
    "Agrupamos las posiciones de los jugadores en una manera más sencilla"
   ]
  },
  {
   "cell_type": "code",
   "execution_count": 11,
   "metadata": {},
   "outputs": [],
   "source": [
    "simple_position <- function(df) {\n",
    "    value <- df['Position'][[1]]\n",
    "    if (identical(value, 'GK')) {\n",
    "        return('GK')\n",
    "    } else if (identical(value, 'CB') | identical(value, 'LCB') |\n",
    "              identical(value, 'RCB')) {\n",
    "        return('CB')\n",
    "    } else if(identical(value, 'RB') | identical(value, 'LB')) {\n",
    "        return('RLB')\n",
    "    } else if(identical(value, 'RWB') | identical(value, 'LWB')) {\n",
    "        return('LRWB')          \n",
    "    } else if (identical(value, 'LDM') | identical(value, 'RDM')) {\n",
    "        return('LRDM')\n",
    "    } else if(identical(value, 'RCM') | identical(value, 'LCM')\n",
    "             | identical(value, 'CM')){\n",
    "        return('CM')\n",
    "    } else if (identical(value, 'LM') | identical(value, 'RM')) {\n",
    "        return('LRM')\n",
    "    } else if (identical(value, 'LW') | identical(value, 'RW')\n",
    "              | identical(value, 'LAM') | identical(value, 'RAM')) {\n",
    "        return('LRAW')\n",
    "    } else if (identical(value, 'CF') | identical(value, 'LF') | identical(value, 'RF')) {\n",
    "        return('CLRF')\n",
    "    } else if (identical(value, 'RS') | identical(value, 'LS') | identical(value, 'ST')) {\n",
    "        return('ST')\n",
    "    } else {\n",
    "        return(value)\n",
    "    }\n",
    "}\n",
    "\n",
    "fifa['Position'] <- apply(fifa, 1, simple_position)"
   ]
  },
  {
   "cell_type": "code",
   "execution_count": 12,
   "metadata": {},
   "outputs": [
    {
     "name": "stdout",
     "output_type": "stream",
     "text": [
      "'data.frame':\t18207 obs. of  60 variables:\n",
      " $ Name                    : Factor w/ 17194 levels \"A. Ábalos\",\"A. Abang\",..: 9676 3192 12552 4169 8661 4458 9684 9892 15466 7822 ...\n",
      " $ Age                     : int  31 33 26 27 27 27 32 31 32 25 ...\n",
      " $ Nationality             : Factor w/ 164 levels \"Afghanistan\",..: 7 124 21 141 14 14 36 159 141 138 ...\n",
      " $ Overall                 : int  94 94 92 91 91 91 91 91 91 90 ...\n",
      " $ Potential               : int  94 94 93 93 92 91 91 91 91 93 ...\n",
      " $ Club                    : Factor w/ 652 levels \"\",\" SSV Jahn Regensburg\",..: 215 330 437 377 376 138 474 215 474 62 ...\n",
      " $ Value                   : num  1.10e+08 7.70e+07 1.18e+08 7.20e+07 1.02e+08 ...\n",
      " $ Wage                    : num  565000 405000 290000 260000 355000 340000 420000 455000 380000 94000 ...\n",
      " $ Special                 : int  2202 2228 2143 1471 2281 2142 2280 2346 2201 1331 ...\n",
      " $ Preferred.Foot          : Factor w/ 3 levels \"\",\"Left\",\"Right\": 2 3 3 3 3 3 3 3 3 3 ...\n",
      " $ International.Reputation: int  5 5 5 4 4 4 4 5 4 3 ...\n",
      " $ Weak.Foot               : int  4 4 5 3 5 4 4 4 3 3 ...\n",
      " $ Skill.Moves             : int  4 5 5 1 4 4 4 3 3 1 ...\n",
      " $ Work.Rate               : Factor w/ 10 levels \"\",\"High/ High\",..: 10 3 4 10 2 4 2 4 4 10 ...\n",
      " $ Body.Type               : Factor w/ 11 levels \"\",\"Akinfenwa\",..: 6 3 7 5 8 8 5 8 8 8 ...\n",
      " $ Real.Face               : Factor w/ 3 levels \"\",\"No\",\"Yes\": 3 3 3 3 3 3 3 3 3 3 ...\n",
      " $ Position                : chr  \"CLRF\" \"ST\" \"LRAW\" \"GK\" ...\n",
      " $ Jersey.Number           : int  10 7 10 1 7 10 10 9 15 1 ...\n",
      " $ Joined                  : Factor w/ 1737 levels \"\",\"Apr 1, 2008\",..: 776 796 249 783 255 784 105 801 98 836 ...\n",
      " $ Loaned.From             : Factor w/ 342 levels \"\",\"1. FC Köln\",..: 1 1 1 1 1 1 1 1 1 1 ...\n",
      " $ Contract.Valid.Until    : Factor w/ 37 levels \"\",\"2018\",\"2019\",..: 5 6 6 4 7 4 4 5 4 5 ...\n",
      " $ Height                  : Factor w/ 22 levels \"\",\"5'1\",\"5'10\",..: 10 15 12 17 4 11 11 13 13 15 ...\n",
      " $ Weight                  : Factor w/ 58 levels \"\",\"110lbs\",\"115lbs\",..: 23 34 19 27 21 25 17 37 33 38 ...\n",
      " $ Crossing                : int  84 84 79 17 93 81 86 77 66 13 ...\n",
      " $ Finishing               : int  95 94 87 13 82 84 72 93 60 11 ...\n",
      " $ HeadingAccuracy         : int  70 89 62 21 55 61 55 77 91 15 ...\n",
      " $ ShortPassing            : int  90 81 84 50 92 89 93 82 78 29 ...\n",
      " $ Volleys                 : int  86 87 84 13 82 80 76 88 66 13 ...\n",
      " $ Dribbling               : int  97 88 96 18 86 95 90 87 63 12 ...\n",
      " $ Curve                   : int  93 81 88 21 85 83 85 86 74 13 ...\n",
      " $ FKAccuracy              : int  94 76 87 19 83 79 78 84 72 14 ...\n",
      " $ LongPassing             : int  87 77 78 51 91 83 88 64 77 26 ...\n",
      " $ BallControl             : int  96 94 95 42 91 94 93 90 84 16 ...\n",
      " $ Acceleration            : int  91 89 94 57 78 94 80 86 76 43 ...\n",
      " $ SprintSpeed             : int  86 91 90 58 76 88 72 75 75 60 ...\n",
      " $ Agility                 : int  91 87 96 60 79 95 93 82 78 67 ...\n",
      " $ Reactions               : int  95 96 94 90 91 90 90 92 85 86 ...\n",
      " $ Balance                 : int  95 70 84 43 77 94 94 83 66 49 ...\n",
      " $ ShotPower               : int  85 95 80 31 91 82 79 86 79 22 ...\n",
      " $ Jumping                 : int  68 95 61 67 63 56 68 69 93 76 ...\n",
      " $ Stamina                 : int  72 88 81 43 90 83 89 90 84 41 ...\n",
      " $ Strength                : int  59 79 49 64 75 66 58 83 83 78 ...\n",
      " $ LongShots               : int  94 93 82 12 91 80 82 85 59 12 ...\n",
      " $ Aggression              : int  48 63 56 38 76 54 62 87 88 34 ...\n",
      " $ Interceptions           : int  22 29 36 30 61 41 83 41 90 19 ...\n",
      " $ Positioning             : int  94 95 89 12 87 87 79 92 60 11 ...\n",
      " $ Vision                  : int  94 82 87 68 94 89 92 84 63 70 ...\n",
      " $ Penalties               : int  75 85 81 40 79 86 82 85 75 11 ...\n",
      " $ Composure               : int  96 95 94 68 88 91 84 85 82 70 ...\n",
      " $ Marking                 : int  33 28 27 15 68 34 60 62 87 27 ...\n",
      " $ StandingTackle          : int  28 31 24 21 58 27 76 45 92 12 ...\n",
      " $ SlidingTackle           : int  26 23 33 13 51 22 73 38 91 18 ...\n",
      " $ GKDiving                : int  6 7 9 90 15 11 13 27 11 86 ...\n",
      " $ GKHandling              : int  11 11 9 85 13 12 9 25 8 92 ...\n",
      " $ GKKicking               : int  15 15 15 87 5 6 7 31 9 78 ...\n",
      " $ GKPositioning           : int  14 14 15 88 10 8 14 33 7 88 ...\n",
      " $ GKReflexes              : int  8 11 11 94 13 8 9 37 11 89 ...\n",
      " $ Release.Clause          : num  2.26e+08 1.27e+08 2.28e+08 1.39e+08 1.96e+08 ...\n",
      " $ Preferred.Foot.Left     : num  1 0 0 0 0 0 0 0 0 0 ...\n",
      " $ Preferred.Foot.Right    : num  0 1 1 1 1 1 1 1 1 1 ...\n"
     ]
    }
   ],
   "source": [
    "str(fifa)"
   ]
  },
  {
   "cell_type": "markdown",
   "metadata": {},
   "source": [
    "**NOTA**: Antes de seguir adelante, se realizan las limpiezas de datos necesarias."
   ]
  },
  {
   "cell_type": "markdown",
   "metadata": {},
   "source": [
    "<a id='Transformación-Inválidos'></a>\n",
    "### Limpieza de valores inválidos\n",
    "[Inicio ▲](#Indice)"
   ]
  },
  {
   "cell_type": "code",
   "execution_count": 13,
   "metadata": {},
   "outputs": [
    {
     "name": "stderr",
     "output_type": "stream",
     "text": [
      "Warning message:\n",
      "\"funs() is soft deprecated as of dplyr 0.8.0\n",
      "Please use a list of either functions or lambdas: \n",
      "\n",
      "  # Simple named list: \n",
      "  list(mean = mean, median = median)\n",
      "\n",
      "  # Auto named with `tibble::lst()`: \n",
      "  tibble::lst(mean, median)\n",
      "\n",
      "  # Using lambdas\n",
      "  list(~ mean(., trim = .2), ~ median(., na.rm = TRUE))\n",
      "This warning is displayed once per session.\""
     ]
    },
    {
     "data": {
      "text/html": [
       "<table>\n",
       "<thead><tr><th scope=col>feature</th><th scope=col>num_missing</th><th scope=col>pct_missing</th></tr></thead>\n",
       "<tbody>\n",
       "\t<tr><td>Name                    </td><td>    0                   </td><td>0.000000000             </td></tr>\n",
       "\t<tr><td>Age                     </td><td>    0                   </td><td>0.000000000             </td></tr>\n",
       "\t<tr><td>Nationality             </td><td>    0                   </td><td>0.000000000             </td></tr>\n",
       "\t<tr><td>Overall                 </td><td>    0                   </td><td>0.000000000             </td></tr>\n",
       "\t<tr><td>Potential               </td><td>    0                   </td><td>0.000000000             </td></tr>\n",
       "\t<tr><td>Club                    </td><td>  241                   </td><td>0.013236667             </td></tr>\n",
       "\t<tr><td>Value                   </td><td>    0                   </td><td>0.000000000             </td></tr>\n",
       "\t<tr><td>Wage                    </td><td>    0                   </td><td>0.000000000             </td></tr>\n",
       "\t<tr><td>Special                 </td><td>    0                   </td><td>0.000000000             </td></tr>\n",
       "\t<tr><td>Preferred.Foot          </td><td>   48                   </td><td>0.002636349             </td></tr>\n",
       "\t<tr><td>International.Reputation</td><td>   48                   </td><td>0.002636349             </td></tr>\n",
       "\t<tr><td>Weak.Foot               </td><td>   48                   </td><td>0.002636349             </td></tr>\n",
       "\t<tr><td>Skill.Moves             </td><td>   48                   </td><td>0.002636349             </td></tr>\n",
       "\t<tr><td>Work.Rate               </td><td>   48                   </td><td>0.002636349             </td></tr>\n",
       "\t<tr><td>Body.Type               </td><td>   48                   </td><td>0.002636349             </td></tr>\n",
       "\t<tr><td>Real.Face               </td><td>   48                   </td><td>0.002636349             </td></tr>\n",
       "\t<tr><td>Position                </td><td>   60                   </td><td>0.003295436             </td></tr>\n",
       "\t<tr><td>Jersey.Number           </td><td>   60                   </td><td>0.003295436             </td></tr>\n",
       "\t<tr><td>Joined                  </td><td> 1553                   </td><td>0.085296864             </td></tr>\n",
       "\t<tr><td>Loaned.From             </td><td>16943                   </td><td>0.930576152             </td></tr>\n",
       "\t<tr><td>Contract.Valid.Until    </td><td>  289                   </td><td>0.015873016             </td></tr>\n",
       "\t<tr><td>Height                  </td><td>   48                   </td><td>0.002636349             </td></tr>\n",
       "\t<tr><td>Weight                  </td><td>   48                   </td><td>0.002636349             </td></tr>\n",
       "\t<tr><td>Crossing                </td><td>   48                   </td><td>0.002636349             </td></tr>\n",
       "\t<tr><td>Finishing               </td><td>   48                   </td><td>0.002636349             </td></tr>\n",
       "\t<tr><td>HeadingAccuracy         </td><td>   48                   </td><td>0.002636349             </td></tr>\n",
       "\t<tr><td>ShortPassing            </td><td>   48                   </td><td>0.002636349             </td></tr>\n",
       "\t<tr><td>Volleys                 </td><td>   48                   </td><td>0.002636349             </td></tr>\n",
       "\t<tr><td>Dribbling               </td><td>   48                   </td><td>0.002636349             </td></tr>\n",
       "\t<tr><td>Curve                   </td><td>   48                   </td><td>0.002636349             </td></tr>\n",
       "\t<tr><td>FKAccuracy              </td><td>   48                   </td><td>0.002636349             </td></tr>\n",
       "\t<tr><td>LongPassing             </td><td>   48                   </td><td>0.002636349             </td></tr>\n",
       "\t<tr><td>BallControl             </td><td>   48                   </td><td>0.002636349             </td></tr>\n",
       "\t<tr><td>Acceleration            </td><td>   48                   </td><td>0.002636349             </td></tr>\n",
       "\t<tr><td>SprintSpeed             </td><td>   48                   </td><td>0.002636349             </td></tr>\n",
       "\t<tr><td>Agility                 </td><td>   48                   </td><td>0.002636349             </td></tr>\n",
       "\t<tr><td>Reactions               </td><td>   48                   </td><td>0.002636349             </td></tr>\n",
       "\t<tr><td>Balance                 </td><td>   48                   </td><td>0.002636349             </td></tr>\n",
       "\t<tr><td>ShotPower               </td><td>   48                   </td><td>0.002636349             </td></tr>\n",
       "\t<tr><td>Jumping                 </td><td>   48                   </td><td>0.002636349             </td></tr>\n",
       "\t<tr><td>Stamina                 </td><td>   48                   </td><td>0.002636349             </td></tr>\n",
       "\t<tr><td>Strength                </td><td>   48                   </td><td>0.002636349             </td></tr>\n",
       "\t<tr><td>LongShots               </td><td>   48                   </td><td>0.002636349             </td></tr>\n",
       "\t<tr><td>Aggression              </td><td>   48                   </td><td>0.002636349             </td></tr>\n",
       "\t<tr><td>Interceptions           </td><td>   48                   </td><td>0.002636349             </td></tr>\n",
       "\t<tr><td>Positioning             </td><td>   48                   </td><td>0.002636349             </td></tr>\n",
       "\t<tr><td>Vision                  </td><td>   48                   </td><td>0.002636349             </td></tr>\n",
       "\t<tr><td>Penalties               </td><td>   48                   </td><td>0.002636349             </td></tr>\n",
       "\t<tr><td>Composure               </td><td>   48                   </td><td>0.002636349             </td></tr>\n",
       "\t<tr><td>Marking                 </td><td>   48                   </td><td>0.002636349             </td></tr>\n",
       "\t<tr><td>StandingTackle          </td><td>   48                   </td><td>0.002636349             </td></tr>\n",
       "\t<tr><td>SlidingTackle           </td><td>   48                   </td><td>0.002636349             </td></tr>\n",
       "\t<tr><td>GKDiving                </td><td>   48                   </td><td>0.002636349             </td></tr>\n",
       "\t<tr><td>GKHandling              </td><td>   48                   </td><td>0.002636349             </td></tr>\n",
       "\t<tr><td>GKKicking               </td><td>   48                   </td><td>0.002636349             </td></tr>\n",
       "\t<tr><td>GKPositioning           </td><td>   48                   </td><td>0.002636349             </td></tr>\n",
       "\t<tr><td>GKReflexes              </td><td>   48                   </td><td>0.002636349             </td></tr>\n",
       "\t<tr><td>Release.Clause          </td><td>    0                   </td><td>0.000000000             </td></tr>\n",
       "\t<tr><td>Preferred.Foot.Left     </td><td>    0                   </td><td>0.000000000             </td></tr>\n",
       "\t<tr><td>Preferred.Foot.Right    </td><td>    0                   </td><td>0.000000000             </td></tr>\n",
       "</tbody>\n",
       "</table>\n"
      ],
      "text/latex": [
       "\\begin{tabular}{r|lll}\n",
       " feature & num\\_missing & pct\\_missing\\\\\n",
       "\\hline\n",
       "\t Name                     &     0                    & 0.000000000             \\\\\n",
       "\t Age                      &     0                    & 0.000000000             \\\\\n",
       "\t Nationality              &     0                    & 0.000000000             \\\\\n",
       "\t Overall                  &     0                    & 0.000000000             \\\\\n",
       "\t Potential                &     0                    & 0.000000000             \\\\\n",
       "\t Club                     &   241                    & 0.013236667             \\\\\n",
       "\t Value                    &     0                    & 0.000000000             \\\\\n",
       "\t Wage                     &     0                    & 0.000000000             \\\\\n",
       "\t Special                  &     0                    & 0.000000000             \\\\\n",
       "\t Preferred.Foot           &    48                    & 0.002636349             \\\\\n",
       "\t International.Reputation &    48                    & 0.002636349             \\\\\n",
       "\t Weak.Foot                &    48                    & 0.002636349             \\\\\n",
       "\t Skill.Moves              &    48                    & 0.002636349             \\\\\n",
       "\t Work.Rate                &    48                    & 0.002636349             \\\\\n",
       "\t Body.Type                &    48                    & 0.002636349             \\\\\n",
       "\t Real.Face                &    48                    & 0.002636349             \\\\\n",
       "\t Position                 &    60                    & 0.003295436             \\\\\n",
       "\t Jersey.Number            &    60                    & 0.003295436             \\\\\n",
       "\t Joined                   &  1553                    & 0.085296864             \\\\\n",
       "\t Loaned.From              & 16943                    & 0.930576152             \\\\\n",
       "\t Contract.Valid.Until     &   289                    & 0.015873016             \\\\\n",
       "\t Height                   &    48                    & 0.002636349             \\\\\n",
       "\t Weight                   &    48                    & 0.002636349             \\\\\n",
       "\t Crossing                 &    48                    & 0.002636349             \\\\\n",
       "\t Finishing                &    48                    & 0.002636349             \\\\\n",
       "\t HeadingAccuracy          &    48                    & 0.002636349             \\\\\n",
       "\t ShortPassing             &    48                    & 0.002636349             \\\\\n",
       "\t Volleys                  &    48                    & 0.002636349             \\\\\n",
       "\t Dribbling                &    48                    & 0.002636349             \\\\\n",
       "\t Curve                    &    48                    & 0.002636349             \\\\\n",
       "\t FKAccuracy               &    48                    & 0.002636349             \\\\\n",
       "\t LongPassing              &    48                    & 0.002636349             \\\\\n",
       "\t BallControl              &    48                    & 0.002636349             \\\\\n",
       "\t Acceleration             &    48                    & 0.002636349             \\\\\n",
       "\t SprintSpeed              &    48                    & 0.002636349             \\\\\n",
       "\t Agility                  &    48                    & 0.002636349             \\\\\n",
       "\t Reactions                &    48                    & 0.002636349             \\\\\n",
       "\t Balance                  &    48                    & 0.002636349             \\\\\n",
       "\t ShotPower                &    48                    & 0.002636349             \\\\\n",
       "\t Jumping                  &    48                    & 0.002636349             \\\\\n",
       "\t Stamina                  &    48                    & 0.002636349             \\\\\n",
       "\t Strength                 &    48                    & 0.002636349             \\\\\n",
       "\t LongShots                &    48                    & 0.002636349             \\\\\n",
       "\t Aggression               &    48                    & 0.002636349             \\\\\n",
       "\t Interceptions            &    48                    & 0.002636349             \\\\\n",
       "\t Positioning              &    48                    & 0.002636349             \\\\\n",
       "\t Vision                   &    48                    & 0.002636349             \\\\\n",
       "\t Penalties                &    48                    & 0.002636349             \\\\\n",
       "\t Composure                &    48                    & 0.002636349             \\\\\n",
       "\t Marking                  &    48                    & 0.002636349             \\\\\n",
       "\t StandingTackle           &    48                    & 0.002636349             \\\\\n",
       "\t SlidingTackle            &    48                    & 0.002636349             \\\\\n",
       "\t GKDiving                 &    48                    & 0.002636349             \\\\\n",
       "\t GKHandling               &    48                    & 0.002636349             \\\\\n",
       "\t GKKicking                &    48                    & 0.002636349             \\\\\n",
       "\t GKPositioning            &    48                    & 0.002636349             \\\\\n",
       "\t GKReflexes               &    48                    & 0.002636349             \\\\\n",
       "\t Release.Clause           &     0                    & 0.000000000             \\\\\n",
       "\t Preferred.Foot.Left      &     0                    & 0.000000000             \\\\\n",
       "\t Preferred.Foot.Right     &     0                    & 0.000000000             \\\\\n",
       "\\end{tabular}\n"
      ],
      "text/markdown": [
       "\n",
       "| feature | num_missing | pct_missing |\n",
       "|---|---|---|\n",
       "| Name                     |     0                    | 0.000000000              |\n",
       "| Age                      |     0                    | 0.000000000              |\n",
       "| Nationality              |     0                    | 0.000000000              |\n",
       "| Overall                  |     0                    | 0.000000000              |\n",
       "| Potential                |     0                    | 0.000000000              |\n",
       "| Club                     |   241                    | 0.013236667              |\n",
       "| Value                    |     0                    | 0.000000000              |\n",
       "| Wage                     |     0                    | 0.000000000              |\n",
       "| Special                  |     0                    | 0.000000000              |\n",
       "| Preferred.Foot           |    48                    | 0.002636349              |\n",
       "| International.Reputation |    48                    | 0.002636349              |\n",
       "| Weak.Foot                |    48                    | 0.002636349              |\n",
       "| Skill.Moves              |    48                    | 0.002636349              |\n",
       "| Work.Rate                |    48                    | 0.002636349              |\n",
       "| Body.Type                |    48                    | 0.002636349              |\n",
       "| Real.Face                |    48                    | 0.002636349              |\n",
       "| Position                 |    60                    | 0.003295436              |\n",
       "| Jersey.Number            |    60                    | 0.003295436              |\n",
       "| Joined                   |  1553                    | 0.085296864              |\n",
       "| Loaned.From              | 16943                    | 0.930576152              |\n",
       "| Contract.Valid.Until     |   289                    | 0.015873016              |\n",
       "| Height                   |    48                    | 0.002636349              |\n",
       "| Weight                   |    48                    | 0.002636349              |\n",
       "| Crossing                 |    48                    | 0.002636349              |\n",
       "| Finishing                |    48                    | 0.002636349              |\n",
       "| HeadingAccuracy          |    48                    | 0.002636349              |\n",
       "| ShortPassing             |    48                    | 0.002636349              |\n",
       "| Volleys                  |    48                    | 0.002636349              |\n",
       "| Dribbling                |    48                    | 0.002636349              |\n",
       "| Curve                    |    48                    | 0.002636349              |\n",
       "| FKAccuracy               |    48                    | 0.002636349              |\n",
       "| LongPassing              |    48                    | 0.002636349              |\n",
       "| BallControl              |    48                    | 0.002636349              |\n",
       "| Acceleration             |    48                    | 0.002636349              |\n",
       "| SprintSpeed              |    48                    | 0.002636349              |\n",
       "| Agility                  |    48                    | 0.002636349              |\n",
       "| Reactions                |    48                    | 0.002636349              |\n",
       "| Balance                  |    48                    | 0.002636349              |\n",
       "| ShotPower                |    48                    | 0.002636349              |\n",
       "| Jumping                  |    48                    | 0.002636349              |\n",
       "| Stamina                  |    48                    | 0.002636349              |\n",
       "| Strength                 |    48                    | 0.002636349              |\n",
       "| LongShots                |    48                    | 0.002636349              |\n",
       "| Aggression               |    48                    | 0.002636349              |\n",
       "| Interceptions            |    48                    | 0.002636349              |\n",
       "| Positioning              |    48                    | 0.002636349              |\n",
       "| Vision                   |    48                    | 0.002636349              |\n",
       "| Penalties                |    48                    | 0.002636349              |\n",
       "| Composure                |    48                    | 0.002636349              |\n",
       "| Marking                  |    48                    | 0.002636349              |\n",
       "| StandingTackle           |    48                    | 0.002636349              |\n",
       "| SlidingTackle            |    48                    | 0.002636349              |\n",
       "| GKDiving                 |    48                    | 0.002636349              |\n",
       "| GKHandling               |    48                    | 0.002636349              |\n",
       "| GKKicking                |    48                    | 0.002636349              |\n",
       "| GKPositioning            |    48                    | 0.002636349              |\n",
       "| GKReflexes               |    48                    | 0.002636349              |\n",
       "| Release.Clause           |     0                    | 0.000000000              |\n",
       "| Preferred.Foot.Left      |     0                    | 0.000000000              |\n",
       "| Preferred.Foot.Right     |     0                    | 0.000000000              |\n",
       "\n"
      ],
      "text/plain": [
       "   feature                  num_missing pct_missing\n",
       "1  Name                         0       0.000000000\n",
       "2  Age                          0       0.000000000\n",
       "3  Nationality                  0       0.000000000\n",
       "4  Overall                      0       0.000000000\n",
       "5  Potential                    0       0.000000000\n",
       "6  Club                       241       0.013236667\n",
       "7  Value                        0       0.000000000\n",
       "8  Wage                         0       0.000000000\n",
       "9  Special                      0       0.000000000\n",
       "10 Preferred.Foot              48       0.002636349\n",
       "11 International.Reputation    48       0.002636349\n",
       "12 Weak.Foot                   48       0.002636349\n",
       "13 Skill.Moves                 48       0.002636349\n",
       "14 Work.Rate                   48       0.002636349\n",
       "15 Body.Type                   48       0.002636349\n",
       "16 Real.Face                   48       0.002636349\n",
       "17 Position                    60       0.003295436\n",
       "18 Jersey.Number               60       0.003295436\n",
       "19 Joined                    1553       0.085296864\n",
       "20 Loaned.From              16943       0.930576152\n",
       "21 Contract.Valid.Until       289       0.015873016\n",
       "22 Height                      48       0.002636349\n",
       "23 Weight                      48       0.002636349\n",
       "24 Crossing                    48       0.002636349\n",
       "25 Finishing                   48       0.002636349\n",
       "26 HeadingAccuracy             48       0.002636349\n",
       "27 ShortPassing                48       0.002636349\n",
       "28 Volleys                     48       0.002636349\n",
       "29 Dribbling                   48       0.002636349\n",
       "30 Curve                       48       0.002636349\n",
       "31 FKAccuracy                  48       0.002636349\n",
       "32 LongPassing                 48       0.002636349\n",
       "33 BallControl                 48       0.002636349\n",
       "34 Acceleration                48       0.002636349\n",
       "35 SprintSpeed                 48       0.002636349\n",
       "36 Agility                     48       0.002636349\n",
       "37 Reactions                   48       0.002636349\n",
       "38 Balance                     48       0.002636349\n",
       "39 ShotPower                   48       0.002636349\n",
       "40 Jumping                     48       0.002636349\n",
       "41 Stamina                     48       0.002636349\n",
       "42 Strength                    48       0.002636349\n",
       "43 LongShots                   48       0.002636349\n",
       "44 Aggression                  48       0.002636349\n",
       "45 Interceptions               48       0.002636349\n",
       "46 Positioning                 48       0.002636349\n",
       "47 Vision                      48       0.002636349\n",
       "48 Penalties                   48       0.002636349\n",
       "49 Composure                   48       0.002636349\n",
       "50 Marking                     48       0.002636349\n",
       "51 StandingTackle              48       0.002636349\n",
       "52 SlidingTackle               48       0.002636349\n",
       "53 GKDiving                    48       0.002636349\n",
       "54 GKHandling                  48       0.002636349\n",
       "55 GKKicking                   48       0.002636349\n",
       "56 GKPositioning               48       0.002636349\n",
       "57 GKReflexes                  48       0.002636349\n",
       "58 Release.Clause               0       0.000000000\n",
       "59 Preferred.Foot.Left          0       0.000000000\n",
       "60 Preferred.Foot.Right         0       0.000000000"
      ]
     },
     "metadata": {},
     "output_type": "display_data"
    }
   ],
   "source": [
    "# Se remplazan los datos vacíos por NA\n",
    "fifaClean <- mutate_all(fifa, funs(na_if(.,\"\")))\n",
    "profile_missing(fifaClean)"
   ]
  },
  {
   "cell_type": "code",
   "execution_count": 14,
   "metadata": {},
   "outputs": [
    {
     "data": {
      "text/html": [
       "<dl class=dl-horizontal>\n",
       "\t<dt>Name</dt>\n",
       "\t\t<dd>0</dd>\n",
       "\t<dt>Age</dt>\n",
       "\t\t<dd>0</dd>\n",
       "\t<dt>Nationality</dt>\n",
       "\t\t<dd>0</dd>\n",
       "\t<dt>Overall</dt>\n",
       "\t\t<dd>0</dd>\n",
       "\t<dt>Potential</dt>\n",
       "\t\t<dd>0</dd>\n",
       "\t<dt>Club</dt>\n",
       "\t\t<dd>241</dd>\n",
       "\t<dt>Value</dt>\n",
       "\t\t<dd>0</dd>\n",
       "\t<dt>Wage</dt>\n",
       "\t\t<dd>0</dd>\n",
       "\t<dt>Special</dt>\n",
       "\t\t<dd>0</dd>\n",
       "\t<dt>Preferred.Foot</dt>\n",
       "\t\t<dd>48</dd>\n",
       "\t<dt>International.Reputation</dt>\n",
       "\t\t<dd>48</dd>\n",
       "\t<dt>Weak.Foot</dt>\n",
       "\t\t<dd>48</dd>\n",
       "\t<dt>Skill.Moves</dt>\n",
       "\t\t<dd>48</dd>\n",
       "\t<dt>Work.Rate</dt>\n",
       "\t\t<dd>48</dd>\n",
       "\t<dt>Body.Type</dt>\n",
       "\t\t<dd>48</dd>\n",
       "\t<dt>Real.Face</dt>\n",
       "\t\t<dd>48</dd>\n",
       "\t<dt>Position</dt>\n",
       "\t\t<dd>60</dd>\n",
       "\t<dt>Jersey.Number</dt>\n",
       "\t\t<dd>60</dd>\n",
       "\t<dt>Joined</dt>\n",
       "\t\t<dd>1553</dd>\n",
       "\t<dt>Loaned.From</dt>\n",
       "\t\t<dd>16943</dd>\n",
       "\t<dt>Contract.Valid.Until</dt>\n",
       "\t\t<dd>289</dd>\n",
       "\t<dt>Height</dt>\n",
       "\t\t<dd>48</dd>\n",
       "\t<dt>Weight</dt>\n",
       "\t\t<dd>48</dd>\n",
       "\t<dt>Crossing</dt>\n",
       "\t\t<dd>48</dd>\n",
       "\t<dt>Finishing</dt>\n",
       "\t\t<dd>48</dd>\n",
       "\t<dt>HeadingAccuracy</dt>\n",
       "\t\t<dd>48</dd>\n",
       "\t<dt>ShortPassing</dt>\n",
       "\t\t<dd>48</dd>\n",
       "\t<dt>Volleys</dt>\n",
       "\t\t<dd>48</dd>\n",
       "\t<dt>Dribbling</dt>\n",
       "\t\t<dd>48</dd>\n",
       "\t<dt>Curve</dt>\n",
       "\t\t<dd>48</dd>\n",
       "\t<dt>FKAccuracy</dt>\n",
       "\t\t<dd>48</dd>\n",
       "\t<dt>LongPassing</dt>\n",
       "\t\t<dd>48</dd>\n",
       "\t<dt>BallControl</dt>\n",
       "\t\t<dd>48</dd>\n",
       "\t<dt>Acceleration</dt>\n",
       "\t\t<dd>48</dd>\n",
       "\t<dt>SprintSpeed</dt>\n",
       "\t\t<dd>48</dd>\n",
       "\t<dt>Agility</dt>\n",
       "\t\t<dd>48</dd>\n",
       "\t<dt>Reactions</dt>\n",
       "\t\t<dd>48</dd>\n",
       "\t<dt>Balance</dt>\n",
       "\t\t<dd>48</dd>\n",
       "\t<dt>ShotPower</dt>\n",
       "\t\t<dd>48</dd>\n",
       "\t<dt>Jumping</dt>\n",
       "\t\t<dd>48</dd>\n",
       "\t<dt>Stamina</dt>\n",
       "\t\t<dd>48</dd>\n",
       "\t<dt>Strength</dt>\n",
       "\t\t<dd>48</dd>\n",
       "\t<dt>LongShots</dt>\n",
       "\t\t<dd>48</dd>\n",
       "\t<dt>Aggression</dt>\n",
       "\t\t<dd>48</dd>\n",
       "\t<dt>Interceptions</dt>\n",
       "\t\t<dd>48</dd>\n",
       "\t<dt>Positioning</dt>\n",
       "\t\t<dd>48</dd>\n",
       "\t<dt>Vision</dt>\n",
       "\t\t<dd>48</dd>\n",
       "\t<dt>Penalties</dt>\n",
       "\t\t<dd>48</dd>\n",
       "\t<dt>Composure</dt>\n",
       "\t\t<dd>48</dd>\n",
       "\t<dt>Marking</dt>\n",
       "\t\t<dd>48</dd>\n",
       "\t<dt>StandingTackle</dt>\n",
       "\t\t<dd>48</dd>\n",
       "\t<dt>SlidingTackle</dt>\n",
       "\t\t<dd>48</dd>\n",
       "\t<dt>GKDiving</dt>\n",
       "\t\t<dd>48</dd>\n",
       "\t<dt>GKHandling</dt>\n",
       "\t\t<dd>48</dd>\n",
       "\t<dt>GKKicking</dt>\n",
       "\t\t<dd>48</dd>\n",
       "\t<dt>GKPositioning</dt>\n",
       "\t\t<dd>48</dd>\n",
       "\t<dt>GKReflexes</dt>\n",
       "\t\t<dd>48</dd>\n",
       "\t<dt>Release.Clause</dt>\n",
       "\t\t<dd>0</dd>\n",
       "\t<dt>Preferred.Foot.Left</dt>\n",
       "\t\t<dd>0</dd>\n",
       "\t<dt>Preferred.Foot.Right</dt>\n",
       "\t\t<dd>0</dd>\n",
       "</dl>\n"
      ],
      "text/latex": [
       "\\begin{description*}\n",
       "\\item[Name] 0\n",
       "\\item[Age] 0\n",
       "\\item[Nationality] 0\n",
       "\\item[Overall] 0\n",
       "\\item[Potential] 0\n",
       "\\item[Club] 241\n",
       "\\item[Value] 0\n",
       "\\item[Wage] 0\n",
       "\\item[Special] 0\n",
       "\\item[Preferred.Foot] 48\n",
       "\\item[International.Reputation] 48\n",
       "\\item[Weak.Foot] 48\n",
       "\\item[Skill.Moves] 48\n",
       "\\item[Work.Rate] 48\n",
       "\\item[Body.Type] 48\n",
       "\\item[Real.Face] 48\n",
       "\\item[Position] 60\n",
       "\\item[Jersey.Number] 60\n",
       "\\item[Joined] 1553\n",
       "\\item[Loaned.From] 16943\n",
       "\\item[Contract.Valid.Until] 289\n",
       "\\item[Height] 48\n",
       "\\item[Weight] 48\n",
       "\\item[Crossing] 48\n",
       "\\item[Finishing] 48\n",
       "\\item[HeadingAccuracy] 48\n",
       "\\item[ShortPassing] 48\n",
       "\\item[Volleys] 48\n",
       "\\item[Dribbling] 48\n",
       "\\item[Curve] 48\n",
       "\\item[FKAccuracy] 48\n",
       "\\item[LongPassing] 48\n",
       "\\item[BallControl] 48\n",
       "\\item[Acceleration] 48\n",
       "\\item[SprintSpeed] 48\n",
       "\\item[Agility] 48\n",
       "\\item[Reactions] 48\n",
       "\\item[Balance] 48\n",
       "\\item[ShotPower] 48\n",
       "\\item[Jumping] 48\n",
       "\\item[Stamina] 48\n",
       "\\item[Strength] 48\n",
       "\\item[LongShots] 48\n",
       "\\item[Aggression] 48\n",
       "\\item[Interceptions] 48\n",
       "\\item[Positioning] 48\n",
       "\\item[Vision] 48\n",
       "\\item[Penalties] 48\n",
       "\\item[Composure] 48\n",
       "\\item[Marking] 48\n",
       "\\item[StandingTackle] 48\n",
       "\\item[SlidingTackle] 48\n",
       "\\item[GKDiving] 48\n",
       "\\item[GKHandling] 48\n",
       "\\item[GKKicking] 48\n",
       "\\item[GKPositioning] 48\n",
       "\\item[GKReflexes] 48\n",
       "\\item[Release.Clause] 0\n",
       "\\item[Preferred.Foot.Left] 0\n",
       "\\item[Preferred.Foot.Right] 0\n",
       "\\end{description*}\n"
      ],
      "text/markdown": [
       "Name\n",
       ":   0Age\n",
       ":   0Nationality\n",
       ":   0Overall\n",
       ":   0Potential\n",
       ":   0Club\n",
       ":   241Value\n",
       ":   0Wage\n",
       ":   0Special\n",
       ":   0Preferred.Foot\n",
       ":   48International.Reputation\n",
       ":   48Weak.Foot\n",
       ":   48Skill.Moves\n",
       ":   48Work.Rate\n",
       ":   48Body.Type\n",
       ":   48Real.Face\n",
       ":   48Position\n",
       ":   60Jersey.Number\n",
       ":   60Joined\n",
       ":   1553Loaned.From\n",
       ":   16943Contract.Valid.Until\n",
       ":   289Height\n",
       ":   48Weight\n",
       ":   48Crossing\n",
       ":   48Finishing\n",
       ":   48HeadingAccuracy\n",
       ":   48ShortPassing\n",
       ":   48Volleys\n",
       ":   48Dribbling\n",
       ":   48Curve\n",
       ":   48FKAccuracy\n",
       ":   48LongPassing\n",
       ":   48BallControl\n",
       ":   48Acceleration\n",
       ":   48SprintSpeed\n",
       ":   48Agility\n",
       ":   48Reactions\n",
       ":   48Balance\n",
       ":   48ShotPower\n",
       ":   48Jumping\n",
       ":   48Stamina\n",
       ":   48Strength\n",
       ":   48LongShots\n",
       ":   48Aggression\n",
       ":   48Interceptions\n",
       ":   48Positioning\n",
       ":   48Vision\n",
       ":   48Penalties\n",
       ":   48Composure\n",
       ":   48Marking\n",
       ":   48StandingTackle\n",
       ":   48SlidingTackle\n",
       ":   48GKDiving\n",
       ":   48GKHandling\n",
       ":   48GKKicking\n",
       ":   48GKPositioning\n",
       ":   48GKReflexes\n",
       ":   48Release.Clause\n",
       ":   0Preferred.Foot.Left\n",
       ":   0Preferred.Foot.Right\n",
       ":   0\n",
       "\n"
      ],
      "text/plain": [
       "                    Name                      Age              Nationality \n",
       "                       0                        0                        0 \n",
       "                 Overall                Potential                     Club \n",
       "                       0                        0                      241 \n",
       "                   Value                     Wage                  Special \n",
       "                       0                        0                        0 \n",
       "          Preferred.Foot International.Reputation                Weak.Foot \n",
       "                      48                       48                       48 \n",
       "             Skill.Moves                Work.Rate                Body.Type \n",
       "                      48                       48                       48 \n",
       "               Real.Face                 Position            Jersey.Number \n",
       "                      48                       60                       60 \n",
       "                  Joined              Loaned.From     Contract.Valid.Until \n",
       "                    1553                    16943                      289 \n",
       "                  Height                   Weight                 Crossing \n",
       "                      48                       48                       48 \n",
       "               Finishing          HeadingAccuracy             ShortPassing \n",
       "                      48                       48                       48 \n",
       "                 Volleys                Dribbling                    Curve \n",
       "                      48                       48                       48 \n",
       "              FKAccuracy              LongPassing              BallControl \n",
       "                      48                       48                       48 \n",
       "            Acceleration              SprintSpeed                  Agility \n",
       "                      48                       48                       48 \n",
       "               Reactions                  Balance                ShotPower \n",
       "                      48                       48                       48 \n",
       "                 Jumping                  Stamina                 Strength \n",
       "                      48                       48                       48 \n",
       "               LongShots               Aggression            Interceptions \n",
       "                      48                       48                       48 \n",
       "             Positioning                   Vision                Penalties \n",
       "                      48                       48                       48 \n",
       "               Composure                  Marking           StandingTackle \n",
       "                      48                       48                       48 \n",
       "           SlidingTackle                 GKDiving               GKHandling \n",
       "                      48                       48                       48 \n",
       "               GKKicking            GKPositioning               GKReflexes \n",
       "                      48                       48                       48 \n",
       "          Release.Clause      Preferred.Foot.Left     Preferred.Foot.Right \n",
       "                       0                        0                        0 "
      ]
     },
     "metadata": {},
     "output_type": "display_data"
    }
   ],
   "source": [
    "## nueva línea para Cantidad de valores $0\n",
    "colSums(is.na(fifaClean))"
   ]
  },
  {
   "cell_type": "code",
   "execution_count": 15,
   "metadata": {},
   "outputs": [
    {
     "data": {
      "text/html": [
       "<table>\n",
       "<thead><tr><th scope=col>Name</th><th scope=col>Age</th><th scope=col>Nationality</th><th scope=col>Overall</th><th scope=col>Potential</th><th scope=col>Club</th><th scope=col>Value</th><th scope=col>Wage</th><th scope=col>Special</th><th scope=col>Preferred.Foot</th><th scope=col>...</th><th scope=col>StandingTackle</th><th scope=col>SlidingTackle</th><th scope=col>GKDiving</th><th scope=col>GKHandling</th><th scope=col>GKKicking</th><th scope=col>GKPositioning</th><th scope=col>GKReflexes</th><th scope=col>Release.Clause</th><th scope=col>Preferred.Foot.Left</th><th scope=col>Preferred.Foot.Right</th></tr></thead>\n",
       "<tbody>\n",
       "\t<tr><td>L. Messi           </td><td>31                 </td><td>Argentina          </td><td>94                 </td><td>94                 </td><td>FC Barcelona       </td><td>110500000          </td><td>565000             </td><td>2202               </td><td>Left               </td><td>...                </td><td>28                 </td><td>26                 </td><td> 6                 </td><td>11                 </td><td>15                 </td><td>14                 </td><td> 8                 </td><td>226500000          </td><td>1                  </td><td>0                  </td></tr>\n",
       "\t<tr><td>Cristiano Ronaldo  </td><td>33                 </td><td>Portugal           </td><td>94                 </td><td>94                 </td><td>Juventus           </td><td> 77000000          </td><td>405000             </td><td>2228               </td><td>Right              </td><td>...                </td><td>31                 </td><td>23                 </td><td> 7                 </td><td>11                 </td><td>15                 </td><td>14                 </td><td>11                 </td><td>127100000          </td><td>0                  </td><td>1                  </td></tr>\n",
       "\t<tr><td>Neymar Jr          </td><td>26                 </td><td>Brazil             </td><td>92                 </td><td>93                 </td><td>Paris Saint-Germain</td><td>118500000          </td><td>290000             </td><td>2143               </td><td>Right              </td><td>...                </td><td>24                 </td><td>33                 </td><td> 9                 </td><td> 9                 </td><td>15                 </td><td>15                 </td><td>11                 </td><td>228100000          </td><td>0                  </td><td>1                  </td></tr>\n",
       "\t<tr><td>De Gea             </td><td>27                 </td><td>Spain              </td><td>91                 </td><td>93                 </td><td>Manchester United  </td><td> 72000000          </td><td>260000             </td><td>1471               </td><td>Right              </td><td>...                </td><td>21                 </td><td>13                 </td><td>90                 </td><td>85                 </td><td>87                 </td><td>88                 </td><td>94                 </td><td>138600000          </td><td>0                  </td><td>1                  </td></tr>\n",
       "\t<tr><td>K. De Bruyne       </td><td>27                 </td><td>Belgium            </td><td>91                 </td><td>92                 </td><td>Manchester City    </td><td>102000000          </td><td>355000             </td><td>2281               </td><td>Right              </td><td>...                </td><td>58                 </td><td>51                 </td><td>15                 </td><td>13                 </td><td> 5                 </td><td>10                 </td><td>13                 </td><td>196400000          </td><td>0                  </td><td>1                  </td></tr>\n",
       "\t<tr><td>E. Hazard          </td><td>27                 </td><td>Belgium            </td><td>91                 </td><td>91                 </td><td>Chelsea            </td><td> 93000000          </td><td>340000             </td><td>2142               </td><td>Right              </td><td>...                </td><td>27                 </td><td>22                 </td><td>11                 </td><td>12                 </td><td> 6                 </td><td> 8                 </td><td> 8                 </td><td>172100000          </td><td>0                  </td><td>1                  </td></tr>\n",
       "\t<tr><td>L. Modric          </td><td>32                 </td><td>Croatia            </td><td>91                 </td><td>91                 </td><td>Real Madrid        </td><td> 67000000          </td><td>420000             </td><td>2280               </td><td>Right              </td><td>...                </td><td>76                 </td><td>73                 </td><td>13                 </td><td> 9                 </td><td> 7                 </td><td>14                 </td><td> 9                 </td><td>137400000          </td><td>0                  </td><td>1                  </td></tr>\n",
       "\t<tr><td>L. Suárez          </td><td>31                 </td><td>Uruguay            </td><td>91                 </td><td>91                 </td><td>FC Barcelona       </td><td> 80000000          </td><td>455000             </td><td>2346               </td><td>Right              </td><td>...                </td><td>45                 </td><td>38                 </td><td>27                 </td><td>25                 </td><td>31                 </td><td>33                 </td><td>37                 </td><td>164000000          </td><td>0                  </td><td>1                  </td></tr>\n",
       "\t<tr><td>Sergio Ramos       </td><td>32                 </td><td>Spain              </td><td>91                 </td><td>91                 </td><td>Real Madrid        </td><td> 51000000          </td><td>380000             </td><td>2201               </td><td>Right              </td><td>...                </td><td>92                 </td><td>91                 </td><td>11                 </td><td> 8                 </td><td> 9                 </td><td> 7                 </td><td>11                 </td><td>104600000          </td><td>0                  </td><td>1                  </td></tr>\n",
       "\t<tr><td>J. Oblak           </td><td>25                 </td><td>Slovenia           </td><td>90                 </td><td>93                 </td><td>Atlético Madrid    </td><td> 68000000          </td><td> 94000             </td><td>1331               </td><td>Right              </td><td>...                </td><td>12                 </td><td>18                 </td><td>86                 </td><td>92                 </td><td>78                 </td><td>88                 </td><td>89                 </td><td>144500000          </td><td>0                  </td><td>1                  </td></tr>\n",
       "\t<tr><td>R. Lewandowski     </td><td>29                 </td><td>Poland             </td><td>90                 </td><td>90                 </td><td>FC Bayern München  </td><td> 77000000          </td><td>205000             </td><td>2152               </td><td>Right              </td><td>...                </td><td>42                 </td><td>19                 </td><td>15                 </td><td> 6                 </td><td>12                 </td><td> 8                 </td><td>10                 </td><td>127100000          </td><td>0                  </td><td>1                  </td></tr>\n",
       "\t<tr><td>T. Kroos           </td><td>28                 </td><td>Germany            </td><td>90                 </td><td>90                 </td><td>Real Madrid        </td><td> 76500000          </td><td>355000             </td><td>2190               </td><td>Right              </td><td>...                </td><td>79                 </td><td>69                 </td><td>10                 </td><td>11                 </td><td>13                 </td><td> 7                 </td><td>10                 </td><td>156800000          </td><td>0                  </td><td>1                  </td></tr>\n",
       "\t<tr><td>D. Godín           </td><td>32                 </td><td>Uruguay            </td><td>90                 </td><td>90                 </td><td>Atlético Madrid    </td><td> 44000000          </td><td>125000             </td><td>1946               </td><td>Right              </td><td>...                </td><td>89                 </td><td>89                 </td><td> 6                 </td><td> 8                 </td><td>15                 </td><td> 5                 </td><td>15                 </td><td> 90200000          </td><td>0                  </td><td>1                  </td></tr>\n",
       "\t<tr><td>David Silva        </td><td>32                 </td><td>Spain              </td><td>90                 </td><td>90                 </td><td>Manchester City    </td><td> 60000000          </td><td>285000             </td><td>2115               </td><td>Left               </td><td>...                </td><td>53                 </td><td>29                 </td><td> 6                 </td><td>15                 </td><td> 7                 </td><td> 6                 </td><td>12                 </td><td>111000000          </td><td>1                  </td><td>0                  </td></tr>\n",
       "\t<tr><td>N. Kanté           </td><td>27                 </td><td>France             </td><td>89                 </td><td>90                 </td><td>Chelsea            </td><td> 63000000          </td><td>225000             </td><td>2189               </td><td>Right              </td><td>...                </td><td>91                 </td><td>85                 </td><td>15                 </td><td>12                 </td><td>10                 </td><td> 7                 </td><td>10                 </td><td>121300000          </td><td>0                  </td><td>1                  </td></tr>\n",
       "\t<tr><td>P. Dybala          </td><td>24                 </td><td>Argentina          </td><td>89                 </td><td>94                 </td><td>Juventus           </td><td> 89000000          </td><td>205000             </td><td>2092               </td><td>Left               </td><td>...                </td><td>20                 </td><td>20                 </td><td> 5                 </td><td> 4                 </td><td> 4                 </td><td> 5                 </td><td> 8                 </td><td>153500000          </td><td>1                  </td><td>0                  </td></tr>\n",
       "\t<tr><td>H. Kane            </td><td>24                 </td><td>England            </td><td>89                 </td><td>91                 </td><td>Tottenham Hotspur  </td><td> 83500000          </td><td>205000             </td><td>2165               </td><td>Right              </td><td>...                </td><td>36                 </td><td>38                 </td><td> 8                 </td><td>10                 </td><td>11                 </td><td>14                 </td><td>11                 </td><td>160700000          </td><td>0                  </td><td>1                  </td></tr>\n",
       "\t<tr><td>A. Griezmann       </td><td>27                 </td><td>France             </td><td>89                 </td><td>90                 </td><td>Atlético Madrid    </td><td> 78000000          </td><td>145000             </td><td>2246               </td><td>Left               </td><td>...                </td><td>47                 </td><td>48                 </td><td>14                 </td><td> 8                 </td><td>14                 </td><td>13                 </td><td>14                 </td><td>165800000          </td><td>1                  </td><td>0                  </td></tr>\n",
       "\t<tr><td>M. ter Stegen      </td><td>26                 </td><td>Germany            </td><td>89                 </td><td>92                 </td><td>FC Barcelona       </td><td> 58000000          </td><td>240000             </td><td>1328               </td><td>Right              </td><td>...                </td><td>13                 </td><td>10                 </td><td>87                 </td><td>85                 </td><td>88                 </td><td>85                 </td><td>90                 </td><td>123300000          </td><td>0                  </td><td>1                  </td></tr>\n",
       "\t<tr><td>T. Courtois        </td><td>26                 </td><td>Belgium            </td><td>89                 </td><td>90                 </td><td>Real Madrid        </td><td> 53500000          </td><td>240000             </td><td>1311               </td><td>Left               </td><td>...                </td><td>18                 </td><td>16                 </td><td>85                 </td><td>91                 </td><td>72                 </td><td>86                 </td><td>88                 </td><td>113700000          </td><td>1                  </td><td>0                  </td></tr>\n",
       "\t<tr><td>Sergio Busquets    </td><td>29                 </td><td>Spain              </td><td>89                 </td><td>89                 </td><td>FC Barcelona       </td><td> 51500000          </td><td>315000             </td><td>2065               </td><td>Right              </td><td>...                </td><td>86                 </td><td>80                 </td><td> 5                 </td><td> 8                 </td><td>13                 </td><td> 9                 </td><td>13                 </td><td>105600000          </td><td>0                  </td><td>1                  </td></tr>\n",
       "\t<tr><td>E. Cavani          </td><td>31                 </td><td>Uruguay            </td><td>89                 </td><td>89                 </td><td>Paris Saint-Germain</td><td> 60000000          </td><td>200000             </td><td>2161               </td><td>Right              </td><td>...                </td><td>45                 </td><td>39                 </td><td>12                 </td><td> 5                 </td><td>13                 </td><td>13                 </td><td>10                 </td><td>111000000          </td><td>0                  </td><td>1                  </td></tr>\n",
       "\t<tr><td>M. Neuer           </td><td>32                 </td><td>Germany            </td><td>89                 </td><td>89                 </td><td>FC Bayern München  </td><td> 38000000          </td><td>130000             </td><td>1473               </td><td>Right              </td><td>...                </td><td>10                 </td><td>11                 </td><td>90                 </td><td>86                 </td><td>91                 </td><td>87                 </td><td>87                 </td><td> 62700000          </td><td>0                  </td><td>1                  </td></tr>\n",
       "\t<tr><td>S. Agüero          </td><td>30                 </td><td>Argentina          </td><td>89                 </td><td>89                 </td><td>Manchester City    </td><td> 64500000          </td><td>300000             </td><td>2107               </td><td>Right              </td><td>...                </td><td>20                 </td><td>12                 </td><td>13                 </td><td>15                 </td><td> 6                 </td><td>11                 </td><td>14                 </td><td>119300000          </td><td>0                  </td><td>1                  </td></tr>\n",
       "\t<tr><td>G. Chiellini       </td><td>33                 </td><td>Italy              </td><td>89                 </td><td>89                 </td><td>Juventus           </td><td> 27000000          </td><td>215000             </td><td>1841               </td><td>Left               </td><td>...                </td><td>93                 </td><td>90                 </td><td> 3                 </td><td> 3                 </td><td> 2                 </td><td> 4                 </td><td> 3                 </td><td> 44600000          </td><td>1                  </td><td>0                  </td></tr>\n",
       "\t<tr><td>K. Mbappé          </td><td>19                 </td><td>France             </td><td>88                 </td><td>95                 </td><td>Paris Saint-Germain</td><td> 81000000          </td><td>100000             </td><td>2118               </td><td>Right              </td><td>...                </td><td>34                 </td><td>32                 </td><td>13                 </td><td> 5                 </td><td> 7                 </td><td>11                 </td><td> 6                 </td><td>166100000          </td><td>0                  </td><td>1                  </td></tr>\n",
       "\t<tr><td>M. Salah           </td><td>26                 </td><td>Egypt              </td><td>88                 </td><td>89                 </td><td>Liverpool          </td><td> 69500000          </td><td>255000             </td><td>2146               </td><td>Left               </td><td>...                </td><td>43                 </td><td>41                 </td><td>14                 </td><td>14                 </td><td> 9                 </td><td>11                 </td><td>14                 </td><td>137300000          </td><td>1                  </td><td>0                  </td></tr>\n",
       "\t<tr><td>Casemiro           </td><td>26                 </td><td>Brazil             </td><td>88                 </td><td>90                 </td><td>Real Madrid        </td><td> 59500000          </td><td>285000             </td><td>2170               </td><td>Right              </td><td>...                </td><td>90                 </td><td>87                 </td><td>13                 </td><td>14                 </td><td>16                 </td><td>12                 </td><td>12                 </td><td>126400000          </td><td>0                  </td><td>1                  </td></tr>\n",
       "\t<tr><td>J. Rodríguez       </td><td>26                 </td><td>Colombia           </td><td>88                 </td><td>89                 </td><td>FC Bayern München  </td><td> 69500000          </td><td>315000             </td><td>2171               </td><td>Left               </td><td>...                </td><td>41                 </td><td>44                 </td><td>15                 </td><td>15                 </td><td>15                 </td><td> 5                 </td><td>14                 </td><td>        0          </td><td>1                  </td><td>0                  </td></tr>\n",
       "\t<tr><td>L. Insigne         </td><td>27                 </td><td>Italy              </td><td>88                 </td><td>88                 </td><td>Napoli             </td><td> 62000000          </td><td>165000             </td><td>2017               </td><td>Right              </td><td>...                </td><td>24                 </td><td>22                 </td><td> 8                 </td><td> 4                 </td><td>14                 </td><td> 9                 </td><td>10                 </td><td>105400000          </td><td>0                  </td><td>1                  </td></tr>\n",
       "\t<tr><td>...</td><td>...</td><td>...</td><td>...</td><td>...</td><td>...</td><td>...</td><td>...</td><td>...</td><td>...</td><td>   </td><td>...</td><td>...</td><td>...</td><td>...</td><td>...</td><td>...</td><td>...</td><td>...</td><td>...</td><td>...</td></tr>\n",
       "\t<tr><td>R. Roache             </td><td>18                    </td><td>Republic of Ireland   </td><td>48                    </td><td>69                    </td><td>Blackpool             </td><td>70000                 </td><td>1000                  </td><td>1178                  </td><td>Right                 </td><td>...                   </td><td>16                    </td><td>11                    </td><td> 6                    </td><td> 9                    </td><td>11                    </td><td> 7                    </td><td>12                    </td><td>193000                </td><td>0                     </td><td>1                     </td></tr>\n",
       "\t<tr><td>L. Wahlstedt          </td><td>18                    </td><td>Sweden                </td><td>48                    </td><td>65                    </td><td>Dalkurd FF            </td><td>50000                 </td><td>1000                  </td><td> 738                  </td><td>Right                 </td><td>...                   </td><td>11                    </td><td>10                    </td><td>47                    </td><td>46                    </td><td>50                    </td><td>45                    </td><td>51                    </td><td> 94000                </td><td>0                     </td><td>1                     </td></tr>\n",
       "\t<tr><td>J. Williams           </td><td>17                    </td><td>England               </td><td>48                    </td><td>64                    </td><td>Northampton Town      </td><td>50000                 </td><td>1000                  </td><td>1166                  </td><td>Right                 </td><td>...                   </td><td>51                    </td><td>49                    </td><td>14                    </td><td>11                    </td><td> 7                    </td><td>11                    </td><td> 8                    </td><td>119000                </td><td>0                     </td><td>1                     </td></tr>\n",
       "\t<tr><td>M. Hurst              </td><td>22                    </td><td>Scotland              </td><td>48                    </td><td>58                    </td><td>St. Johnstone FC      </td><td>40000                 </td><td>1000                  </td><td> 987                  </td><td>Right                 </td><td>...                   </td><td>15                    </td><td>16                    </td><td>45                    </td><td>49                    </td><td>50                    </td><td>50                    </td><td>45                    </td><td> 78000                </td><td>0                     </td><td>1                     </td></tr>\n",
       "\t<tr><td>C. Maher              </td><td>17                    </td><td>Republic of Ireland   </td><td>48                    </td><td>66                    </td><td>Bray Wanderers        </td><td>50000                 </td><td>1000                  </td><td>1296                  </td><td>Right                 </td><td>...                   </td><td>49                    </td><td>45                    </td><td> 8                    </td><td>10                    </td><td>12                    </td><td> 9                    </td><td>10                    </td><td>109000                </td><td>0                     </td><td>1                     </td></tr>\n",
       "\t<tr><td>Y. Góez               </td><td>18                    </td><td>Colombia              </td><td>48                    </td><td>65                    </td><td>Atlético Nacional     </td><td>50000                 </td><td>1000                  </td><td>1311                  </td><td>Right                 </td><td>...                   </td><td>42                    </td><td>46                    </td><td> 9                    </td><td>15                    </td><td>15                    </td><td> 8                    </td><td> 6                    </td><td>101000                </td><td>0                     </td><td>1                     </td></tr>\n",
       "\t<tr><td>K. Pilkington         </td><td>44                    </td><td>England               </td><td>48                    </td><td>48                    </td><td>Cambridge United      </td><td>    0                 </td><td>1000                  </td><td> 774                  </td><td>Right                 </td><td>...                   </td><td>15                    </td><td>13                    </td><td>45                    </td><td>48                    </td><td>44                    </td><td>49                    </td><td>46                    </td><td>     0                </td><td>0                     </td><td>1                     </td></tr>\n",
       "\t<tr><td>D. Horton             </td><td>18                    </td><td>England               </td><td>48                    </td><td>55                    </td><td>Lincoln City          </td><td>40000                 </td><td>1000                  </td><td>1368                  </td><td>Right                 </td><td>...                   </td><td>49                    </td><td>53                    </td><td>12                    </td><td> 5                    </td><td>12                    </td><td>14                    </td><td>15                    </td><td> 78000                </td><td>0                     </td><td>1                     </td></tr>\n",
       "\t<tr><td>E. Tweed              </td><td>19                    </td><td>Republic of Ireland   </td><td>48                    </td><td>59                    </td><td>Derry City            </td><td>50000                 </td><td>1000                  </td><td>1315                  </td><td>Right                 </td><td>...                   </td><td>39                    </td><td>48                    </td><td> 6                    </td><td>11                    </td><td> 9                    </td><td> 5                    </td><td> 8                    </td><td> 88000                </td><td>0                     </td><td>1                     </td></tr>\n",
       "\t<tr><td>Zhang Yufeng          </td><td>20                    </td><td>China PR              </td><td>47                    </td><td>64                    </td><td>Beijing Renhe FC      </td><td>60000                 </td><td>1000                  </td><td>1389                  </td><td>Right                 </td><td>...                   </td><td>41                    </td><td>51                    </td><td>15                    </td><td> 7                    </td><td>14                    </td><td> 6                    </td><td> 8                    </td><td>167000                </td><td>0                     </td><td>1                     </td></tr>\n",
       "\t<tr><td>C. Ehlich             </td><td>19                    </td><td>Germany               </td><td>47                    </td><td>59                    </td><td>SpVgg Unterhaching    </td><td>40000                 </td><td>1000                  </td><td>1366                  </td><td>Right                 </td><td>...                   </td><td>42                    </td><td>42                    </td><td>13                    </td><td>12                    </td><td>11                    </td><td>15                    </td><td>12                    </td><td> 66000                </td><td>0                     </td><td>1                     </td></tr>\n",
       "\t<tr><td>L. Collins            </td><td>17                    </td><td>Wales                 </td><td>47                    </td><td>62                    </td><td>Newport County        </td><td>60000                 </td><td>1000                  </td><td>1297                  </td><td>Right                 </td><td>...                   </td><td>38                    </td><td>41                    </td><td> 5                    </td><td>12                    </td><td> 8                    </td><td>13                    </td><td>10                    </td><td>143000                </td><td>0                     </td><td>1                     </td></tr>\n",
       "\t<tr><td>A. Kaltner            </td><td>18                    </td><td>Germany               </td><td>47                    </td><td>61                    </td><td>SpVgg Unterhaching    </td><td>60000                 </td><td>1000                  </td><td>1290                  </td><td>Right                 </td><td>...                   </td><td>15                    </td><td>22                    </td><td>15                    </td><td> 5                    </td><td>14                    </td><td>12                    </td><td> 8                    </td><td>125000                </td><td>0                     </td><td>1                     </td></tr>\n",
       "\t<tr><td>L. Watkins            </td><td>18                    </td><td>England               </td><td>47                    </td><td>67                    </td><td>Cambridge United      </td><td>60000                 </td><td>1000                  </td><td>1285                  </td><td>Right                 </td><td>...                   </td><td>44                    </td><td>47                    </td><td>13                    </td><td> 7                    </td><td>14                    </td><td>10                    </td><td> 8                    </td><td>165000                </td><td>0                     </td><td>1                     </td></tr>\n",
       "\t<tr><td>J. Norville-Williams  </td><td>18                    </td><td>England               </td><td>47                    </td><td>65                    </td><td>Cambridge United      </td><td>50000                 </td><td>1000                  </td><td>1250                  </td><td>Left                  </td><td>...                   </td><td>42                    </td><td>46                    </td><td>15                    </td><td>13                    </td><td> 6                    </td><td>14                    </td><td>12                    </td><td>119000                </td><td>1                     </td><td>0                     </td></tr>\n",
       "\t<tr><td>S. Squire             </td><td>18                    </td><td>England               </td><td>47                    </td><td>64                    </td><td>Cambridge United      </td><td>50000                 </td><td>1000                  </td><td>1325                  </td><td>Right                 </td><td>...                   </td><td>41                    </td><td>44                    </td><td>11                    </td><td>11                    </td><td> 8                    </td><td>12                    </td><td>13                    </td><td>119000                </td><td>0                     </td><td>1                     </td></tr>\n",
       "\t<tr><td>N. Fuentes            </td><td>18                    </td><td>Chile                 </td><td>47                    </td><td>64                    </td><td>Unión Española        </td><td>50000                 </td><td>1000                  </td><td>1191                  </td><td>Right                 </td><td>...                   </td><td>48                    </td><td>48                    </td><td> 6                    </td><td>10                    </td><td> 6                    </td><td>12                    </td><td>11                    </td><td> 99000                </td><td>0                     </td><td>1                     </td></tr>\n",
       "\t<tr><td>J. Milli              </td><td>18                    </td><td>Italy                 </td><td>47                    </td><td>65                    </td><td>Lecce                 </td><td>50000                 </td><td>1000                  </td><td> 731                  </td><td>Right                 </td><td>...                   </td><td>10                    </td><td>11                    </td><td>52                    </td><td>52                    </td><td>52                    </td><td>40                    </td><td>44                    </td><td>109000                </td><td>0                     </td><td>1                     </td></tr>\n",
       "\t<tr><td>S. Griffin            </td><td>18                    </td><td>Republic of Ireland   </td><td>47                    </td><td>67                    </td><td>Waterford FC          </td><td>60000                 </td><td>1000                  </td><td>1325                  </td><td>Right                 </td><td>...                   </td><td>37                    </td><td>48                    </td><td>13                    </td><td>14                    </td><td>12                    </td><td> 7                    </td><td>13                    </td><td>153000                </td><td>0                     </td><td>1                     </td></tr>\n",
       "\t<tr><td>K. Fujikawa           </td><td>19                    </td><td>Japan                 </td><td>47                    </td><td>61                    </td><td>Júbilo Iwata          </td><td>60000                 </td><td>1000                  </td><td>1333                  </td><td>Right                 </td><td>...                   </td><td>44                    </td><td>54                    </td><td>10                    </td><td>12                    </td><td> 6                    </td><td>11                    </td><td> 8                    </td><td>113000                </td><td>0                     </td><td>1                     </td></tr>\n",
       "\t<tr><td>D. Holland            </td><td>18                    </td><td>Republic of Ireland   </td><td>47                    </td><td>61                    </td><td>Cork City             </td><td>60000                 </td><td>1000                  </td><td>1362                  </td><td>Right                 </td><td>...                   </td><td>47                    </td><td>38                    </td><td>13                    </td><td> 6                    </td><td> 9                    </td><td>10                    </td><td>15                    </td><td> 88000                </td><td>0                     </td><td>1                     </td></tr>\n",
       "\t<tr><td>J. Livesey            </td><td>18                    </td><td>England               </td><td>47                    </td><td>70                    </td><td>Burton Albion         </td><td>60000                 </td><td>1000                  </td><td> 792                  </td><td>Right                 </td><td>...                   </td><td>11                    </td><td>13                    </td><td>46                    </td><td>52                    </td><td>58                    </td><td>42                    </td><td>48                    </td><td>165000                </td><td>0                     </td><td>1                     </td></tr>\n",
       "\t<tr><td>M. Baldisimo          </td><td>18                    </td><td>Canada                </td><td>47                    </td><td>69                    </td><td>Vancouver Whitecaps FC</td><td>70000                 </td><td>1000                  </td><td>1303                  </td><td>Right                 </td><td>...                   </td><td>49                    </td><td>49                    </td><td> 7                    </td><td> 7                    </td><td> 9                    </td><td>14                    </td><td>15                    </td><td>175000                </td><td>0                     </td><td>1                     </td></tr>\n",
       "\t<tr><td>J. Young              </td><td>18                    </td><td>Scotland              </td><td>47                    </td><td>62                    </td><td>Swindon Town          </td><td>60000                 </td><td>1000                  </td><td>1203                  </td><td>Left                  </td><td>...                   </td><td>17                    </td><td>14                    </td><td>11                    </td><td>15                    </td><td>12                    </td><td>12                    </td><td>11                    </td><td>143000                </td><td>1                     </td><td>0                     </td></tr>\n",
       "\t<tr><td>D. Walsh              </td><td>18                    </td><td>Republic of Ireland   </td><td>47                    </td><td>68                    </td><td>Waterford FC          </td><td>60000                 </td><td>1000                  </td><td>1098                  </td><td>Left                  </td><td>...                   </td><td>47                    </td><td>53                    </td><td> 9                    </td><td>10                    </td><td> 9                    </td><td>11                    </td><td>13                    </td><td>153000                </td><td>1                     </td><td>0                     </td></tr>\n",
       "\t<tr><td>J. Lundstram          </td><td>19                    </td><td>England               </td><td>47                    </td><td>65                    </td><td>Crewe Alexandra       </td><td>60000                 </td><td>1000                  </td><td>1307                  </td><td>Right                 </td><td>...                   </td><td>48                    </td><td>47                    </td><td>10                    </td><td>13                    </td><td> 7                    </td><td> 8                    </td><td> 9                    </td><td>143000                </td><td>0                     </td><td>1                     </td></tr>\n",
       "\t<tr><td>N. Christoffersson    </td><td>19                    </td><td>Sweden                </td><td>47                    </td><td>63                    </td><td>Trelleborgs FF        </td><td>60000                 </td><td>1000                  </td><td>1098                  </td><td>Right                 </td><td>...                   </td><td>15                    </td><td>19                    </td><td>10                    </td><td> 9                    </td><td> 9                    </td><td> 5                    </td><td>12                    </td><td>113000                </td><td>0                     </td><td>1                     </td></tr>\n",
       "\t<tr><td>B. Worman             </td><td>16                    </td><td>England               </td><td>47                    </td><td>67                    </td><td>Cambridge United      </td><td>60000                 </td><td>1000                  </td><td>1189                  </td><td>Right                 </td><td>...                   </td><td>13                    </td><td>11                    </td><td> 6                    </td><td> 5                    </td><td>10                    </td><td> 6                    </td><td>13                    </td><td>165000                </td><td>0                     </td><td>1                     </td></tr>\n",
       "\t<tr><td>D. Walker-Rice        </td><td>17                    </td><td>England               </td><td>47                    </td><td>66                    </td><td>Tranmere Rovers       </td><td>60000                 </td><td>1000                  </td><td>1228                  </td><td>Right                 </td><td>...                   </td><td>25                    </td><td>27                    </td><td>14                    </td><td> 6                    </td><td>14                    </td><td> 8                    </td><td> 9                    </td><td>143000                </td><td>0                     </td><td>1                     </td></tr>\n",
       "\t<tr><td>G. Nugent             </td><td>16                    </td><td>England               </td><td>46                    </td><td>66                    </td><td>Tranmere Rovers       </td><td>60000                 </td><td>1000                  </td><td>1321                  </td><td>Right                 </td><td>...                   </td><td>43                    </td><td>50                    </td><td>10                    </td><td>15                    </td><td> 9                    </td><td>12                    </td><td> 9                    </td><td>165000                </td><td>0                     </td><td>1                     </td></tr>\n",
       "</tbody>\n",
       "</table>\n"
      ],
      "text/latex": [
       "\\begin{tabular}{r|llllllllllllllllllllllllllllllllllllllllllllllllllllllllllll}\n",
       " Name & Age & Nationality & Overall & Potential & Club & Value & Wage & Special & Preferred.Foot & ... & StandingTackle & SlidingTackle & GKDiving & GKHandling & GKKicking & GKPositioning & GKReflexes & Release.Clause & Preferred.Foot.Left & Preferred.Foot.Right\\\\\n",
       "\\hline\n",
       "\t L. Messi            & 31                  & Argentina           & 94                  & 94                  & FC Barcelona        & 110500000           & 565000              & 2202                & Left                & ...                 & 28                  & 26                  &  6                  & 11                  & 15                  & 14                  &  8                  & 226500000           & 1                   & 0                  \\\\\n",
       "\t Cristiano Ronaldo   & 33                  & Portugal            & 94                  & 94                  & Juventus            &  77000000           & 405000              & 2228                & Right               & ...                 & 31                  & 23                  &  7                  & 11                  & 15                  & 14                  & 11                  & 127100000           & 0                   & 1                  \\\\\n",
       "\t Neymar Jr           & 26                  & Brazil              & 92                  & 93                  & Paris Saint-Germain & 118500000           & 290000              & 2143                & Right               & ...                 & 24                  & 33                  &  9                  &  9                  & 15                  & 15                  & 11                  & 228100000           & 0                   & 1                  \\\\\n",
       "\t De Gea              & 27                  & Spain               & 91                  & 93                  & Manchester United   &  72000000           & 260000              & 1471                & Right               & ...                 & 21                  & 13                  & 90                  & 85                  & 87                  & 88                  & 94                  & 138600000           & 0                   & 1                  \\\\\n",
       "\t K. De Bruyne        & 27                  & Belgium             & 91                  & 92                  & Manchester City     & 102000000           & 355000              & 2281                & Right               & ...                 & 58                  & 51                  & 15                  & 13                  &  5                  & 10                  & 13                  & 196400000           & 0                   & 1                  \\\\\n",
       "\t E. Hazard           & 27                  & Belgium             & 91                  & 91                  & Chelsea             &  93000000           & 340000              & 2142                & Right               & ...                 & 27                  & 22                  & 11                  & 12                  &  6                  &  8                  &  8                  & 172100000           & 0                   & 1                  \\\\\n",
       "\t L. Modric           & 32                  & Croatia             & 91                  & 91                  & Real Madrid         &  67000000           & 420000              & 2280                & Right               & ...                 & 76                  & 73                  & 13                  &  9                  &  7                  & 14                  &  9                  & 137400000           & 0                   & 1                  \\\\\n",
       "\t L. Suárez           & 31                  & Uruguay             & 91                  & 91                  & FC Barcelona        &  80000000           & 455000              & 2346                & Right               & ...                 & 45                  & 38                  & 27                  & 25                  & 31                  & 33                  & 37                  & 164000000           & 0                   & 1                  \\\\\n",
       "\t Sergio Ramos        & 32                  & Spain               & 91                  & 91                  & Real Madrid         &  51000000           & 380000              & 2201                & Right               & ...                 & 92                  & 91                  & 11                  &  8                  &  9                  &  7                  & 11                  & 104600000           & 0                   & 1                  \\\\\n",
       "\t J. Oblak            & 25                  & Slovenia            & 90                  & 93                  & Atlético Madrid     &  68000000           &  94000              & 1331                & Right               & ...                 & 12                  & 18                  & 86                  & 92                  & 78                  & 88                  & 89                  & 144500000           & 0                   & 1                  \\\\\n",
       "\t R. Lewandowski      & 29                  & Poland              & 90                  & 90                  & FC Bayern München   &  77000000           & 205000              & 2152                & Right               & ...                 & 42                  & 19                  & 15                  &  6                  & 12                  &  8                  & 10                  & 127100000           & 0                   & 1                  \\\\\n",
       "\t T. Kroos            & 28                  & Germany             & 90                  & 90                  & Real Madrid         &  76500000           & 355000              & 2190                & Right               & ...                 & 79                  & 69                  & 10                  & 11                  & 13                  &  7                  & 10                  & 156800000           & 0                   & 1                  \\\\\n",
       "\t D. Godín            & 32                  & Uruguay             & 90                  & 90                  & Atlético Madrid     &  44000000           & 125000              & 1946                & Right               & ...                 & 89                  & 89                  &  6                  &  8                  & 15                  &  5                  & 15                  &  90200000           & 0                   & 1                  \\\\\n",
       "\t David Silva         & 32                  & Spain               & 90                  & 90                  & Manchester City     &  60000000           & 285000              & 2115                & Left                & ...                 & 53                  & 29                  &  6                  & 15                  &  7                  &  6                  & 12                  & 111000000           & 1                   & 0                  \\\\\n",
       "\t N. Kanté            & 27                  & France              & 89                  & 90                  & Chelsea             &  63000000           & 225000              & 2189                & Right               & ...                 & 91                  & 85                  & 15                  & 12                  & 10                  &  7                  & 10                  & 121300000           & 0                   & 1                  \\\\\n",
       "\t P. Dybala           & 24                  & Argentina           & 89                  & 94                  & Juventus            &  89000000           & 205000              & 2092                & Left                & ...                 & 20                  & 20                  &  5                  &  4                  &  4                  &  5                  &  8                  & 153500000           & 1                   & 0                  \\\\\n",
       "\t H. Kane             & 24                  & England             & 89                  & 91                  & Tottenham Hotspur   &  83500000           & 205000              & 2165                & Right               & ...                 & 36                  & 38                  &  8                  & 10                  & 11                  & 14                  & 11                  & 160700000           & 0                   & 1                  \\\\\n",
       "\t A. Griezmann        & 27                  & France              & 89                  & 90                  & Atlético Madrid     &  78000000           & 145000              & 2246                & Left                & ...                 & 47                  & 48                  & 14                  &  8                  & 14                  & 13                  & 14                  & 165800000           & 1                   & 0                  \\\\\n",
       "\t M. ter Stegen       & 26                  & Germany             & 89                  & 92                  & FC Barcelona        &  58000000           & 240000              & 1328                & Right               & ...                 & 13                  & 10                  & 87                  & 85                  & 88                  & 85                  & 90                  & 123300000           & 0                   & 1                  \\\\\n",
       "\t T. Courtois         & 26                  & Belgium             & 89                  & 90                  & Real Madrid         &  53500000           & 240000              & 1311                & Left                & ...                 & 18                  & 16                  & 85                  & 91                  & 72                  & 86                  & 88                  & 113700000           & 1                   & 0                  \\\\\n",
       "\t Sergio Busquets     & 29                  & Spain               & 89                  & 89                  & FC Barcelona        &  51500000           & 315000              & 2065                & Right               & ...                 & 86                  & 80                  &  5                  &  8                  & 13                  &  9                  & 13                  & 105600000           & 0                   & 1                  \\\\\n",
       "\t E. Cavani           & 31                  & Uruguay             & 89                  & 89                  & Paris Saint-Germain &  60000000           & 200000              & 2161                & Right               & ...                 & 45                  & 39                  & 12                  &  5                  & 13                  & 13                  & 10                  & 111000000           & 0                   & 1                  \\\\\n",
       "\t M. Neuer            & 32                  & Germany             & 89                  & 89                  & FC Bayern München   &  38000000           & 130000              & 1473                & Right               & ...                 & 10                  & 11                  & 90                  & 86                  & 91                  & 87                  & 87                  &  62700000           & 0                   & 1                  \\\\\n",
       "\t S. Agüero           & 30                  & Argentina           & 89                  & 89                  & Manchester City     &  64500000           & 300000              & 2107                & Right               & ...                 & 20                  & 12                  & 13                  & 15                  &  6                  & 11                  & 14                  & 119300000           & 0                   & 1                  \\\\\n",
       "\t G. Chiellini        & 33                  & Italy               & 89                  & 89                  & Juventus            &  27000000           & 215000              & 1841                & Left                & ...                 & 93                  & 90                  &  3                  &  3                  &  2                  &  4                  &  3                  &  44600000           & 1                   & 0                  \\\\\n",
       "\t K. Mbappé           & 19                  & France              & 88                  & 95                  & Paris Saint-Germain &  81000000           & 100000              & 2118                & Right               & ...                 & 34                  & 32                  & 13                  &  5                  &  7                  & 11                  &  6                  & 166100000           & 0                   & 1                  \\\\\n",
       "\t M. Salah            & 26                  & Egypt               & 88                  & 89                  & Liverpool           &  69500000           & 255000              & 2146                & Left                & ...                 & 43                  & 41                  & 14                  & 14                  &  9                  & 11                  & 14                  & 137300000           & 1                   & 0                  \\\\\n",
       "\t Casemiro            & 26                  & Brazil              & 88                  & 90                  & Real Madrid         &  59500000           & 285000              & 2170                & Right               & ...                 & 90                  & 87                  & 13                  & 14                  & 16                  & 12                  & 12                  & 126400000           & 0                   & 1                  \\\\\n",
       "\t J. Rodríguez        & 26                  & Colombia            & 88                  & 89                  & FC Bayern München   &  69500000           & 315000              & 2171                & Left                & ...                 & 41                  & 44                  & 15                  & 15                  & 15                  &  5                  & 14                  &         0           & 1                   & 0                  \\\\\n",
       "\t L. Insigne          & 27                  & Italy               & 88                  & 88                  & Napoli              &  62000000           & 165000              & 2017                & Right               & ...                 & 24                  & 22                  &  8                  &  4                  & 14                  &  9                  & 10                  & 105400000           & 0                   & 1                  \\\\\n",
       "\t ... & ... & ... & ... & ... & ... & ... & ... & ... & ... &     & ... & ... & ... & ... & ... & ... & ... & ... & ... & ...\\\\\n",
       "\t R. Roache              & 18                     & Republic of Ireland    & 48                     & 69                     & Blackpool              & 70000                  & 1000                   & 1178                   & Right                  & ...                    & 16                     & 11                     &  6                     &  9                     & 11                     &  7                     & 12                     & 193000                 & 0                      & 1                     \\\\\n",
       "\t L. Wahlstedt           & 18                     & Sweden                 & 48                     & 65                     & Dalkurd FF             & 50000                  & 1000                   &  738                   & Right                  & ...                    & 11                     & 10                     & 47                     & 46                     & 50                     & 45                     & 51                     &  94000                 & 0                      & 1                     \\\\\n",
       "\t J. Williams            & 17                     & England                & 48                     & 64                     & Northampton Town       & 50000                  & 1000                   & 1166                   & Right                  & ...                    & 51                     & 49                     & 14                     & 11                     &  7                     & 11                     &  8                     & 119000                 & 0                      & 1                     \\\\\n",
       "\t M. Hurst               & 22                     & Scotland               & 48                     & 58                     & St. Johnstone FC       & 40000                  & 1000                   &  987                   & Right                  & ...                    & 15                     & 16                     & 45                     & 49                     & 50                     & 50                     & 45                     &  78000                 & 0                      & 1                     \\\\\n",
       "\t C. Maher               & 17                     & Republic of Ireland    & 48                     & 66                     & Bray Wanderers         & 50000                  & 1000                   & 1296                   & Right                  & ...                    & 49                     & 45                     &  8                     & 10                     & 12                     &  9                     & 10                     & 109000                 & 0                      & 1                     \\\\\n",
       "\t Y. Góez                & 18                     & Colombia               & 48                     & 65                     & Atlético Nacional      & 50000                  & 1000                   & 1311                   & Right                  & ...                    & 42                     & 46                     &  9                     & 15                     & 15                     &  8                     &  6                     & 101000                 & 0                      & 1                     \\\\\n",
       "\t K. Pilkington          & 44                     & England                & 48                     & 48                     & Cambridge United       &     0                  & 1000                   &  774                   & Right                  & ...                    & 15                     & 13                     & 45                     & 48                     & 44                     & 49                     & 46                     &      0                 & 0                      & 1                     \\\\\n",
       "\t D. Horton              & 18                     & England                & 48                     & 55                     & Lincoln City           & 40000                  & 1000                   & 1368                   & Right                  & ...                    & 49                     & 53                     & 12                     &  5                     & 12                     & 14                     & 15                     &  78000                 & 0                      & 1                     \\\\\n",
       "\t E. Tweed               & 19                     & Republic of Ireland    & 48                     & 59                     & Derry City             & 50000                  & 1000                   & 1315                   & Right                  & ...                    & 39                     & 48                     &  6                     & 11                     &  9                     &  5                     &  8                     &  88000                 & 0                      & 1                     \\\\\n",
       "\t Zhang Yufeng           & 20                     & China PR               & 47                     & 64                     & Beijing Renhe FC       & 60000                  & 1000                   & 1389                   & Right                  & ...                    & 41                     & 51                     & 15                     &  7                     & 14                     &  6                     &  8                     & 167000                 & 0                      & 1                     \\\\\n",
       "\t C. Ehlich              & 19                     & Germany                & 47                     & 59                     & SpVgg Unterhaching     & 40000                  & 1000                   & 1366                   & Right                  & ...                    & 42                     & 42                     & 13                     & 12                     & 11                     & 15                     & 12                     &  66000                 & 0                      & 1                     \\\\\n",
       "\t L. Collins             & 17                     & Wales                  & 47                     & 62                     & Newport County         & 60000                  & 1000                   & 1297                   & Right                  & ...                    & 38                     & 41                     &  5                     & 12                     &  8                     & 13                     & 10                     & 143000                 & 0                      & 1                     \\\\\n",
       "\t A. Kaltner             & 18                     & Germany                & 47                     & 61                     & SpVgg Unterhaching     & 60000                  & 1000                   & 1290                   & Right                  & ...                    & 15                     & 22                     & 15                     &  5                     & 14                     & 12                     &  8                     & 125000                 & 0                      & 1                     \\\\\n",
       "\t L. Watkins             & 18                     & England                & 47                     & 67                     & Cambridge United       & 60000                  & 1000                   & 1285                   & Right                  & ...                    & 44                     & 47                     & 13                     &  7                     & 14                     & 10                     &  8                     & 165000                 & 0                      & 1                     \\\\\n",
       "\t J. Norville-Williams   & 18                     & England                & 47                     & 65                     & Cambridge United       & 50000                  & 1000                   & 1250                   & Left                   & ...                    & 42                     & 46                     & 15                     & 13                     &  6                     & 14                     & 12                     & 119000                 & 1                      & 0                     \\\\\n",
       "\t S. Squire              & 18                     & England                & 47                     & 64                     & Cambridge United       & 50000                  & 1000                   & 1325                   & Right                  & ...                    & 41                     & 44                     & 11                     & 11                     &  8                     & 12                     & 13                     & 119000                 & 0                      & 1                     \\\\\n",
       "\t N. Fuentes             & 18                     & Chile                  & 47                     & 64                     & Unión Española         & 50000                  & 1000                   & 1191                   & Right                  & ...                    & 48                     & 48                     &  6                     & 10                     &  6                     & 12                     & 11                     &  99000                 & 0                      & 1                     \\\\\n",
       "\t J. Milli               & 18                     & Italy                  & 47                     & 65                     & Lecce                  & 50000                  & 1000                   &  731                   & Right                  & ...                    & 10                     & 11                     & 52                     & 52                     & 52                     & 40                     & 44                     & 109000                 & 0                      & 1                     \\\\\n",
       "\t S. Griffin             & 18                     & Republic of Ireland    & 47                     & 67                     & Waterford FC           & 60000                  & 1000                   & 1325                   & Right                  & ...                    & 37                     & 48                     & 13                     & 14                     & 12                     &  7                     & 13                     & 153000                 & 0                      & 1                     \\\\\n",
       "\t K. Fujikawa            & 19                     & Japan                  & 47                     & 61                     & Júbilo Iwata           & 60000                  & 1000                   & 1333                   & Right                  & ...                    & 44                     & 54                     & 10                     & 12                     &  6                     & 11                     &  8                     & 113000                 & 0                      & 1                     \\\\\n",
       "\t D. Holland             & 18                     & Republic of Ireland    & 47                     & 61                     & Cork City              & 60000                  & 1000                   & 1362                   & Right                  & ...                    & 47                     & 38                     & 13                     &  6                     &  9                     & 10                     & 15                     &  88000                 & 0                      & 1                     \\\\\n",
       "\t J. Livesey             & 18                     & England                & 47                     & 70                     & Burton Albion          & 60000                  & 1000                   &  792                   & Right                  & ...                    & 11                     & 13                     & 46                     & 52                     & 58                     & 42                     & 48                     & 165000                 & 0                      & 1                     \\\\\n",
       "\t M. Baldisimo           & 18                     & Canada                 & 47                     & 69                     & Vancouver Whitecaps FC & 70000                  & 1000                   & 1303                   & Right                  & ...                    & 49                     & 49                     &  7                     &  7                     &  9                     & 14                     & 15                     & 175000                 & 0                      & 1                     \\\\\n",
       "\t J. Young               & 18                     & Scotland               & 47                     & 62                     & Swindon Town           & 60000                  & 1000                   & 1203                   & Left                   & ...                    & 17                     & 14                     & 11                     & 15                     & 12                     & 12                     & 11                     & 143000                 & 1                      & 0                     \\\\\n",
       "\t D. Walsh               & 18                     & Republic of Ireland    & 47                     & 68                     & Waterford FC           & 60000                  & 1000                   & 1098                   & Left                   & ...                    & 47                     & 53                     &  9                     & 10                     &  9                     & 11                     & 13                     & 153000                 & 1                      & 0                     \\\\\n",
       "\t J. Lundstram           & 19                     & England                & 47                     & 65                     & Crewe Alexandra        & 60000                  & 1000                   & 1307                   & Right                  & ...                    & 48                     & 47                     & 10                     & 13                     &  7                     &  8                     &  9                     & 143000                 & 0                      & 1                     \\\\\n",
       "\t N. Christoffersson     & 19                     & Sweden                 & 47                     & 63                     & Trelleborgs FF         & 60000                  & 1000                   & 1098                   & Right                  & ...                    & 15                     & 19                     & 10                     &  9                     &  9                     &  5                     & 12                     & 113000                 & 0                      & 1                     \\\\\n",
       "\t B. Worman              & 16                     & England                & 47                     & 67                     & Cambridge United       & 60000                  & 1000                   & 1189                   & Right                  & ...                    & 13                     & 11                     &  6                     &  5                     & 10                     &  6                     & 13                     & 165000                 & 0                      & 1                     \\\\\n",
       "\t D. Walker-Rice         & 17                     & England                & 47                     & 66                     & Tranmere Rovers        & 60000                  & 1000                   & 1228                   & Right                  & ...                    & 25                     & 27                     & 14                     &  6                     & 14                     &  8                     &  9                     & 143000                 & 0                      & 1                     \\\\\n",
       "\t G. Nugent              & 16                     & England                & 46                     & 66                     & Tranmere Rovers        & 60000                  & 1000                   & 1321                   & Right                  & ...                    & 43                     & 50                     & 10                     & 15                     &  9                     & 12                     &  9                     & 165000                 & 0                      & 1                     \\\\\n",
       "\\end{tabular}\n"
      ],
      "text/markdown": [
       "\n",
       "| Name | Age | Nationality | Overall | Potential | Club | Value | Wage | Special | Preferred.Foot | ... | StandingTackle | SlidingTackle | GKDiving | GKHandling | GKKicking | GKPositioning | GKReflexes | Release.Clause | Preferred.Foot.Left | Preferred.Foot.Right |\n",
       "|---|---|---|---|---|---|---|---|---|---|---|---|---|---|---|---|---|---|---|---|---|\n",
       "| L. Messi            | 31                  | Argentina           | 94                  | 94                  | FC Barcelona        | 110500000           | 565000              | 2202                | Left                | ...                 | 28                  | 26                  |  6                  | 11                  | 15                  | 14                  |  8                  | 226500000           | 1                   | 0                   |\n",
       "| Cristiano Ronaldo   | 33                  | Portugal            | 94                  | 94                  | Juventus            |  77000000           | 405000              | 2228                | Right               | ...                 | 31                  | 23                  |  7                  | 11                  | 15                  | 14                  | 11                  | 127100000           | 0                   | 1                   |\n",
       "| Neymar Jr           | 26                  | Brazil              | 92                  | 93                  | Paris Saint-Germain | 118500000           | 290000              | 2143                | Right               | ...                 | 24                  | 33                  |  9                  |  9                  | 15                  | 15                  | 11                  | 228100000           | 0                   | 1                   |\n",
       "| De Gea              | 27                  | Spain               | 91                  | 93                  | Manchester United   |  72000000           | 260000              | 1471                | Right               | ...                 | 21                  | 13                  | 90                  | 85                  | 87                  | 88                  | 94                  | 138600000           | 0                   | 1                   |\n",
       "| K. De Bruyne        | 27                  | Belgium             | 91                  | 92                  | Manchester City     | 102000000           | 355000              | 2281                | Right               | ...                 | 58                  | 51                  | 15                  | 13                  |  5                  | 10                  | 13                  | 196400000           | 0                   | 1                   |\n",
       "| E. Hazard           | 27                  | Belgium             | 91                  | 91                  | Chelsea             |  93000000           | 340000              | 2142                | Right               | ...                 | 27                  | 22                  | 11                  | 12                  |  6                  |  8                  |  8                  | 172100000           | 0                   | 1                   |\n",
       "| L. Modric           | 32                  | Croatia             | 91                  | 91                  | Real Madrid         |  67000000           | 420000              | 2280                | Right               | ...                 | 76                  | 73                  | 13                  |  9                  |  7                  | 14                  |  9                  | 137400000           | 0                   | 1                   |\n",
       "| L. Suárez           | 31                  | Uruguay             | 91                  | 91                  | FC Barcelona        |  80000000           | 455000              | 2346                | Right               | ...                 | 45                  | 38                  | 27                  | 25                  | 31                  | 33                  | 37                  | 164000000           | 0                   | 1                   |\n",
       "| Sergio Ramos        | 32                  | Spain               | 91                  | 91                  | Real Madrid         |  51000000           | 380000              | 2201                | Right               | ...                 | 92                  | 91                  | 11                  |  8                  |  9                  |  7                  | 11                  | 104600000           | 0                   | 1                   |\n",
       "| J. Oblak            | 25                  | Slovenia            | 90                  | 93                  | Atlético Madrid     |  68000000           |  94000              | 1331                | Right               | ...                 | 12                  | 18                  | 86                  | 92                  | 78                  | 88                  | 89                  | 144500000           | 0                   | 1                   |\n",
       "| R. Lewandowski      | 29                  | Poland              | 90                  | 90                  | FC Bayern München   |  77000000           | 205000              | 2152                | Right               | ...                 | 42                  | 19                  | 15                  |  6                  | 12                  |  8                  | 10                  | 127100000           | 0                   | 1                   |\n",
       "| T. Kroos            | 28                  | Germany             | 90                  | 90                  | Real Madrid         |  76500000           | 355000              | 2190                | Right               | ...                 | 79                  | 69                  | 10                  | 11                  | 13                  |  7                  | 10                  | 156800000           | 0                   | 1                   |\n",
       "| D. Godín            | 32                  | Uruguay             | 90                  | 90                  | Atlético Madrid     |  44000000           | 125000              | 1946                | Right               | ...                 | 89                  | 89                  |  6                  |  8                  | 15                  |  5                  | 15                  |  90200000           | 0                   | 1                   |\n",
       "| David Silva         | 32                  | Spain               | 90                  | 90                  | Manchester City     |  60000000           | 285000              | 2115                | Left                | ...                 | 53                  | 29                  |  6                  | 15                  |  7                  |  6                  | 12                  | 111000000           | 1                   | 0                   |\n",
       "| N. Kanté            | 27                  | France              | 89                  | 90                  | Chelsea             |  63000000           | 225000              | 2189                | Right               | ...                 | 91                  | 85                  | 15                  | 12                  | 10                  |  7                  | 10                  | 121300000           | 0                   | 1                   |\n",
       "| P. Dybala           | 24                  | Argentina           | 89                  | 94                  | Juventus            |  89000000           | 205000              | 2092                | Left                | ...                 | 20                  | 20                  |  5                  |  4                  |  4                  |  5                  |  8                  | 153500000           | 1                   | 0                   |\n",
       "| H. Kane             | 24                  | England             | 89                  | 91                  | Tottenham Hotspur   |  83500000           | 205000              | 2165                | Right               | ...                 | 36                  | 38                  |  8                  | 10                  | 11                  | 14                  | 11                  | 160700000           | 0                   | 1                   |\n",
       "| A. Griezmann        | 27                  | France              | 89                  | 90                  | Atlético Madrid     |  78000000           | 145000              | 2246                | Left                | ...                 | 47                  | 48                  | 14                  |  8                  | 14                  | 13                  | 14                  | 165800000           | 1                   | 0                   |\n",
       "| M. ter Stegen       | 26                  | Germany             | 89                  | 92                  | FC Barcelona        |  58000000           | 240000              | 1328                | Right               | ...                 | 13                  | 10                  | 87                  | 85                  | 88                  | 85                  | 90                  | 123300000           | 0                   | 1                   |\n",
       "| T. Courtois         | 26                  | Belgium             | 89                  | 90                  | Real Madrid         |  53500000           | 240000              | 1311                | Left                | ...                 | 18                  | 16                  | 85                  | 91                  | 72                  | 86                  | 88                  | 113700000           | 1                   | 0                   |\n",
       "| Sergio Busquets     | 29                  | Spain               | 89                  | 89                  | FC Barcelona        |  51500000           | 315000              | 2065                | Right               | ...                 | 86                  | 80                  |  5                  |  8                  | 13                  |  9                  | 13                  | 105600000           | 0                   | 1                   |\n",
       "| E. Cavani           | 31                  | Uruguay             | 89                  | 89                  | Paris Saint-Germain |  60000000           | 200000              | 2161                | Right               | ...                 | 45                  | 39                  | 12                  |  5                  | 13                  | 13                  | 10                  | 111000000           | 0                   | 1                   |\n",
       "| M. Neuer            | 32                  | Germany             | 89                  | 89                  | FC Bayern München   |  38000000           | 130000              | 1473                | Right               | ...                 | 10                  | 11                  | 90                  | 86                  | 91                  | 87                  | 87                  |  62700000           | 0                   | 1                   |\n",
       "| S. Agüero           | 30                  | Argentina           | 89                  | 89                  | Manchester City     |  64500000           | 300000              | 2107                | Right               | ...                 | 20                  | 12                  | 13                  | 15                  |  6                  | 11                  | 14                  | 119300000           | 0                   | 1                   |\n",
       "| G. Chiellini        | 33                  | Italy               | 89                  | 89                  | Juventus            |  27000000           | 215000              | 1841                | Left                | ...                 | 93                  | 90                  |  3                  |  3                  |  2                  |  4                  |  3                  |  44600000           | 1                   | 0                   |\n",
       "| K. Mbappé           | 19                  | France              | 88                  | 95                  | Paris Saint-Germain |  81000000           | 100000              | 2118                | Right               | ...                 | 34                  | 32                  | 13                  |  5                  |  7                  | 11                  |  6                  | 166100000           | 0                   | 1                   |\n",
       "| M. Salah            | 26                  | Egypt               | 88                  | 89                  | Liverpool           |  69500000           | 255000              | 2146                | Left                | ...                 | 43                  | 41                  | 14                  | 14                  |  9                  | 11                  | 14                  | 137300000           | 1                   | 0                   |\n",
       "| Casemiro            | 26                  | Brazil              | 88                  | 90                  | Real Madrid         |  59500000           | 285000              | 2170                | Right               | ...                 | 90                  | 87                  | 13                  | 14                  | 16                  | 12                  | 12                  | 126400000           | 0                   | 1                   |\n",
       "| J. Rodríguez        | 26                  | Colombia            | 88                  | 89                  | FC Bayern München   |  69500000           | 315000              | 2171                | Left                | ...                 | 41                  | 44                  | 15                  | 15                  | 15                  |  5                  | 14                  |         0           | 1                   | 0                   |\n",
       "| L. Insigne          | 27                  | Italy               | 88                  | 88                  | Napoli              |  62000000           | 165000              | 2017                | Right               | ...                 | 24                  | 22                  |  8                  |  4                  | 14                  |  9                  | 10                  | 105400000           | 0                   | 1                   |\n",
       "| ... | ... | ... | ... | ... | ... | ... | ... | ... | ... |     | ... | ... | ... | ... | ... | ... | ... | ... | ... | ... |\n",
       "| R. Roache              | 18                     | Republic of Ireland    | 48                     | 69                     | Blackpool              | 70000                  | 1000                   | 1178                   | Right                  | ...                    | 16                     | 11                     |  6                     |  9                     | 11                     |  7                     | 12                     | 193000                 | 0                      | 1                      |\n",
       "| L. Wahlstedt           | 18                     | Sweden                 | 48                     | 65                     | Dalkurd FF             | 50000                  | 1000                   |  738                   | Right                  | ...                    | 11                     | 10                     | 47                     | 46                     | 50                     | 45                     | 51                     |  94000                 | 0                      | 1                      |\n",
       "| J. Williams            | 17                     | England                | 48                     | 64                     | Northampton Town       | 50000                  | 1000                   | 1166                   | Right                  | ...                    | 51                     | 49                     | 14                     | 11                     |  7                     | 11                     |  8                     | 119000                 | 0                      | 1                      |\n",
       "| M. Hurst               | 22                     | Scotland               | 48                     | 58                     | St. Johnstone FC       | 40000                  | 1000                   |  987                   | Right                  | ...                    | 15                     | 16                     | 45                     | 49                     | 50                     | 50                     | 45                     |  78000                 | 0                      | 1                      |\n",
       "| C. Maher               | 17                     | Republic of Ireland    | 48                     | 66                     | Bray Wanderers         | 50000                  | 1000                   | 1296                   | Right                  | ...                    | 49                     | 45                     |  8                     | 10                     | 12                     |  9                     | 10                     | 109000                 | 0                      | 1                      |\n",
       "| Y. Góez                | 18                     | Colombia               | 48                     | 65                     | Atlético Nacional      | 50000                  | 1000                   | 1311                   | Right                  | ...                    | 42                     | 46                     |  9                     | 15                     | 15                     |  8                     |  6                     | 101000                 | 0                      | 1                      |\n",
       "| K. Pilkington          | 44                     | England                | 48                     | 48                     | Cambridge United       |     0                  | 1000                   |  774                   | Right                  | ...                    | 15                     | 13                     | 45                     | 48                     | 44                     | 49                     | 46                     |      0                 | 0                      | 1                      |\n",
       "| D. Horton              | 18                     | England                | 48                     | 55                     | Lincoln City           | 40000                  | 1000                   | 1368                   | Right                  | ...                    | 49                     | 53                     | 12                     |  5                     | 12                     | 14                     | 15                     |  78000                 | 0                      | 1                      |\n",
       "| E. Tweed               | 19                     | Republic of Ireland    | 48                     | 59                     | Derry City             | 50000                  | 1000                   | 1315                   | Right                  | ...                    | 39                     | 48                     |  6                     | 11                     |  9                     |  5                     |  8                     |  88000                 | 0                      | 1                      |\n",
       "| Zhang Yufeng           | 20                     | China PR               | 47                     | 64                     | Beijing Renhe FC       | 60000                  | 1000                   | 1389                   | Right                  | ...                    | 41                     | 51                     | 15                     |  7                     | 14                     |  6                     |  8                     | 167000                 | 0                      | 1                      |\n",
       "| C. Ehlich              | 19                     | Germany                | 47                     | 59                     | SpVgg Unterhaching     | 40000                  | 1000                   | 1366                   | Right                  | ...                    | 42                     | 42                     | 13                     | 12                     | 11                     | 15                     | 12                     |  66000                 | 0                      | 1                      |\n",
       "| L. Collins             | 17                     | Wales                  | 47                     | 62                     | Newport County         | 60000                  | 1000                   | 1297                   | Right                  | ...                    | 38                     | 41                     |  5                     | 12                     |  8                     | 13                     | 10                     | 143000                 | 0                      | 1                      |\n",
       "| A. Kaltner             | 18                     | Germany                | 47                     | 61                     | SpVgg Unterhaching     | 60000                  | 1000                   | 1290                   | Right                  | ...                    | 15                     | 22                     | 15                     |  5                     | 14                     | 12                     |  8                     | 125000                 | 0                      | 1                      |\n",
       "| L. Watkins             | 18                     | England                | 47                     | 67                     | Cambridge United       | 60000                  | 1000                   | 1285                   | Right                  | ...                    | 44                     | 47                     | 13                     |  7                     | 14                     | 10                     |  8                     | 165000                 | 0                      | 1                      |\n",
       "| J. Norville-Williams   | 18                     | England                | 47                     | 65                     | Cambridge United       | 50000                  | 1000                   | 1250                   | Left                   | ...                    | 42                     | 46                     | 15                     | 13                     |  6                     | 14                     | 12                     | 119000                 | 1                      | 0                      |\n",
       "| S. Squire              | 18                     | England                | 47                     | 64                     | Cambridge United       | 50000                  | 1000                   | 1325                   | Right                  | ...                    | 41                     | 44                     | 11                     | 11                     |  8                     | 12                     | 13                     | 119000                 | 0                      | 1                      |\n",
       "| N. Fuentes             | 18                     | Chile                  | 47                     | 64                     | Unión Española         | 50000                  | 1000                   | 1191                   | Right                  | ...                    | 48                     | 48                     |  6                     | 10                     |  6                     | 12                     | 11                     |  99000                 | 0                      | 1                      |\n",
       "| J. Milli               | 18                     | Italy                  | 47                     | 65                     | Lecce                  | 50000                  | 1000                   |  731                   | Right                  | ...                    | 10                     | 11                     | 52                     | 52                     | 52                     | 40                     | 44                     | 109000                 | 0                      | 1                      |\n",
       "| S. Griffin             | 18                     | Republic of Ireland    | 47                     | 67                     | Waterford FC           | 60000                  | 1000                   | 1325                   | Right                  | ...                    | 37                     | 48                     | 13                     | 14                     | 12                     |  7                     | 13                     | 153000                 | 0                      | 1                      |\n",
       "| K. Fujikawa            | 19                     | Japan                  | 47                     | 61                     | Júbilo Iwata           | 60000                  | 1000                   | 1333                   | Right                  | ...                    | 44                     | 54                     | 10                     | 12                     |  6                     | 11                     |  8                     | 113000                 | 0                      | 1                      |\n",
       "| D. Holland             | 18                     | Republic of Ireland    | 47                     | 61                     | Cork City              | 60000                  | 1000                   | 1362                   | Right                  | ...                    | 47                     | 38                     | 13                     |  6                     |  9                     | 10                     | 15                     |  88000                 | 0                      | 1                      |\n",
       "| J. Livesey             | 18                     | England                | 47                     | 70                     | Burton Albion          | 60000                  | 1000                   |  792                   | Right                  | ...                    | 11                     | 13                     | 46                     | 52                     | 58                     | 42                     | 48                     | 165000                 | 0                      | 1                      |\n",
       "| M. Baldisimo           | 18                     | Canada                 | 47                     | 69                     | Vancouver Whitecaps FC | 70000                  | 1000                   | 1303                   | Right                  | ...                    | 49                     | 49                     |  7                     |  7                     |  9                     | 14                     | 15                     | 175000                 | 0                      | 1                      |\n",
       "| J. Young               | 18                     | Scotland               | 47                     | 62                     | Swindon Town           | 60000                  | 1000                   | 1203                   | Left                   | ...                    | 17                     | 14                     | 11                     | 15                     | 12                     | 12                     | 11                     | 143000                 | 1                      | 0                      |\n",
       "| D. Walsh               | 18                     | Republic of Ireland    | 47                     | 68                     | Waterford FC           | 60000                  | 1000                   | 1098                   | Left                   | ...                    | 47                     | 53                     |  9                     | 10                     |  9                     | 11                     | 13                     | 153000                 | 1                      | 0                      |\n",
       "| J. Lundstram           | 19                     | England                | 47                     | 65                     | Crewe Alexandra        | 60000                  | 1000                   | 1307                   | Right                  | ...                    | 48                     | 47                     | 10                     | 13                     |  7                     |  8                     |  9                     | 143000                 | 0                      | 1                      |\n",
       "| N. Christoffersson     | 19                     | Sweden                 | 47                     | 63                     | Trelleborgs FF         | 60000                  | 1000                   | 1098                   | Right                  | ...                    | 15                     | 19                     | 10                     |  9                     |  9                     |  5                     | 12                     | 113000                 | 0                      | 1                      |\n",
       "| B. Worman              | 16                     | England                | 47                     | 67                     | Cambridge United       | 60000                  | 1000                   | 1189                   | Right                  | ...                    | 13                     | 11                     |  6                     |  5                     | 10                     |  6                     | 13                     | 165000                 | 0                      | 1                      |\n",
       "| D. Walker-Rice         | 17                     | England                | 47                     | 66                     | Tranmere Rovers        | 60000                  | 1000                   | 1228                   | Right                  | ...                    | 25                     | 27                     | 14                     |  6                     | 14                     |  8                     |  9                     | 143000                 | 0                      | 1                      |\n",
       "| G. Nugent              | 16                     | England                | 46                     | 66                     | Tranmere Rovers        | 60000                  | 1000                   | 1321                   | Right                  | ...                    | 43                     | 50                     | 10                     | 15                     |  9                     | 12                     |  9                     | 165000                 | 0                      | 1                      |\n",
       "\n"
      ],
      "text/plain": [
       "      Name                 Age Nationality         Overall Potential\n",
       "1     L. Messi             31  Argentina           94      94       \n",
       "2     Cristiano Ronaldo    33  Portugal            94      94       \n",
       "3     Neymar Jr            26  Brazil              92      93       \n",
       "4     De Gea               27  Spain               91      93       \n",
       "5     K. De Bruyne         27  Belgium             91      92       \n",
       "6     E. Hazard            27  Belgium             91      91       \n",
       "7     L. Modric            32  Croatia             91      91       \n",
       "8     L. Suárez            31  Uruguay             91      91       \n",
       "9     Sergio Ramos         32  Spain               91      91       \n",
       "10    J. Oblak             25  Slovenia            90      93       \n",
       "11    R. Lewandowski       29  Poland              90      90       \n",
       "12    T. Kroos             28  Germany             90      90       \n",
       "13    D. Godín             32  Uruguay             90      90       \n",
       "14    David Silva          32  Spain               90      90       \n",
       "15    N. Kanté             27  France              89      90       \n",
       "16    P. Dybala            24  Argentina           89      94       \n",
       "17    H. Kane              24  England             89      91       \n",
       "18    A. Griezmann         27  France              89      90       \n",
       "19    M. ter Stegen        26  Germany             89      92       \n",
       "20    T. Courtois          26  Belgium             89      90       \n",
       "21    Sergio Busquets      29  Spain               89      89       \n",
       "22    E. Cavani            31  Uruguay             89      89       \n",
       "23    M. Neuer             32  Germany             89      89       \n",
       "24    S. Agüero            30  Argentina           89      89       \n",
       "25    G. Chiellini         33  Italy               89      89       \n",
       "26    K. Mbappé            19  France              88      95       \n",
       "27    M. Salah             26  Egypt               88      89       \n",
       "28    Casemiro             26  Brazil              88      90       \n",
       "29    J. Rodríguez         26  Colombia            88      89       \n",
       "30    L. Insigne           27  Italy               88      88       \n",
       "...   ...                  ... ...                 ...     ...      \n",
       "18178 R. Roache            18  Republic of Ireland 48      69       \n",
       "18179 L. Wahlstedt         18  Sweden              48      65       \n",
       "18180 J. Williams          17  England             48      64       \n",
       "18181 M. Hurst             22  Scotland            48      58       \n",
       "18182 C. Maher             17  Republic of Ireland 48      66       \n",
       "18183 Y. Góez              18  Colombia            48      65       \n",
       "18184 K. Pilkington        44  England             48      48       \n",
       "18185 D. Horton            18  England             48      55       \n",
       "18186 E. Tweed             19  Republic of Ireland 48      59       \n",
       "18187 Zhang Yufeng         20  China PR            47      64       \n",
       "18188 C. Ehlich            19  Germany             47      59       \n",
       "18189 L. Collins           17  Wales               47      62       \n",
       "18190 A. Kaltner           18  Germany             47      61       \n",
       "18191 L. Watkins           18  England             47      67       \n",
       "18192 J. Norville-Williams 18  England             47      65       \n",
       "18193 S. Squire            18  England             47      64       \n",
       "18194 N. Fuentes           18  Chile               47      64       \n",
       "18195 J. Milli             18  Italy               47      65       \n",
       "18196 S. Griffin           18  Republic of Ireland 47      67       \n",
       "18197 K. Fujikawa          19  Japan               47      61       \n",
       "18198 D. Holland           18  Republic of Ireland 47      61       \n",
       "18199 J. Livesey           18  England             47      70       \n",
       "18200 M. Baldisimo         18  Canada              47      69       \n",
       "18201 J. Young             18  Scotland            47      62       \n",
       "18202 D. Walsh             18  Republic of Ireland 47      68       \n",
       "18203 J. Lundstram         19  England             47      65       \n",
       "18204 N. Christoffersson   19  Sweden              47      63       \n",
       "18205 B. Worman            16  England             47      67       \n",
       "18206 D. Walker-Rice       17  England             47      66       \n",
       "18207 G. Nugent            16  England             46      66       \n",
       "      Club                   Value     Wage   Special Preferred.Foot ...\n",
       "1     FC Barcelona           110500000 565000 2202    Left           ...\n",
       "2     Juventus                77000000 405000 2228    Right          ...\n",
       "3     Paris Saint-Germain    118500000 290000 2143    Right          ...\n",
       "4     Manchester United       72000000 260000 1471    Right          ...\n",
       "5     Manchester City        102000000 355000 2281    Right          ...\n",
       "6     Chelsea                 93000000 340000 2142    Right          ...\n",
       "7     Real Madrid             67000000 420000 2280    Right          ...\n",
       "8     FC Barcelona            80000000 455000 2346    Right          ...\n",
       "9     Real Madrid             51000000 380000 2201    Right          ...\n",
       "10    Atlético Madrid         68000000  94000 1331    Right          ...\n",
       "11    FC Bayern München       77000000 205000 2152    Right          ...\n",
       "12    Real Madrid             76500000 355000 2190    Right          ...\n",
       "13    Atlético Madrid         44000000 125000 1946    Right          ...\n",
       "14    Manchester City         60000000 285000 2115    Left           ...\n",
       "15    Chelsea                 63000000 225000 2189    Right          ...\n",
       "16    Juventus                89000000 205000 2092    Left           ...\n",
       "17    Tottenham Hotspur       83500000 205000 2165    Right          ...\n",
       "18    Atlético Madrid         78000000 145000 2246    Left           ...\n",
       "19    FC Barcelona            58000000 240000 1328    Right          ...\n",
       "20    Real Madrid             53500000 240000 1311    Left           ...\n",
       "21    FC Barcelona            51500000 315000 2065    Right          ...\n",
       "22    Paris Saint-Germain     60000000 200000 2161    Right          ...\n",
       "23    FC Bayern München       38000000 130000 1473    Right          ...\n",
       "24    Manchester City         64500000 300000 2107    Right          ...\n",
       "25    Juventus                27000000 215000 1841    Left           ...\n",
       "26    Paris Saint-Germain     81000000 100000 2118    Right          ...\n",
       "27    Liverpool               69500000 255000 2146    Left           ...\n",
       "28    Real Madrid             59500000 285000 2170    Right          ...\n",
       "29    FC Bayern München       69500000 315000 2171    Left           ...\n",
       "30    Napoli                  62000000 165000 2017    Right          ...\n",
       "...   ...                    ...       ...    ...     ...               \n",
       "18178 Blackpool              70000     1000   1178    Right          ...\n",
       "18179 Dalkurd FF             50000     1000    738    Right          ...\n",
       "18180 Northampton Town       50000     1000   1166    Right          ...\n",
       "18181 St. Johnstone FC       40000     1000    987    Right          ...\n",
       "18182 Bray Wanderers         50000     1000   1296    Right          ...\n",
       "18183 Atlético Nacional      50000     1000   1311    Right          ...\n",
       "18184 Cambridge United           0     1000    774    Right          ...\n",
       "18185 Lincoln City           40000     1000   1368    Right          ...\n",
       "18186 Derry City             50000     1000   1315    Right          ...\n",
       "18187 Beijing Renhe FC       60000     1000   1389    Right          ...\n",
       "18188 SpVgg Unterhaching     40000     1000   1366    Right          ...\n",
       "18189 Newport County         60000     1000   1297    Right          ...\n",
       "18190 SpVgg Unterhaching     60000     1000   1290    Right          ...\n",
       "18191 Cambridge United       60000     1000   1285    Right          ...\n",
       "18192 Cambridge United       50000     1000   1250    Left           ...\n",
       "18193 Cambridge United       50000     1000   1325    Right          ...\n",
       "18194 Unión Española         50000     1000   1191    Right          ...\n",
       "18195 Lecce                  50000     1000    731    Right          ...\n",
       "18196 Waterford FC           60000     1000   1325    Right          ...\n",
       "18197 Júbilo Iwata           60000     1000   1333    Right          ...\n",
       "18198 Cork City              60000     1000   1362    Right          ...\n",
       "18199 Burton Albion          60000     1000    792    Right          ...\n",
       "18200 Vancouver Whitecaps FC 70000     1000   1303    Right          ...\n",
       "18201 Swindon Town           60000     1000   1203    Left           ...\n",
       "18202 Waterford FC           60000     1000   1098    Left           ...\n",
       "18203 Crewe Alexandra        60000     1000   1307    Right          ...\n",
       "18204 Trelleborgs FF         60000     1000   1098    Right          ...\n",
       "18205 Cambridge United       60000     1000   1189    Right          ...\n",
       "18206 Tranmere Rovers        60000     1000   1228    Right          ...\n",
       "18207 Tranmere Rovers        60000     1000   1321    Right          ...\n",
       "      StandingTackle SlidingTackle GKDiving GKHandling GKKicking GKPositioning\n",
       "1     28             26             6       11         15        14           \n",
       "2     31             23             7       11         15        14           \n",
       "3     24             33             9        9         15        15           \n",
       "4     21             13            90       85         87        88           \n",
       "5     58             51            15       13          5        10           \n",
       "6     27             22            11       12          6         8           \n",
       "7     76             73            13        9          7        14           \n",
       "8     45             38            27       25         31        33           \n",
       "9     92             91            11        8          9         7           \n",
       "10    12             18            86       92         78        88           \n",
       "11    42             19            15        6         12         8           \n",
       "12    79             69            10       11         13         7           \n",
       "13    89             89             6        8         15         5           \n",
       "14    53             29             6       15          7         6           \n",
       "15    91             85            15       12         10         7           \n",
       "16    20             20             5        4          4         5           \n",
       "17    36             38             8       10         11        14           \n",
       "18    47             48            14        8         14        13           \n",
       "19    13             10            87       85         88        85           \n",
       "20    18             16            85       91         72        86           \n",
       "21    86             80             5        8         13         9           \n",
       "22    45             39            12        5         13        13           \n",
       "23    10             11            90       86         91        87           \n",
       "24    20             12            13       15          6        11           \n",
       "25    93             90             3        3          2         4           \n",
       "26    34             32            13        5          7        11           \n",
       "27    43             41            14       14          9        11           \n",
       "28    90             87            13       14         16        12           \n",
       "29    41             44            15       15         15         5           \n",
       "30    24             22             8        4         14         9           \n",
       "...   ...            ...           ...      ...        ...       ...          \n",
       "18178 16             11             6        9         11         7           \n",
       "18179 11             10            47       46         50        45           \n",
       "18180 51             49            14       11          7        11           \n",
       "18181 15             16            45       49         50        50           \n",
       "18182 49             45             8       10         12         9           \n",
       "18183 42             46             9       15         15         8           \n",
       "18184 15             13            45       48         44        49           \n",
       "18185 49             53            12        5         12        14           \n",
       "18186 39             48             6       11          9         5           \n",
       "18187 41             51            15        7         14         6           \n",
       "18188 42             42            13       12         11        15           \n",
       "18189 38             41             5       12          8        13           \n",
       "18190 15             22            15        5         14        12           \n",
       "18191 44             47            13        7         14        10           \n",
       "18192 42             46            15       13          6        14           \n",
       "18193 41             44            11       11          8        12           \n",
       "18194 48             48             6       10          6        12           \n",
       "18195 10             11            52       52         52        40           \n",
       "18196 37             48            13       14         12         7           \n",
       "18197 44             54            10       12          6        11           \n",
       "18198 47             38            13        6          9        10           \n",
       "18199 11             13            46       52         58        42           \n",
       "18200 49             49             7        7          9        14           \n",
       "18201 17             14            11       15         12        12           \n",
       "18202 47             53             9       10          9        11           \n",
       "18203 48             47            10       13          7         8           \n",
       "18204 15             19            10        9          9         5           \n",
       "18205 13             11             6        5         10         6           \n",
       "18206 25             27            14        6         14         8           \n",
       "18207 43             50            10       15          9        12           \n",
       "      GKReflexes Release.Clause Preferred.Foot.Left Preferred.Foot.Right\n",
       "1      8         226500000      1                   0                   \n",
       "2     11         127100000      0                   1                   \n",
       "3     11         228100000      0                   1                   \n",
       "4     94         138600000      0                   1                   \n",
       "5     13         196400000      0                   1                   \n",
       "6      8         172100000      0                   1                   \n",
       "7      9         137400000      0                   1                   \n",
       "8     37         164000000      0                   1                   \n",
       "9     11         104600000      0                   1                   \n",
       "10    89         144500000      0                   1                   \n",
       "11    10         127100000      0                   1                   \n",
       "12    10         156800000      0                   1                   \n",
       "13    15          90200000      0                   1                   \n",
       "14    12         111000000      1                   0                   \n",
       "15    10         121300000      0                   1                   \n",
       "16     8         153500000      1                   0                   \n",
       "17    11         160700000      0                   1                   \n",
       "18    14         165800000      1                   0                   \n",
       "19    90         123300000      0                   1                   \n",
       "20    88         113700000      1                   0                   \n",
       "21    13         105600000      0                   1                   \n",
       "22    10         111000000      0                   1                   \n",
       "23    87          62700000      0                   1                   \n",
       "24    14         119300000      0                   1                   \n",
       "25     3          44600000      1                   0                   \n",
       "26     6         166100000      0                   1                   \n",
       "27    14         137300000      1                   0                   \n",
       "28    12         126400000      0                   1                   \n",
       "29    14                 0      1                   0                   \n",
       "30    10         105400000      0                   1                   \n",
       "...   ...        ...            ...                 ...                 \n",
       "18178 12         193000         0                   1                   \n",
       "18179 51          94000         0                   1                   \n",
       "18180  8         119000         0                   1                   \n",
       "18181 45          78000         0                   1                   \n",
       "18182 10         109000         0                   1                   \n",
       "18183  6         101000         0                   1                   \n",
       "18184 46              0         0                   1                   \n",
       "18185 15          78000         0                   1                   \n",
       "18186  8          88000         0                   1                   \n",
       "18187  8         167000         0                   1                   \n",
       "18188 12          66000         0                   1                   \n",
       "18189 10         143000         0                   1                   \n",
       "18190  8         125000         0                   1                   \n",
       "18191  8         165000         0                   1                   \n",
       "18192 12         119000         1                   0                   \n",
       "18193 13         119000         0                   1                   \n",
       "18194 11          99000         0                   1                   \n",
       "18195 44         109000         0                   1                   \n",
       "18196 13         153000         0                   1                   \n",
       "18197  8         113000         0                   1                   \n",
       "18198 15          88000         0                   1                   \n",
       "18199 48         165000         0                   1                   \n",
       "18200 15         175000         0                   1                   \n",
       "18201 11         143000         1                   0                   \n",
       "18202 13         153000         1                   0                   \n",
       "18203  9         143000         0                   1                   \n",
       "18204 12         113000         0                   1                   \n",
       "18205 13         165000         0                   1                   \n",
       "18206  9         143000         0                   1                   \n",
       "18207  9         165000         0                   1                   "
      ]
     },
     "metadata": {},
     "output_type": "display_data"
    }
   ],
   "source": [
    "unique(fifaClean)"
   ]
  },
  {
   "cell_type": "code",
   "execution_count": 16,
   "metadata": {},
   "outputs": [
    {
     "data": {
      "text/html": [
       "<table>\n",
       "<thead><tr><th scope=col>Name</th><th scope=col>Age</th><th scope=col>Nationality</th><th scope=col>Overall</th><th scope=col>Potential</th><th scope=col>Club</th><th scope=col>Value</th><th scope=col>Wage</th><th scope=col>Special</th><th scope=col>Preferred.Foot</th><th scope=col>...</th><th scope=col>StandingTackle</th><th scope=col>SlidingTackle</th><th scope=col>GKDiving</th><th scope=col>GKHandling</th><th scope=col>GKKicking</th><th scope=col>GKPositioning</th><th scope=col>GKReflexes</th><th scope=col>Release.Clause</th><th scope=col>Preferred.Foot.Left</th><th scope=col>Preferred.Foot.Right</th></tr></thead>\n",
       "<tbody>\n",
       "\t<tr><td>0  </td><td>0  </td><td>0  </td><td>0  </td><td>0  </td><td>241</td><td>0  </td><td>0  </td><td>0  </td><td>48 </td><td>...</td><td>48 </td><td>48 </td><td>48 </td><td>48 </td><td>48 </td><td>48 </td><td>48 </td><td>0  </td><td>0  </td><td>0  </td></tr>\n",
       "</tbody>\n",
       "</table>\n"
      ],
      "text/latex": [
       "\\begin{tabular}{r|llllllllllllllllllllllllllllllllllllllllllllllllllllllllllll}\n",
       " Name & Age & Nationality & Overall & Potential & Club & Value & Wage & Special & Preferred.Foot & ... & StandingTackle & SlidingTackle & GKDiving & GKHandling & GKKicking & GKPositioning & GKReflexes & Release.Clause & Preferred.Foot.Left & Preferred.Foot.Right\\\\\n",
       "\\hline\n",
       "\t 0   & 0   & 0   & 0   & 0   & 241 & 0   & 0   & 0   & 48  & ... & 48  & 48  & 48  & 48  & 48  & 48  & 48  & 0   & 0   & 0  \\\\\n",
       "\\end{tabular}\n"
      ],
      "text/markdown": [
       "\n",
       "| Name | Age | Nationality | Overall | Potential | Club | Value | Wage | Special | Preferred.Foot | ... | StandingTackle | SlidingTackle | GKDiving | GKHandling | GKKicking | GKPositioning | GKReflexes | Release.Clause | Preferred.Foot.Left | Preferred.Foot.Right |\n",
       "|---|---|---|---|---|---|---|---|---|---|---|---|---|---|---|---|---|---|---|---|---|\n",
       "| 0   | 0   | 0   | 0   | 0   | 241 | 0   | 0   | 0   | 48  | ... | 48  | 48  | 48  | 48  | 48  | 48  | 48  | 0   | 0   | 0   |\n",
       "\n"
      ],
      "text/plain": [
       "  Name Age Nationality Overall Potential Club Value Wage Special Preferred.Foot\n",
       "1 0    0   0           0       0         241  0     0    0       48            \n",
       "  ... StandingTackle SlidingTackle GKDiving GKHandling GKKicking GKPositioning\n",
       "1 ... 48             48            48       48         48        48           \n",
       "  GKReflexes Release.Clause Preferred.Foot.Left Preferred.Foot.Right\n",
       "1 48         0              0                   0                   "
      ]
     },
     "metadata": {},
     "output_type": "display_data"
    }
   ],
   "source": [
    "#Cantidad de valores nulos\n",
    "summarise_all(fifaClean, funs(sum(is.na(.))))"
   ]
  },
  {
   "cell_type": "code",
   "execution_count": 17,
   "metadata": {},
   "outputs": [
    {
     "data": {
      "text/html": [
       "<table>\n",
       "<thead><tr><th scope=col>Name</th><th scope=col>Age</th><th scope=col>Nationality</th><th scope=col>Overall</th><th scope=col>Potential</th><th scope=col>Club</th><th scope=col>Value</th><th scope=col>Wage</th><th scope=col>Special</th><th scope=col>Preferred.Foot</th><th scope=col>...</th><th scope=col>StandingTackle</th><th scope=col>SlidingTackle</th><th scope=col>GKDiving</th><th scope=col>GKHandling</th><th scope=col>GKKicking</th><th scope=col>GKPositioning</th><th scope=col>GKReflexes</th><th scope=col>Release.Clause</th><th scope=col>Preferred.Foot.Left</th><th scope=col>Preferred.Foot.Right</th></tr></thead>\n",
       "<tbody>\n",
       "\t<tr><td>0  </td><td>0  </td><td>0  </td><td>0  </td><td>0  </td><td>0  </td><td>0  </td><td>0  </td><td>0  </td><td>0  </td><td>...</td><td>0  </td><td>0  </td><td>0  </td><td>0  </td><td>0  </td><td>0  </td><td>0  </td><td>0  </td><td>0  </td><td>0  </td></tr>\n",
       "</tbody>\n",
       "</table>\n"
      ],
      "text/latex": [
       "\\begin{tabular}{r|llllllllllllllllllllllllllllllllllllllllllllllllllllllllllll}\n",
       " Name & Age & Nationality & Overall & Potential & Club & Value & Wage & Special & Preferred.Foot & ... & StandingTackle & SlidingTackle & GKDiving & GKHandling & GKKicking & GKPositioning & GKReflexes & Release.Clause & Preferred.Foot.Left & Preferred.Foot.Right\\\\\n",
       "\\hline\n",
       "\t 0   & 0   & 0   & 0   & 0   & 0   & 0   & 0   & 0   & 0   & ... & 0   & 0   & 0   & 0   & 0   & 0   & 0   & 0   & 0   & 0  \\\\\n",
       "\\end{tabular}\n"
      ],
      "text/markdown": [
       "\n",
       "| Name | Age | Nationality | Overall | Potential | Club | Value | Wage | Special | Preferred.Foot | ... | StandingTackle | SlidingTackle | GKDiving | GKHandling | GKKicking | GKPositioning | GKReflexes | Release.Clause | Preferred.Foot.Left | Preferred.Foot.Right |\n",
       "|---|---|---|---|---|---|---|---|---|---|---|---|---|---|---|---|---|---|---|---|---|\n",
       "| 0   | 0   | 0   | 0   | 0   | 0   | 0   | 0   | 0   | 0   | ... | 0   | 0   | 0   | 0   | 0   | 0   | 0   | 0   | 0   | 0   |\n",
       "\n"
      ],
      "text/plain": [
       "  Name Age Nationality Overall Potential Club Value Wage Special Preferred.Foot\n",
       "1 0    0   0           0       0         0    0     0    0       0             \n",
       "  ... StandingTackle SlidingTackle GKDiving GKHandling GKKicking GKPositioning\n",
       "1 ... 0              0             0        0          0         0            \n",
       "  GKReflexes Release.Clause Preferred.Foot.Left Preferred.Foot.Right\n",
       "1 0          0              0                   0                   "
      ]
     },
     "metadata": {},
     "output_type": "display_data"
    }
   ],
   "source": [
    "#Limpiamos valores nulos\n",
    "fifaNotNull <- na.omit(fifaClean)\n",
    "summarise_all(fifaNotNull, funs(sum(is.na(.))))"
   ]
  },
  {
   "cell_type": "markdown",
   "metadata": {},
   "source": [
    "Como vemos en la celda anterior, al eliminar las filas con valores nulos, queda el dataset vacío. \n",
    "Al haber tomado la decisión de separar el dataset por posición, seleccionando las variables relevantes a cada posición, realizaremos el análisis de campos vacíos en cada dataset."
   ]
  },
  {
   "cell_type": "markdown",
   "metadata": {},
   "source": [
    "<a id='Datasets'></a>\n",
    "\n",
    "# Procesamiento de datos, entrenamiento y evaluación\n",
    "---\n",
    "[Inicio ▲](#Indice)"
   ]
  },
  {
   "cell_type": "markdown",
   "metadata": {},
   "source": [
    "Se divide el data set principal considerando las columnas más interesantes por posición. Para cada dataset se realiza el procesamiento de los datos, el entrenamiento y la evaluación de los algoritmos."
   ]
  },
  {
   "cell_type": "markdown",
   "metadata": {},
   "source": [
    "<a id='Goalkeepers'></a>\n",
    "## Dataset para Goalkeepers"
   ]
  },
  {
   "cell_type": "code",
   "execution_count": 18,
   "metadata": {},
   "outputs": [
    {
     "data": {
      "text/html": [
       "<table>\n",
       "<thead><tr><th scope=col>Age</th><th scope=col>Overall</th><th scope=col>Potential</th><th scope=col>GKDiving</th><th scope=col>GKHandling</th><th scope=col>GKKicking</th><th scope=col>GKPositioning</th><th scope=col>GKReflexes</th><th scope=col>Reactions</th><th scope=col>International.Reputation</th><th scope=col>Value</th></tr></thead>\n",
       "<tbody>\n",
       "\t<tr><td>27      </td><td>91      </td><td>93      </td><td>90      </td><td>85      </td><td>87      </td><td>88      </td><td>94      </td><td>90      </td><td>4       </td><td>72000000</td></tr>\n",
       "\t<tr><td>25      </td><td>90      </td><td>93      </td><td>86      </td><td>92      </td><td>78      </td><td>88      </td><td>89      </td><td>86      </td><td>3       </td><td>68000000</td></tr>\n",
       "\t<tr><td>26      </td><td>89      </td><td>92      </td><td>87      </td><td>85      </td><td>88      </td><td>85      </td><td>90      </td><td>85      </td><td>3       </td><td>58000000</td></tr>\n",
       "\t<tr><td>26      </td><td>89      </td><td>90      </td><td>85      </td><td>91      </td><td>72      </td><td>86      </td><td>88      </td><td>84      </td><td>4       </td><td>53500000</td></tr>\n",
       "\t<tr><td>32      </td><td>89      </td><td>89      </td><td>90      </td><td>86      </td><td>91      </td><td>87      </td><td>87      </td><td>84      </td><td>5       </td><td>38000000</td></tr>\n",
       "\t<tr><td>31      </td><td>88      </td><td>88      </td><td>88      </td><td>84      </td><td>68      </td><td>83      </td><td>92      </td><td>85      </td><td>4       </td><td>36000000</td></tr>\n",
       "</tbody>\n",
       "</table>\n"
      ],
      "text/latex": [
       "\\begin{tabular}{r|lllllllllll}\n",
       " Age & Overall & Potential & GKDiving & GKHandling & GKKicking & GKPositioning & GKReflexes & Reactions & International.Reputation & Value\\\\\n",
       "\\hline\n",
       "\t 27       & 91       & 93       & 90       & 85       & 87       & 88       & 94       & 90       & 4        & 72000000\\\\\n",
       "\t 25       & 90       & 93       & 86       & 92       & 78       & 88       & 89       & 86       & 3        & 68000000\\\\\n",
       "\t 26       & 89       & 92       & 87       & 85       & 88       & 85       & 90       & 85       & 3        & 58000000\\\\\n",
       "\t 26       & 89       & 90       & 85       & 91       & 72       & 86       & 88       & 84       & 4        & 53500000\\\\\n",
       "\t 32       & 89       & 89       & 90       & 86       & 91       & 87       & 87       & 84       & 5        & 38000000\\\\\n",
       "\t 31       & 88       & 88       & 88       & 84       & 68       & 83       & 92       & 85       & 4        & 36000000\\\\\n",
       "\\end{tabular}\n"
      ],
      "text/markdown": [
       "\n",
       "| Age | Overall | Potential | GKDiving | GKHandling | GKKicking | GKPositioning | GKReflexes | Reactions | International.Reputation | Value |\n",
       "|---|---|---|---|---|---|---|---|---|---|---|\n",
       "| 27       | 91       | 93       | 90       | 85       | 87       | 88       | 94       | 90       | 4        | 72000000 |\n",
       "| 25       | 90       | 93       | 86       | 92       | 78       | 88       | 89       | 86       | 3        | 68000000 |\n",
       "| 26       | 89       | 92       | 87       | 85       | 88       | 85       | 90       | 85       | 3        | 58000000 |\n",
       "| 26       | 89       | 90       | 85       | 91       | 72       | 86       | 88       | 84       | 4        | 53500000 |\n",
       "| 32       | 89       | 89       | 90       | 86       | 91       | 87       | 87       | 84       | 5        | 38000000 |\n",
       "| 31       | 88       | 88       | 88       | 84       | 68       | 83       | 92       | 85       | 4        | 36000000 |\n",
       "\n"
      ],
      "text/plain": [
       "  Age Overall Potential GKDiving GKHandling GKKicking GKPositioning GKReflexes\n",
       "1 27  91      93        90       85         87        88            94        \n",
       "2 25  90      93        86       92         78        88            89        \n",
       "3 26  89      92        87       85         88        85            90        \n",
       "4 26  89      90        85       91         72        86            88        \n",
       "5 32  89      89        90       86         91        87            87        \n",
       "6 31  88      88        88       84         68        83            92        \n",
       "  Reactions International.Reputation Value   \n",
       "1 90        4                        72000000\n",
       "2 86        3                        68000000\n",
       "3 85        3                        58000000\n",
       "4 84        4                        53500000\n",
       "5 84        5                        38000000\n",
       "6 85        4                        36000000"
      ]
     },
     "metadata": {},
     "output_type": "display_data"
    },
    {
     "data": {
      "text/html": [
       "<dl class=dl-horizontal>\n",
       "\t<dt>Age</dt>\n",
       "\t\t<dd>0</dd>\n",
       "\t<dt>Overall</dt>\n",
       "\t\t<dd>0</dd>\n",
       "\t<dt>Potential</dt>\n",
       "\t\t<dd>0</dd>\n",
       "\t<dt>GKDiving</dt>\n",
       "\t\t<dd>0</dd>\n",
       "\t<dt>GKHandling</dt>\n",
       "\t\t<dd>0</dd>\n",
       "\t<dt>GKKicking</dt>\n",
       "\t\t<dd>0</dd>\n",
       "\t<dt>GKPositioning</dt>\n",
       "\t\t<dd>0</dd>\n",
       "\t<dt>GKReflexes</dt>\n",
       "\t\t<dd>0</dd>\n",
       "\t<dt>Reactions</dt>\n",
       "\t\t<dd>0</dd>\n",
       "\t<dt>International.Reputation</dt>\n",
       "\t\t<dd>0</dd>\n",
       "\t<dt>Value</dt>\n",
       "\t\t<dd>0</dd>\n",
       "</dl>\n"
      ],
      "text/latex": [
       "\\begin{description*}\n",
       "\\item[Age] 0\n",
       "\\item[Overall] 0\n",
       "\\item[Potential] 0\n",
       "\\item[GKDiving] 0\n",
       "\\item[GKHandling] 0\n",
       "\\item[GKKicking] 0\n",
       "\\item[GKPositioning] 0\n",
       "\\item[GKReflexes] 0\n",
       "\\item[Reactions] 0\n",
       "\\item[International.Reputation] 0\n",
       "\\item[Value] 0\n",
       "\\end{description*}\n"
      ],
      "text/markdown": [
       "Age\n",
       ":   0Overall\n",
       ":   0Potential\n",
       ":   0GKDiving\n",
       ":   0GKHandling\n",
       ":   0GKKicking\n",
       ":   0GKPositioning\n",
       ":   0GKReflexes\n",
       ":   0Reactions\n",
       ":   0International.Reputation\n",
       ":   0Value\n",
       ":   0\n",
       "\n"
      ],
      "text/plain": [
       "                     Age                  Overall                Potential \n",
       "                       0                        0                        0 \n",
       "                GKDiving               GKHandling                GKKicking \n",
       "                       0                        0                        0 \n",
       "           GKPositioning               GKReflexes                Reactions \n",
       "                       0                        0                        0 \n",
       "International.Reputation                    Value \n",
       "                       0                        0 "
      ]
     },
     "metadata": {},
     "output_type": "display_data"
    }
   ],
   "source": [
    "#Dataset para Goalkeepers\n",
    "fifaGK <- fifaClean %>% filter(Position == \"GK\")%>% \n",
    "                   select(Age,Overall, Potential, GKDiving, GKHandling, GKKicking, GKPositioning,\n",
    "                          GKReflexes, Reactions, International.Reputation, Value) \n",
    "head(fifaGK)\n",
    "colSums(is.na(fifaGK))\n",
    "fifaGKceroValue <- fifaGK %>% filter(fifaGK$Value == 0)"
   ]
  },
  {
   "cell_type": "markdown",
   "metadata": {},
   "source": [
    "Observamos si existen jugadores con Value = 0."
   ]
  },
  {
   "cell_type": "code",
   "execution_count": 19,
   "metadata": {},
   "outputs": [
    {
     "data": {
      "text/html": [
       "<table>\n",
       "<thead><tr><th scope=col>Age</th><th scope=col>Overall</th><th scope=col>Potential</th><th scope=col>GKDiving</th><th scope=col>GKHandling</th><th scope=col>GKKicking</th><th scope=col>GKPositioning</th><th scope=col>GKReflexes</th><th scope=col>Reactions</th><th scope=col>International.Reputation</th><th scope=col>Value</th></tr></thead>\n",
       "<tbody>\n",
       "\t<tr><td>26</td><td>79</td><td>81</td><td>80</td><td>73</td><td>65</td><td>77</td><td>85</td><td>76</td><td>1 </td><td>0 </td></tr>\n",
       "\t<tr><td>41</td><td>77</td><td>77</td><td>75</td><td>75</td><td>74</td><td>78</td><td>77</td><td>73</td><td>2 </td><td>0 </td></tr>\n",
       "\t<tr><td>32</td><td>73</td><td>73</td><td>68</td><td>70</td><td>65</td><td>77</td><td>77</td><td>69</td><td>1 </td><td>0 </td></tr>\n",
       "\t<tr><td>30</td><td>73</td><td>73</td><td>75</td><td>71</td><td>71</td><td>73</td><td>72</td><td>70</td><td>1 </td><td>0 </td></tr>\n",
       "\t<tr><td>22</td><td>72</td><td>72</td><td>71</td><td>70</td><td>62</td><td>70</td><td>72</td><td>73</td><td>1 </td><td>0 </td></tr>\n",
       "\t<tr><td>27</td><td>72</td><td>73</td><td>73</td><td>67</td><td>70</td><td>70</td><td>74</td><td>68</td><td>1 </td><td>0 </td></tr>\n",
       "</tbody>\n",
       "</table>\n"
      ],
      "text/latex": [
       "\\begin{tabular}{r|lllllllllll}\n",
       " Age & Overall & Potential & GKDiving & GKHandling & GKKicking & GKPositioning & GKReflexes & Reactions & International.Reputation & Value\\\\\n",
       "\\hline\n",
       "\t 26 & 79 & 81 & 80 & 73 & 65 & 77 & 85 & 76 & 1  & 0 \\\\\n",
       "\t 41 & 77 & 77 & 75 & 75 & 74 & 78 & 77 & 73 & 2  & 0 \\\\\n",
       "\t 32 & 73 & 73 & 68 & 70 & 65 & 77 & 77 & 69 & 1  & 0 \\\\\n",
       "\t 30 & 73 & 73 & 75 & 71 & 71 & 73 & 72 & 70 & 1  & 0 \\\\\n",
       "\t 22 & 72 & 72 & 71 & 70 & 62 & 70 & 72 & 73 & 1  & 0 \\\\\n",
       "\t 27 & 72 & 73 & 73 & 67 & 70 & 70 & 74 & 68 & 1  & 0 \\\\\n",
       "\\end{tabular}\n"
      ],
      "text/markdown": [
       "\n",
       "| Age | Overall | Potential | GKDiving | GKHandling | GKKicking | GKPositioning | GKReflexes | Reactions | International.Reputation | Value |\n",
       "|---|---|---|---|---|---|---|---|---|---|---|\n",
       "| 26 | 79 | 81 | 80 | 73 | 65 | 77 | 85 | 76 | 1  | 0  |\n",
       "| 41 | 77 | 77 | 75 | 75 | 74 | 78 | 77 | 73 | 2  | 0  |\n",
       "| 32 | 73 | 73 | 68 | 70 | 65 | 77 | 77 | 69 | 1  | 0  |\n",
       "| 30 | 73 | 73 | 75 | 71 | 71 | 73 | 72 | 70 | 1  | 0  |\n",
       "| 22 | 72 | 72 | 71 | 70 | 62 | 70 | 72 | 73 | 1  | 0  |\n",
       "| 27 | 72 | 73 | 73 | 67 | 70 | 70 | 74 | 68 | 1  | 0  |\n",
       "\n"
      ],
      "text/plain": [
       "  Age Overall Potential GKDiving GKHandling GKKicking GKPositioning GKReflexes\n",
       "1 26  79      81        80       73         65        77            85        \n",
       "2 41  77      77        75       75         74        78            77        \n",
       "3 32  73      73        68       70         65        77            77        \n",
       "4 30  73      73        75       71         71        73            72        \n",
       "5 22  72      72        71       70         62        70            72        \n",
       "6 27  72      73        73       67         70        70            74        \n",
       "  Reactions International.Reputation Value\n",
       "1 76        1                        0    \n",
       "2 73        2                        0    \n",
       "3 69        1                        0    \n",
       "4 70        1                        0    \n",
       "5 73        1                        0    \n",
       "6 68        1                        0    "
      ]
     },
     "metadata": {},
     "output_type": "display_data"
    }
   ],
   "source": [
    "head(fifaGKceroValue)"
   ]
  },
  {
   "cell_type": "code",
   "execution_count": 20,
   "metadata": {},
   "outputs": [
    {
     "data": {
      "text/html": [
       "<ol class=list-inline>\n",
       "\t<li>'Age'</li>\n",
       "\t<li>'Overall'</li>\n",
       "\t<li>'Potential'</li>\n",
       "\t<li>'GKDiving'</li>\n",
       "\t<li>'GKHandling'</li>\n",
       "\t<li>'GKKicking'</li>\n",
       "\t<li>'GKPositioning'</li>\n",
       "\t<li>'GKReflexes'</li>\n",
       "\t<li>'Reactions'</li>\n",
       "\t<li>'International.Reputation'</li>\n",
       "\t<li>'Value'</li>\n",
       "</ol>\n"
      ],
      "text/latex": [
       "\\begin{enumerate*}\n",
       "\\item 'Age'\n",
       "\\item 'Overall'\n",
       "\\item 'Potential'\n",
       "\\item 'GKDiving'\n",
       "\\item 'GKHandling'\n",
       "\\item 'GKKicking'\n",
       "\\item 'GKPositioning'\n",
       "\\item 'GKReflexes'\n",
       "\\item 'Reactions'\n",
       "\\item 'International.Reputation'\n",
       "\\item 'Value'\n",
       "\\end{enumerate*}\n"
      ],
      "text/markdown": [
       "1. 'Age'\n",
       "2. 'Overall'\n",
       "3. 'Potential'\n",
       "4. 'GKDiving'\n",
       "5. 'GKHandling'\n",
       "6. 'GKKicking'\n",
       "7. 'GKPositioning'\n",
       "8. 'GKReflexes'\n",
       "9. 'Reactions'\n",
       "10. 'International.Reputation'\n",
       "11. 'Value'\n",
       "\n",
       "\n"
      ],
      "text/plain": [
       " [1] \"Age\"                      \"Overall\"                 \n",
       " [3] \"Potential\"                \"GKDiving\"                \n",
       " [5] \"GKHandling\"               \"GKKicking\"               \n",
       " [7] \"GKPositioning\"            \"GKReflexes\"              \n",
       " [9] \"Reactions\"                \"International.Reputation\"\n",
       "[11] \"Value\"                   "
      ]
     },
     "metadata": {},
     "output_type": "display_data"
    },
    {
     "data": {
      "text/plain": [
       "Importance of components:\n",
       "                          PC1    PC2     PC3     PC4     PC5     PC6     PC7\n",
       "Standard deviation     2.6990 1.1459 0.93125 0.63222 0.58234 0.51687 0.46160\n",
       "Proportion of Variance 0.6622 0.1194 0.07884 0.03634 0.03083 0.02429 0.01937\n",
       "Cumulative Proportion  0.6622 0.7816 0.86044 0.89678 0.92761 0.95189 0.97126\n",
       "                           PC8     PC9    PC10    PC11\n",
       "Standard deviation     0.36294 0.30966 0.29512 0.03750\n",
       "Proportion of Variance 0.01198 0.00872 0.00792 0.00013\n",
       "Cumulative Proportion  0.98324 0.99195 0.99987 1.00000"
      ]
     },
     "metadata": {},
     "output_type": "display_data"
    }
   ],
   "source": [
    "#Aplicamos PCA al dataset de goleros todas las columnas menos \"Name\" y \"Nationality\" las cuales no fueron incluídas\n",
    "names(fifaGK)\n",
    "fifaGK.pca <- prcomp(fifaGK [c(1:11)], center = TRUE,scale. = TRUE)\n",
    "summary(fifaGK.pca)"
   ]
  },
  {
   "cell_type": "markdown",
   "metadata": {},
   "source": [
    "A partir de lo anterior observamos que las variables que más influyen son la edad (\"Age\") y puntaje (\"Overall\")"
   ]
  },
  {
   "cell_type": "code",
   "execution_count": 21,
   "metadata": {},
   "outputs": [
    {
     "data": {
      "text/plain": [
       "      Age           Overall       Potential       GKDiving       GKHandling   \n",
       " Min.   :16.00   Min.   :47.0   Min.   :48.0   Min.   :45.00   Min.   :43.00  \n",
       " 1st Qu.:22.00   1st Qu.:59.0   1st Qu.:65.0   1st Qu.:60.00   1st Qu.:58.00  \n",
       " Median :25.00   Median :64.0   Median :69.0   Median :65.00   Median :63.00  \n",
       " Mean   :26.04   Mean   :64.6   Mean   :69.8   Mean   :65.32   Mean   :62.87  \n",
       " 3rd Qu.:30.00   3rd Qu.:69.0   3rd Qu.:74.0   3rd Qu.:70.00   3rd Qu.:68.00  \n",
       " Max.   :45.00   Max.   :91.0   Max.   :93.0   Max.   :90.00   Max.   :92.00  \n",
       "   GKKicking     GKPositioning     GKReflexes     Reactions    \n",
       " Min.   :35.00   Min.   :38.00   Min.   :44.0   Min.   :30.00  \n",
       " 1st Qu.:56.00   1st Qu.:57.00   1st Qu.:60.0   1st Qu.:52.00  \n",
       " Median :61.00   Median :63.00   Median :66.0   Median :60.00  \n",
       " Mean   :61.48   Mean   :63.05   Mean   :66.1   Mean   :58.93  \n",
       " 3rd Qu.:66.00   3rd Qu.:69.00   3rd Qu.:72.0   3rd Qu.:67.00  \n",
       " Max.   :91.00   Max.   :90.00   Max.   :94.0   Max.   :90.00  \n",
       " International.Reputation     Value         \n",
       " Min.   :1.000            Min.   :       0  \n",
       " 1st Qu.:1.000            1st Qu.:  140000  \n",
       " Median :1.000            Median :  375000  \n",
       " Mean   :1.096            Mean   : 1585815  \n",
       " 3rd Qu.:1.000            3rd Qu.:  925000  \n",
       " Max.   :5.000            Max.   :72000000  "
      ]
     },
     "metadata": {},
     "output_type": "display_data"
    }
   ],
   "source": [
    "summary(fifaGK)"
   ]
  },
  {
   "cell_type": "code",
   "execution_count": 22,
   "metadata": {},
   "outputs": [
    {
     "data": {
      "text/html": [
       "<ol class=list-inline>\n",
       "\t<li>2025</li>\n",
       "\t<li>11</li>\n",
       "</ol>\n"
      ],
      "text/latex": [
       "\\begin{enumerate*}\n",
       "\\item 2025\n",
       "\\item 11\n",
       "\\end{enumerate*}\n"
      ],
      "text/markdown": [
       "1. 2025\n",
       "2. 11\n",
       "\n",
       "\n"
      ],
      "text/plain": [
       "[1] 2025   11"
      ]
     },
     "metadata": {},
     "output_type": "display_data"
    }
   ],
   "source": [
    "dim(fifaGK)"
   ]
  },
  {
   "cell_type": "markdown",
   "metadata": {},
   "source": [
    "Particionamos fifaGK con el fin de obtener un data frame para realizar el entrenamiento y otro para probarlo"
   ]
  },
  {
   "cell_type": "code",
   "execution_count": 23,
   "metadata": {},
   "outputs": [],
   "source": [
    "set.seed(1500)\n",
    "indexes_fifaGK <- createDataPartition(fifaGK$Value,times = 1,\n",
    "                               p = 0.8, # 80% para entrenar, 20% para evaluar\n",
    "                               list = FALSE)\n",
    "fifaGK.train <- fifaGK[indexes_fifaGK,]\n",
    "fifaGK.test <- fifaGK[-indexes_fifaGK,]"
   ]
  },
  {
   "cell_type": "code",
   "execution_count": 24,
   "metadata": {},
   "outputs": [
    {
     "data": {
      "text/html": [
       "<ol class=list-inline>\n",
       "\t<li>'Age'</li>\n",
       "\t<li>'Overall'</li>\n",
       "\t<li>'Potential'</li>\n",
       "\t<li>'GKDiving'</li>\n",
       "\t<li>'GKHandling'</li>\n",
       "\t<li>'GKKicking'</li>\n",
       "\t<li>'GKPositioning'</li>\n",
       "\t<li>'GKReflexes'</li>\n",
       "\t<li>'Reactions'</li>\n",
       "\t<li>'International.Reputation'</li>\n",
       "\t<li>'Value'</li>\n",
       "</ol>\n"
      ],
      "text/latex": [
       "\\begin{enumerate*}\n",
       "\\item 'Age'\n",
       "\\item 'Overall'\n",
       "\\item 'Potential'\n",
       "\\item 'GKDiving'\n",
       "\\item 'GKHandling'\n",
       "\\item 'GKKicking'\n",
       "\\item 'GKPositioning'\n",
       "\\item 'GKReflexes'\n",
       "\\item 'Reactions'\n",
       "\\item 'International.Reputation'\n",
       "\\item 'Value'\n",
       "\\end{enumerate*}\n"
      ],
      "text/markdown": [
       "1. 'Age'\n",
       "2. 'Overall'\n",
       "3. 'Potential'\n",
       "4. 'GKDiving'\n",
       "5. 'GKHandling'\n",
       "6. 'GKKicking'\n",
       "7. 'GKPositioning'\n",
       "8. 'GKReflexes'\n",
       "9. 'Reactions'\n",
       "10. 'International.Reputation'\n",
       "11. 'Value'\n",
       "\n",
       "\n"
      ],
      "text/plain": [
       " [1] \"Age\"                      \"Overall\"                 \n",
       " [3] \"Potential\"                \"GKDiving\"                \n",
       " [5] \"GKHandling\"               \"GKKicking\"               \n",
       " [7] \"GKPositioning\"            \"GKReflexes\"              \n",
       " [9] \"Reactions\"                \"International.Reputation\"\n",
       "[11] \"Value\"                   "
      ]
     },
     "metadata": {},
     "output_type": "display_data"
    },
    {
     "data": {
      "text/html": [
       "<ol class=list-inline>\n",
       "\t<li>1621</li>\n",
       "\t<li>11</li>\n",
       "</ol>\n"
      ],
      "text/latex": [
       "\\begin{enumerate*}\n",
       "\\item 1621\n",
       "\\item 11\n",
       "\\end{enumerate*}\n"
      ],
      "text/markdown": [
       "1. 1621\n",
       "2. 11\n",
       "\n",
       "\n"
      ],
      "text/plain": [
       "[1] 1621   11"
      ]
     },
     "metadata": {},
     "output_type": "display_data"
    },
    {
     "data": {
      "text/html": [
       "<ol class=list-inline>\n",
       "\t<li>'Age'</li>\n",
       "\t<li>'Overall'</li>\n",
       "\t<li>'Potential'</li>\n",
       "\t<li>'GKDiving'</li>\n",
       "\t<li>'GKHandling'</li>\n",
       "\t<li>'GKKicking'</li>\n",
       "\t<li>'GKPositioning'</li>\n",
       "\t<li>'GKReflexes'</li>\n",
       "\t<li>'Reactions'</li>\n",
       "\t<li>'International.Reputation'</li>\n",
       "\t<li>'Value'</li>\n",
       "</ol>\n"
      ],
      "text/latex": [
       "\\begin{enumerate*}\n",
       "\\item 'Age'\n",
       "\\item 'Overall'\n",
       "\\item 'Potential'\n",
       "\\item 'GKDiving'\n",
       "\\item 'GKHandling'\n",
       "\\item 'GKKicking'\n",
       "\\item 'GKPositioning'\n",
       "\\item 'GKReflexes'\n",
       "\\item 'Reactions'\n",
       "\\item 'International.Reputation'\n",
       "\\item 'Value'\n",
       "\\end{enumerate*}\n"
      ],
      "text/markdown": [
       "1. 'Age'\n",
       "2. 'Overall'\n",
       "3. 'Potential'\n",
       "4. 'GKDiving'\n",
       "5. 'GKHandling'\n",
       "6. 'GKKicking'\n",
       "7. 'GKPositioning'\n",
       "8. 'GKReflexes'\n",
       "9. 'Reactions'\n",
       "10. 'International.Reputation'\n",
       "11. 'Value'\n",
       "\n",
       "\n"
      ],
      "text/plain": [
       " [1] \"Age\"                      \"Overall\"                 \n",
       " [3] \"Potential\"                \"GKDiving\"                \n",
       " [5] \"GKHandling\"               \"GKKicking\"               \n",
       " [7] \"GKPositioning\"            \"GKReflexes\"              \n",
       " [9] \"Reactions\"                \"International.Reputation\"\n",
       "[11] \"Value\"                   "
      ]
     },
     "metadata": {},
     "output_type": "display_data"
    },
    {
     "data": {
      "text/html": [
       "<ol class=list-inline>\n",
       "\t<li>404</li>\n",
       "\t<li>11</li>\n",
       "</ol>\n"
      ],
      "text/latex": [
       "\\begin{enumerate*}\n",
       "\\item 404\n",
       "\\item 11\n",
       "\\end{enumerate*}\n"
      ],
      "text/markdown": [
       "1. 404\n",
       "2. 11\n",
       "\n",
       "\n"
      ],
      "text/plain": [
       "[1] 404  11"
      ]
     },
     "metadata": {},
     "output_type": "display_data"
    }
   ],
   "source": [
    "#Verificamos los subconjuntos\n",
    "names(fifaGK.train)\n",
    "dim(fifaGK.train)\n",
    "\n",
    "names(fifaGK.test)\n",
    "dim(fifaGK.test)"
   ]
  },
  {
   "cell_type": "markdown",
   "metadata": {},
   "source": [
    "Verificamos que la suma de la cantidad de líneas de fifaGK.train y fifaGK.test es igual a la cantidad total de lineas de fifaGK"
   ]
  },
  {
   "cell_type": "code",
   "execution_count": 25,
   "metadata": {},
   "outputs": [
    {
     "data": {
      "text/html": [
       "TRUE"
      ],
      "text/latex": [
       "TRUE"
      ],
      "text/markdown": [
       "TRUE"
      ],
      "text/plain": [
       "[1] TRUE"
      ]
     },
     "metadata": {},
     "output_type": "display_data"
    }
   ],
   "source": [
    "nrow(fifaGK.train) + nrow(fifaGK.test) == nrow(fifaGK)"
   ]
  },
  {
   "cell_type": "code",
   "execution_count": 26,
   "metadata": {},
   "outputs": [
    {
     "data": {
      "image/png": "[encoded data removed]",
      "text/plain": [
       "plot without title"
      ]
     },
     "metadata": {},
     "output_type": "display_data"
    }
   ],
   "source": [
    "ggplot() + geom_point(data = fifaGK.train, aes(x = Overall, y = Value)) + \n",
    "  xlab(\"Overall\") + \n",
    "  ylab(\"Value\") + \n",
    "  ggtitle(\"Datos de entrenamiento para Goalkeepers\")"
   ]
  },
  {
   "cell_type": "markdown",
   "metadata": {},
   "source": [
    "Realizamos una regresión lineal simple con teniendo en cuenta el Overall"
   ]
  },
  {
   "cell_type": "code",
   "execution_count": 27,
   "metadata": {},
   "outputs": [],
   "source": [
    "set.seed(1500)\n",
    "regresor_fifaGK <- lm(Value ~ Overall, data = fifaGK.train)"
   ]
  },
  {
   "cell_type": "code",
   "execution_count": 28,
   "metadata": {},
   "outputs": [
    {
     "name": "stdout",
     "output_type": "stream",
     "text": [
      "'data.frame':\t1621 obs. of  11 variables:\n",
      " $ Age                     : int  27 25 26 26 32 31 33 40 31 24 ...\n",
      " $ Overall                 : int  91 90 89 89 89 88 88 88 87 86 ...\n",
      " $ Potential               : int  93 93 92 90 89 88 88 88 87 90 ...\n",
      " $ GKDiving                : int  90 86 87 85 90 88 87 88 90 85 ...\n",
      " $ GKHandling              : int  85 92 85 91 86 84 86 87 81 80 ...\n",
      " $ GKKicking               : int  87 78 88 72 91 68 69 74 75 91 ...\n",
      " $ GKPositioning           : int  88 88 85 86 87 83 89 90 82 82 ...\n",
      " $ GKReflexes              : int  94 89 90 88 87 92 89 83 90 87 ...\n",
      " $ Reactions               : int  90 86 85 84 84 85 83 79 84 86 ...\n",
      " $ International.Reputation: int  4 3 3 4 5 4 3 4 3 2 ...\n",
      " $ Value                   : num  72000000 68000000 58000000 53500000 38000000 36000000 30000000 4000000 30500000 41500000 ...\n"
     ]
    }
   ],
   "source": [
    "str(fifaGK.train)"
   ]
  },
  {
   "cell_type": "code",
   "execution_count": 29,
   "metadata": {},
   "outputs": [],
   "source": [
    "y_predict_fifaGK <- predict(regresor_fifaGK, fifaGK.train)"
   ]
  },
  {
   "cell_type": "code",
   "execution_count": 30,
   "metadata": {},
   "outputs": [
    {
     "data": {
      "image/png": "[encoded data removed]",
      "text/plain": [
       "plot without title"
      ]
     },
     "metadata": {},
     "output_type": "display_data"
    }
   ],
   "source": [
    "ggplot() + geom_point(data = fifaGK.train, aes(x = Overall, y = Value), size = 0.9) +\n",
    "  geom_line(aes( x = fifaGK.train$Overall, y = y_predict_fifaGK), color = \"blue\") +\n",
    "  xlab(\"Overall\") + \n",
    "  ylab(\"Value\") + \n",
    "  ggtitle(\"Curva de ajuste sobre datos de entrenamiento para Goalkeepers\")"
   ]
  },
  {
   "cell_type": "code",
   "execution_count": 31,
   "metadata": {},
   "outputs": [],
   "source": [
    "y_test_predict_fifaGK <- predict(regresor_fifaGK, fifaGK.test)"
   ]
  },
  {
   "cell_type": "code",
   "execution_count": 32,
   "metadata": {},
   "outputs": [
    {
     "data": {
      "image/png": "[encoded data removed]",
      "text/plain": [
       "plot without title"
      ]
     },
     "metadata": {},
     "output_type": "display_data"
    }
   ],
   "source": [
    "ggplot() + geom_point(data = fifaGK.test, aes(x = Overall, y = Value), size = 0.9) +\n",
    "  geom_line(aes( x = fifaGK.test$Overall, y = y_test_predict_fifaGK), color = \"red\") +\n",
    "  xlab(\"Overall\") + \n",
    "  ylab(\"Value\") + \n",
    "  ggtitle(\"Curva de ajuste sobre datos de validación de entrenamiento para Goalkeepers\")"
   ]
  },
  {
   "cell_type": "code",
   "execution_count": 33,
   "metadata": {},
   "outputs": [
    {
     "data": {
      "text/html": [
       "0.652331853507654"
      ],
      "text/latex": [
       "0.652331853507654"
      ],
      "text/markdown": [
       "0.652331853507654"
      ],
      "text/plain": [
       "[1] 0.6523319"
      ]
     },
     "metadata": {},
     "output_type": "display_data"
    },
    {
     "name": "stdout",
     "output_type": "stream",
     "text": [
      "\n",
      "Call:\n",
      "lm(formula = Value ~ Overall, data = fifaGK.train)\n",
      "\n",
      "Coefficients:\n",
      "(Intercept)      Overall  \n",
      "  -22126489       367639  \n",
      "\n"
     ]
    }
   ],
   "source": [
    "cor(fifaGK.test$Value, y_test_predict_fifaGK)\n",
    "print (regresor_fifaGK)"
   ]
  },
  {
   "cell_type": "code",
   "execution_count": 34,
   "metadata": {},
   "outputs": [
    {
     "data": {
      "image/png": "[encoded data removed]",
      "text/plain": [
       "Plot with title \"Normal Q-Q Plot\""
      ]
     },
     "metadata": {},
     "output_type": "display_data"
    }
   ],
   "source": [
    "#Diagnóstico del Modelo\n",
    "residuos <- rstandard(regresor_fifaGK)\n",
    "qqnorm(residuos)\n",
    "qqline(residuos)"
   ]
  },
  {
   "cell_type": "markdown",
   "metadata": {},
   "source": [
    "Vamos a probar si incluyendo más variables la predicción mejora."
   ]
  },
  {
   "cell_type": "code",
   "execution_count": 35,
   "metadata": {},
   "outputs": [],
   "source": [
    "#Incluimos todas las variables del data set fifaGK.train\n",
    "set.seed(1500)\n",
    "regresor_fifaGK_All <- lm(Value ~ . , data = fifaGK.train)"
   ]
  },
  {
   "cell_type": "code",
   "execution_count": 36,
   "metadata": {},
   "outputs": [
    {
     "data": {
      "text/plain": [
       "\n",
       "Call:\n",
       "lm(formula = Value ~ ., data = fifaGK.train)\n",
       "\n",
       "Residuals:\n",
       "      Min        1Q    Median        3Q       Max \n",
       "-19073784  -1129969   -178228    866212  45848315 \n",
       "\n",
       "Coefficients:\n",
       "                          Estimate Std. Error t value Pr(>|t|)    \n",
       "(Intercept)              -17266196    1349270 -12.797  < 2e-16 ***\n",
       "Age                        -312344      30446 -10.259  < 2e-16 ***\n",
       "Overall                    1540396     254217   6.059 1.70e-09 ***\n",
       "Potential                   -69282      32007  -2.165 0.030565 *  \n",
       "GKDiving                   -277969      60496  -4.595 4.67e-06 ***\n",
       "GKHandling                 -189336      58956  -3.212 0.001346 ** \n",
       "GKKicking                   -39935      20256  -1.972 0.048830 *  \n",
       "GKPositioning              -283972      57475  -4.941 8.59e-07 ***\n",
       "GKReflexes                 -253623      59087  -4.292 1.87e-05 ***\n",
       "Reactions                  -111004      31121  -3.567 0.000372 ***\n",
       "International.Reputation   5527225     250492  22.065  < 2e-16 ***\n",
       "---\n",
       "Signif. codes:  0 '***' 0.001 '**' 0.01 '*' 0.05 '.' 0.1 ' ' 1\n",
       "\n",
       "Residual standard error: 3263000 on 1610 degrees of freedom\n",
       "Multiple R-squared:  0.5559,\tAdjusted R-squared:  0.5532 \n",
       "F-statistic: 201.6 on 10 and 1610 DF,  p-value: < 2.2e-16\n"
      ]
     },
     "metadata": {},
     "output_type": "display_data"
    }
   ],
   "source": [
    "summary(regresor_fifaGK_All)"
   ]
  },
  {
   "cell_type": "code",
   "execution_count": 37,
   "metadata": {},
   "outputs": [
    {
     "name": "stdout",
     "output_type": "stream",
     "text": [
      "'data.frame':\t1621 obs. of  11 variables:\n",
      " $ Age                     : int  27 25 26 26 32 31 33 40 31 24 ...\n",
      " $ Overall                 : int  91 90 89 89 89 88 88 88 87 86 ...\n",
      " $ Potential               : int  93 93 92 90 89 88 88 88 87 90 ...\n",
      " $ GKDiving                : int  90 86 87 85 90 88 87 88 90 85 ...\n",
      " $ GKHandling              : int  85 92 85 91 86 84 86 87 81 80 ...\n",
      " $ GKKicking               : int  87 78 88 72 91 68 69 74 75 91 ...\n",
      " $ GKPositioning           : int  88 88 85 86 87 83 89 90 82 82 ...\n",
      " $ GKReflexes              : int  94 89 90 88 87 92 89 83 90 87 ...\n",
      " $ Reactions               : int  90 86 85 84 84 85 83 79 84 86 ...\n",
      " $ International.Reputation: int  4 3 3 4 5 4 3 4 3 2 ...\n",
      " $ Value                   : num  72000000 68000000 58000000 53500000 38000000 36000000 30000000 4000000 30500000 41500000 ...\n"
     ]
    }
   ],
   "source": [
    "str(fifaGK.train)"
   ]
  },
  {
   "cell_type": "code",
   "execution_count": 38,
   "metadata": {},
   "outputs": [],
   "source": [
    "y_predict_fifaGK_All <- predict(regresor_fifaGK_All, fifaGK.train)"
   ]
  },
  {
   "cell_type": "code",
   "execution_count": 39,
   "metadata": {},
   "outputs": [],
   "source": [
    "y_test_predict_fifaGK_All <- predict(regresor_fifaGK_All, fifaGK.test)"
   ]
  },
  {
   "cell_type": "markdown",
   "metadata": {},
   "source": [
    "Para verificar la correlación entre los valores existentes en el modelo y el entreanamiento utilizamos la función cor. A valor más cercano a 1, mejor ajuste de datos."
   ]
  },
  {
   "cell_type": "code",
   "execution_count": 40,
   "metadata": {},
   "outputs": [
    {
     "data": {
      "text/html": [
       "0.817050290517386"
      ],
      "text/latex": [
       "0.817050290517386"
      ],
      "text/markdown": [
       "0.817050290517386"
      ],
      "text/plain": [
       "[1] 0.8170503"
      ]
     },
     "metadata": {},
     "output_type": "display_data"
    },
    {
     "name": "stdout",
     "output_type": "stream",
     "text": [
      "\n",
      "Call:\n",
      "lm(formula = Value ~ ., data = fifaGK.train)\n",
      "\n",
      "Coefficients:\n",
      "             (Intercept)                       Age                   Overall  \n",
      "               -17266196                   -312344                   1540396  \n",
      "               Potential                  GKDiving                GKHandling  \n",
      "                  -69282                   -277969                   -189336  \n",
      "               GKKicking             GKPositioning                GKReflexes  \n",
      "                  -39935                   -283972                   -253623  \n",
      "               Reactions  International.Reputation  \n",
      "                 -111004                   5527225  \n",
      "\n"
     ]
    }
   ],
   "source": [
    "cor(fifaGK.test$Value, y_test_predict_fifaGK_All)\n",
    "print (regresor_fifaGK_All)"
   ]
  },
  {
   "cell_type": "markdown",
   "metadata": {},
   "source": [
    "Observando el resultado anterior podemos ver que la predicción mejora notablemente cuando se incrementa la cantidad de variables a tener en cuenta para realizar el entrenamiento."
   ]
  },
  {
   "cell_type": "code",
   "execution_count": 41,
   "metadata": {},
   "outputs": [
    {
     "data": {
      "image/png": "[encoded data removed]",
      "text/plain": [
       "Plot with title \"Normal Q-Q Plot\""
      ]
     },
     "metadata": {},
     "output_type": "display_data"
    }
   ],
   "source": [
    "#Diagnóstico del Modelo\n",
    "residuos_fifaGK_All <- rstandard(regresor_fifaGK_All)\n",
    "qqnorm(residuos_fifaGK_All)\n",
    "qqline(residuos_fifaGK_All)"
   ]
  },
  {
   "cell_type": "markdown",
   "metadata": {},
   "source": [
    "Escalamos las variables numéricas para observar si la predicción mejora.\n",
    "\n",
    "Vamos a escalar todas las features excepto 'Value' porque es la que vamos a predecir. Los valores de x son escalados así algoritmos como por ejemplo support vector machines le dan un peso igual a cada feature, sin embargo escalar 'y' no afecta el aprendizaje de los algoritmos."
   ]
  },
  {
   "cell_type": "code",
   "execution_count": 42,
   "metadata": {},
   "outputs": [
    {
     "data": {
      "text/html": [
       "<ol class=list-inline>\n",
       "\t<li>'Age'</li>\n",
       "\t<li>'Overall'</li>\n",
       "\t<li>'Potential'</li>\n",
       "\t<li>'GKDiving'</li>\n",
       "\t<li>'GKHandling'</li>\n",
       "\t<li>'GKKicking'</li>\n",
       "\t<li>'GKPositioning'</li>\n",
       "\t<li>'GKReflexes'</li>\n",
       "\t<li>'Reactions'</li>\n",
       "\t<li>'International.Reputation'</li>\n",
       "\t<li>'Value'</li>\n",
       "</ol>\n"
      ],
      "text/latex": [
       "\\begin{enumerate*}\n",
       "\\item 'Age'\n",
       "\\item 'Overall'\n",
       "\\item 'Potential'\n",
       "\\item 'GKDiving'\n",
       "\\item 'GKHandling'\n",
       "\\item 'GKKicking'\n",
       "\\item 'GKPositioning'\n",
       "\\item 'GKReflexes'\n",
       "\\item 'Reactions'\n",
       "\\item 'International.Reputation'\n",
       "\\item 'Value'\n",
       "\\end{enumerate*}\n"
      ],
      "text/markdown": [
       "1. 'Age'\n",
       "2. 'Overall'\n",
       "3. 'Potential'\n",
       "4. 'GKDiving'\n",
       "5. 'GKHandling'\n",
       "6. 'GKKicking'\n",
       "7. 'GKPositioning'\n",
       "8. 'GKReflexes'\n",
       "9. 'Reactions'\n",
       "10. 'International.Reputation'\n",
       "11. 'Value'\n",
       "\n",
       "\n"
      ],
      "text/plain": [
       " [1] \"Age\"                      \"Overall\"                 \n",
       " [3] \"Potential\"                \"GKDiving\"                \n",
       " [5] \"GKHandling\"               \"GKKicking\"               \n",
       " [7] \"GKPositioning\"            \"GKReflexes\"              \n",
       " [9] \"Reactions\"                \"International.Reputation\"\n",
       "[11] \"Value\"                   "
      ]
     },
     "metadata": {},
     "output_type": "display_data"
    }
   ],
   "source": [
    "colnames(fifaGK)"
   ]
  },
  {
   "cell_type": "code",
   "execution_count": 43,
   "metadata": {},
   "outputs": [
    {
     "data": {
      "text/html": [
       "<table>\n",
       "<thead><tr><th scope=col>Age</th><th scope=col>Overall</th><th scope=col>Potential</th><th scope=col>GKDiving</th><th scope=col>GKHandling</th><th scope=col>GKKicking</th><th scope=col>GKPositioning</th><th scope=col>GKReflexes</th><th scope=col>Reactions</th><th scope=col>International.Reputation</th></tr></thead>\n",
       "<tbody>\n",
       "\t<tr><td>27</td><td>91</td><td>93</td><td>90</td><td>85</td><td>87</td><td>88</td><td>94</td><td>90</td><td>4 </td></tr>\n",
       "\t<tr><td>25</td><td>90</td><td>93</td><td>86</td><td>92</td><td>78</td><td>88</td><td>89</td><td>86</td><td>3 </td></tr>\n",
       "\t<tr><td>26</td><td>89</td><td>92</td><td>87</td><td>85</td><td>88</td><td>85</td><td>90</td><td>85</td><td>3 </td></tr>\n",
       "\t<tr><td>26</td><td>89</td><td>90</td><td>85</td><td>91</td><td>72</td><td>86</td><td>88</td><td>84</td><td>4 </td></tr>\n",
       "\t<tr><td>32</td><td>89</td><td>89</td><td>90</td><td>86</td><td>91</td><td>87</td><td>87</td><td>84</td><td>5 </td></tr>\n",
       "\t<tr><td>31</td><td>88</td><td>88</td><td>88</td><td>84</td><td>68</td><td>83</td><td>92</td><td>85</td><td>4 </td></tr>\n",
       "</tbody>\n",
       "</table>\n"
      ],
      "text/latex": [
       "\\begin{tabular}{r|llllllllll}\n",
       " Age & Overall & Potential & GKDiving & GKHandling & GKKicking & GKPositioning & GKReflexes & Reactions & International.Reputation\\\\\n",
       "\\hline\n",
       "\t 27 & 91 & 93 & 90 & 85 & 87 & 88 & 94 & 90 & 4 \\\\\n",
       "\t 25 & 90 & 93 & 86 & 92 & 78 & 88 & 89 & 86 & 3 \\\\\n",
       "\t 26 & 89 & 92 & 87 & 85 & 88 & 85 & 90 & 85 & 3 \\\\\n",
       "\t 26 & 89 & 90 & 85 & 91 & 72 & 86 & 88 & 84 & 4 \\\\\n",
       "\t 32 & 89 & 89 & 90 & 86 & 91 & 87 & 87 & 84 & 5 \\\\\n",
       "\t 31 & 88 & 88 & 88 & 84 & 68 & 83 & 92 & 85 & 4 \\\\\n",
       "\\end{tabular}\n"
      ],
      "text/markdown": [
       "\n",
       "| Age | Overall | Potential | GKDiving | GKHandling | GKKicking | GKPositioning | GKReflexes | Reactions | International.Reputation |\n",
       "|---|---|---|---|---|---|---|---|---|---|\n",
       "| 27 | 91 | 93 | 90 | 85 | 87 | 88 | 94 | 90 | 4  |\n",
       "| 25 | 90 | 93 | 86 | 92 | 78 | 88 | 89 | 86 | 3  |\n",
       "| 26 | 89 | 92 | 87 | 85 | 88 | 85 | 90 | 85 | 3  |\n",
       "| 26 | 89 | 90 | 85 | 91 | 72 | 86 | 88 | 84 | 4  |\n",
       "| 32 | 89 | 89 | 90 | 86 | 91 | 87 | 87 | 84 | 5  |\n",
       "| 31 | 88 | 88 | 88 | 84 | 68 | 83 | 92 | 85 | 4  |\n",
       "\n"
      ],
      "text/plain": [
       "  Age Overall Potential GKDiving GKHandling GKKicking GKPositioning GKReflexes\n",
       "1 27  91      93        90       85         87        88            94        \n",
       "2 25  90      93        86       92         78        88            89        \n",
       "3 26  89      92        87       85         88        85            90        \n",
       "4 26  89      90        85       91         72        86            88        \n",
       "5 32  89      89        90       86         91        87            87        \n",
       "6 31  88      88        88       84         68        83            92        \n",
       "  Reactions International.Reputation\n",
       "1 90        4                       \n",
       "2 86        3                       \n",
       "3 85        3                       \n",
       "4 84        4                       \n",
       "5 84        5                       \n",
       "6 85        4                       "
      ]
     },
     "metadata": {},
     "output_type": "display_data"
    }
   ],
   "source": [
    "dropsGK = c('Value')\n",
    "fifaGK_wv =  fifaGK[ , !(names(fifaGK) %in% dropsGK)]\n",
    "head(fifaGK_wv)"
   ]
  },
  {
   "cell_type": "code",
   "execution_count": 44,
   "metadata": {},
   "outputs": [
    {
     "data": {
      "text/html": [
       "<table>\n",
       "<thead><tr><th scope=col>Age</th><th scope=col>Overall</th><th scope=col>Potential</th><th scope=col>GKDiving</th><th scope=col>GKHandling</th><th scope=col>GKKicking</th><th scope=col>GKPositioning</th><th scope=col>GKReflexes</th><th scope=col>Reactions</th><th scope=col>International.Reputation</th></tr></thead>\n",
       "<tbody>\n",
       "\t<tr><td> 0.175029424</td><td>3.474770    </td><td>3.639800    </td><td>3.176425    </td><td>2.956244    </td><td>3.3466318   </td><td>2.877569    </td><td>3.396626    </td><td>3.016081    </td><td> 7.761051   </td></tr>\n",
       "\t<tr><td>-0.190932975</td><td>3.343133    </td><td>3.639800    </td><td>2.661525    </td><td>3.891263    </td><td>2.1665075   </td><td>2.877569    </td><td>2.787874    </td><td>2.627831    </td><td> 5.088694   </td></tr>\n",
       "\t<tr><td>-0.007951776</td><td>3.211496    </td><td>3.482919    </td><td>2.790250    </td><td>2.956244    </td><td>3.4777567   </td><td>2.531605    </td><td>2.909625    </td><td>2.530768    </td><td> 5.088694   </td></tr>\n",
       "\t<tr><td>-0.007951776</td><td>3.211496    </td><td>3.169157    </td><td>2.532800    </td><td>3.757689    </td><td>1.3797579   </td><td>2.646926    </td><td>2.666124    </td><td>2.433706    </td><td> 7.761051   </td></tr>\n",
       "\t<tr><td> 1.089935421</td><td>3.211496    </td><td>3.012275    </td><td>3.176425    </td><td>3.089818    </td><td>3.8711314   </td><td>2.762248    </td><td>2.544373    </td><td>2.433706    </td><td>10.433407   </td></tr>\n",
       "\t<tr><td> 0.906954221</td><td>3.079858    </td><td>2.855394    </td><td>2.918975    </td><td>2.822670    </td><td>0.8552583   </td><td>2.300962    </td><td>3.153125    </td><td>2.530768    </td><td> 7.761051   </td></tr>\n",
       "</tbody>\n",
       "</table>\n"
      ],
      "text/latex": [
       "\\begin{tabular}{llllllllll}\n",
       " Age & Overall & Potential & GKDiving & GKHandling & GKKicking & GKPositioning & GKReflexes & Reactions & International.Reputation\\\\\n",
       "\\hline\n",
       "\t  0.175029424 & 3.474770     & 3.639800     & 3.176425     & 2.956244     & 3.3466318    & 2.877569     & 3.396626     & 3.016081     &  7.761051   \\\\\n",
       "\t -0.190932975 & 3.343133     & 3.639800     & 2.661525     & 3.891263     & 2.1665075    & 2.877569     & 2.787874     & 2.627831     &  5.088694   \\\\\n",
       "\t -0.007951776 & 3.211496     & 3.482919     & 2.790250     & 2.956244     & 3.4777567    & 2.531605     & 2.909625     & 2.530768     &  5.088694   \\\\\n",
       "\t -0.007951776 & 3.211496     & 3.169157     & 2.532800     & 3.757689     & 1.3797579    & 2.646926     & 2.666124     & 2.433706     &  7.761051   \\\\\n",
       "\t  1.089935421 & 3.211496     & 3.012275     & 3.176425     & 3.089818     & 3.8711314    & 2.762248     & 2.544373     & 2.433706     & 10.433407   \\\\\n",
       "\t  0.906954221 & 3.079858     & 2.855394     & 2.918975     & 2.822670     & 0.8552583    & 2.300962     & 3.153125     & 2.530768     &  7.761051   \\\\\n",
       "\\end{tabular}\n"
      ],
      "text/markdown": [
       "\n",
       "| Age | Overall | Potential | GKDiving | GKHandling | GKKicking | GKPositioning | GKReflexes | Reactions | International.Reputation |\n",
       "|---|---|---|---|---|---|---|---|---|---|\n",
       "|  0.175029424 | 3.474770     | 3.639800     | 3.176425     | 2.956244     | 3.3466318    | 2.877569     | 3.396626     | 3.016081     |  7.761051    |\n",
       "| -0.190932975 | 3.343133     | 3.639800     | 2.661525     | 3.891263     | 2.1665075    | 2.877569     | 2.787874     | 2.627831     |  5.088694    |\n",
       "| -0.007951776 | 3.211496     | 3.482919     | 2.790250     | 2.956244     | 3.4777567    | 2.531605     | 2.909625     | 2.530768     |  5.088694    |\n",
       "| -0.007951776 | 3.211496     | 3.169157     | 2.532800     | 3.757689     | 1.3797579    | 2.646926     | 2.666124     | 2.433706     |  7.761051    |\n",
       "|  1.089935421 | 3.211496     | 3.012275     | 3.176425     | 3.089818     | 3.8711314    | 2.762248     | 2.544373     | 2.433706     | 10.433407    |\n",
       "|  0.906954221 | 3.079858     | 2.855394     | 2.918975     | 2.822670     | 0.8552583    | 2.300962     | 3.153125     | 2.530768     |  7.761051    |\n",
       "\n"
      ],
      "text/plain": [
       "     Age          Overall  Potential GKDiving GKHandling GKKicking\n",
       "[1,]  0.175029424 3.474770 3.639800  3.176425 2.956244   3.3466318\n",
       "[2,] -0.190932975 3.343133 3.639800  2.661525 3.891263   2.1665075\n",
       "[3,] -0.007951776 3.211496 3.482919  2.790250 2.956244   3.4777567\n",
       "[4,] -0.007951776 3.211496 3.169157  2.532800 3.757689   1.3797579\n",
       "[5,]  1.089935421 3.211496 3.012275  3.176425 3.089818   3.8711314\n",
       "[6,]  0.906954221 3.079858 2.855394  2.918975 2.822670   0.8552583\n",
       "     GKPositioning GKReflexes Reactions International.Reputation\n",
       "[1,] 2.877569      3.396626   3.016081   7.761051               \n",
       "[2,] 2.877569      2.787874   2.627831   5.088694               \n",
       "[3,] 2.531605      2.909625   2.530768   5.088694               \n",
       "[4,] 2.646926      2.666124   2.433706   7.761051               \n",
       "[5,] 2.762248      2.544373   2.433706  10.433407               \n",
       "[6,] 2.300962      3.153125   2.530768   7.761051               "
      ]
     },
     "metadata": {},
     "output_type": "display_data"
    }
   ],
   "source": [
    "scaled_fifaGK_wv = scale(fifaGK_wv)\n",
    "head(scaled_fifaGK_wv)"
   ]
  },
  {
   "cell_type": "markdown",
   "metadata": {},
   "source": [
    "Combinamos el dataframe con los datos numéricos modificados y la columna value"
   ]
  },
  {
   "cell_type": "code",
   "execution_count": 45,
   "metadata": {},
   "outputs": [
    {
     "data": {
      "text/html": [
       "<table>\n",
       "<thead><tr><th scope=col>Age</th><th scope=col>Overall</th><th scope=col>Potential</th><th scope=col>GKDiving</th><th scope=col>GKHandling</th><th scope=col>GKKicking</th><th scope=col>GKPositioning</th><th scope=col>GKReflexes</th><th scope=col>Reactions</th><th scope=col>International.Reputation</th><th scope=col>Value</th></tr></thead>\n",
       "<tbody>\n",
       "\t<tr><td> 0.175029424</td><td>3.474770    </td><td>3.639800    </td><td>3.176425    </td><td>2.956244    </td><td>3.3466318   </td><td>2.877569    </td><td>3.396626    </td><td>3.016081    </td><td> 7.761051   </td><td>72000000    </td></tr>\n",
       "\t<tr><td>-0.190932975</td><td>3.343133    </td><td>3.639800    </td><td>2.661525    </td><td>3.891263    </td><td>2.1665075   </td><td>2.877569    </td><td>2.787874    </td><td>2.627831    </td><td> 5.088694   </td><td>68000000    </td></tr>\n",
       "\t<tr><td>-0.007951776</td><td>3.211496    </td><td>3.482919    </td><td>2.790250    </td><td>2.956244    </td><td>3.4777567   </td><td>2.531605    </td><td>2.909625    </td><td>2.530768    </td><td> 5.088694   </td><td>58000000    </td></tr>\n",
       "\t<tr><td>-0.007951776</td><td>3.211496    </td><td>3.169157    </td><td>2.532800    </td><td>3.757689    </td><td>1.3797579   </td><td>2.646926    </td><td>2.666124    </td><td>2.433706    </td><td> 7.761051   </td><td>53500000    </td></tr>\n",
       "\t<tr><td> 1.089935421</td><td>3.211496    </td><td>3.012275    </td><td>3.176425    </td><td>3.089818    </td><td>3.8711314   </td><td>2.762248    </td><td>2.544373    </td><td>2.433706    </td><td>10.433407   </td><td>38000000    </td></tr>\n",
       "\t<tr><td> 0.906954221</td><td>3.079858    </td><td>2.855394    </td><td>2.918975    </td><td>2.822670    </td><td>0.8552583   </td><td>2.300962    </td><td>3.153125    </td><td>2.530768    </td><td> 7.761051   </td><td>36000000    </td></tr>\n",
       "</tbody>\n",
       "</table>\n"
      ],
      "text/latex": [
       "\\begin{tabular}{r|lllllllllll}\n",
       " Age & Overall & Potential & GKDiving & GKHandling & GKKicking & GKPositioning & GKReflexes & Reactions & International.Reputation & Value\\\\\n",
       "\\hline\n",
       "\t  0.175029424 & 3.474770     & 3.639800     & 3.176425     & 2.956244     & 3.3466318    & 2.877569     & 3.396626     & 3.016081     &  7.761051    & 72000000    \\\\\n",
       "\t -0.190932975 & 3.343133     & 3.639800     & 2.661525     & 3.891263     & 2.1665075    & 2.877569     & 2.787874     & 2.627831     &  5.088694    & 68000000    \\\\\n",
       "\t -0.007951776 & 3.211496     & 3.482919     & 2.790250     & 2.956244     & 3.4777567    & 2.531605     & 2.909625     & 2.530768     &  5.088694    & 58000000    \\\\\n",
       "\t -0.007951776 & 3.211496     & 3.169157     & 2.532800     & 3.757689     & 1.3797579    & 2.646926     & 2.666124     & 2.433706     &  7.761051    & 53500000    \\\\\n",
       "\t  1.089935421 & 3.211496     & 3.012275     & 3.176425     & 3.089818     & 3.8711314    & 2.762248     & 2.544373     & 2.433706     & 10.433407    & 38000000    \\\\\n",
       "\t  0.906954221 & 3.079858     & 2.855394     & 2.918975     & 2.822670     & 0.8552583    & 2.300962     & 3.153125     & 2.530768     &  7.761051    & 36000000    \\\\\n",
       "\\end{tabular}\n"
      ],
      "text/markdown": [
       "\n",
       "| Age | Overall | Potential | GKDiving | GKHandling | GKKicking | GKPositioning | GKReflexes | Reactions | International.Reputation | Value |\n",
       "|---|---|---|---|---|---|---|---|---|---|---|\n",
       "|  0.175029424 | 3.474770     | 3.639800     | 3.176425     | 2.956244     | 3.3466318    | 2.877569     | 3.396626     | 3.016081     |  7.761051    | 72000000     |\n",
       "| -0.190932975 | 3.343133     | 3.639800     | 2.661525     | 3.891263     | 2.1665075    | 2.877569     | 2.787874     | 2.627831     |  5.088694    | 68000000     |\n",
       "| -0.007951776 | 3.211496     | 3.482919     | 2.790250     | 2.956244     | 3.4777567    | 2.531605     | 2.909625     | 2.530768     |  5.088694    | 58000000     |\n",
       "| -0.007951776 | 3.211496     | 3.169157     | 2.532800     | 3.757689     | 1.3797579    | 2.646926     | 2.666124     | 2.433706     |  7.761051    | 53500000     |\n",
       "|  1.089935421 | 3.211496     | 3.012275     | 3.176425     | 3.089818     | 3.8711314    | 2.762248     | 2.544373     | 2.433706     | 10.433407    | 38000000     |\n",
       "|  0.906954221 | 3.079858     | 2.855394     | 2.918975     | 2.822670     | 0.8552583    | 2.300962     | 3.153125     | 2.530768     |  7.761051    | 36000000     |\n",
       "\n"
      ],
      "text/plain": [
       "  Age          Overall  Potential GKDiving GKHandling GKKicking GKPositioning\n",
       "1  0.175029424 3.474770 3.639800  3.176425 2.956244   3.3466318 2.877569     \n",
       "2 -0.190932975 3.343133 3.639800  2.661525 3.891263   2.1665075 2.877569     \n",
       "3 -0.007951776 3.211496 3.482919  2.790250 2.956244   3.4777567 2.531605     \n",
       "4 -0.007951776 3.211496 3.169157  2.532800 3.757689   1.3797579 2.646926     \n",
       "5  1.089935421 3.211496 3.012275  3.176425 3.089818   3.8711314 2.762248     \n",
       "6  0.906954221 3.079858 2.855394  2.918975 2.822670   0.8552583 2.300962     \n",
       "  GKReflexes Reactions International.Reputation Value   \n",
       "1 3.396626   3.016081   7.761051                72000000\n",
       "2 2.787874   2.627831   5.088694                68000000\n",
       "3 2.909625   2.530768   5.088694                58000000\n",
       "4 2.666124   2.433706   7.761051                53500000\n",
       "5 2.544373   2.433706  10.433407                38000000\n",
       "6 3.153125   2.530768   7.761051                36000000"
      ]
     },
     "metadata": {},
     "output_type": "display_data"
    }
   ],
   "source": [
    "cleaned_fifaGK_df = cbind.data.frame(scaled_fifaGK_wv, Value=fifaGK$Value)\n",
    "head(cleaned_fifaGK_df)"
   ]
  },
  {
   "cell_type": "code",
   "execution_count": 46,
   "metadata": {},
   "outputs": [
    {
     "data": {
      "text/html": [
       "TRUE"
      ],
      "text/latex": [
       "TRUE"
      ],
      "text/markdown": [
       "TRUE"
      ],
      "text/plain": [
       "[1] TRUE"
      ]
     },
     "metadata": {},
     "output_type": "display_data"
    }
   ],
   "source": [
    "is.data.frame(cleaned_fifaGK_df)"
   ]
  },
  {
   "cell_type": "code",
   "execution_count": 47,
   "metadata": {
    "scrolled": true
   },
   "outputs": [],
   "source": [
    "set.seed(1500)\n",
    "cleaned_fifaGK_index <- createDataPartition(cleaned_fifaGK_df$Value,times = 1,\n",
    "                               p = 0.8, # 80% para entrenar, 20% para evaluar\n",
    "                               list = FALSE)\n",
    "cleaned_fifaGK.train <- cleaned_fifaGK_df[cleaned_fifaGK_index,]\n",
    "cleaned_fifaGK.test <- cleaned_fifaGK_df[-cleaned_fifaGK_index,]"
   ]
  },
  {
   "cell_type": "code",
   "execution_count": 48,
   "metadata": {},
   "outputs": [
    {
     "data": {
      "text/html": [
       "<table>\n",
       "<thead><tr><th scope=col>Age</th><th scope=col>Overall</th><th scope=col>Potential</th><th scope=col>GKDiving</th><th scope=col>GKHandling</th><th scope=col>GKKicking</th><th scope=col>GKPositioning</th><th scope=col>GKReflexes</th><th scope=col>Reactions</th><th scope=col>International.Reputation</th><th scope=col>Value</th></tr></thead>\n",
       "<tbody>\n",
       "\t<tr><td> 0.175029424</td><td>3.474770    </td><td>3.639800    </td><td>3.176425    </td><td>2.956244    </td><td>3.3466318   </td><td>2.877569    </td><td>3.396626    </td><td>3.016081    </td><td> 7.761051   </td><td>72000000    </td></tr>\n",
       "\t<tr><td>-0.190932975</td><td>3.343133    </td><td>3.639800    </td><td>2.661525    </td><td>3.891263    </td><td>2.1665075   </td><td>2.877569    </td><td>2.787874    </td><td>2.627831    </td><td> 5.088694   </td><td>68000000    </td></tr>\n",
       "\t<tr><td>-0.007951776</td><td>3.211496    </td><td>3.482919    </td><td>2.790250    </td><td>2.956244    </td><td>3.4777567   </td><td>2.531605    </td><td>2.909625    </td><td>2.530768    </td><td> 5.088694   </td><td>58000000    </td></tr>\n",
       "\t<tr><td>-0.007951776</td><td>3.211496    </td><td>3.169157    </td><td>2.532800    </td><td>3.757689    </td><td>1.3797579   </td><td>2.646926    </td><td>2.666124    </td><td>2.433706    </td><td> 7.761051   </td><td>53500000    </td></tr>\n",
       "\t<tr><td> 1.089935421</td><td>3.211496    </td><td>3.012275    </td><td>3.176425    </td><td>3.089818    </td><td>3.8711314   </td><td>2.762248    </td><td>2.544373    </td><td>2.433706    </td><td>10.433407   </td><td>38000000    </td></tr>\n",
       "\t<tr><td> 0.906954221</td><td>3.079858    </td><td>2.855394    </td><td>2.918975    </td><td>2.822670    </td><td>0.8552583   </td><td>2.300962    </td><td>3.153125    </td><td>2.530768    </td><td> 7.761051   </td><td>36000000    </td></tr>\n",
       "</tbody>\n",
       "</table>\n"
      ],
      "text/latex": [
       "\\begin{tabular}{r|lllllllllll}\n",
       " Age & Overall & Potential & GKDiving & GKHandling & GKKicking & GKPositioning & GKReflexes & Reactions & International.Reputation & Value\\\\\n",
       "\\hline\n",
       "\t  0.175029424 & 3.474770     & 3.639800     & 3.176425     & 2.956244     & 3.3466318    & 2.877569     & 3.396626     & 3.016081     &  7.761051    & 72000000    \\\\\n",
       "\t -0.190932975 & 3.343133     & 3.639800     & 2.661525     & 3.891263     & 2.1665075    & 2.877569     & 2.787874     & 2.627831     &  5.088694    & 68000000    \\\\\n",
       "\t -0.007951776 & 3.211496     & 3.482919     & 2.790250     & 2.956244     & 3.4777567    & 2.531605     & 2.909625     & 2.530768     &  5.088694    & 58000000    \\\\\n",
       "\t -0.007951776 & 3.211496     & 3.169157     & 2.532800     & 3.757689     & 1.3797579    & 2.646926     & 2.666124     & 2.433706     &  7.761051    & 53500000    \\\\\n",
       "\t  1.089935421 & 3.211496     & 3.012275     & 3.176425     & 3.089818     & 3.8711314    & 2.762248     & 2.544373     & 2.433706     & 10.433407    & 38000000    \\\\\n",
       "\t  0.906954221 & 3.079858     & 2.855394     & 2.918975     & 2.822670     & 0.8552583    & 2.300962     & 3.153125     & 2.530768     &  7.761051    & 36000000    \\\\\n",
       "\\end{tabular}\n"
      ],
      "text/markdown": [
       "\n",
       "| Age | Overall | Potential | GKDiving | GKHandling | GKKicking | GKPositioning | GKReflexes | Reactions | International.Reputation | Value |\n",
       "|---|---|---|---|---|---|---|---|---|---|---|\n",
       "|  0.175029424 | 3.474770     | 3.639800     | 3.176425     | 2.956244     | 3.3466318    | 2.877569     | 3.396626     | 3.016081     |  7.761051    | 72000000     |\n",
       "| -0.190932975 | 3.343133     | 3.639800     | 2.661525     | 3.891263     | 2.1665075    | 2.877569     | 2.787874     | 2.627831     |  5.088694    | 68000000     |\n",
       "| -0.007951776 | 3.211496     | 3.482919     | 2.790250     | 2.956244     | 3.4777567    | 2.531605     | 2.909625     | 2.530768     |  5.088694    | 58000000     |\n",
       "| -0.007951776 | 3.211496     | 3.169157     | 2.532800     | 3.757689     | 1.3797579    | 2.646926     | 2.666124     | 2.433706     |  7.761051    | 53500000     |\n",
       "|  1.089935421 | 3.211496     | 3.012275     | 3.176425     | 3.089818     | 3.8711314    | 2.762248     | 2.544373     | 2.433706     | 10.433407    | 38000000     |\n",
       "|  0.906954221 | 3.079858     | 2.855394     | 2.918975     | 2.822670     | 0.8552583    | 2.300962     | 3.153125     | 2.530768     |  7.761051    | 36000000     |\n",
       "\n"
      ],
      "text/plain": [
       "  Age          Overall  Potential GKDiving GKHandling GKKicking GKPositioning\n",
       "1  0.175029424 3.474770 3.639800  3.176425 2.956244   3.3466318 2.877569     \n",
       "2 -0.190932975 3.343133 3.639800  2.661525 3.891263   2.1665075 2.877569     \n",
       "3 -0.007951776 3.211496 3.482919  2.790250 2.956244   3.4777567 2.531605     \n",
       "4 -0.007951776 3.211496 3.169157  2.532800 3.757689   1.3797579 2.646926     \n",
       "5  1.089935421 3.211496 3.012275  3.176425 3.089818   3.8711314 2.762248     \n",
       "6  0.906954221 3.079858 2.855394  2.918975 2.822670   0.8552583 2.300962     \n",
       "  GKReflexes Reactions International.Reputation Value   \n",
       "1 3.396626   3.016081   7.761051                72000000\n",
       "2 2.787874   2.627831   5.088694                68000000\n",
       "3 2.909625   2.530768   5.088694                58000000\n",
       "4 2.666124   2.433706   7.761051                53500000\n",
       "5 2.544373   2.433706  10.433407                38000000\n",
       "6 3.153125   2.530768   7.761051                36000000"
      ]
     },
     "metadata": {},
     "output_type": "display_data"
    },
    {
     "data": {
      "text/html": [
       "<table>\n",
       "<thead><tr><th></th><th scope=col>Age</th><th scope=col>Overall</th><th scope=col>Potential</th><th scope=col>GKDiving</th><th scope=col>GKHandling</th><th scope=col>GKKicking</th><th scope=col>GKPositioning</th><th scope=col>GKReflexes</th><th scope=col>Reactions</th><th scope=col>International.Reputation</th><th scope=col>Value</th></tr></thead>\n",
       "<tbody>\n",
       "\t<tr><th scope=row>18</th><td> 0.906954221</td><td>2.553309    </td><td>2.227869    </td><td>2.146625    </td><td>2.822670    </td><td>2.035383    </td><td>2.531605    </td><td>1.935621    </td><td>1.851330    </td><td>5.088694    </td><td>19000000    </td></tr>\n",
       "\t<tr><th scope=row>29</th><td> 0.540991823</td><td>2.421672    </td><td>2.227869    </td><td>1.631725    </td><td>2.822670    </td><td>2.428757    </td><td>1.954998    </td><td>2.300872    </td><td>2.045455    </td><td>5.088694    </td><td>20000000    </td></tr>\n",
       "\t<tr><th scope=row>30</th><td> 1.272916620</td><td>2.421672    </td><td>2.070988    </td><td>2.661525    </td><td>2.421947    </td><td>1.117508    </td><td>1.839676    </td><td>2.179122    </td><td>2.045455    </td><td>5.088694    </td><td>13000000    </td></tr>\n",
       "\t<tr><th scope=row>31</th><td> 1.272916620</td><td>2.421672    </td><td>2.070988    </td><td>1.760450    </td><td>2.555522    </td><td>1.904258    </td><td>2.646926    </td><td>2.179122    </td><td>1.657205    </td><td>2.416338    </td><td>13000000    </td></tr>\n",
       "\t<tr><th scope=row>38</th><td>-0.007951776</td><td>2.290034    </td><td>2.384750    </td><td>2.275350    </td><td>1.887651    </td><td>2.035383    </td><td>2.070319    </td><td>2.057372    </td><td>2.142518    </td><td>2.416338    </td><td>19500000    </td></tr>\n",
       "\t<tr><th scope=row>39</th><td> 0.175029424</td><td>2.290034    </td><td>2.384750    </td><td>2.661525    </td><td>2.021225    </td><td>1.510883    </td><td>1.609033    </td><td>2.422623    </td><td>1.948393    </td><td>5.088694    </td><td>18500000    </td></tr>\n",
       "</tbody>\n",
       "</table>\n"
      ],
      "text/latex": [
       "\\begin{tabular}{r|lllllllllll}\n",
       "  & Age & Overall & Potential & GKDiving & GKHandling & GKKicking & GKPositioning & GKReflexes & Reactions & International.Reputation & Value\\\\\n",
       "\\hline\n",
       "\t18 &  0.906954221 & 2.553309     & 2.227869     & 2.146625     & 2.822670     & 2.035383     & 2.531605     & 1.935621     & 1.851330     & 5.088694     & 19000000    \\\\\n",
       "\t29 &  0.540991823 & 2.421672     & 2.227869     & 1.631725     & 2.822670     & 2.428757     & 1.954998     & 2.300872     & 2.045455     & 5.088694     & 20000000    \\\\\n",
       "\t30 &  1.272916620 & 2.421672     & 2.070988     & 2.661525     & 2.421947     & 1.117508     & 1.839676     & 2.179122     & 2.045455     & 5.088694     & 13000000    \\\\\n",
       "\t31 &  1.272916620 & 2.421672     & 2.070988     & 1.760450     & 2.555522     & 1.904258     & 2.646926     & 2.179122     & 1.657205     & 2.416338     & 13000000    \\\\\n",
       "\t38 & -0.007951776 & 2.290034     & 2.384750     & 2.275350     & 1.887651     & 2.035383     & 2.070319     & 2.057372     & 2.142518     & 2.416338     & 19500000    \\\\\n",
       "\t39 &  0.175029424 & 2.290034     & 2.384750     & 2.661525     & 2.021225     & 1.510883     & 1.609033     & 2.422623     & 1.948393     & 5.088694     & 18500000    \\\\\n",
       "\\end{tabular}\n"
      ],
      "text/markdown": [
       "\n",
       "| <!--/--> | Age | Overall | Potential | GKDiving | GKHandling | GKKicking | GKPositioning | GKReflexes | Reactions | International.Reputation | Value |\n",
       "|---|---|---|---|---|---|---|---|---|---|---|---|\n",
       "| 18 |  0.906954221 | 2.553309     | 2.227869     | 2.146625     | 2.822670     | 2.035383     | 2.531605     | 1.935621     | 1.851330     | 5.088694     | 19000000     |\n",
       "| 29 |  0.540991823 | 2.421672     | 2.227869     | 1.631725     | 2.822670     | 2.428757     | 1.954998     | 2.300872     | 2.045455     | 5.088694     | 20000000     |\n",
       "| 30 |  1.272916620 | 2.421672     | 2.070988     | 2.661525     | 2.421947     | 1.117508     | 1.839676     | 2.179122     | 2.045455     | 5.088694     | 13000000     |\n",
       "| 31 |  1.272916620 | 2.421672     | 2.070988     | 1.760450     | 2.555522     | 1.904258     | 2.646926     | 2.179122     | 1.657205     | 2.416338     | 13000000     |\n",
       "| 38 | -0.007951776 | 2.290034     | 2.384750     | 2.275350     | 1.887651     | 2.035383     | 2.070319     | 2.057372     | 2.142518     | 2.416338     | 19500000     |\n",
       "| 39 |  0.175029424 | 2.290034     | 2.384750     | 2.661525     | 2.021225     | 1.510883     | 1.609033     | 2.422623     | 1.948393     | 5.088694     | 18500000     |\n",
       "\n"
      ],
      "text/plain": [
       "   Age          Overall  Potential GKDiving GKHandling GKKicking GKPositioning\n",
       "18  0.906954221 2.553309 2.227869  2.146625 2.822670   2.035383  2.531605     \n",
       "29  0.540991823 2.421672 2.227869  1.631725 2.822670   2.428757  1.954998     \n",
       "30  1.272916620 2.421672 2.070988  2.661525 2.421947   1.117508  1.839676     \n",
       "31  1.272916620 2.421672 2.070988  1.760450 2.555522   1.904258  2.646926     \n",
       "38 -0.007951776 2.290034 2.384750  2.275350 1.887651   2.035383  2.070319     \n",
       "39  0.175029424 2.290034 2.384750  2.661525 2.021225   1.510883  1.609033     \n",
       "   GKReflexes Reactions International.Reputation Value   \n",
       "18 1.935621   1.851330  5.088694                 19000000\n",
       "29 2.300872   2.045455  5.088694                 20000000\n",
       "30 2.179122   2.045455  5.088694                 13000000\n",
       "31 2.179122   1.657205  2.416338                 13000000\n",
       "38 2.057372   2.142518  2.416338                 19500000\n",
       "39 2.422623   1.948393  5.088694                 18500000"
      ]
     },
     "metadata": {},
     "output_type": "display_data"
    },
    {
     "data": {
      "text/html": [
       "TRUE"
      ],
      "text/latex": [
       "TRUE"
      ],
      "text/markdown": [
       "TRUE"
      ],
      "text/plain": [
       "[1] TRUE"
      ]
     },
     "metadata": {},
     "output_type": "display_data"
    }
   ],
   "source": [
    "head(cleaned_fifaGK.train)\n",
    "head(cleaned_fifaGK.test)\n",
    "nrow(cleaned_fifaGK.train) + nrow(cleaned_fifaGK.test) == nrow(cleaned_fifaGK_df)"
   ]
  },
  {
   "cell_type": "code",
   "execution_count": 49,
   "metadata": {},
   "outputs": [
    {
     "name": "stderr",
     "output_type": "stream",
     "text": [
      "\n",
      "Attaching package: 'boot'\n",
      "\n",
      "The following object is masked from 'package:lattice':\n",
      "\n",
      "    melanoma\n",
      "\n"
     ]
    }
   ],
   "source": [
    "library('boot')"
   ]
  },
  {
   "cell_type": "code",
   "execution_count": 50,
   "metadata": {},
   "outputs": [],
   "source": [
    "glm_fifaGK = glm(Value~Age+Overall+Potential+International.Reputation, data=cleaned_fifaGK.train)\n",
    "k_fold_cv_error_fifaGK = cv.glm(cleaned_fifaGK.train , glm_fifaGK, K=5)"
   ]
  },
  {
   "cell_type": "code",
   "execution_count": 51,
   "metadata": {},
   "outputs": [
    {
     "data": {
      "text/html": [
       "<ol class=list-inline>\n",
       "\t<li>11714411238470.8</li>\n",
       "\t<li>11604801034787.7</li>\n",
       "</ol>\n"
      ],
      "text/latex": [
       "\\begin{enumerate*}\n",
       "\\item 11714411238470.8\n",
       "\\item 11604801034787.7\n",
       "\\end{enumerate*}\n"
      ],
      "text/markdown": [
       "1. 11714411238470.8\n",
       "2. 11604801034787.7\n",
       "\n",
       "\n"
      ],
      "text/plain": [
       "[1] 1.171441e+13 1.160480e+13"
      ]
     },
     "metadata": {},
     "output_type": "display_data"
    }
   ],
   "source": [
    "k_fold_cv_error_fifaGK$delta"
   ]
  },
  {
   "cell_type": "markdown",
   "metadata": {},
   "source": [
    "El resultado de la validación cruzada nos da el MSE, lo ajustamos para que nos de el RMSE"
   ]
  },
  {
   "cell_type": "code",
   "execution_count": 52,
   "metadata": {},
   "outputs": [
    {
     "data": {
      "text/html": [
       "3422632.20905647"
      ],
      "text/latex": [
       "3422632.20905647"
      ],
      "text/markdown": [
       "3422632.20905647"
      ],
      "text/plain": [
       "[1] 3422632"
      ]
     },
     "metadata": {},
     "output_type": "display_data"
    }
   ],
   "source": [
    "glm_cv_rmse_fifaGK = sqrt(k_fold_cv_error_fifaGK$delta)[1]\n",
    "glm_cv_rmse_fifaGK"
   ]
  },
  {
   "cell_type": "markdown",
   "metadata": {},
   "source": [
    "Observamos qué sucede cuando solamente incluímos las dos variables que más impactan en el valor."
   ]
  },
  {
   "cell_type": "code",
   "execution_count": 53,
   "metadata": {},
   "outputs": [],
   "source": [
    "glm_fifaGK_AgeOverall = glm(Value~Age+Overall, data=cleaned_fifaGK.train)\n",
    "k_fold_cv_error_fifaGK_AgeOverall = cv.glm(cleaned_fifaGK.train , glm_fifaGK, K=5)"
   ]
  },
  {
   "cell_type": "code",
   "execution_count": 54,
   "metadata": {},
   "outputs": [
    {
     "data": {
      "text/html": [
       "3320243.65921963"
      ],
      "text/latex": [
       "3320243.65921963"
      ],
      "text/markdown": [
       "3320243.65921963"
      ],
      "text/plain": [
       "[1] 3320244"
      ]
     },
     "metadata": {},
     "output_type": "display_data"
    }
   ],
   "source": [
    "glm_cv_rmse_fifaGK_AgeOverall = sqrt(k_fold_cv_error_fifaGK_AgeOverall$delta)[1]\n",
    "glm_cv_rmse_fifaGK_AgeOverall"
   ]
  },
  {
   "cell_type": "markdown",
   "metadata": {},
   "source": [
    "El RMSE disminuyó por 100.000 aproximadamente"
   ]
  },
  {
   "cell_type": "markdown",
   "metadata": {},
   "source": [
    "Probamos otra forma de realizar la regresión lineal con todos los datos escalados"
   ]
  },
  {
   "cell_type": "code",
   "execution_count": 55,
   "metadata": {},
   "outputs": [
    {
     "data": {
      "text/plain": [
       "\n",
       "Call:\n",
       "lm(formula = Value ~ ., data = cleaned_fifaGK.train)\n",
       "\n",
       "Residuals:\n",
       "      Min        1Q    Median        3Q       Max \n",
       "-19073784  -1129969   -178228    866212  45848315 \n",
       "\n",
       "Coefficients:\n",
       "                         Estimate Std. Error t value Pr(>|t|)    \n",
       "(Intercept)               1609018      81116  19.836  < 2e-16 ***\n",
       "Age                      -1706974     166390 -10.259  < 2e-16 ***\n",
       "Overall                  11701815    1931192   6.059 1.70e-09 ***\n",
       "Potential                 -441623     204021  -2.165 0.030565 *  \n",
       "GKDiving                 -2159402     469960  -4.595 4.67e-06 ***\n",
       "GKHandling               -1417459     441369  -3.212 0.001346 ** \n",
       "GKKicking                 -304559     154476  -1.972 0.048830 *  \n",
       "GKPositioning            -2462442     498389  -4.941 8.59e-07 ***\n",
       "GKReflexes               -2083138     485314  -4.292 1.87e-05 ***\n",
       "Reactions                -1143631     320633  -3.567 0.000372 ***\n",
       "International.Reputation  2068296      93735  22.065  < 2e-16 ***\n",
       "---\n",
       "Signif. codes:  0 '***' 0.001 '**' 0.01 '*' 0.05 '.' 0.1 ' ' 1\n",
       "\n",
       "Residual standard error: 3263000 on 1610 degrees of freedom\n",
       "Multiple R-squared:  0.5559,\tAdjusted R-squared:  0.5532 \n",
       "F-statistic: 201.6 on 10 and 1610 DF,  p-value: < 2.2e-16\n"
      ]
     },
     "metadata": {},
     "output_type": "display_data"
    }
   ],
   "source": [
    "#Regresión lineal simple\n",
    "modelo_fifaGK<- lm(Value ~ ., data=cleaned_fifaGK.train)\n",
    "#Resumen del ajuste del modelo\n",
    "summary(modelo_fifaGK)"
   ]
  },
  {
   "cell_type": "code",
   "execution_count": 56,
   "metadata": {},
   "outputs": [],
   "source": [
    "prediction_fifaGK <- predict(modelo_fifaGK, cleaned_fifaGK.test)"
   ]
  },
  {
   "cell_type": "code",
   "execution_count": 57,
   "metadata": {},
   "outputs": [
    {
     "data": {
      "text/html": [
       "10644539778396.1"
      ],
      "text/latex": [
       "10644539778396.1"
      ],
      "text/markdown": [
       "10644539778396.1"
      ],
      "text/plain": [
       "[1] 1.064454e+13"
      ]
     },
     "metadata": {},
     "output_type": "display_data"
    }
   ],
   "source": [
    "#Calculamos el MSE \n",
    "mseGK = sum(modelo_fifaGK$residuals^2)/modelo_fifaGK$df.residual\n",
    "mseGK"
   ]
  },
  {
   "cell_type": "code",
   "execution_count": 58,
   "metadata": {},
   "outputs": [
    {
     "data": {
      "text/html": [
       "0.553166317041654"
      ],
      "text/latex": [
       "0.553166317041654"
      ],
      "text/markdown": [
       "0.553166317041654"
      ],
      "text/plain": [
       "[1] 0.5531663"
      ]
     },
     "metadata": {},
     "output_type": "display_data"
    }
   ],
   "source": [
    "summary(modelo_fifaGK)$adj.r.squared"
   ]
  },
  {
   "cell_type": "code",
   "execution_count": 59,
   "metadata": {},
   "outputs": [
    {
     "data": {
      "text/html": [
       "0.817050290517385"
      ],
      "text/latex": [
       "0.817050290517385"
      ],
      "text/markdown": [
       "0.817050290517385"
      ],
      "text/plain": [
       "[1] 0.8170503"
      ]
     },
     "metadata": {},
     "output_type": "display_data"
    },
    {
     "name": "stdout",
     "output_type": "stream",
     "text": [
      "          18           29           30           31           38           39 \n",
      "17840594.835 18353943.953 16455053.290 10900872.481 12321655.973 17270062.919 \n",
      "          45           46           49           55           56           63 \n",
      " 7625669.492 11790236.201 10267774.989  6670757.544 10989169.259 16387437.268 \n",
      "          66           67           76           77           84           86 \n",
      " 8726303.165  7859920.258  9488035.175 10988678.288  9217315.467  8724641.748 \n",
      "          87          101          103          107          108          118 \n",
      "12864334.554  8395786.650  6443565.182  5271340.062  9713887.780  2535360.177 \n",
      "         119          125          129          153          159          160 \n",
      " 4949046.677  3027757.221  3952486.135  5913692.559  1875707.779  4432385.041 \n",
      "         164          165          173          174          179          181 \n",
      " 7428594.479  7165425.468  2818451.016  3306406.831  4005887.125  4935015.473 \n",
      "         182          192          194          203          204          220 \n",
      " 2584561.023  3873869.508  4765836.593  7569300.376  6844520.640  3236390.897 \n",
      "         242          244          248          258          275          276 \n",
      " 5214420.702  1991759.380  3813924.363  2262149.319  4222905.425  7774313.785 \n",
      "         283          316          319          324          329          330 \n",
      " 1862997.746  3531682.568  2621725.319   857994.238  2698279.215  1105760.829 \n",
      "         333          337          343          349          353          354 \n",
      "  557097.906  2124539.887  1477125.151   812362.547  3181031.554  2173846.649 \n",
      "         356          358          363          368          369          370 \n",
      " 3568032.623  1843289.262  3765447.961 -1106148.436  3231155.897  2007354.256 \n",
      "         372          374          379          381          384          387 \n",
      " 5994272.190  3258682.468  7805552.118  -244703.258  2949444.359  1838363.330 \n",
      "         390          396          398          406          417          419 \n",
      " 2799239.372  1649910.688  2977148.276  3809978.991  4339335.832  1021464.973 \n",
      "         423          426          428          432          436          439 \n",
      " -745660.877  1543812.171  2475941.129  2322547.292   737178.252  2389988.369 \n",
      "         448          450          452          453          454          459 \n",
      " 2160130.190  3058008.259  1302213.076   117384.280    51927.195  2279879.035 \n",
      "         467          469          470          476          478          479 \n",
      " 1131947.835  2348957.422  3906724.236  2645832.835  8828558.900  1658768.259 \n",
      "         483          491          497          502          503          504 \n",
      " 3910471.890  2639684.923  4049178.328  2738974.226   683163.184   624852.201 \n",
      "         511          512          518          520          522          557 \n",
      " 3748057.946   922914.403  2040104.147  2752003.040  3058999.398  2358471.627 \n",
      "         561          564          569          576          577          578 \n",
      " 3150431.275  2813525.859   984994.764  -377740.898   403296.538  1230514.538 \n",
      "         586          589          592          598          604          606 \n",
      " 2309578.975  2709015.980  2042913.037  2382040.192  2017468.409  1157652.266 \n",
      "         608          609          613          614          616          627 \n",
      " 1942065.539  -575573.843  1189302.293  1392744.957  1758198.954   -44972.644 \n",
      "         635          643          647          652          657          658 \n",
      " 1964181.300  1149375.866  2488619.659  3058062.503  1125612.375  2001320.826 \n",
      "         660          669          679          682          690          698 \n",
      " 3233331.734  2122299.185  3390020.603 -1348563.120  1282097.798  2721401.048 \n",
      "         701          702          703          706          717          718 \n",
      " 2236560.194  2145495.638  1271727.268  3077292.803   623256.549  2499965.853 \n",
      "         725          727          729          734          749          752 \n",
      " 3046032.702   100607.152  2720496.677  2678188.161  1441618.389  1442801.204 \n",
      "         755          760          770          778          785          789 \n",
      " 1330279.623  4120440.193   713319.650  3654371.953   486038.054  1710843.101 \n",
      "         790          793          800          809          814          815 \n",
      " 3797077.819   668933.481  1236582.515  1387010.091   351869.053   775022.300 \n",
      "         825          826          831          847          854          859 \n",
      " 3230981.794 -1722603.006  1023300.453  -433898.931  2578547.822 -1335412.468 \n",
      "         876          879          889          890          892          897 \n",
      " 2387483.950  1646517.152  2032299.089  3228473.696   630122.636  1427985.273 \n",
      "         899          906          907          908          912          913 \n",
      " 1245467.457  1174987.834  2450993.635  2579737.710  1995789.037  2102027.149 \n",
      "         915          921          933          942          944          946 \n",
      " 1794350.243 -2183696.531   424420.395  1584714.271   297092.491 -1185633.871 \n",
      "         950          952          956          961          970          974 \n",
      " 1200742.360  1148530.264  2067346.712  2757460.366  -467932.900  1204121.192 \n",
      "         979          980          986          988          997         1000 \n",
      " -277130.716   666662.805  5743139.079  1571754.614  -496482.666  -988302.888 \n",
      "        1004         1005         1008         1009         1010         1013 \n",
      " -424584.282  2749143.674  1204788.503 -1287083.916   990743.315  -295146.701 \n",
      "        1022         1029         1046         1048         1049         1060 \n",
      "-1488695.896 -1432174.463 -2058980.759  1308906.577  2168847.283  -132886.274 \n",
      "        1063         1064         1080         1089         1094         1095 \n",
      " 1504252.916   121733.539   241909.755 -2609444.979  1533205.129   512917.851 \n",
      "        1098         1099         1103         1105         1109         1132 \n",
      " -138537.319  2085747.050  -565724.287  -627849.426   -71471.859  -305335.365 \n",
      "        1142         1149         1152         1157         1160         1163 \n",
      "  581106.161  -903835.499    75955.124  1679400.314 -1561438.528  1356173.267 \n",
      "        1190         1193         1194         1208         1209         1212 \n",
      " 1031445.790   738019.221  1654355.777  1676885.588   796799.561  -716339.260 \n",
      "        1214         1218         1221         1224         1229         1238 \n",
      " -248422.466 -1220033.961 -2279180.663  1705096.864 -2181218.494  1066468.734 \n",
      "        1242         1244         1254         1256         1257         1264 \n",
      "-2248108.578  1336351.216  1365208.164  1925895.159   750666.798  1666058.281 \n",
      "        1266         1268         1270         1277         1282         1283 \n",
      "  933649.706  1151090.508 -2146254.481   599954.992  1277954.250   -16314.969 \n",
      "        1285         1286         1288         1290         1299         1305 \n",
      "  994535.364  1663937.168   517055.366 -1008500.145 -2124219.088 -1390551.046 \n",
      "        1317         1319         1321         1336         1339         1360 \n",
      " 2389750.937  -509718.570  -711652.444   910457.740   998202.180  1586416.194 \n",
      "        1365         1387         1392         1398         1400         1403 \n",
      " 1200771.291  1886323.191  1275546.403  -111869.209  1295981.801   650121.682 \n",
      "        1407         1409         1421         1422         1426         1427 \n",
      "-1851905.476  -255842.730  1313386.590    82553.443   816062.830  1878874.820 \n",
      "        1438         1439         1450         1454         1455         1471 \n",
      "  629458.279    18155.074 -2743428.034  1946330.695   398822.829   454467.323 \n",
      "        1473         1479         1488         1502         1503         1504 \n",
      "  250632.673 -1477745.411  1386969.846  1061403.484   591193.265   449836.976 \n",
      "        1507         1517         1520         1525         1534         1536 \n",
      " 1124675.435   754305.333  -216065.433   635044.040   922760.419  -446907.858 \n",
      "        1544         1547         1548         1556         1559         1561 \n",
      "-2749679.200  1413126.711    92682.825   -40324.047  -400913.798  -112837.430 \n",
      "        1569         1570         1576         1579         1586         1594 \n",
      "  439985.344  -473723.512  1170022.001  1175123.606  -714086.568  -204965.899 \n",
      "        1596         1598         1600         1604         1616         1626 \n",
      "  518882.029  -946187.249 -1626889.865  1043297.128  -739147.776 -2104771.349 \n",
      "        1627         1628         1632         1635         1645         1647 \n",
      "    8690.144   819649.732 -1587504.839     6030.608    18320.244   451864.956 \n",
      "        1650         1653         1657         1658         1660         1663 \n",
      "  -71943.492   573170.127   545321.968   274340.503  -500115.120  -544788.526 \n",
      "        1665         1669         1670         1676         1677         1679 \n",
      "  644719.626  -342988.212  -606750.640 -1132312.440   711363.762   607046.483 \n",
      "        1680         1685         1687         1693         1698         1701 \n",
      " -335760.751   -44218.469  -268617.825  -463987.063 -2683919.979   437801.731 \n",
      "        1705         1708         1713         1719         1721         1733 \n",
      "  222928.892  -878657.282 -2922374.723    49130.445 -1480886.704   827510.324 \n",
      "        1735         1736         1742         1750         1752         1754 \n",
      "  299838.326   137825.026   696077.981   233481.177 -1285952.367 -3838774.683 \n",
      "        1767         1768         1770         1773         1774         1775 \n",
      "  337343.700  -171114.658   238312.769  -938229.532  -841639.446   145554.467 \n",
      "        1779         1782         1784         1785         1791         1799 \n",
      "-1897479.090  -507891.787  -443003.839   756289.137  -796460.215  -376385.250 \n",
      "        1804         1809         1813         1819         1828         1831 \n",
      "-1026442.530   173715.838 -5533386.481  -392499.674  -232457.110 -1528001.792 \n",
      "        1842         1845         1855         1859         1867         1871 \n",
      "-1682190.227 -1038041.077  -446571.867  -952008.249  -174239.585 -1255743.655 \n",
      "        1872         1875         1885         1894         1899         1900 \n",
      "-1465487.201 -1143703.493  -986839.840  -681737.709 -1775317.728  -554780.853 \n",
      "        1903         1912         1913         1917         1926         1928 \n",
      "-2558189.042 -2086121.330 -2546603.073 -1934205.129  -513760.804 -1611427.638 \n",
      "        1929         1937         1938         1942         1944         1950 \n",
      "-6222869.723 -1761636.422 -1293024.024 -1196947.620 -1520484.416 -1512169.732 \n",
      "        1955         1958         1968         1969         1977         1978 \n",
      "  378386.279 -1319811.154 -2756522.879 -2561031.287 -2593392.474 -1093118.484 \n",
      "        1980         1995         1998         1999         2009         2015 \n",
      "-1601764.662  -338992.766 -2949437.162  -649218.791 -1871127.550 -1978162.970 \n",
      "        2020         2022 \n",
      "-2880818.101 -3301592.444 \n"
     ]
    }
   ],
   "source": [
    "cor(cleaned_fifaGK.test$Value, prediction_fifaGK)\n",
    "print (prediction_fifaGK)"
   ]
  },
  {
   "cell_type": "code",
   "execution_count": 60,
   "metadata": {},
   "outputs": [
    {
     "data": {
      "text/html": [
       "<dl class=dl-horizontal>\n",
       "\t<dt>RMSE</dt>\n",
       "\t\t<dd>1885902.42693889</dd>\n",
       "\t<dt>Rsquared</dt>\n",
       "\t\t<dd>0.667571177234543</dd>\n",
       "\t<dt>MAE</dt>\n",
       "\t\t<dd>1323814.31618486</dd>\n",
       "</dl>\n"
      ],
      "text/latex": [
       "\\begin{description*}\n",
       "\\item[RMSE] 1885902.42693889\n",
       "\\item[Rsquared] 0.667571177234543\n",
       "\\item[MAE] 1323814.31618486\n",
       "\\end{description*}\n"
      ],
      "text/markdown": [
       "RMSE\n",
       ":   1885902.42693889Rsquared\n",
       ":   0.667571177234543MAE\n",
       ":   1323814.31618486\n",
       "\n"
      ],
      "text/plain": [
       "        RMSE     Rsquared          MAE \n",
       "1.885902e+06 6.675712e-01 1.323814e+06 "
      ]
     },
     "metadata": {},
     "output_type": "display_data"
    }
   ],
   "source": [
    "#Evaluando errores\n",
    "postResample(prediction_fifaGK,cleaned_fifaGK.test$Value)"
   ]
  },
  {
   "cell_type": "markdown",
   "metadata": {},
   "source": [
    "## Probando Random Forest"
   ]
  },
  {
   "cell_type": "code",
   "execution_count": 61,
   "metadata": {},
   "outputs": [
    {
     "name": "stderr",
     "output_type": "stream",
     "text": [
      "randomForest 4.6-14\n",
      "Type rfNews() to see new features/changes/bug fixes.\n",
      "\n",
      "Attaching package: 'randomForest'\n",
      "\n",
      "The following object is masked from 'package:ggplot2':\n",
      "\n",
      "    margin\n",
      "\n",
      "The following object is masked from 'package:dplyr':\n",
      "\n",
      "    combine\n",
      "\n"
     ]
    }
   ],
   "source": [
    "#Creación del modelo\n",
    "library(randomForest)\n",
    "set.seed(1234)\n",
    "fifaGK_randomForest <- randomForest(Value ~ Age+Overall, data = fifaGK.train, ntree = 500)"
   ]
  },
  {
   "cell_type": "markdown",
   "metadata": {},
   "source": [
    "### Visualización del modelo creado"
   ]
  },
  {
   "cell_type": "code",
   "execution_count": 62,
   "metadata": {},
   "outputs": [
    {
     "data": {
      "text/plain": [
       "\n",
       "Call:\n",
       " randomForest(formula = Value ~ Age + Overall, data = fifaGK.train,      ntree = 500) \n",
       "               Type of random forest: regression\n",
       "                     Number of trees: 500\n",
       "No. of variables tried at each split: 1\n",
       "\n",
       "          Mean of squared residuals: 1.724432e+12\n",
       "                    % Var explained: 92.76"
      ]
     },
     "metadata": {},
     "output_type": "display_data"
    }
   ],
   "source": [
    "fifaGK_randomForest"
   ]
  },
  {
   "cell_type": "code",
   "execution_count": 63,
   "metadata": {},
   "outputs": [
    {
     "data": {
      "text/html": [
       "<table>\n",
       "<thead><tr><th></th><th scope=col>IncNodePurity</th></tr></thead>\n",
       "<tbody>\n",
       "\t<tr><th scope=row>Age</th><td>3.221391e+15</td></tr>\n",
       "\t<tr><th scope=row>Overall</th><td>3.316963e+16</td></tr>\n",
       "</tbody>\n",
       "</table>\n"
      ],
      "text/latex": [
       "\\begin{tabular}{r|l}\n",
       "  & IncNodePurity\\\\\n",
       "\\hline\n",
       "\tAge & 3.221391e+15\\\\\n",
       "\tOverall & 3.316963e+16\\\\\n",
       "\\end{tabular}\n"
      ],
      "text/markdown": [
       "\n",
       "| <!--/--> | IncNodePurity |\n",
       "|---|---|\n",
       "| Age | 3.221391e+15 |\n",
       "| Overall | 3.316963e+16 |\n",
       "\n"
      ],
      "text/plain": [
       "        IncNodePurity\n",
       "Age     3.221391e+15 \n",
       "Overall 3.316963e+16 "
      ]
     },
     "metadata": {},
     "output_type": "display_data"
    }
   ],
   "source": [
    "#Importancia de las variables\n",
    "fifaGK_randomForest$importance"
   ]
  },
  {
   "cell_type": "code",
   "execution_count": 64,
   "metadata": {},
   "outputs": [],
   "source": [
    "#Predicción\n",
    "y_fifaGK_predict <- predict(fifaGK_randomForest, fifaGK.train)"
   ]
  },
  {
   "cell_type": "code",
   "execution_count": 65,
   "metadata": {},
   "outputs": [
    {
     "data": {
      "text/html": [
       "0.991076178554957"
      ],
      "text/latex": [
       "0.991076178554957"
      ],
      "text/markdown": [
       "0.991076178554957"
      ],
      "text/plain": [
       "[1] 0.9910762"
      ]
     },
     "metadata": {},
     "output_type": "display_data"
    }
   ],
   "source": [
    "#correlación entre la predicción\n",
    "cor(fifaGK.train$Value, y_fifaGK_predict)"
   ]
  },
  {
   "cell_type": "code",
   "execution_count": 66,
   "metadata": {},
   "outputs": [],
   "source": [
    "y_fifaGK_test_predict <- predict(fifaGK_randomForest, fifaGK.test)"
   ]
  },
  {
   "cell_type": "code",
   "execution_count": 67,
   "metadata": {},
   "outputs": [
    {
     "data": {
      "text/html": [
       "0.991136917520307"
      ],
      "text/latex": [
       "0.991136917520307"
      ],
      "text/markdown": [
       "0.991136917520307"
      ],
      "text/plain": [
       "[1] 0.9911369"
      ]
     },
     "metadata": {},
     "output_type": "display_data"
    }
   ],
   "source": [
    "cor(fifaGK.test$Value, y_fifaGK_test_predict)"
   ]
  },
  {
   "cell_type": "code",
   "execution_count": 68,
   "metadata": {},
   "outputs": [
    {
     "data": {
      "image/png": "[encoded data removed]",
      "text/plain": [
       "Plot with title \"fifaGK_randomForest\""
      ]
     },
     "metadata": {},
     "output_type": "display_data"
    }
   ],
   "source": [
    "#Gráfica del modelo que muestra que al incrementar los árboles los errores disminuyen\n",
    "plot(fifaGK_randomForest)"
   ]
  },
  {
   "cell_type": "markdown",
   "metadata": {},
   "source": [
    "#### Vemos que en los 200 árboles el modelo se estabiliza, entonces ajustamos el modelo "
   ]
  },
  {
   "cell_type": "code",
   "execution_count": 69,
   "metadata": {},
   "outputs": [],
   "source": [
    "#Ajuste del modelo\n",
    "set.seed(1234)\n",
    "fifaGK_randomForest_ajustado <- randomForest(Value ~ Age+Overall, data = fifaGK.train, ntree = 200)"
   ]
  },
  {
   "cell_type": "code",
   "execution_count": 70,
   "metadata": {},
   "outputs": [
    {
     "data": {
      "text/plain": [
       "\n",
       "Call:\n",
       " randomForest(formula = Value ~ Age + Overall, data = fifaGK.train,      ntree = 200) \n",
       "               Type of random forest: regression\n",
       "                     Number of trees: 200\n",
       "No. of variables tried at each split: 1\n",
       "\n",
       "          Mean of squared residuals: 1.629893e+12\n",
       "                    % Var explained: 93.15"
      ]
     },
     "metadata": {},
     "output_type": "display_data"
    }
   ],
   "source": [
    "fifaGK_randomForest_ajustado"
   ]
  },
  {
   "cell_type": "code",
   "execution_count": 71,
   "metadata": {},
   "outputs": [],
   "source": [
    "#Predicción con el modelo ajustado\n",
    "y_fifaGK_predict_ajustado <- predict(fifaGK_randomForest_ajustado, fifaGK.train)"
   ]
  },
  {
   "cell_type": "code",
   "execution_count": 72,
   "metadata": {},
   "outputs": [
    {
     "data": {
      "text/html": [
       "0.991096637590591"
      ],
      "text/latex": [
       "0.991096637590591"
      ],
      "text/markdown": [
       "0.991096637590591"
      ],
      "text/plain": [
       "[1] 0.9910966"
      ]
     },
     "metadata": {},
     "output_type": "display_data"
    }
   ],
   "source": [
    "#Correlación entre la predicción\n",
    "cor(fifaGK.train$Value, y_fifaGK_predict_ajustado)"
   ]
  },
  {
   "cell_type": "code",
   "execution_count": 73,
   "metadata": {},
   "outputs": [
    {
     "data": {
      "text/html": [
       "<dl class=dl-horizontal>\n",
       "\t<dt>RMSE</dt>\n",
       "\t\t<dd>764088.935772669</dd>\n",
       "\t<dt>Rsquared</dt>\n",
       "\t\t<dd>0.982272545043376</dd>\n",
       "\t<dt>MAE</dt>\n",
       "\t\t<dd>236409.233879821</dd>\n",
       "</dl>\n"
      ],
      "text/latex": [
       "\\begin{description*}\n",
       "\\item[RMSE] 764088.935772669\n",
       "\\item[Rsquared] 0.982272545043376\n",
       "\\item[MAE] 236409.233879821\n",
       "\\end{description*}\n"
      ],
      "text/markdown": [
       "RMSE\n",
       ":   764088.935772669Rsquared\n",
       ":   0.982272545043376MAE\n",
       ":   236409.233879821\n",
       "\n"
      ],
      "text/plain": [
       "        RMSE     Rsquared          MAE \n",
       "7.640889e+05 9.822725e-01 2.364092e+05 "
      ]
     },
     "metadata": {},
     "output_type": "display_data"
    }
   ],
   "source": [
    "#Evaluando errores utilizando Random Forest\n",
    "postResample(y_fifaGK_predict_ajustado,fifaGK.train$Value)"
   ]
  },
  {
   "cell_type": "code",
   "execution_count": 74,
   "metadata": {},
   "outputs": [
    {
     "data": {
      "text/plain": [
       "k-Nearest Neighbors \n",
       "\n",
       "2025 samples\n",
       "   2 predictor\n",
       "\n",
       "No pre-processing\n",
       "Resampling: Cross-Validated (10 fold) \n",
       "Summary of sample sizes: 1823, 1823, 1823, 1822, 1822, 1822, ... \n",
       "Resampling results across tuning parameters:\n",
       "\n",
       "  k   RMSE       Rsquared   MAE     \n",
       "   3   815517.1  0.9725202  180534.7\n",
       "   5   883922.7  0.9660018  188670.8\n",
       "   7   972312.6  0.9619899  199857.4\n",
       "   9  1082795.0  0.9579719  205034.0\n",
       "  11  1188908.4  0.9498426  217513.9\n",
       "  13  1239574.8  0.9467381  222879.9\n",
       "  15  1326361.3  0.9436483  235618.4\n",
       "\n",
       "RMSE was used to select the optimal model using the smallest value.\n",
       "The final value used for the model was k = 3."
      ]
     },
     "metadata": {},
     "output_type": "display_data"
    }
   ],
   "source": [
    "# Para la validación cruzada\n",
    "# Define el grid de parámetros a probar\n",
    "valores <- expand.grid(k = seq(3, 15, 2)) \n",
    "# Define los detalles del método de validación cruzada o remuestreo a utilizar\n",
    "ajustes <- trainControl(method='cv',  # validación cruzada\n",
    "             number = 10)  # diez submuestras\n",
    "# Aplica el método seleccionando el valor óptimo de k\n",
    "fifaGK.knn <- train(Value ~ Age+Overall,\n",
    "      data = fifaGK,\n",
    "      method = 'knn',\n",
    "      tuneGrid = valores,\n",
    "      trControl = ajustes)\n",
    "fifaGK.knn"
   ]
  },
  {
   "cell_type": "code",
   "execution_count": 75,
   "metadata": {},
   "outputs": [
    {
     "data": {
      "image/png": "[encoded data removed]",
      "text/plain": [
       "plot without title"
      ]
     },
     "metadata": {},
     "output_type": "display_data"
    }
   ],
   "source": [
    "plot(fifaGK.knn)"
   ]
  },
  {
   "cell_type": "markdown",
   "metadata": {},
   "source": [
    "### Evaluación de errores según modelo utilizado"
   ]
  },
  {
   "cell_type": "code",
   "execution_count": 76,
   "metadata": {},
   "outputs": [
    {
     "data": {
      "text/html": [
       "<dl class=dl-horizontal>\n",
       "\t<dt>RMSE</dt>\n",
       "\t\t<dd>764088.935772669</dd>\n",
       "\t<dt>Rsquared</dt>\n",
       "\t\t<dd>0.982272545043376</dd>\n",
       "\t<dt>MAE</dt>\n",
       "\t\t<dd>236409.233879821</dd>\n",
       "</dl>\n"
      ],
      "text/latex": [
       "\\begin{description*}\n",
       "\\item[RMSE] 764088.935772669\n",
       "\\item[Rsquared] 0.982272545043376\n",
       "\\item[MAE] 236409.233879821\n",
       "\\end{description*}\n"
      ],
      "text/markdown": [
       "RMSE\n",
       ":   764088.935772669Rsquared\n",
       ":   0.982272545043376MAE\n",
       ":   236409.233879821\n",
       "\n"
      ],
      "text/plain": [
       "        RMSE     Rsquared          MAE \n",
       "7.640889e+05 9.822725e-01 2.364092e+05 "
      ]
     },
     "metadata": {},
     "output_type": "display_data"
    }
   ],
   "source": [
    "#Evaluando errores utilizando Random Forest\n",
    "postResample(y_fifaGK_predict_ajustado,fifaGK.train$Value)"
   ]
  },
  {
   "cell_type": "code",
   "execution_count": 77,
   "metadata": {},
   "outputs": [
    {
     "data": {
      "text/html": [
       "<dl class=dl-horizontal>\n",
       "\t<dt>RMSE</dt>\n",
       "\t\t<dd>1885902.42693889</dd>\n",
       "\t<dt>Rsquared</dt>\n",
       "\t\t<dd>0.667571177234543</dd>\n",
       "\t<dt>MAE</dt>\n",
       "\t\t<dd>1323814.31618486</dd>\n",
       "</dl>\n"
      ],
      "text/latex": [
       "\\begin{description*}\n",
       "\\item[RMSE] 1885902.42693889\n",
       "\\item[Rsquared] 0.667571177234543\n",
       "\\item[MAE] 1323814.31618486\n",
       "\\end{description*}\n"
      ],
      "text/markdown": [
       "RMSE\n",
       ":   1885902.42693889Rsquared\n",
       ":   0.667571177234543MAE\n",
       ":   1323814.31618486\n",
       "\n"
      ],
      "text/plain": [
       "        RMSE     Rsquared          MAE \n",
       "1.885902e+06 6.675712e-01 1.323814e+06 "
      ]
     },
     "metadata": {},
     "output_type": "display_data"
    }
   ],
   "source": [
    "#Evaluando errores utilizando regresión lineal sobre datos escalados\n",
    "postResample(prediction_fifaGK,cleaned_fifaGK.test$Value)"
   ]
  },
  {
   "cell_type": "markdown",
   "metadata": {},
   "source": [
    "### Conclusiones intermedias"
   ]
  },
  {
   "cell_type": "markdown",
   "metadata": {},
   "source": [
    "Luego de haber realizado la limpieza de datos y probado diferentes algoritmos para el entrenamiento del modelo incialmente podemos concluir:\n",
    "* Random Forest presenta una mejor aproximación en la predicción, creemos que puede deberse a la dispersión de los datos.\n",
    "* Es necesario prestar atención a identificar las variables que más influyen en la predicción, ya que la selección de menor o mayor cantidad de variables afecta notoriamente en el entrenamiento. Teniendo como consecuencia un error mayor en la predicción.\n",
    "\n",
    "A partir del estudio para el Goal Keeper y la conclusiones, se decide utilizar el algoritmo random forest para el resto de las posiciones."
   ]
  },
  {
   "cell_type": "markdown",
   "metadata": {},
   "source": [
    "<a id='CentralDefenders'></a>\n",
    "## Dataset para Central Defenders"
   ]
  },
  {
   "cell_type": "code",
   "execution_count": 78,
   "metadata": {
    "scrolled": true
   },
   "outputs": [
    {
     "data": {
      "text/html": [
       "<table>\n",
       "<thead><tr><th scope=col>Age</th><th scope=col>Overall</th><th scope=col>Potential</th><th scope=col>Marking</th><th scope=col>StandingTackle</th><th scope=col>SlidingTackle</th><th scope=col>HeadingAccuracy</th><th scope=col>Strength</th><th scope=col>Aggression</th><th scope=col>Interceptions</th><th scope=col>ShortPassing</th><th scope=col>BallControl</th><th scope=col>Reactions</th><th scope=col>Jumping</th><th scope=col>International.Reputation</th><th scope=col>Value</th></tr></thead>\n",
       "<tbody>\n",
       "\t<tr><td>32      </td><td>91      </td><td>91      </td><td>87      </td><td>92      </td><td>91      </td><td>91      </td><td>83      </td><td>88      </td><td>90      </td><td>78      </td><td>84      </td><td>85      </td><td>93      </td><td>4       </td><td>51000000</td></tr>\n",
       "\t<tr><td>32      </td><td>90      </td><td>90      </td><td>90      </td><td>89      </td><td>89      </td><td>92      </td><td>88      </td><td>89      </td><td>88      </td><td>79      </td><td>76      </td><td>85      </td><td>91      </td><td>3       </td><td>44000000</td></tr>\n",
       "\t<tr><td>33      </td><td>89      </td><td>89      </td><td>93      </td><td>93      </td><td>90      </td><td>83      </td><td>89      </td><td>92      </td><td>88      </td><td>59      </td><td>57      </td><td>82      </td><td>89      </td><td>4       </td><td>27000000</td></tr>\n",
       "\t<tr><td>29      </td><td>88      </td><td>88      </td><td>88      </td><td>90      </td><td>88      </td><td>87      </td><td>84      </td><td>69      </td><td>92      </td><td>81      </td><td>81      </td><td>87      </td><td>68      </td><td>4       </td><td>46000000</td></tr>\n",
       "\t<tr><td>33      </td><td>88      </td><td>88      </td><td>88      </td><td>89      </td><td>85      </td><td>81      </td><td>82      </td><td>76      </td><td>89      </td><td>80      </td><td>80      </td><td>82      </td><td>90      </td><td>4       </td><td>24000000</td></tr>\n",
       "\t<tr><td>24      </td><td>87      </td><td>92      </td><td>90      </td><td>89      </td><td>86      </td><td>79      </td><td>84      </td><td>81      </td><td>87      </td><td>81      </td><td>77      </td><td>82      </td><td>89      </td><td>3       </td><td>57000000</td></tr>\n",
       "\t<tr><td>27      </td><td>87      </td><td>90      </td><td>91      </td><td>88      </td><td>86      </td><td>81      </td><td>94      </td><td>87      </td><td>88      </td><td>66      </td><td>60      </td><td>80      </td><td>81      </td><td>3       </td><td>51000000</td></tr>\n",
       "\t<tr><td>31      </td><td>87      </td><td>87      </td><td>90      </td><td>87      </td><td>88      </td><td>80      </td><td>79      </td><td>84      </td><td>89      </td><td>79      </td><td>76      </td><td>84      </td><td>85      </td><td>3       </td><td>34000000</td></tr>\n",
       "\t<tr><td>31      </td><td>87      </td><td>87      </td><td>91      </td><td>86      </td><td>84      </td><td>83      </td><td>83      </td><td>72      </td><td>88      </td><td>81      </td><td>78      </td><td>84      </td><td>74      </td><td>4       </td><td>34000000</td></tr>\n",
       "\t<tr><td>26      </td><td>86      </td><td>88      </td><td>88      </td><td>89      </td><td>84      </td><td>82      </td><td>92      </td><td>81      </td><td>86      </td><td>76      </td><td>73      </td><td>85      </td><td>85      </td><td>3       </td><td>44500000</td></tr>\n",
       "\t<tr><td>25      </td><td>86      </td><td>91      </td><td>87      </td><td>88      </td><td>87      </td><td>83      </td><td>84      </td><td>77      </td><td>82      </td><td>75      </td><td>77      </td><td>83      </td><td>79      </td><td>3       </td><td>50000000</td></tr>\n",
       "\t<tr><td>31      </td><td>86      </td><td>86      </td><td>90      </td><td>86      </td><td>80      </td><td>86      </td><td>83      </td><td>82      </td><td>90      </td><td>77      </td><td>75      </td><td>84      </td><td>85      </td><td>3       </td><td>30000000</td></tr>\n",
       "\t<tr><td>29      </td><td>86      </td><td>87      </td><td>90      </td><td>91      </td><td>86      </td><td>82      </td><td>79      </td><td>80      </td><td>87      </td><td>79      </td><td>74      </td><td>86      </td><td>84      </td><td>3       </td><td>39000000</td></tr>\n",
       "\t<tr><td>31      </td><td>86      </td><td>86      </td><td>89      </td><td>87      </td><td>85      </td><td>83      </td><td>91      </td><td>86      </td><td>86      </td><td>65      </td><td>64      </td><td>82      </td><td>85      </td><td>3       </td><td>30000000</td></tr>\n",
       "\t<tr><td>23      </td><td>85      </td><td>92      </td><td>92      </td><td>88      </td><td>82      </td><td>80      </td><td>83      </td><td>86      </td><td>86      </td><td>70      </td><td>67      </td><td>81      </td><td>78      </td><td>1       </td><td>46500000</td></tr>\n",
       "\t<tr><td>27      </td><td>85      </td><td>87      </td><td>86      </td><td>87      </td><td>89      </td><td>80      </td><td>82      </td><td>86      </td><td>86      </td><td>60      </td><td>65      </td><td>85      </td><td>86      </td><td>3       </td><td>37500000</td></tr>\n",
       "\t<tr><td>30      </td><td>85      </td><td>85      </td><td>83      </td><td>85      </td><td>84      </td><td>85      </td><td>80      </td><td>91      </td><td>84      </td><td>75      </td><td>70      </td><td>79      </td><td>92      </td><td>3       </td><td>28500000</td></tr>\n",
       "\t<tr><td>29      </td><td>85      </td><td>85      </td><td>84      </td><td>87      </td><td>87      </td><td>85      </td><td>91      </td><td>81      </td><td>81      </td><td>75      </td><td>70      </td><td>82      </td><td>74      </td><td>4       </td><td>30000000</td></tr>\n",
       "\t<tr><td>35      </td><td>85      </td><td>85      </td><td>86      </td><td>88      </td><td>85      </td><td>94      </td><td>83      </td><td>72      </td><td>83      </td><td>76      </td><td>68      </td><td>85      </td><td>45      </td><td>3       </td><td> 9000000</td></tr>\n",
       "\t<tr><td>33      </td><td>85      </td><td>85      </td><td>90      </td><td>90      </td><td>85      </td><td>80      </td><td>79      </td><td>83      </td><td>85      </td><td>70      </td><td>73      </td><td>81      </td><td>82      </td><td>3       </td><td>15500000</td></tr>\n",
       "</tbody>\n",
       "</table>\n"
      ],
      "text/latex": [
       "\\begin{tabular}{r|llllllllllllllll}\n",
       " Age & Overall & Potential & Marking & StandingTackle & SlidingTackle & HeadingAccuracy & Strength & Aggression & Interceptions & ShortPassing & BallControl & Reactions & Jumping & International.Reputation & Value\\\\\n",
       "\\hline\n",
       "\t 32       & 91       & 91       & 87       & 92       & 91       & 91       & 83       & 88       & 90       & 78       & 84       & 85       & 93       & 4        & 51000000\\\\\n",
       "\t 32       & 90       & 90       & 90       & 89       & 89       & 92       & 88       & 89       & 88       & 79       & 76       & 85       & 91       & 3        & 44000000\\\\\n",
       "\t 33       & 89       & 89       & 93       & 93       & 90       & 83       & 89       & 92       & 88       & 59       & 57       & 82       & 89       & 4        & 27000000\\\\\n",
       "\t 29       & 88       & 88       & 88       & 90       & 88       & 87       & 84       & 69       & 92       & 81       & 81       & 87       & 68       & 4        & 46000000\\\\\n",
       "\t 33       & 88       & 88       & 88       & 89       & 85       & 81       & 82       & 76       & 89       & 80       & 80       & 82       & 90       & 4        & 24000000\\\\\n",
       "\t 24       & 87       & 92       & 90       & 89       & 86       & 79       & 84       & 81       & 87       & 81       & 77       & 82       & 89       & 3        & 57000000\\\\\n",
       "\t 27       & 87       & 90       & 91       & 88       & 86       & 81       & 94       & 87       & 88       & 66       & 60       & 80       & 81       & 3        & 51000000\\\\\n",
       "\t 31       & 87       & 87       & 90       & 87       & 88       & 80       & 79       & 84       & 89       & 79       & 76       & 84       & 85       & 3        & 34000000\\\\\n",
       "\t 31       & 87       & 87       & 91       & 86       & 84       & 83       & 83       & 72       & 88       & 81       & 78       & 84       & 74       & 4        & 34000000\\\\\n",
       "\t 26       & 86       & 88       & 88       & 89       & 84       & 82       & 92       & 81       & 86       & 76       & 73       & 85       & 85       & 3        & 44500000\\\\\n",
       "\t 25       & 86       & 91       & 87       & 88       & 87       & 83       & 84       & 77       & 82       & 75       & 77       & 83       & 79       & 3        & 50000000\\\\\n",
       "\t 31       & 86       & 86       & 90       & 86       & 80       & 86       & 83       & 82       & 90       & 77       & 75       & 84       & 85       & 3        & 30000000\\\\\n",
       "\t 29       & 86       & 87       & 90       & 91       & 86       & 82       & 79       & 80       & 87       & 79       & 74       & 86       & 84       & 3        & 39000000\\\\\n",
       "\t 31       & 86       & 86       & 89       & 87       & 85       & 83       & 91       & 86       & 86       & 65       & 64       & 82       & 85       & 3        & 30000000\\\\\n",
       "\t 23       & 85       & 92       & 92       & 88       & 82       & 80       & 83       & 86       & 86       & 70       & 67       & 81       & 78       & 1        & 46500000\\\\\n",
       "\t 27       & 85       & 87       & 86       & 87       & 89       & 80       & 82       & 86       & 86       & 60       & 65       & 85       & 86       & 3        & 37500000\\\\\n",
       "\t 30       & 85       & 85       & 83       & 85       & 84       & 85       & 80       & 91       & 84       & 75       & 70       & 79       & 92       & 3        & 28500000\\\\\n",
       "\t 29       & 85       & 85       & 84       & 87       & 87       & 85       & 91       & 81       & 81       & 75       & 70       & 82       & 74       & 4        & 30000000\\\\\n",
       "\t 35       & 85       & 85       & 86       & 88       & 85       & 94       & 83       & 72       & 83       & 76       & 68       & 85       & 45       & 3        &  9000000\\\\\n",
       "\t 33       & 85       & 85       & 90       & 90       & 85       & 80       & 79       & 83       & 85       & 70       & 73       & 81       & 82       & 3        & 15500000\\\\\n",
       "\\end{tabular}\n"
      ],
      "text/markdown": [
       "\n",
       "| Age | Overall | Potential | Marking | StandingTackle | SlidingTackle | HeadingAccuracy | Strength | Aggression | Interceptions | ShortPassing | BallControl | Reactions | Jumping | International.Reputation | Value |\n",
       "|---|---|---|---|---|---|---|---|---|---|---|---|---|---|---|---|\n",
       "| 32       | 91       | 91       | 87       | 92       | 91       | 91       | 83       | 88       | 90       | 78       | 84       | 85       | 93       | 4        | 51000000 |\n",
       "| 32       | 90       | 90       | 90       | 89       | 89       | 92       | 88       | 89       | 88       | 79       | 76       | 85       | 91       | 3        | 44000000 |\n",
       "| 33       | 89       | 89       | 93       | 93       | 90       | 83       | 89       | 92       | 88       | 59       | 57       | 82       | 89       | 4        | 27000000 |\n",
       "| 29       | 88       | 88       | 88       | 90       | 88       | 87       | 84       | 69       | 92       | 81       | 81       | 87       | 68       | 4        | 46000000 |\n",
       "| 33       | 88       | 88       | 88       | 89       | 85       | 81       | 82       | 76       | 89       | 80       | 80       | 82       | 90       | 4        | 24000000 |\n",
       "| 24       | 87       | 92       | 90       | 89       | 86       | 79       | 84       | 81       | 87       | 81       | 77       | 82       | 89       | 3        | 57000000 |\n",
       "| 27       | 87       | 90       | 91       | 88       | 86       | 81       | 94       | 87       | 88       | 66       | 60       | 80       | 81       | 3        | 51000000 |\n",
       "| 31       | 87       | 87       | 90       | 87       | 88       | 80       | 79       | 84       | 89       | 79       | 76       | 84       | 85       | 3        | 34000000 |\n",
       "| 31       | 87       | 87       | 91       | 86       | 84       | 83       | 83       | 72       | 88       | 81       | 78       | 84       | 74       | 4        | 34000000 |\n",
       "| 26       | 86       | 88       | 88       | 89       | 84       | 82       | 92       | 81       | 86       | 76       | 73       | 85       | 85       | 3        | 44500000 |\n",
       "| 25       | 86       | 91       | 87       | 88       | 87       | 83       | 84       | 77       | 82       | 75       | 77       | 83       | 79       | 3        | 50000000 |\n",
       "| 31       | 86       | 86       | 90       | 86       | 80       | 86       | 83       | 82       | 90       | 77       | 75       | 84       | 85       | 3        | 30000000 |\n",
       "| 29       | 86       | 87       | 90       | 91       | 86       | 82       | 79       | 80       | 87       | 79       | 74       | 86       | 84       | 3        | 39000000 |\n",
       "| 31       | 86       | 86       | 89       | 87       | 85       | 83       | 91       | 86       | 86       | 65       | 64       | 82       | 85       | 3        | 30000000 |\n",
       "| 23       | 85       | 92       | 92       | 88       | 82       | 80       | 83       | 86       | 86       | 70       | 67       | 81       | 78       | 1        | 46500000 |\n",
       "| 27       | 85       | 87       | 86       | 87       | 89       | 80       | 82       | 86       | 86       | 60       | 65       | 85       | 86       | 3        | 37500000 |\n",
       "| 30       | 85       | 85       | 83       | 85       | 84       | 85       | 80       | 91       | 84       | 75       | 70       | 79       | 92       | 3        | 28500000 |\n",
       "| 29       | 85       | 85       | 84       | 87       | 87       | 85       | 91       | 81       | 81       | 75       | 70       | 82       | 74       | 4        | 30000000 |\n",
       "| 35       | 85       | 85       | 86       | 88       | 85       | 94       | 83       | 72       | 83       | 76       | 68       | 85       | 45       | 3        |  9000000 |\n",
       "| 33       | 85       | 85       | 90       | 90       | 85       | 80       | 79       | 83       | 85       | 70       | 73       | 81       | 82       | 3        | 15500000 |\n",
       "\n"
      ],
      "text/plain": [
       "   Age Overall Potential Marking StandingTackle SlidingTackle HeadingAccuracy\n",
       "1  32  91      91        87      92             91            91             \n",
       "2  32  90      90        90      89             89            92             \n",
       "3  33  89      89        93      93             90            83             \n",
       "4  29  88      88        88      90             88            87             \n",
       "5  33  88      88        88      89             85            81             \n",
       "6  24  87      92        90      89             86            79             \n",
       "7  27  87      90        91      88             86            81             \n",
       "8  31  87      87        90      87             88            80             \n",
       "9  31  87      87        91      86             84            83             \n",
       "10 26  86      88        88      89             84            82             \n",
       "11 25  86      91        87      88             87            83             \n",
       "12 31  86      86        90      86             80            86             \n",
       "13 29  86      87        90      91             86            82             \n",
       "14 31  86      86        89      87             85            83             \n",
       "15 23  85      92        92      88             82            80             \n",
       "16 27  85      87        86      87             89            80             \n",
       "17 30  85      85        83      85             84            85             \n",
       "18 29  85      85        84      87             87            85             \n",
       "19 35  85      85        86      88             85            94             \n",
       "20 33  85      85        90      90             85            80             \n",
       "   Strength Aggression Interceptions ShortPassing BallControl Reactions Jumping\n",
       "1  83       88         90            78           84          85        93     \n",
       "2  88       89         88            79           76          85        91     \n",
       "3  89       92         88            59           57          82        89     \n",
       "4  84       69         92            81           81          87        68     \n",
       "5  82       76         89            80           80          82        90     \n",
       "6  84       81         87            81           77          82        89     \n",
       "7  94       87         88            66           60          80        81     \n",
       "8  79       84         89            79           76          84        85     \n",
       "9  83       72         88            81           78          84        74     \n",
       "10 92       81         86            76           73          85        85     \n",
       "11 84       77         82            75           77          83        79     \n",
       "12 83       82         90            77           75          84        85     \n",
       "13 79       80         87            79           74          86        84     \n",
       "14 91       86         86            65           64          82        85     \n",
       "15 83       86         86            70           67          81        78     \n",
       "16 82       86         86            60           65          85        86     \n",
       "17 80       91         84            75           70          79        92     \n",
       "18 91       81         81            75           70          82        74     \n",
       "19 83       72         83            76           68          85        45     \n",
       "20 79       83         85            70           73          81        82     \n",
       "   International.Reputation Value   \n",
       "1  4                        51000000\n",
       "2  3                        44000000\n",
       "3  4                        27000000\n",
       "4  4                        46000000\n",
       "5  4                        24000000\n",
       "6  3                        57000000\n",
       "7  3                        51000000\n",
       "8  3                        34000000\n",
       "9  4                        34000000\n",
       "10 3                        44500000\n",
       "11 3                        50000000\n",
       "12 3                        30000000\n",
       "13 3                        39000000\n",
       "14 3                        30000000\n",
       "15 1                        46500000\n",
       "16 3                        37500000\n",
       "17 3                        28500000\n",
       "18 4                        30000000\n",
       "19 3                         9000000\n",
       "20 3                        15500000"
      ]
     },
     "metadata": {},
     "output_type": "display_data"
    },
    {
     "data": {
      "text/html": [
       "<dl class=dl-horizontal>\n",
       "\t<dt>Age</dt>\n",
       "\t\t<dd>0</dd>\n",
       "\t<dt>Overall</dt>\n",
       "\t\t<dd>0</dd>\n",
       "\t<dt>Potential</dt>\n",
       "\t\t<dd>0</dd>\n",
       "\t<dt>Marking</dt>\n",
       "\t\t<dd>0</dd>\n",
       "\t<dt>StandingTackle</dt>\n",
       "\t\t<dd>0</dd>\n",
       "\t<dt>SlidingTackle</dt>\n",
       "\t\t<dd>0</dd>\n",
       "\t<dt>HeadingAccuracy</dt>\n",
       "\t\t<dd>0</dd>\n",
       "\t<dt>Strength</dt>\n",
       "\t\t<dd>0</dd>\n",
       "\t<dt>Aggression</dt>\n",
       "\t\t<dd>0</dd>\n",
       "\t<dt>Interceptions</dt>\n",
       "\t\t<dd>0</dd>\n",
       "\t<dt>ShortPassing</dt>\n",
       "\t\t<dd>0</dd>\n",
       "\t<dt>BallControl</dt>\n",
       "\t\t<dd>0</dd>\n",
       "\t<dt>Reactions</dt>\n",
       "\t\t<dd>0</dd>\n",
       "\t<dt>Jumping</dt>\n",
       "\t\t<dd>0</dd>\n",
       "\t<dt>International.Reputation</dt>\n",
       "\t\t<dd>0</dd>\n",
       "\t<dt>Value</dt>\n",
       "\t\t<dd>0</dd>\n",
       "</dl>\n"
      ],
      "text/latex": [
       "\\begin{description*}\n",
       "\\item[Age] 0\n",
       "\\item[Overall] 0\n",
       "\\item[Potential] 0\n",
       "\\item[Marking] 0\n",
       "\\item[StandingTackle] 0\n",
       "\\item[SlidingTackle] 0\n",
       "\\item[HeadingAccuracy] 0\n",
       "\\item[Strength] 0\n",
       "\\item[Aggression] 0\n",
       "\\item[Interceptions] 0\n",
       "\\item[ShortPassing] 0\n",
       "\\item[BallControl] 0\n",
       "\\item[Reactions] 0\n",
       "\\item[Jumping] 0\n",
       "\\item[International.Reputation] 0\n",
       "\\item[Value] 0\n",
       "\\end{description*}\n"
      ],
      "text/markdown": [
       "Age\n",
       ":   0Overall\n",
       ":   0Potential\n",
       ":   0Marking\n",
       ":   0StandingTackle\n",
       ":   0SlidingTackle\n",
       ":   0HeadingAccuracy\n",
       ":   0Strength\n",
       ":   0Aggression\n",
       ":   0Interceptions\n",
       ":   0ShortPassing\n",
       ":   0BallControl\n",
       ":   0Reactions\n",
       ":   0Jumping\n",
       ":   0International.Reputation\n",
       ":   0Value\n",
       ":   0\n",
       "\n"
      ],
      "text/plain": [
       "                     Age                  Overall                Potential \n",
       "                       0                        0                        0 \n",
       "                 Marking           StandingTackle            SlidingTackle \n",
       "                       0                        0                        0 \n",
       "         HeadingAccuracy                 Strength               Aggression \n",
       "                       0                        0                        0 \n",
       "           Interceptions             ShortPassing              BallControl \n",
       "                       0                        0                        0 \n",
       "               Reactions                  Jumping International.Reputation \n",
       "                       0                        0                        0 \n",
       "                   Value \n",
       "                       0 "
      ]
     },
     "metadata": {},
     "output_type": "display_data"
    }
   ],
   "source": [
    "#Dataset para Central Defenders\n",
    "fifaCB <- fifaClean %>% filter(Position == \"CB\")%>% \n",
    "                   select(Age, Overall, Potential, Marking, StandingTackle, SlidingTackle,\n",
    "                          HeadingAccuracy, Strength, Aggression, Interceptions, ShortPassing,\n",
    "                          BallControl, Reactions, Jumping, International.Reputation, Value) \n",
    "head(fifaCB, 20)\n",
    "colSums(is.na(fifaCB))"
   ]
  },
  {
   "cell_type": "code",
   "execution_count": 79,
   "metadata": {},
   "outputs": [
    {
     "data": {
      "text/html": [
       "<ol class=list-inline>\n",
       "\t<li>'Age'</li>\n",
       "\t<li>'Overall'</li>\n",
       "\t<li>'Potential'</li>\n",
       "\t<li>'Marking'</li>\n",
       "\t<li>'StandingTackle'</li>\n",
       "\t<li>'SlidingTackle'</li>\n",
       "\t<li>'HeadingAccuracy'</li>\n",
       "\t<li>'Strength'</li>\n",
       "\t<li>'Aggression'</li>\n",
       "\t<li>'Interceptions'</li>\n",
       "\t<li>'ShortPassing'</li>\n",
       "\t<li>'BallControl'</li>\n",
       "\t<li>'Reactions'</li>\n",
       "\t<li>'Jumping'</li>\n",
       "\t<li>'International.Reputation'</li>\n",
       "\t<li>'Value'</li>\n",
       "</ol>\n"
      ],
      "text/latex": [
       "\\begin{enumerate*}\n",
       "\\item 'Age'\n",
       "\\item 'Overall'\n",
       "\\item 'Potential'\n",
       "\\item 'Marking'\n",
       "\\item 'StandingTackle'\n",
       "\\item 'SlidingTackle'\n",
       "\\item 'HeadingAccuracy'\n",
       "\\item 'Strength'\n",
       "\\item 'Aggression'\n",
       "\\item 'Interceptions'\n",
       "\\item 'ShortPassing'\n",
       "\\item 'BallControl'\n",
       "\\item 'Reactions'\n",
       "\\item 'Jumping'\n",
       "\\item 'International.Reputation'\n",
       "\\item 'Value'\n",
       "\\end{enumerate*}\n"
      ],
      "text/markdown": [
       "1. 'Age'\n",
       "2. 'Overall'\n",
       "3. 'Potential'\n",
       "4. 'Marking'\n",
       "5. 'StandingTackle'\n",
       "6. 'SlidingTackle'\n",
       "7. 'HeadingAccuracy'\n",
       "8. 'Strength'\n",
       "9. 'Aggression'\n",
       "10. 'Interceptions'\n",
       "11. 'ShortPassing'\n",
       "12. 'BallControl'\n",
       "13. 'Reactions'\n",
       "14. 'Jumping'\n",
       "15. 'International.Reputation'\n",
       "16. 'Value'\n",
       "\n",
       "\n"
      ],
      "text/plain": [
       " [1] \"Age\"                      \"Overall\"                 \n",
       " [3] \"Potential\"                \"Marking\"                 \n",
       " [5] \"StandingTackle\"           \"SlidingTackle\"           \n",
       " [7] \"HeadingAccuracy\"          \"Strength\"                \n",
       " [9] \"Aggression\"               \"Interceptions\"           \n",
       "[11] \"ShortPassing\"             \"BallControl\"             \n",
       "[13] \"Reactions\"                \"Jumping\"                 \n",
       "[15] \"International.Reputation\" \"Value\"                   "
      ]
     },
     "metadata": {},
     "output_type": "display_data"
    },
    {
     "data": {
      "text/plain": [
       "Importance of components:\n",
       "                          PC1     PC2     PC3     PC4     PC5     PC6     PC7\n",
       "Standard deviation     2.9935 1.26403 1.00646 0.98430 0.89776 0.77066 0.63958\n",
       "Proportion of Variance 0.5601 0.09986 0.06331 0.06055 0.05037 0.03712 0.02557\n",
       "Cumulative Proportion  0.5601 0.65994 0.72325 0.78380 0.83417 0.87129 0.89686\n",
       "                           PC8     PC9   PC10    PC11    PC12    PC13    PC14\n",
       "Standard deviation     0.56318 0.52710 0.5185 0.49392 0.43939 0.41007 0.30258\n",
       "Proportion of Variance 0.01982 0.01736 0.0168 0.01525 0.01207 0.01051 0.00572\n",
       "Cumulative Proportion  0.91668 0.93405 0.9508 0.96610 0.97816 0.98867 0.99439\n",
       "                          PC15    PC16\n",
       "Standard deviation     0.28724 0.08473\n",
       "Proportion of Variance 0.00516 0.00045\n",
       "Cumulative Proportion  0.99955 1.00000"
      ]
     },
     "metadata": {},
     "output_type": "display_data"
    }
   ],
   "source": [
    "#Aplicamos PCA al dataset de defensa central a todas las columnas menos \"Name\" y \"Nationality\" las cuales no fueron incluídas\n",
    "names(fifaCB)\n",
    "fifaCB.pca <- prcomp(fifaCB [c(1:16)], center = TRUE,scale. = TRUE)\n",
    "summary(fifaCB.pca)"
   ]
  },
  {
   "cell_type": "markdown",
   "metadata": {},
   "source": [
    "A partir de lo anterior observamos que las variables que más influyen son la edad (\"Age\") y puntaje (\"Overall\")"
   ]
  },
  {
   "cell_type": "code",
   "execution_count": 80,
   "metadata": {},
   "outputs": [
    {
     "data": {
      "text/plain": [
       "      Age           Overall        Potential        Marking     \n",
       " Min.   :16.00   Min.   :48.00   Min.   :52.00   Min.   :39.00  \n",
       " 1st Qu.:22.00   1st Qu.:63.00   1st Qu.:68.00   1st Qu.:60.00  \n",
       " Median :26.00   Median :67.00   Median :71.00   Median :65.00  \n",
       " Mean   :25.75   Mean   :66.82   Mean   :71.49   Mean   :65.22  \n",
       " 3rd Qu.:29.00   3rd Qu.:71.00   3rd Qu.:75.00   3rd Qu.:70.00  \n",
       " Max.   :40.00   Max.   :91.00   Max.   :92.00   Max.   :94.00  \n",
       " StandingTackle  SlidingTackle  HeadingAccuracy    Strength       Aggression   \n",
       " Min.   :42.00   Min.   :23.0   Min.   :39.00   Min.   :33.00   Min.   :26.00  \n",
       " 1st Qu.:63.00   1st Qu.:61.0   1st Qu.:61.00   1st Qu.:71.00   1st Qu.:60.00  \n",
       " Median :67.00   Median :65.0   Median :66.00   Median :77.00   Median :68.00  \n",
       " Mean   :67.81   Mean   :65.4   Mean   :65.84   Mean   :76.03   Mean   :67.02  \n",
       " 3rd Qu.:72.00   3rd Qu.:70.0   3rd Qu.:72.00   3rd Qu.:81.25   3rd Qu.:75.00  \n",
       " Max.   :93.00   Max.   :91.0   Max.   :94.00   Max.   :95.00   Max.   :94.00  \n",
       " Interceptions    ShortPassing    BallControl      Reactions    \n",
       " Min.   :27.00   Min.   :25.00   Min.   :25.00   Min.   :38.00  \n",
       " 1st Qu.:59.00   1st Qu.:51.00   1st Qu.:47.00   1st Qu.:55.00  \n",
       " Median :65.00   Median :58.00   Median :55.00   Median :61.00  \n",
       " Mean   :64.76   Mean   :57.13   Mean   :53.54   Mean   :60.94  \n",
       " 3rd Qu.:70.00   3rd Qu.:64.25   3rd Qu.:61.00   3rd Qu.:67.00  \n",
       " Max.   :92.00   Max.   :82.00   Max.   :84.00   Max.   :87.00  \n",
       "    Jumping      International.Reputation     Value         \n",
       " Min.   :28.00   Min.   :1.000            Min.   :       0  \n",
       " 1st Qu.:66.00   1st Qu.:1.000            1st Qu.:  325000  \n",
       " Median :71.00   Median :1.000            Median :  675000  \n",
       " Mean   :70.07   Mean   :1.112            Mean   : 2197673  \n",
       " 3rd Qu.:77.00   3rd Qu.:1.000            3rd Qu.: 1900000  \n",
       " Max.   :94.00   Max.   :4.000            Max.   :57000000  "
      ]
     },
     "metadata": {},
     "output_type": "display_data"
    }
   ],
   "source": [
    "summary(fifaCB)"
   ]
  },
  {
   "cell_type": "code",
   "execution_count": 81,
   "metadata": {},
   "outputs": [
    {
     "data": {
      "text/html": [
       "<ol class=list-inline>\n",
       "\t<li>3088</li>\n",
       "\t<li>16</li>\n",
       "</ol>\n"
      ],
      "text/latex": [
       "\\begin{enumerate*}\n",
       "\\item 3088\n",
       "\\item 16\n",
       "\\end{enumerate*}\n"
      ],
      "text/markdown": [
       "1. 3088\n",
       "2. 16\n",
       "\n",
       "\n"
      ],
      "text/plain": [
       "[1] 3088   16"
      ]
     },
     "metadata": {},
     "output_type": "display_data"
    }
   ],
   "source": [
    "dim(fifaCB)"
   ]
  },
  {
   "cell_type": "markdown",
   "metadata": {},
   "source": [
    "Particionamos fifaCB con el fin de obtener un data frame para realizar el entrenamiento y otro para probarlo"
   ]
  },
  {
   "cell_type": "code",
   "execution_count": 82,
   "metadata": {},
   "outputs": [],
   "source": [
    "set.seed(1500)\n",
    "indexes_fifaCB <- createDataPartition(fifaCB$Value,times = 1,\n",
    "                               p = 0.8, # 80% para entrenar, 20% para evaluar\n",
    "                               list = FALSE)\n",
    "fifaCB.train <- fifaCB[indexes_fifaCB,]\n",
    "fifaCB.test <- fifaCB[-indexes_fifaCB,]"
   ]
  },
  {
   "cell_type": "code",
   "execution_count": 83,
   "metadata": {},
   "outputs": [
    {
     "data": {
      "text/html": [
       "<ol class=list-inline>\n",
       "\t<li>'Age'</li>\n",
       "\t<li>'Overall'</li>\n",
       "\t<li>'Potential'</li>\n",
       "\t<li>'Marking'</li>\n",
       "\t<li>'StandingTackle'</li>\n",
       "\t<li>'SlidingTackle'</li>\n",
       "\t<li>'HeadingAccuracy'</li>\n",
       "\t<li>'Strength'</li>\n",
       "\t<li>'Aggression'</li>\n",
       "\t<li>'Interceptions'</li>\n",
       "\t<li>'ShortPassing'</li>\n",
       "\t<li>'BallControl'</li>\n",
       "\t<li>'Reactions'</li>\n",
       "\t<li>'Jumping'</li>\n",
       "\t<li>'International.Reputation'</li>\n",
       "\t<li>'Value'</li>\n",
       "</ol>\n"
      ],
      "text/latex": [
       "\\begin{enumerate*}\n",
       "\\item 'Age'\n",
       "\\item 'Overall'\n",
       "\\item 'Potential'\n",
       "\\item 'Marking'\n",
       "\\item 'StandingTackle'\n",
       "\\item 'SlidingTackle'\n",
       "\\item 'HeadingAccuracy'\n",
       "\\item 'Strength'\n",
       "\\item 'Aggression'\n",
       "\\item 'Interceptions'\n",
       "\\item 'ShortPassing'\n",
       "\\item 'BallControl'\n",
       "\\item 'Reactions'\n",
       "\\item 'Jumping'\n",
       "\\item 'International.Reputation'\n",
       "\\item 'Value'\n",
       "\\end{enumerate*}\n"
      ],
      "text/markdown": [
       "1. 'Age'\n",
       "2. 'Overall'\n",
       "3. 'Potential'\n",
       "4. 'Marking'\n",
       "5. 'StandingTackle'\n",
       "6. 'SlidingTackle'\n",
       "7. 'HeadingAccuracy'\n",
       "8. 'Strength'\n",
       "9. 'Aggression'\n",
       "10. 'Interceptions'\n",
       "11. 'ShortPassing'\n",
       "12. 'BallControl'\n",
       "13. 'Reactions'\n",
       "14. 'Jumping'\n",
       "15. 'International.Reputation'\n",
       "16. 'Value'\n",
       "\n",
       "\n"
      ],
      "text/plain": [
       " [1] \"Age\"                      \"Overall\"                 \n",
       " [3] \"Potential\"                \"Marking\"                 \n",
       " [5] \"StandingTackle\"           \"SlidingTackle\"           \n",
       " [7] \"HeadingAccuracy\"          \"Strength\"                \n",
       " [9] \"Aggression\"               \"Interceptions\"           \n",
       "[11] \"ShortPassing\"             \"BallControl\"             \n",
       "[13] \"Reactions\"                \"Jumping\"                 \n",
       "[15] \"International.Reputation\" \"Value\"                   "
      ]
     },
     "metadata": {},
     "output_type": "display_data"
    },
    {
     "data": {
      "text/html": [
       "<ol class=list-inline>\n",
       "\t<li>2472</li>\n",
       "\t<li>16</li>\n",
       "</ol>\n"
      ],
      "text/latex": [
       "\\begin{enumerate*}\n",
       "\\item 2472\n",
       "\\item 16\n",
       "\\end{enumerate*}\n"
      ],
      "text/markdown": [
       "1. 2472\n",
       "2. 16\n",
       "\n",
       "\n"
      ],
      "text/plain": [
       "[1] 2472   16"
      ]
     },
     "metadata": {},
     "output_type": "display_data"
    },
    {
     "data": {
      "text/html": [
       "<ol class=list-inline>\n",
       "\t<li>'Age'</li>\n",
       "\t<li>'Overall'</li>\n",
       "\t<li>'Potential'</li>\n",
       "\t<li>'Marking'</li>\n",
       "\t<li>'StandingTackle'</li>\n",
       "\t<li>'SlidingTackle'</li>\n",
       "\t<li>'HeadingAccuracy'</li>\n",
       "\t<li>'Strength'</li>\n",
       "\t<li>'Aggression'</li>\n",
       "\t<li>'Interceptions'</li>\n",
       "\t<li>'ShortPassing'</li>\n",
       "\t<li>'BallControl'</li>\n",
       "\t<li>'Reactions'</li>\n",
       "\t<li>'Jumping'</li>\n",
       "\t<li>'International.Reputation'</li>\n",
       "\t<li>'Value'</li>\n",
       "</ol>\n"
      ],
      "text/latex": [
       "\\begin{enumerate*}\n",
       "\\item 'Age'\n",
       "\\item 'Overall'\n",
       "\\item 'Potential'\n",
       "\\item 'Marking'\n",
       "\\item 'StandingTackle'\n",
       "\\item 'SlidingTackle'\n",
       "\\item 'HeadingAccuracy'\n",
       "\\item 'Strength'\n",
       "\\item 'Aggression'\n",
       "\\item 'Interceptions'\n",
       "\\item 'ShortPassing'\n",
       "\\item 'BallControl'\n",
       "\\item 'Reactions'\n",
       "\\item 'Jumping'\n",
       "\\item 'International.Reputation'\n",
       "\\item 'Value'\n",
       "\\end{enumerate*}\n"
      ],
      "text/markdown": [
       "1. 'Age'\n",
       "2. 'Overall'\n",
       "3. 'Potential'\n",
       "4. 'Marking'\n",
       "5. 'StandingTackle'\n",
       "6. 'SlidingTackle'\n",
       "7. 'HeadingAccuracy'\n",
       "8. 'Strength'\n",
       "9. 'Aggression'\n",
       "10. 'Interceptions'\n",
       "11. 'ShortPassing'\n",
       "12. 'BallControl'\n",
       "13. 'Reactions'\n",
       "14. 'Jumping'\n",
       "15. 'International.Reputation'\n",
       "16. 'Value'\n",
       "\n",
       "\n"
      ],
      "text/plain": [
       " [1] \"Age\"                      \"Overall\"                 \n",
       " [3] \"Potential\"                \"Marking\"                 \n",
       " [5] \"StandingTackle\"           \"SlidingTackle\"           \n",
       " [7] \"HeadingAccuracy\"          \"Strength\"                \n",
       " [9] \"Aggression\"               \"Interceptions\"           \n",
       "[11] \"ShortPassing\"             \"BallControl\"             \n",
       "[13] \"Reactions\"                \"Jumping\"                 \n",
       "[15] \"International.Reputation\" \"Value\"                   "
      ]
     },
     "metadata": {},
     "output_type": "display_data"
    },
    {
     "data": {
      "text/html": [
       "<ol class=list-inline>\n",
       "\t<li>616</li>\n",
       "\t<li>16</li>\n",
       "</ol>\n"
      ],
      "text/latex": [
       "\\begin{enumerate*}\n",
       "\\item 616\n",
       "\\item 16\n",
       "\\end{enumerate*}\n"
      ],
      "text/markdown": [
       "1. 616\n",
       "2. 16\n",
       "\n",
       "\n"
      ],
      "text/plain": [
       "[1] 616  16"
      ]
     },
     "metadata": {},
     "output_type": "display_data"
    }
   ],
   "source": [
    "#Verificamos los subconjuntos\n",
    "names(fifaCB.train)\n",
    "dim(fifaCB.train)\n",
    "\n",
    "names(fifaCB.test)\n",
    "dim(fifaCB.test)"
   ]
  },
  {
   "cell_type": "markdown",
   "metadata": {},
   "source": [
    "Verificamos que la suma de la cantidad de líneas de fifaCB.train y fifaCB.test es igual a la cantidad total de lineas de fifaCB"
   ]
  },
  {
   "cell_type": "code",
   "execution_count": 84,
   "metadata": {},
   "outputs": [
    {
     "data": {
      "text/html": [
       "TRUE"
      ],
      "text/latex": [
       "TRUE"
      ],
      "text/markdown": [
       "TRUE"
      ],
      "text/plain": [
       "[1] TRUE"
      ]
     },
     "metadata": {},
     "output_type": "display_data"
    }
   ],
   "source": [
    "nrow(fifaCB.train) + nrow(fifaCB.test) == nrow(fifaCB)"
   ]
  },
  {
   "cell_type": "code",
   "execution_count": 85,
   "metadata": {},
   "outputs": [
    {
     "data": {
      "image/png": "[encoded data removed]",
      "text/plain": [
       "plot without title"
      ]
     },
     "metadata": {},
     "output_type": "display_data"
    }
   ],
   "source": [
    "ggplot() + geom_point(data = fifaCB.train, aes(x = Overall, y = Value)) + \n",
    "  xlab(\"Overall\") + \n",
    "  ylab(\"Value\") + \n",
    "  ggtitle(\"Datos de entrenamiento para Central Defenders\")"
   ]
  },
  {
   "cell_type": "markdown",
   "metadata": {},
   "source": [
    "## Random Forest"
   ]
  },
  {
   "cell_type": "code",
   "execution_count": 86,
   "metadata": {},
   "outputs": [],
   "source": [
    "#Creación del modelo\n",
    "library(randomForest)\n",
    "set.seed(1234)\n",
    "fifaCB_randomForest <- randomForest(Value ~ Age+Overall, data = fifaCB.train, ntree = 500)"
   ]
  },
  {
   "cell_type": "markdown",
   "metadata": {},
   "source": [
    "### Visualización del modelo creado"
   ]
  },
  {
   "cell_type": "code",
   "execution_count": 87,
   "metadata": {},
   "outputs": [
    {
     "data": {
      "text/plain": [
       "\n",
       "Call:\n",
       " randomForest(formula = Value ~ Age + Overall, data = fifaCB.train,      ntree = 500) \n",
       "               Type of random forest: regression\n",
       "                     Number of trees: 500\n",
       "No. of variables tried at each split: 1\n",
       "\n",
       "          Mean of squared residuals: 1.125703e+12\n",
       "                    % Var explained: 94.3"
      ]
     },
     "metadata": {},
     "output_type": "display_data"
    }
   ],
   "source": [
    "fifaCB_randomForest"
   ]
  },
  {
   "cell_type": "code",
   "execution_count": 88,
   "metadata": {},
   "outputs": [
    {
     "data": {
      "text/html": [
       "<table>\n",
       "<thead><tr><th></th><th scope=col>IncNodePurity</th></tr></thead>\n",
       "<tbody>\n",
       "\t<tr><th scope=row>Age</th><td>4.014085e+15</td></tr>\n",
       "\t<tr><th scope=row>Overall</th><td>4.185908e+16</td></tr>\n",
       "</tbody>\n",
       "</table>\n"
      ],
      "text/latex": [
       "\\begin{tabular}{r|l}\n",
       "  & IncNodePurity\\\\\n",
       "\\hline\n",
       "\tAge & 4.014085e+15\\\\\n",
       "\tOverall & 4.185908e+16\\\\\n",
       "\\end{tabular}\n"
      ],
      "text/markdown": [
       "\n",
       "| <!--/--> | IncNodePurity |\n",
       "|---|---|\n",
       "| Age | 4.014085e+15 |\n",
       "| Overall | 4.185908e+16 |\n",
       "\n"
      ],
      "text/plain": [
       "        IncNodePurity\n",
       "Age     4.014085e+15 \n",
       "Overall 4.185908e+16 "
      ]
     },
     "metadata": {},
     "output_type": "display_data"
    }
   ],
   "source": [
    "#Importancia de las variables\n",
    "fifaCB_randomForest$importance"
   ]
  },
  {
   "cell_type": "code",
   "execution_count": 89,
   "metadata": {},
   "outputs": [],
   "source": [
    "#Predicción\n",
    "y_fifaCB_predict <- predict(fifaCB_randomForest, fifaCB.train)"
   ]
  },
  {
   "cell_type": "code",
   "execution_count": 90,
   "metadata": {},
   "outputs": [
    {
     "data": {
      "text/html": [
       "0.991121084378393"
      ],
      "text/latex": [
       "0.991121084378393"
      ],
      "text/markdown": [
       "0.991121084378393"
      ],
      "text/plain": [
       "[1] 0.9911211"
      ]
     },
     "metadata": {},
     "output_type": "display_data"
    }
   ],
   "source": [
    "#Correlación entre la predicción\n",
    "cor(fifaCB.train$Value, y_fifaCB_predict)"
   ]
  },
  {
   "cell_type": "code",
   "execution_count": 91,
   "metadata": {},
   "outputs": [],
   "source": [
    "y_fifaCB_test_predict <- predict(fifaCB_randomForest, fifaCB.test)"
   ]
  },
  {
   "cell_type": "code",
   "execution_count": 92,
   "metadata": {},
   "outputs": [
    {
     "data": {
      "text/html": [
       "0.992384478679973"
      ],
      "text/latex": [
       "0.992384478679973"
      ],
      "text/markdown": [
       "0.992384478679973"
      ],
      "text/plain": [
       "[1] 0.9923845"
      ]
     },
     "metadata": {},
     "output_type": "display_data"
    }
   ],
   "source": [
    "cor(fifaCB.test$Value, y_fifaCB_test_predict)"
   ]
  },
  {
   "cell_type": "code",
   "execution_count": 93,
   "metadata": {},
   "outputs": [
    {
     "data": {
      "image/png": "[encoded data removed]",
      "text/plain": [
       "Plot with title \"fifaCB_randomForest\""
      ]
     },
     "metadata": {},
     "output_type": "display_data"
    }
   ],
   "source": [
    "#Gráfica del modelo que muestra que al incrementar los árboles los errores disminuyen\n",
    "plot(fifaCB_randomForest)"
   ]
  },
  {
   "cell_type": "markdown",
   "metadata": {},
   "source": [
    "#### Vemos que en los 200 árboles el modelo se estabiliza, entonces ajustamos el modelo "
   ]
  },
  {
   "cell_type": "code",
   "execution_count": 94,
   "metadata": {},
   "outputs": [],
   "source": [
    "#Ajuste del modelo\n",
    "set.seed(1234)\n",
    "fifaCB_randomForest_ajustado <- randomForest(Value ~ Age+Overall, data = fifaCB.train, ntree = 200)"
   ]
  },
  {
   "cell_type": "code",
   "execution_count": 95,
   "metadata": {},
   "outputs": [
    {
     "data": {
      "text/plain": [
       "\n",
       "Call:\n",
       " randomForest(formula = Value ~ Age + Overall, data = fifaCB.train,      ntree = 200) \n",
       "               Type of random forest: regression\n",
       "                     Number of trees: 200\n",
       "No. of variables tried at each split: 1\n",
       "\n",
       "          Mean of squared residuals: 1.166097e+12\n",
       "                    % Var explained: 94.09"
      ]
     },
     "metadata": {},
     "output_type": "display_data"
    }
   ],
   "source": [
    "fifaCB_randomForest_ajustado"
   ]
  },
  {
   "cell_type": "code",
   "execution_count": 96,
   "metadata": {},
   "outputs": [],
   "source": [
    "#Predicción con el modelo ajustado\n",
    "y_fifaCB_predict_ajustado <- predict(fifaCB_randomForest_ajustado, fifaCB.train)"
   ]
  },
  {
   "cell_type": "code",
   "execution_count": 97,
   "metadata": {},
   "outputs": [
    {
     "data": {
      "text/html": [
       "0.990980827403067"
      ],
      "text/latex": [
       "0.990980827403067"
      ],
      "text/markdown": [
       "0.990980827403067"
      ],
      "text/plain": [
       "[1] 0.9909808"
      ]
     },
     "metadata": {},
     "output_type": "display_data"
    }
   ],
   "source": [
    "#Correlación entre la predicción\n",
    "cor(fifaCB.train$Value, y_fifaCB_predict_ajustado)"
   ]
  },
  {
   "cell_type": "code",
   "execution_count": 98,
   "metadata": {},
   "outputs": [
    {
     "data": {
      "text/html": [
       "<dl class=dl-horizontal>\n",
       "\t<dt>RMSE</dt>\n",
       "\t\t<dd>672012.929586887</dd>\n",
       "\t<dt>Rsquared</dt>\n",
       "\t\t<dd>0.982043000280468</dd>\n",
       "\t<dt>MAE</dt>\n",
       "\t\t<dd>231165.935771343</dd>\n",
       "</dl>\n"
      ],
      "text/latex": [
       "\\begin{description*}\n",
       "\\item[RMSE] 672012.929586887\n",
       "\\item[Rsquared] 0.982043000280468\n",
       "\\item[MAE] 231165.935771343\n",
       "\\end{description*}\n"
      ],
      "text/markdown": [
       "RMSE\n",
       ":   672012.929586887Rsquared\n",
       ":   0.982043000280468MAE\n",
       ":   231165.935771343\n",
       "\n"
      ],
      "text/plain": [
       "        RMSE     Rsquared          MAE \n",
       "6.720129e+05 9.820430e-01 2.311659e+05 "
      ]
     },
     "metadata": {},
     "output_type": "display_data"
    }
   ],
   "source": [
    "#Evaluando errores utilizando Random Forest\n",
    "postResample(y_fifaCB_predict_ajustado,fifaCB.train$Value)"
   ]
  },
  {
   "cell_type": "code",
   "execution_count": 99,
   "metadata": {},
   "outputs": [
    {
     "data": {
      "text/plain": [
       "k-Nearest Neighbors \n",
       "\n",
       "3088 samples\n",
       "   2 predictor\n",
       "\n",
       "No pre-processing\n",
       "Resampling: Cross-Validated (10 fold) \n",
       "Summary of sample sizes: 2779, 2779, 2779, 2779, 2780, 2778, ... \n",
       "Resampling results across tuning parameters:\n",
       "\n",
       "  k   RMSE      Rsquared   MAE     \n",
       "   3  757229.0  0.9749596  195874.6\n",
       "   5  734106.6  0.9771425  198058.2\n",
       "   7  793624.1  0.9763343  212252.9\n",
       "   9  795507.9  0.9776832  211085.0\n",
       "  11  875210.1  0.9722868  221444.3\n",
       "  13  920897.1  0.9689848  227652.0\n",
       "  15  981069.2  0.9644869  238170.7\n",
       "\n",
       "RMSE was used to select the optimal model using the smallest value.\n",
       "The final value used for the model was k = 5."
      ]
     },
     "metadata": {},
     "output_type": "display_data"
    }
   ],
   "source": [
    "# Para la validación cruzada\n",
    "# Define el grid de parámetros a probar\n",
    "valores <- expand.grid(k = seq(3, 15, 2)) \n",
    "# Define los detalles del método de validación cruzada o remuestreo a utilizar\n",
    "ajustes <- trainControl(method='cv',  # validación cruzada\n",
    "             number = 10)  # diez submuestras\n",
    "# Aplica el método seleccionando el valor óptimo de k\n",
    "fifaCB.knn <- train(Value ~ Age+Overall,\n",
    "      data = fifaCB,\n",
    "      method = 'knn',\n",
    "      tuneGrid = valores,\n",
    "      trControl = ajustes)\n",
    "fifaCB.knn"
   ]
  },
  {
   "cell_type": "code",
   "execution_count": 100,
   "metadata": {},
   "outputs": [
    {
     "data": {
      "image/png": "[encoded data removed]",
      "text/plain": [
       "plot without title"
      ]
     },
     "metadata": {},
     "output_type": "display_data"
    }
   ],
   "source": [
    "plot(fifaCB.knn)"
   ]
  },
  {
   "cell_type": "markdown",
   "metadata": {},
   "source": [
    "<a id='Right/LeftBacks'></a>\n",
    "## Dataset para Right/Left Backs"
   ]
  },
  {
   "cell_type": "code",
   "execution_count": 101,
   "metadata": {},
   "outputs": [
    {
     "data": {
      "text/html": [
       "<table>\n",
       "<thead><tr><th scope=col>Age</th><th scope=col>Overall</th><th scope=col>Potential</th><th scope=col>Marking</th><th scope=col>StandingTackle</th><th scope=col>SlidingTackle</th><th scope=col>HeadingAccuracy</th><th scope=col>Aggression</th><th scope=col>Interceptions</th><th scope=col>ShortPassing</th><th scope=col>BallControl</th><th scope=col>Reactions</th><th scope=col>Stamina</th><th scope=col>Crossing</th><th scope=col>SprintSpeed</th><th scope=col>International.Reputation</th><th scope=col>Value</th></tr></thead>\n",
       "<tbody>\n",
       "\t<tr><td>30      </td><td>88      </td><td>88      </td><td>71      </td><td>85      </td><td>86      </td><td>75      </td><td>84      </td><td>85      </td><td>84      </td><td>92      </td><td>88      </td><td>91      </td><td>90      </td><td>82      </td><td>4       </td><td>43000000</td></tr>\n",
       "\t<tr><td>29      </td><td>87      </td><td>87      </td><td>72      </td><td>84      </td><td>85      </td><td>70      </td><td>75      </td><td>84      </td><td>84      </td><td>84      </td><td>83      </td><td>91      </td><td>87      </td><td>93      </td><td>3       </td><td>38000000</td></tr>\n",
       "\t<tr><td>27      </td><td>86      </td><td>86      </td><td>81      </td><td>84      </td><td>84      </td><td>76      </td><td>82      </td><td>82      </td><td>81      </td><td>81      </td><td>84      </td><td>92      </td><td>84      </td><td>86      </td><td>3       </td><td>36500000</td></tr>\n",
       "\t<tr><td>28      </td><td>86      </td><td>86      </td><td>88      </td><td>90      </td><td>86      </td><td>76      </td><td>82      </td><td>89      </td><td>81      </td><td>77      </td><td>88      </td><td>87      </td><td>81      </td><td>76      </td><td>3       </td><td>35000000</td></tr>\n",
       "\t<tr><td>26      </td><td>85      </td><td>87      </td><td>80      </td><td>82      </td><td>80      </td><td>75      </td><td>69      </td><td>84      </td><td>82      </td><td>83      </td><td>84      </td><td>87      </td><td>81      </td><td>86      </td><td>4       </td><td>38000000</td></tr>\n",
       "\t<tr><td>32      </td><td>85      </td><td>85      </td><td>78      </td><td>84      </td><td>86      </td><td>72      </td><td>81      </td><td>84      </td><td>80      </td><td>83      </td><td>85      </td><td>89      </td><td>86      </td><td>75      </td><td>3       </td><td>21500000</td></tr>\n",
       "\t<tr><td>25      </td><td>84      </td><td>87      </td><td>80      </td><td>81      </td><td>79      </td><td>74      </td><td>78      </td><td>80      </td><td>83      </td><td>82      </td><td>83      </td><td>92      </td><td>89      </td><td>85      </td><td>3       </td><td>32000000</td></tr>\n",
       "\t<tr><td>26      </td><td>84      </td><td>87      </td><td>83      </td><td>83      </td><td>85      </td><td>70      </td><td>81      </td><td>83      </td><td>81      </td><td>83      </td><td>82      </td><td>84      </td><td>83      </td><td>84      </td><td>3       </td><td>31500000</td></tr>\n",
       "\t<tr><td>28      </td><td>84      </td><td>84      </td><td>78      </td><td>84      </td><td>83      </td><td>74      </td><td>78      </td><td>81      </td><td>78      </td><td>78      </td><td>83      </td><td>89      </td><td>81      </td><td>93      </td><td>3       </td><td>24500000</td></tr>\n",
       "\t<tr><td>26      </td><td>83      </td><td>86      </td><td>75      </td><td>83      </td><td>83      </td><td>72      </td><td>68      </td><td>81      </td><td>86      </td><td>83      </td><td>80      </td><td>85      </td><td>85      </td><td>79      </td><td>3       </td><td>26500000</td></tr>\n",
       "\t<tr><td>27      </td><td>83      </td><td>84      </td><td>79      </td><td>82      </td><td>79      </td><td>83      </td><td>75      </td><td>79      </td><td>84      </td><td>83      </td><td>84      </td><td>90      </td><td>85      </td><td>76      </td><td>2       </td><td>24000000</td></tr>\n",
       "\t<tr><td>29      </td><td>83      </td><td>83      </td><td>88      </td><td>86      </td><td>82      </td><td>78      </td><td>79      </td><td>86      </td><td>79      </td><td>75      </td><td>83      </td><td>86      </td><td>69      </td><td>67      </td><td>3       </td><td>20000000</td></tr>\n",
       "\t<tr><td>22      </td><td>82      </td><td>88      </td><td>76      </td><td>83      </td><td>86      </td><td>83      </td><td>86      </td><td>81      </td><td>80      </td><td>79      </td><td>80      </td><td>82      </td><td>78      </td><td>84      </td><td>1       </td><td>25500000</td></tr>\n",
       "\t<tr><td>24      </td><td>82      </td><td>87      </td><td>80      </td><td>81      </td><td>78      </td><td>63      </td><td>78      </td><td>80      </td><td>76      </td><td>78      </td><td>81      </td><td>89      </td><td>86      </td><td>86      </td><td>1       </td><td>24500000</td></tr>\n",
       "\t<tr><td>24      </td><td>82      </td><td>88      </td><td>79      </td><td>79      </td><td>79      </td><td>64      </td><td>73      </td><td>77      </td><td>78      </td><td>83      </td><td>82      </td><td>89      </td><td>85      </td><td>91      </td><td>2       </td><td>25500000</td></tr>\n",
       "\t<tr><td>27      </td><td>82      </td><td>83      </td><td>76      </td><td>79      </td><td>78      </td><td>72      </td><td>79      </td><td>78      </td><td>77      </td><td>79      </td><td>80      </td><td>90      </td><td>77      </td><td>84      </td><td>3       </td><td>20500000</td></tr>\n",
       "\t<tr><td>27      </td><td>82      </td><td>82      </td><td>83      </td><td>82      </td><td>84      </td><td>76      </td><td>77      </td><td>78      </td><td>78      </td><td>79      </td><td>80      </td><td>87      </td><td>76      </td><td>85      </td><td>2       </td><td>18500000</td></tr>\n",
       "\t<tr><td>27      </td><td>82      </td><td>82      </td><td>77      </td><td>82      </td><td>79      </td><td>73      </td><td>70      </td><td>79      </td><td>79      </td><td>80      </td><td>81      </td><td>88      </td><td>91      </td><td>75      </td><td>2       </td><td>18500000</td></tr>\n",
       "\t<tr><td>32      </td><td>82      </td><td>82      </td><td>81      </td><td>82      </td><td>81      </td><td>80      </td><td>85      </td><td>81      </td><td>77      </td><td>76      </td><td>84      </td><td>84      </td><td>91      </td><td>70      </td><td>2       </td><td>12500000</td></tr>\n",
       "\t<tr><td>35      </td><td>82      </td><td>82      </td><td>72      </td><td>79      </td><td>82      </td><td>72      </td><td>78      </td><td>79      </td><td>81      </td><td>86      </td><td>77      </td><td>74      </td><td>85      </td><td>79      </td><td>4       </td><td> 4800000</td></tr>\n",
       "</tbody>\n",
       "</table>\n"
      ],
      "text/latex": [
       "\\begin{tabular}{r|lllllllllllllllll}\n",
       " Age & Overall & Potential & Marking & StandingTackle & SlidingTackle & HeadingAccuracy & Aggression & Interceptions & ShortPassing & BallControl & Reactions & Stamina & Crossing & SprintSpeed & International.Reputation & Value\\\\\n",
       "\\hline\n",
       "\t 30       & 88       & 88       & 71       & 85       & 86       & 75       & 84       & 85       & 84       & 92       & 88       & 91       & 90       & 82       & 4        & 43000000\\\\\n",
       "\t 29       & 87       & 87       & 72       & 84       & 85       & 70       & 75       & 84       & 84       & 84       & 83       & 91       & 87       & 93       & 3        & 38000000\\\\\n",
       "\t 27       & 86       & 86       & 81       & 84       & 84       & 76       & 82       & 82       & 81       & 81       & 84       & 92       & 84       & 86       & 3        & 36500000\\\\\n",
       "\t 28       & 86       & 86       & 88       & 90       & 86       & 76       & 82       & 89       & 81       & 77       & 88       & 87       & 81       & 76       & 3        & 35000000\\\\\n",
       "\t 26       & 85       & 87       & 80       & 82       & 80       & 75       & 69       & 84       & 82       & 83       & 84       & 87       & 81       & 86       & 4        & 38000000\\\\\n",
       "\t 32       & 85       & 85       & 78       & 84       & 86       & 72       & 81       & 84       & 80       & 83       & 85       & 89       & 86       & 75       & 3        & 21500000\\\\\n",
       "\t 25       & 84       & 87       & 80       & 81       & 79       & 74       & 78       & 80       & 83       & 82       & 83       & 92       & 89       & 85       & 3        & 32000000\\\\\n",
       "\t 26       & 84       & 87       & 83       & 83       & 85       & 70       & 81       & 83       & 81       & 83       & 82       & 84       & 83       & 84       & 3        & 31500000\\\\\n",
       "\t 28       & 84       & 84       & 78       & 84       & 83       & 74       & 78       & 81       & 78       & 78       & 83       & 89       & 81       & 93       & 3        & 24500000\\\\\n",
       "\t 26       & 83       & 86       & 75       & 83       & 83       & 72       & 68       & 81       & 86       & 83       & 80       & 85       & 85       & 79       & 3        & 26500000\\\\\n",
       "\t 27       & 83       & 84       & 79       & 82       & 79       & 83       & 75       & 79       & 84       & 83       & 84       & 90       & 85       & 76       & 2        & 24000000\\\\\n",
       "\t 29       & 83       & 83       & 88       & 86       & 82       & 78       & 79       & 86       & 79       & 75       & 83       & 86       & 69       & 67       & 3        & 20000000\\\\\n",
       "\t 22       & 82       & 88       & 76       & 83       & 86       & 83       & 86       & 81       & 80       & 79       & 80       & 82       & 78       & 84       & 1        & 25500000\\\\\n",
       "\t 24       & 82       & 87       & 80       & 81       & 78       & 63       & 78       & 80       & 76       & 78       & 81       & 89       & 86       & 86       & 1        & 24500000\\\\\n",
       "\t 24       & 82       & 88       & 79       & 79       & 79       & 64       & 73       & 77       & 78       & 83       & 82       & 89       & 85       & 91       & 2        & 25500000\\\\\n",
       "\t 27       & 82       & 83       & 76       & 79       & 78       & 72       & 79       & 78       & 77       & 79       & 80       & 90       & 77       & 84       & 3        & 20500000\\\\\n",
       "\t 27       & 82       & 82       & 83       & 82       & 84       & 76       & 77       & 78       & 78       & 79       & 80       & 87       & 76       & 85       & 2        & 18500000\\\\\n",
       "\t 27       & 82       & 82       & 77       & 82       & 79       & 73       & 70       & 79       & 79       & 80       & 81       & 88       & 91       & 75       & 2        & 18500000\\\\\n",
       "\t 32       & 82       & 82       & 81       & 82       & 81       & 80       & 85       & 81       & 77       & 76       & 84       & 84       & 91       & 70       & 2        & 12500000\\\\\n",
       "\t 35       & 82       & 82       & 72       & 79       & 82       & 72       & 78       & 79       & 81       & 86       & 77       & 74       & 85       & 79       & 4        &  4800000\\\\\n",
       "\\end{tabular}\n"
      ],
      "text/markdown": [
       "\n",
       "| Age | Overall | Potential | Marking | StandingTackle | SlidingTackle | HeadingAccuracy | Aggression | Interceptions | ShortPassing | BallControl | Reactions | Stamina | Crossing | SprintSpeed | International.Reputation | Value |\n",
       "|---|---|---|---|---|---|---|---|---|---|---|---|---|---|---|---|---|\n",
       "| 30       | 88       | 88       | 71       | 85       | 86       | 75       | 84       | 85       | 84       | 92       | 88       | 91       | 90       | 82       | 4        | 43000000 |\n",
       "| 29       | 87       | 87       | 72       | 84       | 85       | 70       | 75       | 84       | 84       | 84       | 83       | 91       | 87       | 93       | 3        | 38000000 |\n",
       "| 27       | 86       | 86       | 81       | 84       | 84       | 76       | 82       | 82       | 81       | 81       | 84       | 92       | 84       | 86       | 3        | 36500000 |\n",
       "| 28       | 86       | 86       | 88       | 90       | 86       | 76       | 82       | 89       | 81       | 77       | 88       | 87       | 81       | 76       | 3        | 35000000 |\n",
       "| 26       | 85       | 87       | 80       | 82       | 80       | 75       | 69       | 84       | 82       | 83       | 84       | 87       | 81       | 86       | 4        | 38000000 |\n",
       "| 32       | 85       | 85       | 78       | 84       | 86       | 72       | 81       | 84       | 80       | 83       | 85       | 89       | 86       | 75       | 3        | 21500000 |\n",
       "| 25       | 84       | 87       | 80       | 81       | 79       | 74       | 78       | 80       | 83       | 82       | 83       | 92       | 89       | 85       | 3        | 32000000 |\n",
       "| 26       | 84       | 87       | 83       | 83       | 85       | 70       | 81       | 83       | 81       | 83       | 82       | 84       | 83       | 84       | 3        | 31500000 |\n",
       "| 28       | 84       | 84       | 78       | 84       | 83       | 74       | 78       | 81       | 78       | 78       | 83       | 89       | 81       | 93       | 3        | 24500000 |\n",
       "| 26       | 83       | 86       | 75       | 83       | 83       | 72       | 68       | 81       | 86       | 83       | 80       | 85       | 85       | 79       | 3        | 26500000 |\n",
       "| 27       | 83       | 84       | 79       | 82       | 79       | 83       | 75       | 79       | 84       | 83       | 84       | 90       | 85       | 76       | 2        | 24000000 |\n",
       "| 29       | 83       | 83       | 88       | 86       | 82       | 78       | 79       | 86       | 79       | 75       | 83       | 86       | 69       | 67       | 3        | 20000000 |\n",
       "| 22       | 82       | 88       | 76       | 83       | 86       | 83       | 86       | 81       | 80       | 79       | 80       | 82       | 78       | 84       | 1        | 25500000 |\n",
       "| 24       | 82       | 87       | 80       | 81       | 78       | 63       | 78       | 80       | 76       | 78       | 81       | 89       | 86       | 86       | 1        | 24500000 |\n",
       "| 24       | 82       | 88       | 79       | 79       | 79       | 64       | 73       | 77       | 78       | 83       | 82       | 89       | 85       | 91       | 2        | 25500000 |\n",
       "| 27       | 82       | 83       | 76       | 79       | 78       | 72       | 79       | 78       | 77       | 79       | 80       | 90       | 77       | 84       | 3        | 20500000 |\n",
       "| 27       | 82       | 82       | 83       | 82       | 84       | 76       | 77       | 78       | 78       | 79       | 80       | 87       | 76       | 85       | 2        | 18500000 |\n",
       "| 27       | 82       | 82       | 77       | 82       | 79       | 73       | 70       | 79       | 79       | 80       | 81       | 88       | 91       | 75       | 2        | 18500000 |\n",
       "| 32       | 82       | 82       | 81       | 82       | 81       | 80       | 85       | 81       | 77       | 76       | 84       | 84       | 91       | 70       | 2        | 12500000 |\n",
       "| 35       | 82       | 82       | 72       | 79       | 82       | 72       | 78       | 79       | 81       | 86       | 77       | 74       | 85       | 79       | 4        |  4800000 |\n",
       "\n"
      ],
      "text/plain": [
       "   Age Overall Potential Marking StandingTackle SlidingTackle HeadingAccuracy\n",
       "1  30  88      88        71      85             86            75             \n",
       "2  29  87      87        72      84             85            70             \n",
       "3  27  86      86        81      84             84            76             \n",
       "4  28  86      86        88      90             86            76             \n",
       "5  26  85      87        80      82             80            75             \n",
       "6  32  85      85        78      84             86            72             \n",
       "7  25  84      87        80      81             79            74             \n",
       "8  26  84      87        83      83             85            70             \n",
       "9  28  84      84        78      84             83            74             \n",
       "10 26  83      86        75      83             83            72             \n",
       "11 27  83      84        79      82             79            83             \n",
       "12 29  83      83        88      86             82            78             \n",
       "13 22  82      88        76      83             86            83             \n",
       "14 24  82      87        80      81             78            63             \n",
       "15 24  82      88        79      79             79            64             \n",
       "16 27  82      83        76      79             78            72             \n",
       "17 27  82      82        83      82             84            76             \n",
       "18 27  82      82        77      82             79            73             \n",
       "19 32  82      82        81      82             81            80             \n",
       "20 35  82      82        72      79             82            72             \n",
       "   Aggression Interceptions ShortPassing BallControl Reactions Stamina Crossing\n",
       "1  84         85            84           92          88        91      90      \n",
       "2  75         84            84           84          83        91      87      \n",
       "3  82         82            81           81          84        92      84      \n",
       "4  82         89            81           77          88        87      81      \n",
       "5  69         84            82           83          84        87      81      \n",
       "6  81         84            80           83          85        89      86      \n",
       "7  78         80            83           82          83        92      89      \n",
       "8  81         83            81           83          82        84      83      \n",
       "9  78         81            78           78          83        89      81      \n",
       "10 68         81            86           83          80        85      85      \n",
       "11 75         79            84           83          84        90      85      \n",
       "12 79         86            79           75          83        86      69      \n",
       "13 86         81            80           79          80        82      78      \n",
       "14 78         80            76           78          81        89      86      \n",
       "15 73         77            78           83          82        89      85      \n",
       "16 79         78            77           79          80        90      77      \n",
       "17 77         78            78           79          80        87      76      \n",
       "18 70         79            79           80          81        88      91      \n",
       "19 85         81            77           76          84        84      91      \n",
       "20 78         79            81           86          77        74      85      \n",
       "   SprintSpeed International.Reputation Value   \n",
       "1  82          4                        43000000\n",
       "2  93          3                        38000000\n",
       "3  86          3                        36500000\n",
       "4  76          3                        35000000\n",
       "5  86          4                        38000000\n",
       "6  75          3                        21500000\n",
       "7  85          3                        32000000\n",
       "8  84          3                        31500000\n",
       "9  93          3                        24500000\n",
       "10 79          3                        26500000\n",
       "11 76          2                        24000000\n",
       "12 67          3                        20000000\n",
       "13 84          1                        25500000\n",
       "14 86          1                        24500000\n",
       "15 91          2                        25500000\n",
       "16 84          3                        20500000\n",
       "17 85          2                        18500000\n",
       "18 75          2                        18500000\n",
       "19 70          2                        12500000\n",
       "20 79          4                         4800000"
      ]
     },
     "metadata": {},
     "output_type": "display_data"
    },
    {
     "data": {
      "text/html": [
       "<dl class=dl-horizontal>\n",
       "\t<dt>Age</dt>\n",
       "\t\t<dd>0</dd>\n",
       "\t<dt>Overall</dt>\n",
       "\t\t<dd>0</dd>\n",
       "\t<dt>Potential</dt>\n",
       "\t\t<dd>0</dd>\n",
       "\t<dt>Marking</dt>\n",
       "\t\t<dd>0</dd>\n",
       "\t<dt>StandingTackle</dt>\n",
       "\t\t<dd>0</dd>\n",
       "\t<dt>SlidingTackle</dt>\n",
       "\t\t<dd>0</dd>\n",
       "\t<dt>HeadingAccuracy</dt>\n",
       "\t\t<dd>0</dd>\n",
       "\t<dt>Aggression</dt>\n",
       "\t\t<dd>0</dd>\n",
       "\t<dt>Interceptions</dt>\n",
       "\t\t<dd>0</dd>\n",
       "\t<dt>ShortPassing</dt>\n",
       "\t\t<dd>0</dd>\n",
       "\t<dt>BallControl</dt>\n",
       "\t\t<dd>0</dd>\n",
       "\t<dt>Reactions</dt>\n",
       "\t\t<dd>0</dd>\n",
       "\t<dt>Stamina</dt>\n",
       "\t\t<dd>0</dd>\n",
       "\t<dt>Crossing</dt>\n",
       "\t\t<dd>0</dd>\n",
       "\t<dt>SprintSpeed</dt>\n",
       "\t\t<dd>0</dd>\n",
       "\t<dt>International.Reputation</dt>\n",
       "\t\t<dd>0</dd>\n",
       "\t<dt>Value</dt>\n",
       "\t\t<dd>0</dd>\n",
       "</dl>\n"
      ],
      "text/latex": [
       "\\begin{description*}\n",
       "\\item[Age] 0\n",
       "\\item[Overall] 0\n",
       "\\item[Potential] 0\n",
       "\\item[Marking] 0\n",
       "\\item[StandingTackle] 0\n",
       "\\item[SlidingTackle] 0\n",
       "\\item[HeadingAccuracy] 0\n",
       "\\item[Aggression] 0\n",
       "\\item[Interceptions] 0\n",
       "\\item[ShortPassing] 0\n",
       "\\item[BallControl] 0\n",
       "\\item[Reactions] 0\n",
       "\\item[Stamina] 0\n",
       "\\item[Crossing] 0\n",
       "\\item[SprintSpeed] 0\n",
       "\\item[International.Reputation] 0\n",
       "\\item[Value] 0\n",
       "\\end{description*}\n"
      ],
      "text/markdown": [
       "Age\n",
       ":   0Overall\n",
       ":   0Potential\n",
       ":   0Marking\n",
       ":   0StandingTackle\n",
       ":   0SlidingTackle\n",
       ":   0HeadingAccuracy\n",
       ":   0Aggression\n",
       ":   0Interceptions\n",
       ":   0ShortPassing\n",
       ":   0BallControl\n",
       ":   0Reactions\n",
       ":   0Stamina\n",
       ":   0Crossing\n",
       ":   0SprintSpeed\n",
       ":   0International.Reputation\n",
       ":   0Value\n",
       ":   0\n",
       "\n"
      ],
      "text/plain": [
       "                     Age                  Overall                Potential \n",
       "                       0                        0                        0 \n",
       "                 Marking           StandingTackle            SlidingTackle \n",
       "                       0                        0                        0 \n",
       "         HeadingAccuracy               Aggression            Interceptions \n",
       "                       0                        0                        0 \n",
       "            ShortPassing              BallControl                Reactions \n",
       "                       0                        0                        0 \n",
       "                 Stamina                 Crossing              SprintSpeed \n",
       "                       0                        0                        0 \n",
       "International.Reputation                    Value \n",
       "                       0                        0 "
      ]
     },
     "metadata": {},
     "output_type": "display_data"
    }
   ],
   "source": [
    "#Dataset para Right/Left Backs\n",
    "fifaRLB <- fifaClean %>% filter(Position == \"RLB\")%>% \n",
    "                   select(Age, Overall, Potential, Marking, StandingTackle, SlidingTackle, \n",
    "                          HeadingAccuracy, Aggression, Interceptions, ShortPassing, BallControl, \n",
    "                          Reactions, Stamina, Crossing, SprintSpeed, International.Reputation, Value) \n",
    "head(fifaRLB, 20)\n",
    "colSums(is.na(fifaRLB))"
   ]
  },
  {
   "cell_type": "code",
   "execution_count": 102,
   "metadata": {
    "scrolled": true
   },
   "outputs": [
    {
     "data": {
      "text/html": [
       "<ol class=list-inline>\n",
       "\t<li>'Age'</li>\n",
       "\t<li>'Overall'</li>\n",
       "\t<li>'Potential'</li>\n",
       "\t<li>'Marking'</li>\n",
       "\t<li>'StandingTackle'</li>\n",
       "\t<li>'SlidingTackle'</li>\n",
       "\t<li>'HeadingAccuracy'</li>\n",
       "\t<li>'Aggression'</li>\n",
       "\t<li>'Interceptions'</li>\n",
       "\t<li>'ShortPassing'</li>\n",
       "\t<li>'BallControl'</li>\n",
       "\t<li>'Reactions'</li>\n",
       "\t<li>'Stamina'</li>\n",
       "\t<li>'Crossing'</li>\n",
       "\t<li>'SprintSpeed'</li>\n",
       "\t<li>'International.Reputation'</li>\n",
       "\t<li>'Value'</li>\n",
       "</ol>\n"
      ],
      "text/latex": [
       "\\begin{enumerate*}\n",
       "\\item 'Age'\n",
       "\\item 'Overall'\n",
       "\\item 'Potential'\n",
       "\\item 'Marking'\n",
       "\\item 'StandingTackle'\n",
       "\\item 'SlidingTackle'\n",
       "\\item 'HeadingAccuracy'\n",
       "\\item 'Aggression'\n",
       "\\item 'Interceptions'\n",
       "\\item 'ShortPassing'\n",
       "\\item 'BallControl'\n",
       "\\item 'Reactions'\n",
       "\\item 'Stamina'\n",
       "\\item 'Crossing'\n",
       "\\item 'SprintSpeed'\n",
       "\\item 'International.Reputation'\n",
       "\\item 'Value'\n",
       "\\end{enumerate*}\n"
      ],
      "text/markdown": [
       "1. 'Age'\n",
       "2. 'Overall'\n",
       "3. 'Potential'\n",
       "4. 'Marking'\n",
       "5. 'StandingTackle'\n",
       "6. 'SlidingTackle'\n",
       "7. 'HeadingAccuracy'\n",
       "8. 'Aggression'\n",
       "9. 'Interceptions'\n",
       "10. 'ShortPassing'\n",
       "11. 'BallControl'\n",
       "12. 'Reactions'\n",
       "13. 'Stamina'\n",
       "14. 'Crossing'\n",
       "15. 'SprintSpeed'\n",
       "16. 'International.Reputation'\n",
       "17. 'Value'\n",
       "\n",
       "\n"
      ],
      "text/plain": [
       " [1] \"Age\"                      \"Overall\"                 \n",
       " [3] \"Potential\"                \"Marking\"                 \n",
       " [5] \"StandingTackle\"           \"SlidingTackle\"           \n",
       " [7] \"HeadingAccuracy\"          \"Aggression\"              \n",
       " [9] \"Interceptions\"            \"ShortPassing\"            \n",
       "[11] \"BallControl\"              \"Reactions\"               \n",
       "[13] \"Stamina\"                  \"Crossing\"                \n",
       "[15] \"SprintSpeed\"              \"International.Reputation\"\n",
       "[17] \"Value\"                   "
      ]
     },
     "metadata": {},
     "output_type": "display_data"
    },
    {
     "data": {
      "text/plain": [
       "Importance of components:\n",
       "                          PC1     PC2     PC3     PC4     PC5    PC6     PC7\n",
       "Standard deviation     3.0729 1.26639 1.10914 0.92434 0.85160 0.7329 0.69949\n",
       "Proportion of Variance 0.5554 0.09434 0.07236 0.05026 0.04266 0.0316 0.02878\n",
       "Cumulative Proportion  0.5554 0.64979 0.72215 0.77241 0.81507 0.8467 0.87545\n",
       "                           PC8     PC9   PC10    PC11    PC12    PC13    PC14\n",
       "Standard deviation     0.67074 0.56459 0.5517 0.52447 0.47357 0.43783 0.38742\n",
       "Proportion of Variance 0.02646 0.01875 0.0179 0.01618 0.01319 0.01128 0.00883\n",
       "Cumulative Proportion  0.90191 0.92066 0.9386 0.95475 0.96794 0.97922 0.98805\n",
       "                          PC15    PC16    PC17\n",
       "Standard deviation     0.31517 0.29816 0.12242\n",
       "Proportion of Variance 0.00584 0.00523 0.00088\n",
       "Cumulative Proportion  0.99389 0.99912 1.00000"
      ]
     },
     "metadata": {},
     "output_type": "display_data"
    }
   ],
   "source": [
    "#Aplicamos PCA al dataset de Right/Left Backs a todas las columnas menos \"Name\" y \"Nationality\" las cuales no fueron incluídas\n",
    "names(fifaRLB)\n",
    "fifaRLB.pca <- prcomp(fifaRLB [c(1:17)], center = TRUE,scale. = TRUE)\n",
    "summary(fifaRLB.pca)"
   ]
  },
  {
   "cell_type": "markdown",
   "metadata": {},
   "source": [
    "A partir de lo anterior observamos que las variables que más influyen son la edad (\"Age\") y puntaje (\"Overall\")"
   ]
  },
  {
   "cell_type": "code",
   "execution_count": 103,
   "metadata": {},
   "outputs": [
    {
     "data": {
      "text/plain": [
       "Importance of components:\n",
       "                          PC1     PC2     PC3     PC4     PC5    PC6     PC7\n",
       "Standard deviation     3.0729 1.26639 1.10914 0.92434 0.85160 0.7329 0.69949\n",
       "Proportion of Variance 0.5554 0.09434 0.07236 0.05026 0.04266 0.0316 0.02878\n",
       "Cumulative Proportion  0.5554 0.64979 0.72215 0.77241 0.81507 0.8467 0.87545\n",
       "                           PC8     PC9   PC10    PC11    PC12    PC13    PC14\n",
       "Standard deviation     0.67074 0.56459 0.5517 0.52447 0.47357 0.43783 0.38742\n",
       "Proportion of Variance 0.02646 0.01875 0.0179 0.01618 0.01319 0.01128 0.00883\n",
       "Cumulative Proportion  0.90191 0.92066 0.9386 0.95475 0.96794 0.97922 0.98805\n",
       "                          PC15    PC16    PC17\n",
       "Standard deviation     0.31517 0.29816 0.12242\n",
       "Proportion of Variance 0.00584 0.00523 0.00088\n",
       "Cumulative Proportion  0.99389 0.99912 1.00000"
      ]
     },
     "metadata": {},
     "output_type": "display_data"
    }
   ],
   "source": [
    "summary(fifaRLB.pca)"
   ]
  },
  {
   "cell_type": "code",
   "execution_count": 104,
   "metadata": {},
   "outputs": [
    {
     "data": {
      "text/html": [
       "<ol class=list-inline>\n",
       "\t<li>2613</li>\n",
       "\t<li>17</li>\n",
       "</ol>\n"
      ],
      "text/latex": [
       "\\begin{enumerate*}\n",
       "\\item 2613\n",
       "\\item 17\n",
       "\\end{enumerate*}\n"
      ],
      "text/markdown": [
       "1. 2613\n",
       "2. 17\n",
       "\n",
       "\n"
      ],
      "text/plain": [
       "[1] 2613   17"
      ]
     },
     "metadata": {},
     "output_type": "display_data"
    }
   ],
   "source": [
    "dim(fifaRLB)"
   ]
  },
  {
   "cell_type": "markdown",
   "metadata": {},
   "source": [
    "Particionamos fifaRLB con el fin de obtener un data frame para realizar el entrenamiento y otro para probarlo"
   ]
  },
  {
   "cell_type": "code",
   "execution_count": 105,
   "metadata": {},
   "outputs": [],
   "source": [
    "set.seed(1500)\n",
    "indexes_fifaRLB <- createDataPartition(fifaRLB$Value,times = 1,\n",
    "                               p = 0.8, # 80% para entrenar, 20% para evaluar\n",
    "                               list = FALSE)\n",
    "fifaRLB.train <- fifaRLB[indexes_fifaRLB,]\n",
    "fifaRLB.test <- fifaRLB[-indexes_fifaRLB,]"
   ]
  },
  {
   "cell_type": "code",
   "execution_count": 106,
   "metadata": {},
   "outputs": [
    {
     "data": {
      "text/html": [
       "<ol class=list-inline>\n",
       "\t<li>'Age'</li>\n",
       "\t<li>'Overall'</li>\n",
       "\t<li>'Potential'</li>\n",
       "\t<li>'Marking'</li>\n",
       "\t<li>'StandingTackle'</li>\n",
       "\t<li>'SlidingTackle'</li>\n",
       "\t<li>'HeadingAccuracy'</li>\n",
       "\t<li>'Aggression'</li>\n",
       "\t<li>'Interceptions'</li>\n",
       "\t<li>'ShortPassing'</li>\n",
       "\t<li>'BallControl'</li>\n",
       "\t<li>'Reactions'</li>\n",
       "\t<li>'Stamina'</li>\n",
       "\t<li>'Crossing'</li>\n",
       "\t<li>'SprintSpeed'</li>\n",
       "\t<li>'International.Reputation'</li>\n",
       "\t<li>'Value'</li>\n",
       "</ol>\n"
      ],
      "text/latex": [
       "\\begin{enumerate*}\n",
       "\\item 'Age'\n",
       "\\item 'Overall'\n",
       "\\item 'Potential'\n",
       "\\item 'Marking'\n",
       "\\item 'StandingTackle'\n",
       "\\item 'SlidingTackle'\n",
       "\\item 'HeadingAccuracy'\n",
       "\\item 'Aggression'\n",
       "\\item 'Interceptions'\n",
       "\\item 'ShortPassing'\n",
       "\\item 'BallControl'\n",
       "\\item 'Reactions'\n",
       "\\item 'Stamina'\n",
       "\\item 'Crossing'\n",
       "\\item 'SprintSpeed'\n",
       "\\item 'International.Reputation'\n",
       "\\item 'Value'\n",
       "\\end{enumerate*}\n"
      ],
      "text/markdown": [
       "1. 'Age'\n",
       "2. 'Overall'\n",
       "3. 'Potential'\n",
       "4. 'Marking'\n",
       "5. 'StandingTackle'\n",
       "6. 'SlidingTackle'\n",
       "7. 'HeadingAccuracy'\n",
       "8. 'Aggression'\n",
       "9. 'Interceptions'\n",
       "10. 'ShortPassing'\n",
       "11. 'BallControl'\n",
       "12. 'Reactions'\n",
       "13. 'Stamina'\n",
       "14. 'Crossing'\n",
       "15. 'SprintSpeed'\n",
       "16. 'International.Reputation'\n",
       "17. 'Value'\n",
       "\n",
       "\n"
      ],
      "text/plain": [
       " [1] \"Age\"                      \"Overall\"                 \n",
       " [3] \"Potential\"                \"Marking\"                 \n",
       " [5] \"StandingTackle\"           \"SlidingTackle\"           \n",
       " [7] \"HeadingAccuracy\"          \"Aggression\"              \n",
       " [9] \"Interceptions\"            \"ShortPassing\"            \n",
       "[11] \"BallControl\"              \"Reactions\"               \n",
       "[13] \"Stamina\"                  \"Crossing\"                \n",
       "[15] \"SprintSpeed\"              \"International.Reputation\"\n",
       "[17] \"Value\"                   "
      ]
     },
     "metadata": {},
     "output_type": "display_data"
    },
    {
     "data": {
      "text/html": [
       "<ol class=list-inline>\n",
       "\t<li>2092</li>\n",
       "\t<li>17</li>\n",
       "</ol>\n"
      ],
      "text/latex": [
       "\\begin{enumerate*}\n",
       "\\item 2092\n",
       "\\item 17\n",
       "\\end{enumerate*}\n"
      ],
      "text/markdown": [
       "1. 2092\n",
       "2. 17\n",
       "\n",
       "\n"
      ],
      "text/plain": [
       "[1] 2092   17"
      ]
     },
     "metadata": {},
     "output_type": "display_data"
    },
    {
     "data": {
      "text/html": [
       "<ol class=list-inline>\n",
       "\t<li>'Age'</li>\n",
       "\t<li>'Overall'</li>\n",
       "\t<li>'Potential'</li>\n",
       "\t<li>'Marking'</li>\n",
       "\t<li>'StandingTackle'</li>\n",
       "\t<li>'SlidingTackle'</li>\n",
       "\t<li>'HeadingAccuracy'</li>\n",
       "\t<li>'Aggression'</li>\n",
       "\t<li>'Interceptions'</li>\n",
       "\t<li>'ShortPassing'</li>\n",
       "\t<li>'BallControl'</li>\n",
       "\t<li>'Reactions'</li>\n",
       "\t<li>'Stamina'</li>\n",
       "\t<li>'Crossing'</li>\n",
       "\t<li>'SprintSpeed'</li>\n",
       "\t<li>'International.Reputation'</li>\n",
       "\t<li>'Value'</li>\n",
       "</ol>\n"
      ],
      "text/latex": [
       "\\begin{enumerate*}\n",
       "\\item 'Age'\n",
       "\\item 'Overall'\n",
       "\\item 'Potential'\n",
       "\\item 'Marking'\n",
       "\\item 'StandingTackle'\n",
       "\\item 'SlidingTackle'\n",
       "\\item 'HeadingAccuracy'\n",
       "\\item 'Aggression'\n",
       "\\item 'Interceptions'\n",
       "\\item 'ShortPassing'\n",
       "\\item 'BallControl'\n",
       "\\item 'Reactions'\n",
       "\\item 'Stamina'\n",
       "\\item 'Crossing'\n",
       "\\item 'SprintSpeed'\n",
       "\\item 'International.Reputation'\n",
       "\\item 'Value'\n",
       "\\end{enumerate*}\n"
      ],
      "text/markdown": [
       "1. 'Age'\n",
       "2. 'Overall'\n",
       "3. 'Potential'\n",
       "4. 'Marking'\n",
       "5. 'StandingTackle'\n",
       "6. 'SlidingTackle'\n",
       "7. 'HeadingAccuracy'\n",
       "8. 'Aggression'\n",
       "9. 'Interceptions'\n",
       "10. 'ShortPassing'\n",
       "11. 'BallControl'\n",
       "12. 'Reactions'\n",
       "13. 'Stamina'\n",
       "14. 'Crossing'\n",
       "15. 'SprintSpeed'\n",
       "16. 'International.Reputation'\n",
       "17. 'Value'\n",
       "\n",
       "\n"
      ],
      "text/plain": [
       " [1] \"Age\"                      \"Overall\"                 \n",
       " [3] \"Potential\"                \"Marking\"                 \n",
       " [5] \"StandingTackle\"           \"SlidingTackle\"           \n",
       " [7] \"HeadingAccuracy\"          \"Aggression\"              \n",
       " [9] \"Interceptions\"            \"ShortPassing\"            \n",
       "[11] \"BallControl\"              \"Reactions\"               \n",
       "[13] \"Stamina\"                  \"Crossing\"                \n",
       "[15] \"SprintSpeed\"              \"International.Reputation\"\n",
       "[17] \"Value\"                   "
      ]
     },
     "metadata": {},
     "output_type": "display_data"
    },
    {
     "data": {
      "text/html": [
       "<ol class=list-inline>\n",
       "\t<li>521</li>\n",
       "\t<li>17</li>\n",
       "</ol>\n"
      ],
      "text/latex": [
       "\\begin{enumerate*}\n",
       "\\item 521\n",
       "\\item 17\n",
       "\\end{enumerate*}\n"
      ],
      "text/markdown": [
       "1. 521\n",
       "2. 17\n",
       "\n",
       "\n"
      ],
      "text/plain": [
       "[1] 521  17"
      ]
     },
     "metadata": {},
     "output_type": "display_data"
    }
   ],
   "source": [
    "#Verificamos los subconjuntos\n",
    "names(fifaRLB.train)\n",
    "dim(fifaRLB.train)\n",
    "\n",
    "names(fifaRLB.test)\n",
    "dim(fifaRLB.test)"
   ]
  },
  {
   "cell_type": "markdown",
   "metadata": {},
   "source": [
    "Verificamos que la suma de la cantidad de líneas de fifaRLB.train y fifaRLB.test es igual a la cantidad total de lineas de fifaRLB"
   ]
  },
  {
   "cell_type": "code",
   "execution_count": 107,
   "metadata": {},
   "outputs": [
    {
     "data": {
      "text/html": [
       "TRUE"
      ],
      "text/latex": [
       "TRUE"
      ],
      "text/markdown": [
       "TRUE"
      ],
      "text/plain": [
       "[1] TRUE"
      ]
     },
     "metadata": {},
     "output_type": "display_data"
    }
   ],
   "source": [
    "nrow(fifaRLB.train) + nrow(fifaRLB.test) == nrow(fifaRLB)"
   ]
  },
  {
   "cell_type": "code",
   "execution_count": 108,
   "metadata": {},
   "outputs": [
    {
     "data": {
      "image/png": "[encoded data removed]",
      "text/plain": [
       "plot without title"
      ]
     },
     "metadata": {},
     "output_type": "display_data"
    }
   ],
   "source": [
    "ggplot() + geom_point(data = fifaRLB.train, aes(x = Overall, y = Value)) + \n",
    "  xlab(\"Overall\") + \n",
    "  ylab(\"Value\") + \n",
    "  ggtitle(\"Datos de entrenamiento para Right/Left Backs\")"
   ]
  },
  {
   "cell_type": "markdown",
   "metadata": {},
   "source": [
    "## Random Forest"
   ]
  },
  {
   "cell_type": "code",
   "execution_count": 109,
   "metadata": {},
   "outputs": [],
   "source": [
    "#Creación del modelo\n",
    "library(randomForest)\n",
    "set.seed(1234)\n",
    "fifaRLB_randomForest <- randomForest(Value ~ Age+Overall, data = fifaRLB.train, ntree = 500)"
   ]
  },
  {
   "cell_type": "markdown",
   "metadata": {},
   "source": [
    "### Visualización del modelo creado"
   ]
  },
  {
   "cell_type": "code",
   "execution_count": 110,
   "metadata": {},
   "outputs": [
    {
     "data": {
      "text/plain": [
       "\n",
       "Call:\n",
       " randomForest(formula = Value ~ Age + Overall, data = fifaRLB.train,      ntree = 500) \n",
       "               Type of random forest: regression\n",
       "                     Number of trees: 500\n",
       "No. of variables tried at each split: 1\n",
       "\n",
       "          Mean of squared residuals: 6.19182e+11\n",
       "                    % Var explained: 94.32"
      ]
     },
     "metadata": {},
     "output_type": "display_data"
    }
   ],
   "source": [
    "fifaRLB_randomForest"
   ]
  },
  {
   "cell_type": "code",
   "execution_count": 111,
   "metadata": {},
   "outputs": [
    {
     "data": {
      "text/html": [
       "<table>\n",
       "<thead><tr><th></th><th scope=col>IncNodePurity</th></tr></thead>\n",
       "<tbody>\n",
       "\t<tr><th scope=row>Age</th><td>1.624233e+15</td></tr>\n",
       "\t<tr><th scope=row>Overall</th><td>1.969228e+16</td></tr>\n",
       "</tbody>\n",
       "</table>\n"
      ],
      "text/latex": [
       "\\begin{tabular}{r|l}\n",
       "  & IncNodePurity\\\\\n",
       "\\hline\n",
       "\tAge & 1.624233e+15\\\\\n",
       "\tOverall & 1.969228e+16\\\\\n",
       "\\end{tabular}\n"
      ],
      "text/markdown": [
       "\n",
       "| <!--/--> | IncNodePurity |\n",
       "|---|---|\n",
       "| Age | 1.624233e+15 |\n",
       "| Overall | 1.969228e+16 |\n",
       "\n"
      ],
      "text/plain": [
       "        IncNodePurity\n",
       "Age     1.624233e+15 \n",
       "Overall 1.969228e+16 "
      ]
     },
     "metadata": {},
     "output_type": "display_data"
    }
   ],
   "source": [
    "#Importancia de las variables\n",
    "fifaRLB_randomForest$importance"
   ]
  },
  {
   "cell_type": "code",
   "execution_count": 112,
   "metadata": {},
   "outputs": [],
   "source": [
    "#Predicción\n",
    "y_fifaRLB_predict <- predict(fifaRLB_randomForest, fifaRLB.train)"
   ]
  },
  {
   "cell_type": "code",
   "execution_count": 113,
   "metadata": {},
   "outputs": [
    {
     "data": {
      "text/html": [
       "0.992279409497842"
      ],
      "text/latex": [
       "0.992279409497842"
      ],
      "text/markdown": [
       "0.992279409497842"
      ],
      "text/plain": [
       "[1] 0.9922794"
      ]
     },
     "metadata": {},
     "output_type": "display_data"
    }
   ],
   "source": [
    "#Correlación entre la predicción\n",
    "cor(fifaRLB.train$Value, y_fifaRLB_predict)"
   ]
  },
  {
   "cell_type": "code",
   "execution_count": 114,
   "metadata": {},
   "outputs": [],
   "source": [
    "y_fifaRLB_test_predict <- predict(fifaRLB_randomForest, fifaRLB.test)"
   ]
  },
  {
   "cell_type": "code",
   "execution_count": 115,
   "metadata": {},
   "outputs": [
    {
     "data": {
      "text/html": [
       "0.992057319056971"
      ],
      "text/latex": [
       "0.992057319056971"
      ],
      "text/markdown": [
       "0.992057319056971"
      ],
      "text/plain": [
       "[1] 0.9920573"
      ]
     },
     "metadata": {},
     "output_type": "display_data"
    }
   ],
   "source": [
    "cor(fifaRLB.test$Value, y_fifaRLB_test_predict)"
   ]
  },
  {
   "cell_type": "code",
   "execution_count": 116,
   "metadata": {},
   "outputs": [
    {
     "data": {
      "image/png": "[encoded data removed]",
      "text/plain": [
       "Plot with title \"fifaRLB_randomForest\""
      ]
     },
     "metadata": {},
     "output_type": "display_data"
    }
   ],
   "source": [
    "#Gráfica del modelo que muestra que al incrementar los árboles los errores disminuyen\n",
    "plot(fifaRLB_randomForest)"
   ]
  },
  {
   "cell_type": "markdown",
   "metadata": {},
   "source": [
    "#### Vemos que en los 200 árboles el modelo se estabiliza, entonces ajustamos el modelo "
   ]
  },
  {
   "cell_type": "code",
   "execution_count": 117,
   "metadata": {},
   "outputs": [],
   "source": [
    "#Ajuste del modelo\n",
    "set.seed(1234)\n",
    "fifaRLB_randomForest_ajustado <- randomForest(Value ~ Age+Overall, data = fifaRLB.train, ntree = 200)"
   ]
  },
  {
   "cell_type": "code",
   "execution_count": 118,
   "metadata": {},
   "outputs": [
    {
     "data": {
      "text/plain": [
       "\n",
       "Call:\n",
       " randomForest(formula = Value ~ Age + Overall, data = fifaRLB.train,      ntree = 200) \n",
       "               Type of random forest: regression\n",
       "                     Number of trees: 200\n",
       "No. of variables tried at each split: 1\n",
       "\n",
       "          Mean of squared residuals: 608817402202\n",
       "                    % Var explained: 94.42"
      ]
     },
     "metadata": {},
     "output_type": "display_data"
    }
   ],
   "source": [
    "fifaRLB_randomForest_ajustado"
   ]
  },
  {
   "cell_type": "code",
   "execution_count": 119,
   "metadata": {},
   "outputs": [],
   "source": [
    "#Predicción con el modelo ajustado\n",
    "y_fifaRLB_predict_ajustado <- predict(fifaRLB_randomForest_ajustado, fifaRLB.train)"
   ]
  },
  {
   "cell_type": "code",
   "execution_count": 120,
   "metadata": {},
   "outputs": [
    {
     "data": {
      "text/html": [
       "0.992291128534935"
      ],
      "text/latex": [
       "0.992291128534935"
      ],
      "text/markdown": [
       "0.992291128534935"
      ],
      "text/plain": [
       "[1] 0.9922911"
      ]
     },
     "metadata": {},
     "output_type": "display_data"
    }
   ],
   "source": [
    "#Correlación entre la predicción\n",
    "cor(fifaRLB.train$Value, y_fifaRLB_predict_ajustado)"
   ]
  },
  {
   "cell_type": "code",
   "execution_count": 121,
   "metadata": {},
   "outputs": [
    {
     "data": {
      "text/html": [
       "<dl class=dl-horizontal>\n",
       "\t<dt>RMSE</dt>\n",
       "\t\t<dd>495162.859680333</dd>\n",
       "\t<dt>Rsquared</dt>\n",
       "\t\t<dd>0.984641683769134</dd>\n",
       "\t<dt>MAE</dt>\n",
       "\t\t<dd>186737.42263688</dd>\n",
       "</dl>\n"
      ],
      "text/latex": [
       "\\begin{description*}\n",
       "\\item[RMSE] 495162.859680333\n",
       "\\item[Rsquared] 0.984641683769134\n",
       "\\item[MAE] 186737.42263688\n",
       "\\end{description*}\n"
      ],
      "text/markdown": [
       "RMSE\n",
       ":   495162.859680333Rsquared\n",
       ":   0.984641683769134MAE\n",
       ":   186737.42263688\n",
       "\n"
      ],
      "text/plain": [
       "        RMSE     Rsquared          MAE \n",
       "4.951629e+05 9.846417e-01 1.867374e+05 "
      ]
     },
     "metadata": {},
     "output_type": "display_data"
    }
   ],
   "source": [
    "#Evaluando errores utilizando Random Forest\n",
    "postResample(y_fifaRLB_predict_ajustado,fifaRLB.train$Value)"
   ]
  },
  {
   "cell_type": "code",
   "execution_count": 122,
   "metadata": {},
   "outputs": [
    {
     "data": {
      "text/plain": [
       "k-Nearest Neighbors \n",
       "\n",
       "2613 samples\n",
       "   2 predictor\n",
       "\n",
       "No pre-processing\n",
       "Resampling: Cross-Validated (10 fold) \n",
       "Summary of sample sizes: 2353, 2351, 2351, 2352, 2351, 2351, ... \n",
       "Resampling results across tuning parameters:\n",
       "\n",
       "  k   RMSE      Rsquared   MAE     \n",
       "   3  498524.3  0.9778007  139039.1\n",
       "   5  508136.7  0.9774568  143463.1\n",
       "   7  559275.6  0.9757005  156757.2\n",
       "   9  579246.1  0.9748817  156122.0\n",
       "  11  606307.9  0.9742252  159561.3\n",
       "  13  646850.2  0.9718558  164948.1\n",
       "  15  686913.0  0.9686499  169803.3\n",
       "\n",
       "RMSE was used to select the optimal model using the smallest value.\n",
       "The final value used for the model was k = 3."
      ]
     },
     "metadata": {},
     "output_type": "display_data"
    }
   ],
   "source": [
    "# Para la validación cruzada\n",
    "# Define el grid de parámetros a probar\n",
    "valores <- expand.grid(k = seq(3, 15, 2)) \n",
    "# Define los detalles del método de validación cruzada o remuestreo a utilizar\n",
    "ajustes <- trainControl(method='cv',  # validación cruzada\n",
    "             number = 10)  # diez submuestras\n",
    "# Aplica el método seleccionando el valor óptimo de k\n",
    "fifaRLB.knn <- train(Value ~ Age+Overall,\n",
    "      data = fifaRLB,\n",
    "      method = 'knn',\n",
    "      tuneGrid = valores,\n",
    "      trControl = ajustes)\n",
    "fifaRLB.knn"
   ]
  },
  {
   "cell_type": "code",
   "execution_count": 123,
   "metadata": {},
   "outputs": [
    {
     "data": {
      "image/png": "[encoded data removed]",
      "text/plain": [
       "plot without title"
      ]
     },
     "metadata": {},
     "output_type": "display_data"
    }
   ],
   "source": [
    "plot(fifaRLB.knn)"
   ]
  },
  {
   "cell_type": "markdown",
   "metadata": {},
   "source": [
    "<a id='Right/LeftWingerBacks'></a>\n",
    "## Dataset para Right/Left Winger Backs"
   ]
  },
  {
   "cell_type": "code",
   "execution_count": 124,
   "metadata": {},
   "outputs": [
    {
     "data": {
      "text/html": [
       "<table>\n",
       "<thead><tr><th scope=col>Age</th><th scope=col>Overall</th><th scope=col>Potential</th><th scope=col>Marking</th><th scope=col>StandingTackle</th><th scope=col>SlidingTackle</th><th scope=col>Dribbling</th><th scope=col>Interceptions</th><th scope=col>Agility</th><th scope=col>BallControl</th><th scope=col>Reactions</th><th scope=col>Stamina</th><th scope=col>Crossing</th><th scope=col>SprintSpeed</th><th scope=col>International.Reputation</th><th scope=col>Value</th></tr></thead>\n",
       "<tbody>\n",
       "\t<tr><td>24      </td><td>80      </td><td>82      </td><td>82      </td><td>84      </td><td>77      </td><td>62      </td><td>80      </td><td>55      </td><td>72      </td><td>79      </td><td>74      </td><td>68      </td><td>69      </td><td>2       </td><td>15500000</td></tr>\n",
       "\t<tr><td>26      </td><td>80      </td><td>81      </td><td>72      </td><td>79      </td><td>76      </td><td>76      </td><td>72      </td><td>66      </td><td>77      </td><td>82      </td><td>86      </td><td>86      </td><td>78      </td><td>2       </td><td>14000000</td></tr>\n",
       "\t<tr><td>25      </td><td>80      </td><td>81      </td><td>74      </td><td>76      </td><td>77      </td><td>79      </td><td>74      </td><td>76      </td><td>78      </td><td>78      </td><td>79      </td><td>83      </td><td>86      </td><td>1       </td><td>14500000</td></tr>\n",
       "\t<tr><td>29      </td><td>80      </td><td>80      </td><td>78      </td><td>84      </td><td>82      </td><td>79      </td><td>80      </td><td>73      </td><td>78      </td><td>80      </td><td>77      </td><td>82      </td><td>75      </td><td>2       </td><td>11000000</td></tr>\n",
       "\t<tr><td>29      </td><td>79      </td><td>79      </td><td>55      </td><td>75      </td><td>65      </td><td>76      </td><td>74      </td><td>71      </td><td>80      </td><td>72      </td><td>69      </td><td>73      </td><td>60      </td><td>1       </td><td>12000000</td></tr>\n",
       "\t<tr><td>24      </td><td>79      </td><td>83      </td><td>77      </td><td>79      </td><td>82      </td><td>73      </td><td>80      </td><td>72      </td><td>76      </td><td>71      </td><td>83      </td><td>77      </td><td>78      </td><td>2       </td><td>13500000</td></tr>\n",
       "\t<tr><td>28      </td><td>79      </td><td>79      </td><td>76      </td><td>79      </td><td>79      </td><td>74      </td><td>81      </td><td>67      </td><td>77      </td><td>80      </td><td>82      </td><td>79      </td><td>77      </td><td>3       </td><td>10000000</td></tr>\n",
       "\t<tr><td>30      </td><td>79      </td><td>79      </td><td>70      </td><td>72      </td><td>68      </td><td>81      </td><td>76      </td><td>76      </td><td>80      </td><td>79      </td><td>85      </td><td>83      </td><td>78      </td><td>2       </td><td> 9000000</td></tr>\n",
       "\t<tr><td>20      </td><td>78      </td><td>86      </td><td>76      </td><td>81      </td><td>80      </td><td>80      </td><td>69      </td><td>82      </td><td>81      </td><td>64      </td><td>74      </td><td>79      </td><td>86      </td><td>1       </td><td>13000000</td></tr>\n",
       "\t<tr><td>25      </td><td>78      </td><td>81      </td><td>67      </td><td>78      </td><td>79      </td><td>78      </td><td>72      </td><td>74      </td><td>79      </td><td>70      </td><td>70      </td><td>79      </td><td>90      </td><td>1       </td><td>10500000</td></tr>\n",
       "\t<tr><td>24      </td><td>78      </td><td>81      </td><td>69      </td><td>74      </td><td>75      </td><td>73      </td><td>69      </td><td>77      </td><td>78      </td><td>79      </td><td>85      </td><td>91      </td><td>85      </td><td>1       </td><td>11000000</td></tr>\n",
       "\t<tr><td>26      </td><td>77      </td><td>78      </td><td>73      </td><td>73      </td><td>73      </td><td>79      </td><td>76      </td><td>67      </td><td>77      </td><td>77      </td><td>79      </td><td>76      </td><td>80      </td><td>1       </td><td> 8500000</td></tr>\n",
       "\t<tr><td>25      </td><td>77      </td><td>81      </td><td>72      </td><td>77      </td><td>75      </td><td>76      </td><td>72      </td><td>79      </td><td>75      </td><td>74      </td><td>85      </td><td>75      </td><td>82      </td><td>1       </td><td> 9500000</td></tr>\n",
       "\t<tr><td>26      </td><td>77      </td><td>78      </td><td>63      </td><td>68      </td><td>71      </td><td>78      </td><td>66      </td><td>74      </td><td>76      </td><td>74      </td><td>74      </td><td>80      </td><td>78      </td><td>1       </td><td>10500000</td></tr>\n",
       "\t<tr><td>29      </td><td>77      </td><td>77      </td><td>74      </td><td>79      </td><td>78      </td><td>73      </td><td>74      </td><td>65      </td><td>74      </td><td>76      </td><td>79      </td><td>81      </td><td>76      </td><td>2       </td><td> 6500000</td></tr>\n",
       "\t<tr><td>28      </td><td>76      </td><td>76      </td><td>73      </td><td>77      </td><td>76      </td><td>71      </td><td>75      </td><td>76      </td><td>75      </td><td>77      </td><td>80      </td><td>72      </td><td>80      </td><td>2       </td><td> 6000000</td></tr>\n",
       "\t<tr><td>30      </td><td>76      </td><td>76      </td><td>68      </td><td>77      </td><td>75      </td><td>77      </td><td>71      </td><td>79      </td><td>80      </td><td>75      </td><td>79      </td><td>76      </td><td>74      </td><td>1       </td><td> 5500000</td></tr>\n",
       "\t<tr><td>31      </td><td>76      </td><td>76      </td><td>70      </td><td>80      </td><td>79      </td><td>62      </td><td>77      </td><td>67      </td><td>75      </td><td>76      </td><td>77      </td><td>77      </td><td>71      </td><td>1       </td><td> 5000000</td></tr>\n",
       "\t<tr><td>29      </td><td>76      </td><td>76      </td><td>68      </td><td>75      </td><td>75      </td><td>74      </td><td>79      </td><td>68      </td><td>74      </td><td>75      </td><td>78      </td><td>82      </td><td>66      </td><td>2       </td><td> 6000000</td></tr>\n",
       "\t<tr><td>26      </td><td>75      </td><td>77      </td><td>75      </td><td>71      </td><td>76      </td><td>65      </td><td>75      </td><td>72      </td><td>71      </td><td>72      </td><td>79      </td><td>75      </td><td>76      </td><td>2       </td><td> 6500000</td></tr>\n",
       "</tbody>\n",
       "</table>\n"
      ],
      "text/latex": [
       "\\begin{tabular}{r|llllllllllllllll}\n",
       " Age & Overall & Potential & Marking & StandingTackle & SlidingTackle & Dribbling & Interceptions & Agility & BallControl & Reactions & Stamina & Crossing & SprintSpeed & International.Reputation & Value\\\\\n",
       "\\hline\n",
       "\t 24       & 80       & 82       & 82       & 84       & 77       & 62       & 80       & 55       & 72       & 79       & 74       & 68       & 69       & 2        & 15500000\\\\\n",
       "\t 26       & 80       & 81       & 72       & 79       & 76       & 76       & 72       & 66       & 77       & 82       & 86       & 86       & 78       & 2        & 14000000\\\\\n",
       "\t 25       & 80       & 81       & 74       & 76       & 77       & 79       & 74       & 76       & 78       & 78       & 79       & 83       & 86       & 1        & 14500000\\\\\n",
       "\t 29       & 80       & 80       & 78       & 84       & 82       & 79       & 80       & 73       & 78       & 80       & 77       & 82       & 75       & 2        & 11000000\\\\\n",
       "\t 29       & 79       & 79       & 55       & 75       & 65       & 76       & 74       & 71       & 80       & 72       & 69       & 73       & 60       & 1        & 12000000\\\\\n",
       "\t 24       & 79       & 83       & 77       & 79       & 82       & 73       & 80       & 72       & 76       & 71       & 83       & 77       & 78       & 2        & 13500000\\\\\n",
       "\t 28       & 79       & 79       & 76       & 79       & 79       & 74       & 81       & 67       & 77       & 80       & 82       & 79       & 77       & 3        & 10000000\\\\\n",
       "\t 30       & 79       & 79       & 70       & 72       & 68       & 81       & 76       & 76       & 80       & 79       & 85       & 83       & 78       & 2        &  9000000\\\\\n",
       "\t 20       & 78       & 86       & 76       & 81       & 80       & 80       & 69       & 82       & 81       & 64       & 74       & 79       & 86       & 1        & 13000000\\\\\n",
       "\t 25       & 78       & 81       & 67       & 78       & 79       & 78       & 72       & 74       & 79       & 70       & 70       & 79       & 90       & 1        & 10500000\\\\\n",
       "\t 24       & 78       & 81       & 69       & 74       & 75       & 73       & 69       & 77       & 78       & 79       & 85       & 91       & 85       & 1        & 11000000\\\\\n",
       "\t 26       & 77       & 78       & 73       & 73       & 73       & 79       & 76       & 67       & 77       & 77       & 79       & 76       & 80       & 1        &  8500000\\\\\n",
       "\t 25       & 77       & 81       & 72       & 77       & 75       & 76       & 72       & 79       & 75       & 74       & 85       & 75       & 82       & 1        &  9500000\\\\\n",
       "\t 26       & 77       & 78       & 63       & 68       & 71       & 78       & 66       & 74       & 76       & 74       & 74       & 80       & 78       & 1        & 10500000\\\\\n",
       "\t 29       & 77       & 77       & 74       & 79       & 78       & 73       & 74       & 65       & 74       & 76       & 79       & 81       & 76       & 2        &  6500000\\\\\n",
       "\t 28       & 76       & 76       & 73       & 77       & 76       & 71       & 75       & 76       & 75       & 77       & 80       & 72       & 80       & 2        &  6000000\\\\\n",
       "\t 30       & 76       & 76       & 68       & 77       & 75       & 77       & 71       & 79       & 80       & 75       & 79       & 76       & 74       & 1        &  5500000\\\\\n",
       "\t 31       & 76       & 76       & 70       & 80       & 79       & 62       & 77       & 67       & 75       & 76       & 77       & 77       & 71       & 1        &  5000000\\\\\n",
       "\t 29       & 76       & 76       & 68       & 75       & 75       & 74       & 79       & 68       & 74       & 75       & 78       & 82       & 66       & 2        &  6000000\\\\\n",
       "\t 26       & 75       & 77       & 75       & 71       & 76       & 65       & 75       & 72       & 71       & 72       & 79       & 75       & 76       & 2        &  6500000\\\\\n",
       "\\end{tabular}\n"
      ],
      "text/markdown": [
       "\n",
       "| Age | Overall | Potential | Marking | StandingTackle | SlidingTackle | Dribbling | Interceptions | Agility | BallControl | Reactions | Stamina | Crossing | SprintSpeed | International.Reputation | Value |\n",
       "|---|---|---|---|---|---|---|---|---|---|---|---|---|---|---|---|\n",
       "| 24       | 80       | 82       | 82       | 84       | 77       | 62       | 80       | 55       | 72       | 79       | 74       | 68       | 69       | 2        | 15500000 |\n",
       "| 26       | 80       | 81       | 72       | 79       | 76       | 76       | 72       | 66       | 77       | 82       | 86       | 86       | 78       | 2        | 14000000 |\n",
       "| 25       | 80       | 81       | 74       | 76       | 77       | 79       | 74       | 76       | 78       | 78       | 79       | 83       | 86       | 1        | 14500000 |\n",
       "| 29       | 80       | 80       | 78       | 84       | 82       | 79       | 80       | 73       | 78       | 80       | 77       | 82       | 75       | 2        | 11000000 |\n",
       "| 29       | 79       | 79       | 55       | 75       | 65       | 76       | 74       | 71       | 80       | 72       | 69       | 73       | 60       | 1        | 12000000 |\n",
       "| 24       | 79       | 83       | 77       | 79       | 82       | 73       | 80       | 72       | 76       | 71       | 83       | 77       | 78       | 2        | 13500000 |\n",
       "| 28       | 79       | 79       | 76       | 79       | 79       | 74       | 81       | 67       | 77       | 80       | 82       | 79       | 77       | 3        | 10000000 |\n",
       "| 30       | 79       | 79       | 70       | 72       | 68       | 81       | 76       | 76       | 80       | 79       | 85       | 83       | 78       | 2        |  9000000 |\n",
       "| 20       | 78       | 86       | 76       | 81       | 80       | 80       | 69       | 82       | 81       | 64       | 74       | 79       | 86       | 1        | 13000000 |\n",
       "| 25       | 78       | 81       | 67       | 78       | 79       | 78       | 72       | 74       | 79       | 70       | 70       | 79       | 90       | 1        | 10500000 |\n",
       "| 24       | 78       | 81       | 69       | 74       | 75       | 73       | 69       | 77       | 78       | 79       | 85       | 91       | 85       | 1        | 11000000 |\n",
       "| 26       | 77       | 78       | 73       | 73       | 73       | 79       | 76       | 67       | 77       | 77       | 79       | 76       | 80       | 1        |  8500000 |\n",
       "| 25       | 77       | 81       | 72       | 77       | 75       | 76       | 72       | 79       | 75       | 74       | 85       | 75       | 82       | 1        |  9500000 |\n",
       "| 26       | 77       | 78       | 63       | 68       | 71       | 78       | 66       | 74       | 76       | 74       | 74       | 80       | 78       | 1        | 10500000 |\n",
       "| 29       | 77       | 77       | 74       | 79       | 78       | 73       | 74       | 65       | 74       | 76       | 79       | 81       | 76       | 2        |  6500000 |\n",
       "| 28       | 76       | 76       | 73       | 77       | 76       | 71       | 75       | 76       | 75       | 77       | 80       | 72       | 80       | 2        |  6000000 |\n",
       "| 30       | 76       | 76       | 68       | 77       | 75       | 77       | 71       | 79       | 80       | 75       | 79       | 76       | 74       | 1        |  5500000 |\n",
       "| 31       | 76       | 76       | 70       | 80       | 79       | 62       | 77       | 67       | 75       | 76       | 77       | 77       | 71       | 1        |  5000000 |\n",
       "| 29       | 76       | 76       | 68       | 75       | 75       | 74       | 79       | 68       | 74       | 75       | 78       | 82       | 66       | 2        |  6000000 |\n",
       "| 26       | 75       | 77       | 75       | 71       | 76       | 65       | 75       | 72       | 71       | 72       | 79       | 75       | 76       | 2        |  6500000 |\n",
       "\n"
      ],
      "text/plain": [
       "   Age Overall Potential Marking StandingTackle SlidingTackle Dribbling\n",
       "1  24  80      82        82      84             77            62       \n",
       "2  26  80      81        72      79             76            76       \n",
       "3  25  80      81        74      76             77            79       \n",
       "4  29  80      80        78      84             82            79       \n",
       "5  29  79      79        55      75             65            76       \n",
       "6  24  79      83        77      79             82            73       \n",
       "7  28  79      79        76      79             79            74       \n",
       "8  30  79      79        70      72             68            81       \n",
       "9  20  78      86        76      81             80            80       \n",
       "10 25  78      81        67      78             79            78       \n",
       "11 24  78      81        69      74             75            73       \n",
       "12 26  77      78        73      73             73            79       \n",
       "13 25  77      81        72      77             75            76       \n",
       "14 26  77      78        63      68             71            78       \n",
       "15 29  77      77        74      79             78            73       \n",
       "16 28  76      76        73      77             76            71       \n",
       "17 30  76      76        68      77             75            77       \n",
       "18 31  76      76        70      80             79            62       \n",
       "19 29  76      76        68      75             75            74       \n",
       "20 26  75      77        75      71             76            65       \n",
       "   Interceptions Agility BallControl Reactions Stamina Crossing SprintSpeed\n",
       "1  80            55      72          79        74      68       69         \n",
       "2  72            66      77          82        86      86       78         \n",
       "3  74            76      78          78        79      83       86         \n",
       "4  80            73      78          80        77      82       75         \n",
       "5  74            71      80          72        69      73       60         \n",
       "6  80            72      76          71        83      77       78         \n",
       "7  81            67      77          80        82      79       77         \n",
       "8  76            76      80          79        85      83       78         \n",
       "9  69            82      81          64        74      79       86         \n",
       "10 72            74      79          70        70      79       90         \n",
       "11 69            77      78          79        85      91       85         \n",
       "12 76            67      77          77        79      76       80         \n",
       "13 72            79      75          74        85      75       82         \n",
       "14 66            74      76          74        74      80       78         \n",
       "15 74            65      74          76        79      81       76         \n",
       "16 75            76      75          77        80      72       80         \n",
       "17 71            79      80          75        79      76       74         \n",
       "18 77            67      75          76        77      77       71         \n",
       "19 79            68      74          75        78      82       66         \n",
       "20 75            72      71          72        79      75       76         \n",
       "   International.Reputation Value   \n",
       "1  2                        15500000\n",
       "2  2                        14000000\n",
       "3  1                        14500000\n",
       "4  2                        11000000\n",
       "5  1                        12000000\n",
       "6  2                        13500000\n",
       "7  3                        10000000\n",
       "8  2                         9000000\n",
       "9  1                        13000000\n",
       "10 1                        10500000\n",
       "11 1                        11000000\n",
       "12 1                         8500000\n",
       "13 1                         9500000\n",
       "14 1                        10500000\n",
       "15 2                         6500000\n",
       "16 2                         6000000\n",
       "17 1                         5500000\n",
       "18 1                         5000000\n",
       "19 2                         6000000\n",
       "20 2                         6500000"
      ]
     },
     "metadata": {},
     "output_type": "display_data"
    },
    {
     "data": {
      "text/html": [
       "<dl class=dl-horizontal>\n",
       "\t<dt>Age</dt>\n",
       "\t\t<dd>0</dd>\n",
       "\t<dt>Overall</dt>\n",
       "\t\t<dd>0</dd>\n",
       "\t<dt>Potential</dt>\n",
       "\t\t<dd>0</dd>\n",
       "\t<dt>Marking</dt>\n",
       "\t\t<dd>0</dd>\n",
       "\t<dt>StandingTackle</dt>\n",
       "\t\t<dd>0</dd>\n",
       "\t<dt>SlidingTackle</dt>\n",
       "\t\t<dd>0</dd>\n",
       "\t<dt>Dribbling</dt>\n",
       "\t\t<dd>0</dd>\n",
       "\t<dt>Interceptions</dt>\n",
       "\t\t<dd>0</dd>\n",
       "\t<dt>Agility</dt>\n",
       "\t\t<dd>0</dd>\n",
       "\t<dt>BallControl</dt>\n",
       "\t\t<dd>0</dd>\n",
       "\t<dt>Reactions</dt>\n",
       "\t\t<dd>0</dd>\n",
       "\t<dt>Stamina</dt>\n",
       "\t\t<dd>0</dd>\n",
       "\t<dt>Crossing</dt>\n",
       "\t\t<dd>0</dd>\n",
       "\t<dt>SprintSpeed</dt>\n",
       "\t\t<dd>0</dd>\n",
       "\t<dt>International.Reputation</dt>\n",
       "\t\t<dd>0</dd>\n",
       "\t<dt>Value</dt>\n",
       "\t\t<dd>0</dd>\n",
       "</dl>\n"
      ],
      "text/latex": [
       "\\begin{description*}\n",
       "\\item[Age] 0\n",
       "\\item[Overall] 0\n",
       "\\item[Potential] 0\n",
       "\\item[Marking] 0\n",
       "\\item[StandingTackle] 0\n",
       "\\item[SlidingTackle] 0\n",
       "\\item[Dribbling] 0\n",
       "\\item[Interceptions] 0\n",
       "\\item[Agility] 0\n",
       "\\item[BallControl] 0\n",
       "\\item[Reactions] 0\n",
       "\\item[Stamina] 0\n",
       "\\item[Crossing] 0\n",
       "\\item[SprintSpeed] 0\n",
       "\\item[International.Reputation] 0\n",
       "\\item[Value] 0\n",
       "\\end{description*}\n"
      ],
      "text/markdown": [
       "Age\n",
       ":   0Overall\n",
       ":   0Potential\n",
       ":   0Marking\n",
       ":   0StandingTackle\n",
       ":   0SlidingTackle\n",
       ":   0Dribbling\n",
       ":   0Interceptions\n",
       ":   0Agility\n",
       ":   0BallControl\n",
       ":   0Reactions\n",
       ":   0Stamina\n",
       ":   0Crossing\n",
       ":   0SprintSpeed\n",
       ":   0International.Reputation\n",
       ":   0Value\n",
       ":   0\n",
       "\n"
      ],
      "text/plain": [
       "                     Age                  Overall                Potential \n",
       "                       0                        0                        0 \n",
       "                 Marking           StandingTackle            SlidingTackle \n",
       "                       0                        0                        0 \n",
       "               Dribbling            Interceptions                  Agility \n",
       "                       0                        0                        0 \n",
       "             BallControl                Reactions                  Stamina \n",
       "                       0                        0                        0 \n",
       "                Crossing              SprintSpeed International.Reputation \n",
       "                       0                        0                        0 \n",
       "                   Value \n",
       "                       0 "
      ]
     },
     "metadata": {},
     "output_type": "display_data"
    }
   ],
   "source": [
    "#Dataset para Right/Left Winger Backs\n",
    "fifaLRWB <- fifaClean %>% filter(Position == \"LRWB\")%>% \n",
    "                   select(Age, Overall, Potential, Marking, StandingTackle, SlidingTackle, \n",
    "                          Dribbling, Interceptions, Agility, BallControl, Reactions, Stamina, \n",
    "                          Crossing, SprintSpeed, International.Reputation, Value) \n",
    "head(fifaLRWB, 20)\n",
    "colSums(is.na(fifaLRWB))"
   ]
  },
  {
   "cell_type": "code",
   "execution_count": 125,
   "metadata": {},
   "outputs": [
    {
     "data": {
      "text/html": [
       "<ol class=list-inline>\n",
       "\t<li>'Age'</li>\n",
       "\t<li>'Overall'</li>\n",
       "\t<li>'Potential'</li>\n",
       "\t<li>'Marking'</li>\n",
       "\t<li>'StandingTackle'</li>\n",
       "\t<li>'SlidingTackle'</li>\n",
       "\t<li>'Dribbling'</li>\n",
       "\t<li>'Interceptions'</li>\n",
       "\t<li>'Agility'</li>\n",
       "\t<li>'BallControl'</li>\n",
       "\t<li>'Reactions'</li>\n",
       "\t<li>'Stamina'</li>\n",
       "\t<li>'Crossing'</li>\n",
       "\t<li>'SprintSpeed'</li>\n",
       "\t<li>'International.Reputation'</li>\n",
       "\t<li>'Value'</li>\n",
       "</ol>\n"
      ],
      "text/latex": [
       "\\begin{enumerate*}\n",
       "\\item 'Age'\n",
       "\\item 'Overall'\n",
       "\\item 'Potential'\n",
       "\\item 'Marking'\n",
       "\\item 'StandingTackle'\n",
       "\\item 'SlidingTackle'\n",
       "\\item 'Dribbling'\n",
       "\\item 'Interceptions'\n",
       "\\item 'Agility'\n",
       "\\item 'BallControl'\n",
       "\\item 'Reactions'\n",
       "\\item 'Stamina'\n",
       "\\item 'Crossing'\n",
       "\\item 'SprintSpeed'\n",
       "\\item 'International.Reputation'\n",
       "\\item 'Value'\n",
       "\\end{enumerate*}\n"
      ],
      "text/markdown": [
       "1. 'Age'\n",
       "2. 'Overall'\n",
       "3. 'Potential'\n",
       "4. 'Marking'\n",
       "5. 'StandingTackle'\n",
       "6. 'SlidingTackle'\n",
       "7. 'Dribbling'\n",
       "8. 'Interceptions'\n",
       "9. 'Agility'\n",
       "10. 'BallControl'\n",
       "11. 'Reactions'\n",
       "12. 'Stamina'\n",
       "13. 'Crossing'\n",
       "14. 'SprintSpeed'\n",
       "15. 'International.Reputation'\n",
       "16. 'Value'\n",
       "\n",
       "\n"
      ],
      "text/plain": [
       " [1] \"Age\"                      \"Overall\"                 \n",
       " [3] \"Potential\"                \"Marking\"                 \n",
       " [5] \"StandingTackle\"           \"SlidingTackle\"           \n",
       " [7] \"Dribbling\"                \"Interceptions\"           \n",
       " [9] \"Agility\"                  \"BallControl\"             \n",
       "[11] \"Reactions\"                \"Stamina\"                 \n",
       "[13] \"Crossing\"                 \"SprintSpeed\"             \n",
       "[15] \"International.Reputation\" \"Value\"                   "
      ]
     },
     "metadata": {},
     "output_type": "display_data"
    },
    {
     "data": {
      "text/plain": [
       "Importance of components:\n",
       "                          PC1    PC2     PC3     PC4     PC5     PC6     PC7\n",
       "Standard deviation     3.0195 1.3535 1.14311 0.90075 0.80294 0.77237 0.60559\n",
       "Proportion of Variance 0.5698 0.1145 0.08167 0.05071 0.04029 0.03728 0.02292\n",
       "Cumulative Proportion  0.5698 0.6844 0.76602 0.81673 0.85702 0.89431 0.91723\n",
       "                           PC8     PC9    PC10    PC11    PC12    PC13    PC14\n",
       "Standard deviation     0.51728 0.46781 0.45234 0.43492 0.39631 0.36594 0.28995\n",
       "Proportion of Variance 0.01672 0.01368 0.01279 0.01182 0.00982 0.00837 0.00525\n",
       "Cumulative Proportion  0.93395 0.94763 0.96042 0.97224 0.98206 0.99043 0.99568\n",
       "                          PC15    PC16\n",
       "Standard deviation     0.22415 0.13729\n",
       "Proportion of Variance 0.00314 0.00118\n",
       "Cumulative Proportion  0.99882 1.00000"
      ]
     },
     "metadata": {},
     "output_type": "display_data"
    }
   ],
   "source": [
    "#Aplicamos PCA al dataset de Right/Left Winger Backs a todas las columnas menos \"Name\" y \"Nationality\" las cuales no fueron incluídas\n",
    "names(fifaLRWB)\n",
    "fifaLRWB.pca <- prcomp(fifaLRWB [c(1:16)], center = TRUE,scale. = TRUE)\n",
    "summary(fifaLRWB.pca)"
   ]
  },
  {
   "cell_type": "markdown",
   "metadata": {},
   "source": [
    "A partir de lo anterior observamos que las variables que más influyen son la edad (\"Age\") y puntaje (\"Overall\")"
   ]
  },
  {
   "cell_type": "code",
   "execution_count": 126,
   "metadata": {},
   "outputs": [
    {
     "data": {
      "text/plain": [
       "      Age           Overall        Potential       Marking      StandingTackle \n",
       " Min.   :16.00   Min.   :48.00   Min.   :55.0   Min.   :40.00   Min.   :27.00  \n",
       " 1st Qu.:22.00   1st Qu.:61.00   1st Qu.:66.0   1st Qu.:56.00   1st Qu.:58.00  \n",
       " Median :25.00   Median :65.00   Median :70.0   Median :61.00   Median :63.00  \n",
       " Mean   :24.85   Mean   :65.53   Mean   :70.3   Mean   :61.25   Mean   :63.33  \n",
       " 3rd Qu.:28.00   3rd Qu.:71.00   3rd Qu.:75.0   3rd Qu.:67.00   3rd Qu.:69.00  \n",
       " Max.   :34.00   Max.   :80.00   Max.   :86.0   Max.   :82.00   Max.   :84.00  \n",
       " SlidingTackle     Dribbling     Interceptions      Agility     \n",
       " Min.   :26.00   Min.   :27.00   Min.   :25.00   Min.   :41.00  \n",
       " 1st Qu.:56.00   1st Qu.:57.00   1st Qu.:54.00   1st Qu.:66.00  \n",
       " Median :62.00   Median :62.00   Median :60.00   Median :71.00  \n",
       " Mean   :62.08   Mean   :61.95   Mean   :60.36   Mean   :69.68  \n",
       " 3rd Qu.:67.00   3rd Qu.:66.00   3rd Qu.:68.00   3rd Qu.:76.00  \n",
       " Max.   :82.00   Max.   :81.00   Max.   :81.00   Max.   :88.00  \n",
       "  BallControl      Reactions        Stamina         Crossing    \n",
       " Min.   :25.00   Min.   :41.00   Min.   :44.00   Min.   :26.00  \n",
       " 1st Qu.:58.00   1st Qu.:55.00   1st Qu.:67.00   1st Qu.:57.00  \n",
       " Median :63.00   Median :62.00   Median :74.00   Median :63.00  \n",
       " Mean   :63.02   Mean   :61.73   Mean   :73.26   Mean   :62.95  \n",
       " 3rd Qu.:69.00   3rd Qu.:68.00   3rd Qu.:80.00   3rd Qu.:70.00  \n",
       " Max.   :81.00   Max.   :82.00   Max.   :91.00   Max.   :91.00  \n",
       "  SprintSpeed    International.Reputation     Value         \n",
       " Min.   :40.00   Min.   :1.000            Min.   :   30000  \n",
       " 1st Qu.:68.00   1st Qu.:1.000            1st Qu.:  240000  \n",
       " Median :75.00   Median :1.000            Median :  550000  \n",
       " Mean   :73.88   Mean   :1.097            Mean   : 2114606  \n",
       " 3rd Qu.:79.00   3rd Qu.:1.000            3rd Qu.: 1900000  \n",
       " Max.   :92.00   Max.   :3.000            Max.   :15500000  "
      ]
     },
     "metadata": {},
     "output_type": "display_data"
    }
   ],
   "source": [
    "summary(fifaLRWB)"
   ]
  },
  {
   "cell_type": "code",
   "execution_count": 127,
   "metadata": {},
   "outputs": [
    {
     "data": {
      "text/html": [
       "<ol class=list-inline>\n",
       "\t<li>165</li>\n",
       "\t<li>16</li>\n",
       "</ol>\n"
      ],
      "text/latex": [
       "\\begin{enumerate*}\n",
       "\\item 165\n",
       "\\item 16\n",
       "\\end{enumerate*}\n"
      ],
      "text/markdown": [
       "1. 165\n",
       "2. 16\n",
       "\n",
       "\n"
      ],
      "text/plain": [
       "[1] 165  16"
      ]
     },
     "metadata": {},
     "output_type": "display_data"
    }
   ],
   "source": [
    "dim(fifaLRWB)"
   ]
  },
  {
   "cell_type": "markdown",
   "metadata": {},
   "source": [
    "Particionamos fifaLRWB con el fin de obtener un data frame para realizar el entrenamiento y otro para probarlo"
   ]
  },
  {
   "cell_type": "code",
   "execution_count": 128,
   "metadata": {},
   "outputs": [],
   "source": [
    "set.seed(1500)\n",
    "indexes_fifaLRWB <- createDataPartition(fifaLRWB$Value,times = 1,\n",
    "                               p = 0.8, # 80% para entrenar, 20% para evaluar\n",
    "                               list = FALSE)\n",
    "fifaLRWB.train <- fifaLRWB[indexes_fifaLRWB,]\n",
    "fifaLRWB.test <- fifaLRWB[-indexes_fifaLRWB,]"
   ]
  },
  {
   "cell_type": "code",
   "execution_count": 129,
   "metadata": {},
   "outputs": [
    {
     "data": {
      "text/html": [
       "<ol class=list-inline>\n",
       "\t<li>'Age'</li>\n",
       "\t<li>'Overall'</li>\n",
       "\t<li>'Potential'</li>\n",
       "\t<li>'Marking'</li>\n",
       "\t<li>'StandingTackle'</li>\n",
       "\t<li>'SlidingTackle'</li>\n",
       "\t<li>'Dribbling'</li>\n",
       "\t<li>'Interceptions'</li>\n",
       "\t<li>'Agility'</li>\n",
       "\t<li>'BallControl'</li>\n",
       "\t<li>'Reactions'</li>\n",
       "\t<li>'Stamina'</li>\n",
       "\t<li>'Crossing'</li>\n",
       "\t<li>'SprintSpeed'</li>\n",
       "\t<li>'International.Reputation'</li>\n",
       "\t<li>'Value'</li>\n",
       "</ol>\n"
      ],
      "text/latex": [
       "\\begin{enumerate*}\n",
       "\\item 'Age'\n",
       "\\item 'Overall'\n",
       "\\item 'Potential'\n",
       "\\item 'Marking'\n",
       "\\item 'StandingTackle'\n",
       "\\item 'SlidingTackle'\n",
       "\\item 'Dribbling'\n",
       "\\item 'Interceptions'\n",
       "\\item 'Agility'\n",
       "\\item 'BallControl'\n",
       "\\item 'Reactions'\n",
       "\\item 'Stamina'\n",
       "\\item 'Crossing'\n",
       "\\item 'SprintSpeed'\n",
       "\\item 'International.Reputation'\n",
       "\\item 'Value'\n",
       "\\end{enumerate*}\n"
      ],
      "text/markdown": [
       "1. 'Age'\n",
       "2. 'Overall'\n",
       "3. 'Potential'\n",
       "4. 'Marking'\n",
       "5. 'StandingTackle'\n",
       "6. 'SlidingTackle'\n",
       "7. 'Dribbling'\n",
       "8. 'Interceptions'\n",
       "9. 'Agility'\n",
       "10. 'BallControl'\n",
       "11. 'Reactions'\n",
       "12. 'Stamina'\n",
       "13. 'Crossing'\n",
       "14. 'SprintSpeed'\n",
       "15. 'International.Reputation'\n",
       "16. 'Value'\n",
       "\n",
       "\n"
      ],
      "text/plain": [
       " [1] \"Age\"                      \"Overall\"                 \n",
       " [3] \"Potential\"                \"Marking\"                 \n",
       " [5] \"StandingTackle\"           \"SlidingTackle\"           \n",
       " [7] \"Dribbling\"                \"Interceptions\"           \n",
       " [9] \"Agility\"                  \"BallControl\"             \n",
       "[11] \"Reactions\"                \"Stamina\"                 \n",
       "[13] \"Crossing\"                 \"SprintSpeed\"             \n",
       "[15] \"International.Reputation\" \"Value\"                   "
      ]
     },
     "metadata": {},
     "output_type": "display_data"
    },
    {
     "data": {
      "text/html": [
       "<ol class=list-inline>\n",
       "\t<li>133</li>\n",
       "\t<li>16</li>\n",
       "</ol>\n"
      ],
      "text/latex": [
       "\\begin{enumerate*}\n",
       "\\item 133\n",
       "\\item 16\n",
       "\\end{enumerate*}\n"
      ],
      "text/markdown": [
       "1. 133\n",
       "2. 16\n",
       "\n",
       "\n"
      ],
      "text/plain": [
       "[1] 133  16"
      ]
     },
     "metadata": {},
     "output_type": "display_data"
    },
    {
     "data": {
      "text/html": [
       "<ol class=list-inline>\n",
       "\t<li>'Age'</li>\n",
       "\t<li>'Overall'</li>\n",
       "\t<li>'Potential'</li>\n",
       "\t<li>'Marking'</li>\n",
       "\t<li>'StandingTackle'</li>\n",
       "\t<li>'SlidingTackle'</li>\n",
       "\t<li>'Dribbling'</li>\n",
       "\t<li>'Interceptions'</li>\n",
       "\t<li>'Agility'</li>\n",
       "\t<li>'BallControl'</li>\n",
       "\t<li>'Reactions'</li>\n",
       "\t<li>'Stamina'</li>\n",
       "\t<li>'Crossing'</li>\n",
       "\t<li>'SprintSpeed'</li>\n",
       "\t<li>'International.Reputation'</li>\n",
       "\t<li>'Value'</li>\n",
       "</ol>\n"
      ],
      "text/latex": [
       "\\begin{enumerate*}\n",
       "\\item 'Age'\n",
       "\\item 'Overall'\n",
       "\\item 'Potential'\n",
       "\\item 'Marking'\n",
       "\\item 'StandingTackle'\n",
       "\\item 'SlidingTackle'\n",
       "\\item 'Dribbling'\n",
       "\\item 'Interceptions'\n",
       "\\item 'Agility'\n",
       "\\item 'BallControl'\n",
       "\\item 'Reactions'\n",
       "\\item 'Stamina'\n",
       "\\item 'Crossing'\n",
       "\\item 'SprintSpeed'\n",
       "\\item 'International.Reputation'\n",
       "\\item 'Value'\n",
       "\\end{enumerate*}\n"
      ],
      "text/markdown": [
       "1. 'Age'\n",
       "2. 'Overall'\n",
       "3. 'Potential'\n",
       "4. 'Marking'\n",
       "5. 'StandingTackle'\n",
       "6. 'SlidingTackle'\n",
       "7. 'Dribbling'\n",
       "8. 'Interceptions'\n",
       "9. 'Agility'\n",
       "10. 'BallControl'\n",
       "11. 'Reactions'\n",
       "12. 'Stamina'\n",
       "13. 'Crossing'\n",
       "14. 'SprintSpeed'\n",
       "15. 'International.Reputation'\n",
       "16. 'Value'\n",
       "\n",
       "\n"
      ],
      "text/plain": [
       " [1] \"Age\"                      \"Overall\"                 \n",
       " [3] \"Potential\"                \"Marking\"                 \n",
       " [5] \"StandingTackle\"           \"SlidingTackle\"           \n",
       " [7] \"Dribbling\"                \"Interceptions\"           \n",
       " [9] \"Agility\"                  \"BallControl\"             \n",
       "[11] \"Reactions\"                \"Stamina\"                 \n",
       "[13] \"Crossing\"                 \"SprintSpeed\"             \n",
       "[15] \"International.Reputation\" \"Value\"                   "
      ]
     },
     "metadata": {},
     "output_type": "display_data"
    },
    {
     "data": {
      "text/html": [
       "<ol class=list-inline>\n",
       "\t<li>32</li>\n",
       "\t<li>16</li>\n",
       "</ol>\n"
      ],
      "text/latex": [
       "\\begin{enumerate*}\n",
       "\\item 32\n",
       "\\item 16\n",
       "\\end{enumerate*}\n"
      ],
      "text/markdown": [
       "1. 32\n",
       "2. 16\n",
       "\n",
       "\n"
      ],
      "text/plain": [
       "[1] 32 16"
      ]
     },
     "metadata": {},
     "output_type": "display_data"
    }
   ],
   "source": [
    "#Verificamos los subconjuntos\n",
    "names(fifaLRWB.train)\n",
    "dim(fifaLRWB.train)\n",
    "\n",
    "names(fifaLRWB.test)\n",
    "dim(fifaLRWB.test)"
   ]
  },
  {
   "cell_type": "markdown",
   "metadata": {},
   "source": [
    "Verificamos que la suma de la cantidad de líneas de fifaLRWB.train y fifaLRWB.test es igual a la cantidad total de lineas de fifaLRWB"
   ]
  },
  {
   "cell_type": "code",
   "execution_count": 130,
   "metadata": {},
   "outputs": [
    {
     "data": {
      "text/html": [
       "TRUE"
      ],
      "text/latex": [
       "TRUE"
      ],
      "text/markdown": [
       "TRUE"
      ],
      "text/plain": [
       "[1] TRUE"
      ]
     },
     "metadata": {},
     "output_type": "display_data"
    }
   ],
   "source": [
    "nrow(fifaLRWB.train) + nrow(fifaLRWB.test) == nrow(fifaLRWB)"
   ]
  },
  {
   "cell_type": "code",
   "execution_count": 131,
   "metadata": {},
   "outputs": [
    {
     "data": {
      "image/png": "[encoded data removed]",
      "text/plain": [
       "plot without title"
      ]
     },
     "metadata": {},
     "output_type": "display_data"
    }
   ],
   "source": [
    "ggplot() + geom_point(data = fifaLRWB.train, aes(x = Overall, y = Value)) + \n",
    "  xlab(\"Overall\") + \n",
    "  ylab(\"Value\") + \n",
    "  ggtitle(\"Datos de entrenamiento para Right/Left Winger Backs\")"
   ]
  },
  {
   "cell_type": "markdown",
   "metadata": {},
   "source": [
    "## Random Forest LEFT RIGHT WINGER BACKS"
   ]
  },
  {
   "cell_type": "code",
   "execution_count": 180,
   "metadata": {},
   "outputs": [],
   "source": [
    "#Creación del modelo\n",
    "library(randomForest)\n",
    "set.seed(1234)\n",
    "fifaLRWB_randomForest <- randomForest(Value ~ Age+Overall, data = fifaLRWB.train, ntree = 500)"
   ]
  },
  {
   "cell_type": "markdown",
   "metadata": {},
   "source": [
    "### Visualización del modelo creado"
   ]
  },
  {
   "cell_type": "code",
   "execution_count": 181,
   "metadata": {},
   "outputs": [
    {
     "data": {
      "text/plain": [
       "\n",
       "Call:\n",
       " randomForest(formula = Value ~ Age + Overall, data = fifaLRWB.train,      ntree = 500) \n",
       "               Type of random forest: regression\n",
       "                     Number of trees: 500\n",
       "No. of variables tried at each split: 1\n",
       "\n",
       "          Mean of squared residuals: 770596427323\n",
       "                    % Var explained: 93.35"
      ]
     },
     "metadata": {},
     "output_type": "display_data"
    }
   ],
   "source": [
    "fifaLRWB_randomForest"
   ]
  },
  {
   "cell_type": "code",
   "execution_count": 182,
   "metadata": {},
   "outputs": [
    {
     "data": {
      "text/html": [
       "<table>\n",
       "<thead><tr><th></th><th scope=col>IncNodePurity</th></tr></thead>\n",
       "<tbody>\n",
       "\t<tr><th scope=row>Age</th><td>1.582684e+14</td></tr>\n",
       "\t<tr><th scope=row>Overall</th><td>1.295299e+15</td></tr>\n",
       "</tbody>\n",
       "</table>\n"
      ],
      "text/latex": [
       "\\begin{tabular}{r|l}\n",
       "  & IncNodePurity\\\\\n",
       "\\hline\n",
       "\tAge & 1.582684e+14\\\\\n",
       "\tOverall & 1.295299e+15\\\\\n",
       "\\end{tabular}\n"
      ],
      "text/markdown": [
       "\n",
       "| <!--/--> | IncNodePurity |\n",
       "|---|---|\n",
       "| Age | 1.582684e+14 |\n",
       "| Overall | 1.295299e+15 |\n",
       "\n"
      ],
      "text/plain": [
       "        IncNodePurity\n",
       "Age     1.582684e+14 \n",
       "Overall 1.295299e+15 "
      ]
     },
     "metadata": {},
     "output_type": "display_data"
    }
   ],
   "source": [
    "#Importancia de las variables\n",
    "fifaLRWB_randomForest$importance"
   ]
  },
  {
   "cell_type": "code",
   "execution_count": 135,
   "metadata": {},
   "outputs": [],
   "source": [
    "#Predicción\n",
    "y_fifaLRWB_predict <- predict(fifaLRWB_randomForest, fifaLRWB.train)"
   ]
  },
  {
   "cell_type": "code",
   "execution_count": 136,
   "metadata": {},
   "outputs": [
    {
     "data": {
      "text/html": [
       "0.992073282553867"
      ],
      "text/latex": [
       "0.992073282553867"
      ],
      "text/markdown": [
       "0.992073282553867"
      ],
      "text/plain": [
       "[1] 0.9920733"
      ]
     },
     "metadata": {},
     "output_type": "display_data"
    }
   ],
   "source": [
    "#Correlación entre la predicción\n",
    "cor(fifaLRWB.train$Value, y_fifaLRWB_predict)"
   ]
  },
  {
   "cell_type": "code",
   "execution_count": 137,
   "metadata": {},
   "outputs": [],
   "source": [
    "y_fifaLRWB_test_predict <- predict(fifaLRWB_randomForest, fifaLRWB.test)"
   ]
  },
  {
   "cell_type": "code",
   "execution_count": 138,
   "metadata": {},
   "outputs": [
    {
     "data": {
      "text/html": [
       "0.984380717258036"
      ],
      "text/latex": [
       "0.984380717258036"
      ],
      "text/markdown": [
       "0.984380717258036"
      ],
      "text/plain": [
       "[1] 0.9843807"
      ]
     },
     "metadata": {},
     "output_type": "display_data"
    }
   ],
   "source": [
    "cor(fifaLRWB.test$Value, y_fifaLRWB_test_predict)"
   ]
  },
  {
   "cell_type": "code",
   "execution_count": 183,
   "metadata": {},
   "outputs": [
    {
     "data": {
      "image/png": "[encoded data removed]",
      "text/plain": [
       "Plot with title \"fifaLRWB_randomForest\""
      ]
     },
     "metadata": {},
     "output_type": "display_data"
    }
   ],
   "source": [
    "#Gráfica del modelo que muestra que al incrementar los árboles los errores disminuyen\n",
    "plot(fifaLRWB_randomForest)"
   ]
  },
  {
   "cell_type": "markdown",
   "metadata": {},
   "source": [
    "#### Vemos que en los 40 árboles el modelo se estabiliza, entonces ajustamos el modelo "
   ]
  },
  {
   "cell_type": "code",
   "execution_count": 184,
   "metadata": {},
   "outputs": [],
   "source": [
    "#Ajuste del modelo\n",
    "set.seed(1234)\n",
    "fifaLRWB_randomForest_ajustado <- randomForest(Value ~ Age+Overall, data = fifaLRWB.train, ntree = 200)"
   ]
  },
  {
   "cell_type": "code",
   "execution_count": 185,
   "metadata": {},
   "outputs": [
    {
     "data": {
      "text/plain": [
       "\n",
       "Call:\n",
       " randomForest(formula = Value ~ Age + Overall, data = fifaLRWB.train,      ntree = 200) \n",
       "               Type of random forest: regression\n",
       "                     Number of trees: 200\n",
       "No. of variables tried at each split: 1\n",
       "\n",
       "          Mean of squared residuals: 662482523673\n",
       "                    % Var explained: 94.28"
      ]
     },
     "metadata": {},
     "output_type": "display_data"
    }
   ],
   "source": [
    "fifaLRWB_randomForest_ajustado"
   ]
  },
  {
   "cell_type": "code",
   "execution_count": 186,
   "metadata": {},
   "outputs": [],
   "source": [
    "#Predicción con el modelo ajustado\n",
    "y_fifaLRWB_predict_ajustado <- predict(fifaLRWB_randomForest_ajustado, fifaLRWB.train)"
   ]
  },
  {
   "cell_type": "code",
   "execution_count": 187,
   "metadata": {},
   "outputs": [
    {
     "data": {
      "text/html": [
       "0.991998528417904"
      ],
      "text/latex": [
       "0.991998528417904"
      ],
      "text/markdown": [
       "0.991998528417904"
      ],
      "text/plain": [
       "[1] 0.9919985"
      ]
     },
     "metadata": {},
     "output_type": "display_data"
    }
   ],
   "source": [
    "#Correlación entre la predicción\n",
    "cor(fifaLRWB.train$Value, y_fifaLRWB_predict_ajustado)"
   ]
  },
  {
   "cell_type": "code",
   "execution_count": 188,
   "metadata": {},
   "outputs": [
    {
     "data": {
      "text/html": [
       "<dl class=dl-horizontal>\n",
       "\t<dt>RMSE</dt>\n",
       "\t\t<dd>493880.286705557</dd>\n",
       "\t<dt>Rsquared</dt>\n",
       "\t\t<dd>0.984061080383287</dd>\n",
       "\t<dt>MAE</dt>\n",
       "\t\t<dd>212800.080613769</dd>\n",
       "</dl>\n"
      ],
      "text/latex": [
       "\\begin{description*}\n",
       "\\item[RMSE] 493880.286705557\n",
       "\\item[Rsquared] 0.984061080383287\n",
       "\\item[MAE] 212800.080613769\n",
       "\\end{description*}\n"
      ],
      "text/markdown": [
       "RMSE\n",
       ":   493880.286705557Rsquared\n",
       ":   0.984061080383287MAE\n",
       ":   212800.080613769\n",
       "\n"
      ],
      "text/plain": [
       "        RMSE     Rsquared          MAE \n",
       "4.938803e+05 9.840611e-01 2.128001e+05 "
      ]
     },
     "metadata": {},
     "output_type": "display_data"
    }
   ],
   "source": [
    "#Evaluando errores utilizando Random Forest\n",
    "postResample(y_fifaLRWB_predict_ajustado,fifaLRWB.train$Value)"
   ]
  },
  {
   "cell_type": "code",
   "execution_count": 145,
   "metadata": {},
   "outputs": [
    {
     "data": {
      "text/plain": [
       "k-Nearest Neighbors \n",
       "\n",
       "165 samples\n",
       "  2 predictor\n",
       "\n",
       "No pre-processing\n",
       "Resampling: Cross-Validated (10 fold) \n",
       "Summary of sample sizes: 148, 149, 148, 149, 148, 149, ... \n",
       "Resampling results across tuning parameters:\n",
       "\n",
       "  k   RMSE      Rsquared   MAE     \n",
       "   3  434304.7  0.9862526  209650.2\n",
       "   5  580610.4  0.9759819  274074.4\n",
       "   7  615040.3  0.9772348  284464.0\n",
       "   9  646452.4  0.9792544  290697.5\n",
       "  11  701157.7  0.9747864  316014.4\n",
       "  13  769740.4  0.9695257  347997.7\n",
       "  15  827463.8  0.9649789  371645.8\n",
       "\n",
       "RMSE was used to select the optimal model using the smallest value.\n",
       "The final value used for the model was k = 3."
      ]
     },
     "metadata": {},
     "output_type": "display_data"
    }
   ],
   "source": [
    "# Para la validación cruzada\n",
    "# Define el grid de parámetros a probar\n",
    "valores <- expand.grid(k = seq(3, 15, 2)) \n",
    "# Define los detalles del método de validación cruzada o remuestreo a utilizar\n",
    "ajustes <- trainControl(method='cv',  # validación cruzada\n",
    "             number = 10)  # diez submuestras\n",
    "# Aplica el método seleccionando el valor óptimo de k\n",
    "fifaLRWB.knn <- train(Value ~ Age+Overall,\n",
    "      data = fifaLRWB,\n",
    "      method = 'knn',\n",
    "      tuneGrid = valores,\n",
    "      trControl = ajustes)\n",
    "fifaLRWB.knn"
   ]
  },
  {
   "cell_type": "code",
   "execution_count": 146,
   "metadata": {},
   "outputs": [
    {
     "data": {
      "image/png": "[encoded data removed]",
      "text/plain": [
       "plot without title"
      ]
     },
     "metadata": {},
     "output_type": "display_data"
    }
   ],
   "source": [
    "plot(fifaLRWB.knn)"
   ]
  },
  {
   "cell_type": "markdown",
   "metadata": {},
   "source": [
    "<a id='CenterDefenderMidfielders'></a>\n",
    "## Dataset para Center Defender Midfielders"
   ]
  },
  {
   "cell_type": "code",
   "execution_count": 147,
   "metadata": {},
   "outputs": [
    {
     "data": {
      "text/html": [
       "<table>\n",
       "<thead><tr><th scope=col>Age</th><th scope=col>Overall</th><th scope=col>Potential</th><th scope=col>ShortPassing</th><th scope=col>StandingTackle</th><th scope=col>LongPassing</th><th scope=col>Vision</th><th scope=col>Interceptions</th><th scope=col>Marking</th><th scope=col>BallControl</th><th scope=col>Reactions</th><th scope=col>Stamina</th><th scope=col>Aggression</th><th scope=col>Strength</th><th scope=col>International.Reputation</th><th scope=col>Value</th></tr></thead>\n",
       "<tbody>\n",
       "\t<tr><td>29      </td><td>89      </td><td>89      </td><td>89      </td><td>86      </td><td>82      </td><td>87      </td><td>87      </td><td>90      </td><td>88      </td><td>87      </td><td>86      </td><td>85      </td><td>77      </td><td>4       </td><td>51500000</td></tr>\n",
       "\t<tr><td>26      </td><td>88      </td><td>90      </td><td>85      </td><td>90      </td><td>82      </td><td>77      </td><td>87      </td><td>88      </td><td>78      </td><td>84      </td><td>87      </td><td>87      </td><td>89      </td><td>3       </td><td>59500000</td></tr>\n",
       "\t<tr><td>28      </td><td>86      </td><td>86      </td><td>89      </td><td>74      </td><td>85      </td><td>88      </td><td>78      </td><td>75      </td><td>89      </td><td>84      </td><td>78      </td><td>70      </td><td>66      </td><td>3       </td><td>44000000</td></tr>\n",
       "\t<tr><td>33      </td><td>86      </td><td>86      </td><td>85      </td><td>85      </td><td>81      </td><td>75      </td><td>88      </td><td>85      </td><td>82      </td><td>86      </td><td>79      </td><td>87      </td><td>76      </td><td>3       </td><td>18000000</td></tr>\n",
       "\t<tr><td>24      </td><td>84      </td><td>88      </td><td>83      </td><td>86      </td><td>78      </td><td>75      </td><td>84      </td><td>83      </td><td>82      </td><td>83      </td><td>92      </td><td>85      </td><td>79      </td><td>3       </td><td>34000000</td></tr>\n",
       "\t<tr><td>26      </td><td>84      </td><td>86      </td><td>84      </td><td>85      </td><td>86      </td><td>83      </td><td>84      </td><td>84      </td><td>79      </td><td>75      </td><td>84      </td><td>75      </td><td>90      </td><td>3       </td><td>31500000</td></tr>\n",
       "\t<tr><td>29      </td><td>84      </td><td>84      </td><td>84      </td><td>84      </td><td>83      </td><td>73      </td><td>86      </td><td>83      </td><td>79      </td><td>83      </td><td>84      </td><td>80      </td><td>85      </td><td>3       </td><td>24000000</td></tr>\n",
       "\t<tr><td>30      </td><td>84      </td><td>84      </td><td>88      </td><td>69      </td><td>87      </td><td>88      </td><td>76      </td><td>75      </td><td>86      </td><td>77      </td><td>74      </td><td>73      </td><td>67      </td><td>3       </td><td>29000000</td></tr>\n",
       "\t<tr><td>26      </td><td>83      </td><td>86      </td><td>82      </td><td>84      </td><td>79      </td><td>73      </td><td>84      </td><td>83      </td><td>78      </td><td>76      </td><td>83      </td><td>85      </td><td>89      </td><td>3       </td><td>27000000</td></tr>\n",
       "\t<tr><td>28      </td><td>83      </td><td>83      </td><td>87      </td><td>84      </td><td>84      </td><td>79      </td><td>83      </td><td>75      </td><td>84      </td><td>83      </td><td>79      </td><td>86      </td><td>81      </td><td>3       </td><td>21000000</td></tr>\n",
       "\t<tr><td>29      </td><td>83      </td><td>83      </td><td>77      </td><td>86      </td><td>74      </td><td>75      </td><td>87      </td><td>85      </td><td>74      </td><td>83      </td><td>74      </td><td>90      </td><td>84      </td><td>3       </td><td>20000000</td></tr>\n",
       "\t<tr><td>25      </td><td>82      </td><td>88      </td><td>85      </td><td>83      </td><td>79      </td><td>73      </td><td>79      </td><td>80      </td><td>81      </td><td>77      </td><td>87      </td><td>76      </td><td>81      </td><td>1       </td><td>25500000</td></tr>\n",
       "\t<tr><td>29      </td><td>82      </td><td>82      </td><td>79      </td><td>80      </td><td>77      </td><td>77      </td><td>84      </td><td>81      </td><td>81      </td><td>81      </td><td>86      </td><td>87      </td><td>92      </td><td>2       </td><td>17000000</td></tr>\n",
       "\t<tr><td>29      </td><td>82      </td><td>82      </td><td>78      </td><td>84      </td><td>74      </td><td>63      </td><td>85      </td><td>82      </td><td>72      </td><td>78      </td><td>90      </td><td>91      </td><td>78      </td><td>2       </td><td>17000000</td></tr>\n",
       "\t<tr><td>32      </td><td>82      </td><td>82      </td><td>86      </td><td>78      </td><td>82      </td><td>80      </td><td>82      </td><td>80      </td><td>84      </td><td>80      </td><td>75      </td><td>83      </td><td>65      </td><td>3       </td><td>12500000</td></tr>\n",
       "\t<tr><td>27      </td><td>81      </td><td>82      </td><td>80      </td><td>80      </td><td>72      </td><td>73      </td><td>81      </td><td>80      </td><td>81      </td><td>85      </td><td>93      </td><td>78      </td><td>69      </td><td>2       </td><td>17000000</td></tr>\n",
       "\t<tr><td>34      </td><td>80      </td><td>80      </td><td>78      </td><td>81      </td><td>75      </td><td>73      </td><td>79      </td><td>80      </td><td>77      </td><td>78      </td><td>89      </td><td>81      </td><td>71      </td><td>1       </td><td> 4500000</td></tr>\n",
       "\t<tr><td>24      </td><td>80      </td><td>84      </td><td>77      </td><td>81      </td><td>78      </td><td>67      </td><td>81      </td><td>82      </td><td>70      </td><td>78      </td><td>78      </td><td>91      </td><td>89      </td><td>2       </td><td>16500000</td></tr>\n",
       "\t<tr><td>29      </td><td>80      </td><td>80      </td><td>82      </td><td>78      </td><td>82      </td><td>78      </td><td>80      </td><td>79      </td><td>80      </td><td>78      </td><td>79      </td><td>76      </td><td>71      </td><td>2       </td><td>11500000</td></tr>\n",
       "\t<tr><td>28      </td><td>80      </td><td>80      </td><td>82      </td><td>76      </td><td>81      </td><td>80      </td><td>82      </td><td>81      </td><td>82      </td><td>83      </td><td>77      </td><td>58      </td><td>66      </td><td>2       </td><td>12000000</td></tr>\n",
       "</tbody>\n",
       "</table>\n"
      ],
      "text/latex": [
       "\\begin{tabular}{r|llllllllllllllll}\n",
       " Age & Overall & Potential & ShortPassing & StandingTackle & LongPassing & Vision & Interceptions & Marking & BallControl & Reactions & Stamina & Aggression & Strength & International.Reputation & Value\\\\\n",
       "\\hline\n",
       "\t 29       & 89       & 89       & 89       & 86       & 82       & 87       & 87       & 90       & 88       & 87       & 86       & 85       & 77       & 4        & 51500000\\\\\n",
       "\t 26       & 88       & 90       & 85       & 90       & 82       & 77       & 87       & 88       & 78       & 84       & 87       & 87       & 89       & 3        & 59500000\\\\\n",
       "\t 28       & 86       & 86       & 89       & 74       & 85       & 88       & 78       & 75       & 89       & 84       & 78       & 70       & 66       & 3        & 44000000\\\\\n",
       "\t 33       & 86       & 86       & 85       & 85       & 81       & 75       & 88       & 85       & 82       & 86       & 79       & 87       & 76       & 3        & 18000000\\\\\n",
       "\t 24       & 84       & 88       & 83       & 86       & 78       & 75       & 84       & 83       & 82       & 83       & 92       & 85       & 79       & 3        & 34000000\\\\\n",
       "\t 26       & 84       & 86       & 84       & 85       & 86       & 83       & 84       & 84       & 79       & 75       & 84       & 75       & 90       & 3        & 31500000\\\\\n",
       "\t 29       & 84       & 84       & 84       & 84       & 83       & 73       & 86       & 83       & 79       & 83       & 84       & 80       & 85       & 3        & 24000000\\\\\n",
       "\t 30       & 84       & 84       & 88       & 69       & 87       & 88       & 76       & 75       & 86       & 77       & 74       & 73       & 67       & 3        & 29000000\\\\\n",
       "\t 26       & 83       & 86       & 82       & 84       & 79       & 73       & 84       & 83       & 78       & 76       & 83       & 85       & 89       & 3        & 27000000\\\\\n",
       "\t 28       & 83       & 83       & 87       & 84       & 84       & 79       & 83       & 75       & 84       & 83       & 79       & 86       & 81       & 3        & 21000000\\\\\n",
       "\t 29       & 83       & 83       & 77       & 86       & 74       & 75       & 87       & 85       & 74       & 83       & 74       & 90       & 84       & 3        & 20000000\\\\\n",
       "\t 25       & 82       & 88       & 85       & 83       & 79       & 73       & 79       & 80       & 81       & 77       & 87       & 76       & 81       & 1        & 25500000\\\\\n",
       "\t 29       & 82       & 82       & 79       & 80       & 77       & 77       & 84       & 81       & 81       & 81       & 86       & 87       & 92       & 2        & 17000000\\\\\n",
       "\t 29       & 82       & 82       & 78       & 84       & 74       & 63       & 85       & 82       & 72       & 78       & 90       & 91       & 78       & 2        & 17000000\\\\\n",
       "\t 32       & 82       & 82       & 86       & 78       & 82       & 80       & 82       & 80       & 84       & 80       & 75       & 83       & 65       & 3        & 12500000\\\\\n",
       "\t 27       & 81       & 82       & 80       & 80       & 72       & 73       & 81       & 80       & 81       & 85       & 93       & 78       & 69       & 2        & 17000000\\\\\n",
       "\t 34       & 80       & 80       & 78       & 81       & 75       & 73       & 79       & 80       & 77       & 78       & 89       & 81       & 71       & 1        &  4500000\\\\\n",
       "\t 24       & 80       & 84       & 77       & 81       & 78       & 67       & 81       & 82       & 70       & 78       & 78       & 91       & 89       & 2        & 16500000\\\\\n",
       "\t 29       & 80       & 80       & 82       & 78       & 82       & 78       & 80       & 79       & 80       & 78       & 79       & 76       & 71       & 2        & 11500000\\\\\n",
       "\t 28       & 80       & 80       & 82       & 76       & 81       & 80       & 82       & 81       & 82       & 83       & 77       & 58       & 66       & 2        & 12000000\\\\\n",
       "\\end{tabular}\n"
      ],
      "text/markdown": [
       "\n",
       "| Age | Overall | Potential | ShortPassing | StandingTackle | LongPassing | Vision | Interceptions | Marking | BallControl | Reactions | Stamina | Aggression | Strength | International.Reputation | Value |\n",
       "|---|---|---|---|---|---|---|---|---|---|---|---|---|---|---|---|\n",
       "| 29       | 89       | 89       | 89       | 86       | 82       | 87       | 87       | 90       | 88       | 87       | 86       | 85       | 77       | 4        | 51500000 |\n",
       "| 26       | 88       | 90       | 85       | 90       | 82       | 77       | 87       | 88       | 78       | 84       | 87       | 87       | 89       | 3        | 59500000 |\n",
       "| 28       | 86       | 86       | 89       | 74       | 85       | 88       | 78       | 75       | 89       | 84       | 78       | 70       | 66       | 3        | 44000000 |\n",
       "| 33       | 86       | 86       | 85       | 85       | 81       | 75       | 88       | 85       | 82       | 86       | 79       | 87       | 76       | 3        | 18000000 |\n",
       "| 24       | 84       | 88       | 83       | 86       | 78       | 75       | 84       | 83       | 82       | 83       | 92       | 85       | 79       | 3        | 34000000 |\n",
       "| 26       | 84       | 86       | 84       | 85       | 86       | 83       | 84       | 84       | 79       | 75       | 84       | 75       | 90       | 3        | 31500000 |\n",
       "| 29       | 84       | 84       | 84       | 84       | 83       | 73       | 86       | 83       | 79       | 83       | 84       | 80       | 85       | 3        | 24000000 |\n",
       "| 30       | 84       | 84       | 88       | 69       | 87       | 88       | 76       | 75       | 86       | 77       | 74       | 73       | 67       | 3        | 29000000 |\n",
       "| 26       | 83       | 86       | 82       | 84       | 79       | 73       | 84       | 83       | 78       | 76       | 83       | 85       | 89       | 3        | 27000000 |\n",
       "| 28       | 83       | 83       | 87       | 84       | 84       | 79       | 83       | 75       | 84       | 83       | 79       | 86       | 81       | 3        | 21000000 |\n",
       "| 29       | 83       | 83       | 77       | 86       | 74       | 75       | 87       | 85       | 74       | 83       | 74       | 90       | 84       | 3        | 20000000 |\n",
       "| 25       | 82       | 88       | 85       | 83       | 79       | 73       | 79       | 80       | 81       | 77       | 87       | 76       | 81       | 1        | 25500000 |\n",
       "| 29       | 82       | 82       | 79       | 80       | 77       | 77       | 84       | 81       | 81       | 81       | 86       | 87       | 92       | 2        | 17000000 |\n",
       "| 29       | 82       | 82       | 78       | 84       | 74       | 63       | 85       | 82       | 72       | 78       | 90       | 91       | 78       | 2        | 17000000 |\n",
       "| 32       | 82       | 82       | 86       | 78       | 82       | 80       | 82       | 80       | 84       | 80       | 75       | 83       | 65       | 3        | 12500000 |\n",
       "| 27       | 81       | 82       | 80       | 80       | 72       | 73       | 81       | 80       | 81       | 85       | 93       | 78       | 69       | 2        | 17000000 |\n",
       "| 34       | 80       | 80       | 78       | 81       | 75       | 73       | 79       | 80       | 77       | 78       | 89       | 81       | 71       | 1        |  4500000 |\n",
       "| 24       | 80       | 84       | 77       | 81       | 78       | 67       | 81       | 82       | 70       | 78       | 78       | 91       | 89       | 2        | 16500000 |\n",
       "| 29       | 80       | 80       | 82       | 78       | 82       | 78       | 80       | 79       | 80       | 78       | 79       | 76       | 71       | 2        | 11500000 |\n",
       "| 28       | 80       | 80       | 82       | 76       | 81       | 80       | 82       | 81       | 82       | 83       | 77       | 58       | 66       | 2        | 12000000 |\n",
       "\n"
      ],
      "text/plain": [
       "   Age Overall Potential ShortPassing StandingTackle LongPassing Vision\n",
       "1  29  89      89        89           86             82          87    \n",
       "2  26  88      90        85           90             82          77    \n",
       "3  28  86      86        89           74             85          88    \n",
       "4  33  86      86        85           85             81          75    \n",
       "5  24  84      88        83           86             78          75    \n",
       "6  26  84      86        84           85             86          83    \n",
       "7  29  84      84        84           84             83          73    \n",
       "8  30  84      84        88           69             87          88    \n",
       "9  26  83      86        82           84             79          73    \n",
       "10 28  83      83        87           84             84          79    \n",
       "11 29  83      83        77           86             74          75    \n",
       "12 25  82      88        85           83             79          73    \n",
       "13 29  82      82        79           80             77          77    \n",
       "14 29  82      82        78           84             74          63    \n",
       "15 32  82      82        86           78             82          80    \n",
       "16 27  81      82        80           80             72          73    \n",
       "17 34  80      80        78           81             75          73    \n",
       "18 24  80      84        77           81             78          67    \n",
       "19 29  80      80        82           78             82          78    \n",
       "20 28  80      80        82           76             81          80    \n",
       "   Interceptions Marking BallControl Reactions Stamina Aggression Strength\n",
       "1  87            90      88          87        86      85         77      \n",
       "2  87            88      78          84        87      87         89      \n",
       "3  78            75      89          84        78      70         66      \n",
       "4  88            85      82          86        79      87         76      \n",
       "5  84            83      82          83        92      85         79      \n",
       "6  84            84      79          75        84      75         90      \n",
       "7  86            83      79          83        84      80         85      \n",
       "8  76            75      86          77        74      73         67      \n",
       "9  84            83      78          76        83      85         89      \n",
       "10 83            75      84          83        79      86         81      \n",
       "11 87            85      74          83        74      90         84      \n",
       "12 79            80      81          77        87      76         81      \n",
       "13 84            81      81          81        86      87         92      \n",
       "14 85            82      72          78        90      91         78      \n",
       "15 82            80      84          80        75      83         65      \n",
       "16 81            80      81          85        93      78         69      \n",
       "17 79            80      77          78        89      81         71      \n",
       "18 81            82      70          78        78      91         89      \n",
       "19 80            79      80          78        79      76         71      \n",
       "20 82            81      82          83        77      58         66      \n",
       "   International.Reputation Value   \n",
       "1  4                        51500000\n",
       "2  3                        59500000\n",
       "3  3                        44000000\n",
       "4  3                        18000000\n",
       "5  3                        34000000\n",
       "6  3                        31500000\n",
       "7  3                        24000000\n",
       "8  3                        29000000\n",
       "9  3                        27000000\n",
       "10 3                        21000000\n",
       "11 3                        20000000\n",
       "12 1                        25500000\n",
       "13 2                        17000000\n",
       "14 2                        17000000\n",
       "15 3                        12500000\n",
       "16 2                        17000000\n",
       "17 1                         4500000\n",
       "18 2                        16500000\n",
       "19 2                        11500000\n",
       "20 2                        12000000"
      ]
     },
     "metadata": {},
     "output_type": "display_data"
    },
    {
     "data": {
      "text/html": [
       "<dl class=dl-horizontal>\n",
       "\t<dt>Age</dt>\n",
       "\t\t<dd>0</dd>\n",
       "\t<dt>Overall</dt>\n",
       "\t\t<dd>0</dd>\n",
       "\t<dt>Potential</dt>\n",
       "\t\t<dd>0</dd>\n",
       "\t<dt>ShortPassing</dt>\n",
       "\t\t<dd>0</dd>\n",
       "\t<dt>StandingTackle</dt>\n",
       "\t\t<dd>0</dd>\n",
       "\t<dt>LongPassing</dt>\n",
       "\t\t<dd>0</dd>\n",
       "\t<dt>Vision</dt>\n",
       "\t\t<dd>0</dd>\n",
       "\t<dt>Interceptions</dt>\n",
       "\t\t<dd>0</dd>\n",
       "\t<dt>Marking</dt>\n",
       "\t\t<dd>0</dd>\n",
       "\t<dt>BallControl</dt>\n",
       "\t\t<dd>0</dd>\n",
       "\t<dt>Reactions</dt>\n",
       "\t\t<dd>0</dd>\n",
       "\t<dt>Stamina</dt>\n",
       "\t\t<dd>0</dd>\n",
       "\t<dt>Aggression</dt>\n",
       "\t\t<dd>0</dd>\n",
       "\t<dt>Strength</dt>\n",
       "\t\t<dd>0</dd>\n",
       "\t<dt>International.Reputation</dt>\n",
       "\t\t<dd>0</dd>\n",
       "\t<dt>Value</dt>\n",
       "\t\t<dd>0</dd>\n",
       "</dl>\n"
      ],
      "text/latex": [
       "\\begin{description*}\n",
       "\\item[Age] 0\n",
       "\\item[Overall] 0\n",
       "\\item[Potential] 0\n",
       "\\item[ShortPassing] 0\n",
       "\\item[StandingTackle] 0\n",
       "\\item[LongPassing] 0\n",
       "\\item[Vision] 0\n",
       "\\item[Interceptions] 0\n",
       "\\item[Marking] 0\n",
       "\\item[BallControl] 0\n",
       "\\item[Reactions] 0\n",
       "\\item[Stamina] 0\n",
       "\\item[Aggression] 0\n",
       "\\item[Strength] 0\n",
       "\\item[International.Reputation] 0\n",
       "\\item[Value] 0\n",
       "\\end{description*}\n"
      ],
      "text/markdown": [
       "Age\n",
       ":   0Overall\n",
       ":   0Potential\n",
       ":   0ShortPassing\n",
       ":   0StandingTackle\n",
       ":   0LongPassing\n",
       ":   0Vision\n",
       ":   0Interceptions\n",
       ":   0Marking\n",
       ":   0BallControl\n",
       ":   0Reactions\n",
       ":   0Stamina\n",
       ":   0Aggression\n",
       ":   0Strength\n",
       ":   0International.Reputation\n",
       ":   0Value\n",
       ":   0\n",
       "\n"
      ],
      "text/plain": [
       "                     Age                  Overall                Potential \n",
       "                       0                        0                        0 \n",
       "            ShortPassing           StandingTackle              LongPassing \n",
       "                       0                        0                        0 \n",
       "                  Vision            Interceptions                  Marking \n",
       "                       0                        0                        0 \n",
       "             BallControl                Reactions                  Stamina \n",
       "                       0                        0                        0 \n",
       "              Aggression                 Strength International.Reputation \n",
       "                       0                        0                        0 \n",
       "                   Value \n",
       "                       0 "
      ]
     },
     "metadata": {},
     "output_type": "display_data"
    }
   ],
   "source": [
    "#Dataset para Center Defender Midfielders\n",
    "fifaCDM <- fifaClean %>% filter(Position == \"CDM\")%>% \n",
    "                   select(Age, Overall, Potential, ShortPassing, StandingTackle, LongPassing, \n",
    "                          Vision, Interceptions, Marking, BallControl, Reactions, Stamina, \n",
    "                          Aggression, Strength, International.Reputation, Value) \n",
    "head(fifaCDM, 20)\n",
    "colSums(is.na(fifaCDM))"
   ]
  },
  {
   "cell_type": "code",
   "execution_count": 148,
   "metadata": {},
   "outputs": [
    {
     "data": {
      "text/html": [
       "<ol class=list-inline>\n",
       "\t<li>'Age'</li>\n",
       "\t<li>'Overall'</li>\n",
       "\t<li>'Potential'</li>\n",
       "\t<li>'ShortPassing'</li>\n",
       "\t<li>'StandingTackle'</li>\n",
       "\t<li>'LongPassing'</li>\n",
       "\t<li>'Vision'</li>\n",
       "\t<li>'Interceptions'</li>\n",
       "\t<li>'Marking'</li>\n",
       "\t<li>'BallControl'</li>\n",
       "\t<li>'Reactions'</li>\n",
       "\t<li>'Stamina'</li>\n",
       "\t<li>'Aggression'</li>\n",
       "\t<li>'Strength'</li>\n",
       "\t<li>'International.Reputation'</li>\n",
       "\t<li>'Value'</li>\n",
       "</ol>\n"
      ],
      "text/latex": [
       "\\begin{enumerate*}\n",
       "\\item 'Age'\n",
       "\\item 'Overall'\n",
       "\\item 'Potential'\n",
       "\\item 'ShortPassing'\n",
       "\\item 'StandingTackle'\n",
       "\\item 'LongPassing'\n",
       "\\item 'Vision'\n",
       "\\item 'Interceptions'\n",
       "\\item 'Marking'\n",
       "\\item 'BallControl'\n",
       "\\item 'Reactions'\n",
       "\\item 'Stamina'\n",
       "\\item 'Aggression'\n",
       "\\item 'Strength'\n",
       "\\item 'International.Reputation'\n",
       "\\item 'Value'\n",
       "\\end{enumerate*}\n"
      ],
      "text/markdown": [
       "1. 'Age'\n",
       "2. 'Overall'\n",
       "3. 'Potential'\n",
       "4. 'ShortPassing'\n",
       "5. 'StandingTackle'\n",
       "6. 'LongPassing'\n",
       "7. 'Vision'\n",
       "8. 'Interceptions'\n",
       "9. 'Marking'\n",
       "10. 'BallControl'\n",
       "11. 'Reactions'\n",
       "12. 'Stamina'\n",
       "13. 'Aggression'\n",
       "14. 'Strength'\n",
       "15. 'International.Reputation'\n",
       "16. 'Value'\n",
       "\n",
       "\n"
      ],
      "text/plain": [
       " [1] \"Age\"                      \"Overall\"                 \n",
       " [3] \"Potential\"                \"ShortPassing\"            \n",
       " [5] \"StandingTackle\"           \"LongPassing\"             \n",
       " [7] \"Vision\"                   \"Interceptions\"           \n",
       " [9] \"Marking\"                  \"BallControl\"             \n",
       "[11] \"Reactions\"                \"Stamina\"                 \n",
       "[13] \"Aggression\"               \"Strength\"                \n",
       "[15] \"International.Reputation\" \"Value\"                   "
      ]
     },
     "metadata": {},
     "output_type": "display_data"
    },
    {
     "data": {
      "text/plain": [
       "Importance of components:\n",
       "                          PC1    PC2    PC3     PC4     PC5     PC6     PC7\n",
       "Standard deviation     2.9908 1.2857 1.0530 0.95781 0.79831 0.76577 0.68326\n",
       "Proportion of Variance 0.5591 0.1033 0.0693 0.05734 0.03983 0.03665 0.02918\n",
       "Cumulative Proportion  0.5591 0.6624 0.7317 0.78901 0.82884 0.86549 0.89466\n",
       "                           PC8     PC9    PC10    PC11    PC12    PC13    PC14\n",
       "Standard deviation     0.58044 0.52929 0.50798 0.47484 0.45271 0.39582 0.35598\n",
       "Proportion of Variance 0.02106 0.01751 0.01613 0.01409 0.01281 0.00979 0.00792\n",
       "Cumulative Proportion  0.91572 0.93323 0.94936 0.96345 0.97626 0.98605 0.99397\n",
       "                          PC15    PC16\n",
       "Standard deviation     0.29786 0.08794\n",
       "Proportion of Variance 0.00554 0.00048\n",
       "Cumulative Proportion  0.99952 1.00000"
      ]
     },
     "metadata": {},
     "output_type": "display_data"
    }
   ],
   "source": [
    "#Aplicamos PCA al dataset de Right/Left Winger Backs a todas las columnas menos \"Name\" y \"Nationality\" las cuales no fueron incluídas\n",
    "names(fifaCDM)\n",
    "fifaCDM.pca <- prcomp(fifaCDM [c(1:16)], center = TRUE,scale. = TRUE)\n",
    "summary(fifaCDM.pca)"
   ]
  },
  {
   "cell_type": "code",
   "execution_count": 157,
   "metadata": {},
   "outputs": [
    {
     "data": {
      "text/plain": [
       "      Age           Overall        Potential     ShortPassing   StandingTackle \n",
       " Min.   :16.00   Min.   :47.00   Min.   :52.0   Min.   :41.00   Min.   :39.00  \n",
       " 1st Qu.:21.00   1st Qu.:62.00   1st Qu.:67.0   1st Qu.:63.00   1st Qu.:61.00  \n",
       " Median :25.00   Median :66.00   Median :71.0   Median :68.00   Median :66.00  \n",
       " Mean   :25.24   Mean   :66.31   Mean   :71.5   Mean   :67.69   Mean   :65.62  \n",
       " 3rd Qu.:29.00   3rd Qu.:70.00   3rd Qu.:76.0   3rd Qu.:72.00   3rd Qu.:70.00  \n",
       " Max.   :39.00   Max.   :89.00   Max.   :90.0   Max.   :89.00   Max.   :90.00  \n",
       "  LongPassing        Vision      Interceptions      Marking      BallControl  \n",
       " Min.   :34.00   Min.   :28.00   Min.   :38.00   Min.   :30.0   Min.   :37.0  \n",
       " 1st Qu.:59.00   1st Qu.:53.00   1st Qu.:59.00   1st Qu.:58.0   1st Qu.:60.0  \n",
       " Median :64.00   Median :60.00   Median :65.00   Median :64.0   Median :65.0  \n",
       " Mean   :64.15   Mean   :59.32   Mean   :64.55   Mean   :63.2   Mean   :64.6  \n",
       " 3rd Qu.:70.00   3rd Qu.:66.00   3rd Qu.:70.25   3rd Qu.:69.0   3rd Qu.:69.0  \n",
       " Max.   :87.00   Max.   :88.00   Max.   :88.00   Max.   :90.0   Max.   :89.0  \n",
       "   Reactions        Stamina        Aggression       Strength    \n",
       " Min.   :41.00   Min.   :30.00   Min.   :31.00   Min.   :29.00  \n",
       " 1st Qu.:58.00   1st Qu.:63.00   1st Qu.:61.00   1st Qu.:62.00  \n",
       " Median :64.00   Median :71.00   Median :68.50   Median :69.00  \n",
       " Mean   :63.38   Mean   :70.05   Mean   :68.58   Mean   :68.35  \n",
       " 3rd Qu.:68.00   3rd Qu.:77.00   3rd Qu.:76.00   3rd Qu.:75.00  \n",
       " Max.   :87.00   Max.   :94.00   Max.   :92.00   Max.   :93.00  \n",
       " International.Reputation     Value         \n",
       " Min.   :1.000            Min.   :       0  \n",
       " 1st Qu.:1.000            1st Qu.:  300000  \n",
       " Median :1.000            Median :  675000  \n",
       " Mean   :1.124            Mean   : 2073966  \n",
       " 3rd Qu.:1.000            3rd Qu.: 1800000  \n",
       " Max.   :4.000            Max.   :59500000  "
      ]
     },
     "metadata": {},
     "output_type": "display_data"
    }
   ],
   "source": [
    "summary(fifaCDM)"
   ]
  },
  {
   "cell_type": "code",
   "execution_count": 158,
   "metadata": {},
   "outputs": [
    {
     "data": {
      "text/html": [
       "<ol class=list-inline>\n",
       "\t<li>948</li>\n",
       "\t<li>16</li>\n",
       "</ol>\n"
      ],
      "text/latex": [
       "\\begin{enumerate*}\n",
       "\\item 948\n",
       "\\item 16\n",
       "\\end{enumerate*}\n"
      ],
      "text/markdown": [
       "1. 948\n",
       "2. 16\n",
       "\n",
       "\n"
      ],
      "text/plain": [
       "[1] 948  16"
      ]
     },
     "metadata": {},
     "output_type": "display_data"
    }
   ],
   "source": [
    "dim(fifaCDM)"
   ]
  },
  {
   "cell_type": "markdown",
   "metadata": {},
   "source": [
    "Particionamos fifaCDM con el fin de obtener un data frame para realizar el entrenamiento y otro para probarlo"
   ]
  },
  {
   "cell_type": "code",
   "execution_count": 159,
   "metadata": {},
   "outputs": [],
   "source": [
    "set.seed(1500)\n",
    "indexes_fifaCDM <- createDataPartition(fifaCDM$Value,times = 1,\n",
    "                               p = 0.8, # 80% para entrenar, 20% para evaluar\n",
    "                               list = FALSE)\n",
    "fifaCDM.train <- fifaCDM[indexes_fifaCDM,]\n",
    "fifaCDM.test <- fifaCDM[-indexes_fifaCDM,]"
   ]
  },
  {
   "cell_type": "code",
   "execution_count": 161,
   "metadata": {},
   "outputs": [
    {
     "data": {
      "text/html": [
       "<ol class=list-inline>\n",
       "\t<li>'Age'</li>\n",
       "\t<li>'Overall'</li>\n",
       "\t<li>'Potential'</li>\n",
       "\t<li>'ShortPassing'</li>\n",
       "\t<li>'StandingTackle'</li>\n",
       "\t<li>'LongPassing'</li>\n",
       "\t<li>'Vision'</li>\n",
       "\t<li>'Interceptions'</li>\n",
       "\t<li>'Marking'</li>\n",
       "\t<li>'BallControl'</li>\n",
       "\t<li>'Reactions'</li>\n",
       "\t<li>'Stamina'</li>\n",
       "\t<li>'Aggression'</li>\n",
       "\t<li>'Strength'</li>\n",
       "\t<li>'International.Reputation'</li>\n",
       "\t<li>'Value'</li>\n",
       "</ol>\n"
      ],
      "text/latex": [
       "\\begin{enumerate*}\n",
       "\\item 'Age'\n",
       "\\item 'Overall'\n",
       "\\item 'Potential'\n",
       "\\item 'ShortPassing'\n",
       "\\item 'StandingTackle'\n",
       "\\item 'LongPassing'\n",
       "\\item 'Vision'\n",
       "\\item 'Interceptions'\n",
       "\\item 'Marking'\n",
       "\\item 'BallControl'\n",
       "\\item 'Reactions'\n",
       "\\item 'Stamina'\n",
       "\\item 'Aggression'\n",
       "\\item 'Strength'\n",
       "\\item 'International.Reputation'\n",
       "\\item 'Value'\n",
       "\\end{enumerate*}\n"
      ],
      "text/markdown": [
       "1. 'Age'\n",
       "2. 'Overall'\n",
       "3. 'Potential'\n",
       "4. 'ShortPassing'\n",
       "5. 'StandingTackle'\n",
       "6. 'LongPassing'\n",
       "7. 'Vision'\n",
       "8. 'Interceptions'\n",
       "9. 'Marking'\n",
       "10. 'BallControl'\n",
       "11. 'Reactions'\n",
       "12. 'Stamina'\n",
       "13. 'Aggression'\n",
       "14. 'Strength'\n",
       "15. 'International.Reputation'\n",
       "16. 'Value'\n",
       "\n",
       "\n"
      ],
      "text/plain": [
       " [1] \"Age\"                      \"Overall\"                 \n",
       " [3] \"Potential\"                \"ShortPassing\"            \n",
       " [5] \"StandingTackle\"           \"LongPassing\"             \n",
       " [7] \"Vision\"                   \"Interceptions\"           \n",
       " [9] \"Marking\"                  \"BallControl\"             \n",
       "[11] \"Reactions\"                \"Stamina\"                 \n",
       "[13] \"Aggression\"               \"Strength\"                \n",
       "[15] \"International.Reputation\" \"Value\"                   "
      ]
     },
     "metadata": {},
     "output_type": "display_data"
    },
    {
     "data": {
      "text/html": [
       "<ol class=list-inline>\n",
       "\t<li>760</li>\n",
       "\t<li>16</li>\n",
       "</ol>\n"
      ],
      "text/latex": [
       "\\begin{enumerate*}\n",
       "\\item 760\n",
       "\\item 16\n",
       "\\end{enumerate*}\n"
      ],
      "text/markdown": [
       "1. 760\n",
       "2. 16\n",
       "\n",
       "\n"
      ],
      "text/plain": [
       "[1] 760  16"
      ]
     },
     "metadata": {},
     "output_type": "display_data"
    },
    {
     "data": {
      "text/html": [
       "<ol class=list-inline>\n",
       "\t<li>'Age'</li>\n",
       "\t<li>'Overall'</li>\n",
       "\t<li>'Potential'</li>\n",
       "\t<li>'ShortPassing'</li>\n",
       "\t<li>'StandingTackle'</li>\n",
       "\t<li>'LongPassing'</li>\n",
       "\t<li>'Vision'</li>\n",
       "\t<li>'Interceptions'</li>\n",
       "\t<li>'Marking'</li>\n",
       "\t<li>'BallControl'</li>\n",
       "\t<li>'Reactions'</li>\n",
       "\t<li>'Stamina'</li>\n",
       "\t<li>'Aggression'</li>\n",
       "\t<li>'Strength'</li>\n",
       "\t<li>'International.Reputation'</li>\n",
       "\t<li>'Value'</li>\n",
       "</ol>\n"
      ],
      "text/latex": [
       "\\begin{enumerate*}\n",
       "\\item 'Age'\n",
       "\\item 'Overall'\n",
       "\\item 'Potential'\n",
       "\\item 'ShortPassing'\n",
       "\\item 'StandingTackle'\n",
       "\\item 'LongPassing'\n",
       "\\item 'Vision'\n",
       "\\item 'Interceptions'\n",
       "\\item 'Marking'\n",
       "\\item 'BallControl'\n",
       "\\item 'Reactions'\n",
       "\\item 'Stamina'\n",
       "\\item 'Aggression'\n",
       "\\item 'Strength'\n",
       "\\item 'International.Reputation'\n",
       "\\item 'Value'\n",
       "\\end{enumerate*}\n"
      ],
      "text/markdown": [
       "1. 'Age'\n",
       "2. 'Overall'\n",
       "3. 'Potential'\n",
       "4. 'ShortPassing'\n",
       "5. 'StandingTackle'\n",
       "6. 'LongPassing'\n",
       "7. 'Vision'\n",
       "8. 'Interceptions'\n",
       "9. 'Marking'\n",
       "10. 'BallControl'\n",
       "11. 'Reactions'\n",
       "12. 'Stamina'\n",
       "13. 'Aggression'\n",
       "14. 'Strength'\n",
       "15. 'International.Reputation'\n",
       "16. 'Value'\n",
       "\n",
       "\n"
      ],
      "text/plain": [
       " [1] \"Age\"                      \"Overall\"                 \n",
       " [3] \"Potential\"                \"ShortPassing\"            \n",
       " [5] \"StandingTackle\"           \"LongPassing\"             \n",
       " [7] \"Vision\"                   \"Interceptions\"           \n",
       " [9] \"Marking\"                  \"BallControl\"             \n",
       "[11] \"Reactions\"                \"Stamina\"                 \n",
       "[13] \"Aggression\"               \"Strength\"                \n",
       "[15] \"International.Reputation\" \"Value\"                   "
      ]
     },
     "metadata": {},
     "output_type": "display_data"
    },
    {
     "data": {
      "text/html": [
       "<ol class=list-inline>\n",
       "\t<li>188</li>\n",
       "\t<li>16</li>\n",
       "</ol>\n"
      ],
      "text/latex": [
       "\\begin{enumerate*}\n",
       "\\item 188\n",
       "\\item 16\n",
       "\\end{enumerate*}\n"
      ],
      "text/markdown": [
       "1. 188\n",
       "2. 16\n",
       "\n",
       "\n"
      ],
      "text/plain": [
       "[1] 188  16"
      ]
     },
     "metadata": {},
     "output_type": "display_data"
    }
   ],
   "source": [
    "#Verificamos los subconjuntos\n",
    "names(fifaCDM.train)\n",
    "dim(fifaCDM.train)\n",
    "\n",
    "names(fifaCDM.test)\n",
    "dim(fifaCDM.test)"
   ]
  },
  {
   "cell_type": "markdown",
   "metadata": {},
   "source": [
    "Verificamos que la suma de la cantidad de líneas de fifaCDM.train y fifaCDM.test es igual a la cantidad total de lineas de fifaLRWB"
   ]
  },
  {
   "cell_type": "code",
   "execution_count": 163,
   "metadata": {},
   "outputs": [
    {
     "data": {
      "text/html": [
       "TRUE"
      ],
      "text/latex": [
       "TRUE"
      ],
      "text/markdown": [
       "TRUE"
      ],
      "text/plain": [
       "[1] TRUE"
      ]
     },
     "metadata": {},
     "output_type": "display_data"
    }
   ],
   "source": [
    "nrow(fifaCDM.train) + nrow(fifaCDM.test) == nrow(fifaCDM)"
   ]
  },
  {
   "cell_type": "code",
   "execution_count": 164,
   "metadata": {},
   "outputs": [
    {
     "data": {
      "image/png": "[encoded data removed]",
      "text/plain": [
       "plot without title"
      ]
     },
     "metadata": {},
     "output_type": "display_data"
    }
   ],
   "source": [
    "ggplot() + geom_point(data = fifaCDM.train, aes(x = Overall, y = Value)) + \n",
    "  xlab(\"Overall\") + \n",
    "  ylab(\"Value\") + \n",
    "  ggtitle(\"Datos de entrenamiento para Center Defender Midfielders\")"
   ]
  },
  {
   "cell_type": "markdown",
   "metadata": {},
   "source": [
    "## Random Forest Center Defender Midfielders"
   ]
  },
  {
   "cell_type": "code",
   "execution_count": 172,
   "metadata": {},
   "outputs": [],
   "source": [
    "#Creación del modelo\n",
    "library(randomForest)\n",
    "set.seed(1234)\n",
    "fifaCDM_randomForest <- randomForest(Value ~ Age+Overall, data = fifaCDM.train, ntree = 500)"
   ]
  },
  {
   "cell_type": "markdown",
   "metadata": {},
   "source": [
    "### Visualización del modelo creado"
   ]
  },
  {
   "cell_type": "code",
   "execution_count": 173,
   "metadata": {},
   "outputs": [
    {
     "data": {
      "text/plain": [
       "\n",
       "Call:\n",
       " randomForest(formula = Value ~ Age + Overall, data = fifaCDM.train,      ntree = 500) \n",
       "               Type of random forest: regression\n",
       "                     Number of trees: 500\n",
       "No. of variables tried at each split: 1\n",
       "\n",
       "          Mean of squared residuals: 2.274323e+12\n",
       "                    % Var explained: 88.96"
      ]
     },
     "metadata": {},
     "output_type": "display_data"
    }
   ],
   "source": [
    "fifaCDM_randomForest"
   ]
  },
  {
   "cell_type": "code",
   "execution_count": 176,
   "metadata": {},
   "outputs": [
    {
     "data": {
      "text/html": [
       "<table>\n",
       "<thead><tr><th></th><th scope=col>IncNodePurity</th></tr></thead>\n",
       "<tbody>\n",
       "\t<tr><th scope=row>Age</th><td>1.165615e+15</td></tr>\n",
       "\t<tr><th scope=row>Overall</th><td>1.352300e+16</td></tr>\n",
       "</tbody>\n",
       "</table>\n"
      ],
      "text/latex": [
       "\\begin{tabular}{r|l}\n",
       "  & IncNodePurity\\\\\n",
       "\\hline\n",
       "\tAge & 1.165615e+15\\\\\n",
       "\tOverall & 1.352300e+16\\\\\n",
       "\\end{tabular}\n"
      ],
      "text/markdown": [
       "\n",
       "| <!--/--> | IncNodePurity |\n",
       "|---|---|\n",
       "| Age | 1.165615e+15 |\n",
       "| Overall | 1.352300e+16 |\n",
       "\n"
      ],
      "text/plain": [
       "        IncNodePurity\n",
       "Age     1.165615e+15 \n",
       "Overall 1.352300e+16 "
      ]
     },
     "metadata": {},
     "output_type": "display_data"
    }
   ],
   "source": [
    "#Importancia de las variables\n",
    "fifaCDM_randomForest$importance"
   ]
  },
  {
   "cell_type": "code",
   "execution_count": 177,
   "metadata": {},
   "outputs": [],
   "source": [
    "#Predicción\n",
    "y_fifaCDM_predict <- predict(fifaCDM_randomForest, fifaCDM.train)"
   ]
  },
  {
   "cell_type": "code",
   "execution_count": 178,
   "metadata": {},
   "outputs": [
    {
     "data": {
      "text/html": [
       "0.988231096803012"
      ],
      "text/latex": [
       "0.988231096803012"
      ],
      "text/markdown": [
       "0.988231096803012"
      ],
      "text/plain": [
       "[1] 0.9882311"
      ]
     },
     "metadata": {},
     "output_type": "display_data"
    }
   ],
   "source": [
    "#Correlación entre la predicción\n",
    "cor(fifaCDM.train$Value, y_fifaCDM_predict)"
   ]
  },
  {
   "cell_type": "code",
   "execution_count": 179,
   "metadata": {},
   "outputs": [
    {
     "data": {
      "image/png": "[encoded data removed]",
      "text/plain": [
       "Plot with title \"fifaCDM_randomForest\""
      ]
     },
     "metadata": {},
     "output_type": "display_data"
    }
   ],
   "source": [
    "#Gráfica del modelo que muestra que al incrementar los árboles los errores disminuyen\n",
    "plot(fifaCDM_randomForest)"
   ]
  },
  {
   "cell_type": "markdown",
   "metadata": {},
   "source": [
    "#### Vemos que en los 400 árboles el modelo se estabiliza, entonces ajustamos el modelo "
   ]
  },
  {
   "cell_type": "code",
   "execution_count": 189,
   "metadata": {},
   "outputs": [],
   "source": [
    "#Ajuste del modelo\n",
    "set.seed(1234)\n",
    "fifaCDM_randomForest_ajustado <- randomForest(Value ~ Age+Overall, data = fifaCDM.train, ntree = 400)"
   ]
  },
  {
   "cell_type": "code",
   "execution_count": 190,
   "metadata": {},
   "outputs": [
    {
     "data": {
      "text/plain": [
       "\n",
       "Call:\n",
       " randomForest(formula = Value ~ Age + Overall, data = fifaCDM.train,      ntree = 400) \n",
       "               Type of random forest: regression\n",
       "                     Number of trees: 400\n",
       "No. of variables tried at each split: 1\n",
       "\n",
       "          Mean of squared residuals: 2.26707e+12\n",
       "                    % Var explained: 89"
      ]
     },
     "metadata": {},
     "output_type": "display_data"
    }
   ],
   "source": [
    "fifaCDM_randomForest_ajustado"
   ]
  },
  {
   "cell_type": "code",
   "execution_count": 191,
   "metadata": {},
   "outputs": [],
   "source": [
    "#Predicción con el modelo ajustado\n",
    "y_fifaCDM_predict_ajustado <- predict(fifaCDM_randomForest_ajustado, fifaCDM.train)"
   ]
  },
  {
   "cell_type": "code",
   "execution_count": 192,
   "metadata": {},
   "outputs": [
    {
     "data": {
      "text/html": [
       "0.988079097829202"
      ],
      "text/latex": [
       "0.988079097829202"
      ],
      "text/markdown": [
       "0.988079097829202"
      ],
      "text/plain": [
       "[1] 0.9880791"
      ]
     },
     "metadata": {},
     "output_type": "display_data"
    }
   ],
   "source": [
    "#Correlación entre la predicción\n",
    "cor(fifaCDM.train$Value, y_fifaCDM_predict_ajustado)"
   ]
  },
  {
   "cell_type": "code",
   "execution_count": 193,
   "metadata": {},
   "outputs": [
    {
     "data": {
      "text/html": [
       "<dl class=dl-horizontal>\n",
       "\t<dt>RMSE</dt>\n",
       "\t\t<dd>876475.595438424</dd>\n",
       "\t<dt>Rsquared</dt>\n",
       "\t\t<dd>0.97630030356697</dd>\n",
       "\t<dt>MAE</dt>\n",
       "\t\t<dd>261287.932536446</dd>\n",
       "</dl>\n"
      ],
      "text/latex": [
       "\\begin{description*}\n",
       "\\item[RMSE] 876475.595438424\n",
       "\\item[Rsquared] 0.97630030356697\n",
       "\\item[MAE] 261287.932536446\n",
       "\\end{description*}\n"
      ],
      "text/markdown": [
       "RMSE\n",
       ":   876475.595438424Rsquared\n",
       ":   0.97630030356697MAE\n",
       ":   261287.932536446\n",
       "\n"
      ],
      "text/plain": [
       "        RMSE     Rsquared          MAE \n",
       "8.764756e+05 9.763003e-01 2.612879e+05 "
      ]
     },
     "metadata": {},
     "output_type": "display_data"
    }
   ],
   "source": [
    "#Evaluando errores utilizando Random Forest\n",
    "postResample(y_fifaCDM_predict_ajustado,fifaCDM.train$Value)"
   ]
  },
  {
   "cell_type": "code",
   "execution_count": 194,
   "metadata": {},
   "outputs": [
    {
     "data": {
      "text/plain": [
       "k-Nearest Neighbors \n",
       "\n",
       "948 samples\n",
       "  2 predictor\n",
       "\n",
       "No pre-processing\n",
       "Resampling: Cross-Validated (10 fold) \n",
       "Summary of sample sizes: 853, 852, 852, 854, 853, 853, ... \n",
       "Resampling results across tuning parameters:\n",
       "\n",
       "  k   RMSE       Rsquared   MAE     \n",
       "   3   864530.5  0.9799661  235439.6\n",
       "   5  1106885.2  0.9608344  262734.9\n",
       "   7  1085110.0  0.9640233  267454.6\n",
       "   9  1177535.9  0.9633198  284677.0\n",
       "  11  1229868.1  0.9595191  294306.6\n",
       "  13  1325986.9  0.9550292  315893.3\n",
       "  15  1436424.7  0.9431949  328733.7\n",
       "\n",
       "RMSE was used to select the optimal model using the smallest value.\n",
       "The final value used for the model was k = 3."
      ]
     },
     "metadata": {},
     "output_type": "display_data"
    }
   ],
   "source": [
    "# Para la validación cruzada\n",
    "# Define el grid de parámetros a probar\n",
    "valores <- expand.grid(k = seq(3, 15, 2)) \n",
    "# Define los detalles del método de validación cruzada o remuestreo a utilizar\n",
    "ajustes <- trainControl(method='cv',  # validación cruzada\n",
    "             number = 10)  # diez submuestras\n",
    "# Aplica el método seleccionando el valor óptimo de k\n",
    "fifaCDM.knn <- train(Value ~ Age+Overall,\n",
    "      data = fifaCDM,\n",
    "      method = 'knn',\n",
    "      tuneGrid = valores,\n",
    "      trControl = ajustes)\n",
    "fifaCDM.knn"
   ]
  },
  {
   "cell_type": "code",
   "execution_count": 195,
   "metadata": {},
   "outputs": [
    {
     "data": {
      "image/png": "[encoded data removed]",
      "text/plain": [
       "plot without title"
      ]
     },
     "metadata": {},
     "output_type": "display_data"
    }
   ],
   "source": [
    "plot(fifaCDM.knn)"
   ]
  },
  {
   "cell_type": "markdown",
   "metadata": {},
   "source": [
    "<a id='CentralMidfielders'></a>\n",
    "## Dataset para Central Midfielders"
   ]
  },
  {
   "cell_type": "code",
   "execution_count": 149,
   "metadata": {
    "scrolled": true
   },
   "outputs": [
    {
     "data": {
      "text/html": [
       "<table>\n",
       "<thead><tr><th scope=col>Age</th><th scope=col>Overall</th><th scope=col>Potential</th><th scope=col>ShortPassing</th><th scope=col>StandingTackle</th><th scope=col>LongPassing</th><th scope=col>Vision</th><th scope=col>Interceptions</th><th scope=col>LongShots</th><th scope=col>BallControl</th><th scope=col>Reactions</th><th scope=col>Stamina</th><th scope=col>Dribbling</th><th scope=col>Positioning</th><th scope=col>International.Reputation</th><th scope=col>Value</th></tr></thead>\n",
       "<tbody>\n",
       "\t<tr><td>27      </td><td>91      </td><td>92      </td><td>92      </td><td>58      </td><td>91      </td><td>94      </td><td>61      </td><td>91      </td><td>91      </td><td>91      </td><td>90      </td><td>86      </td><td>87      </td><td>4       </td><td>1.02e+08</td></tr>\n",
       "\t<tr><td>32      </td><td>91      </td><td>91      </td><td>93      </td><td>76      </td><td>88      </td><td>92      </td><td>83      </td><td>82      </td><td>93      </td><td>90      </td><td>89      </td><td>90      </td><td>79      </td><td>4       </td><td>6.70e+07</td></tr>\n",
       "\t<tr><td>28      </td><td>90      </td><td>90      </td><td>92      </td><td>79      </td><td>93      </td><td>86      </td><td>82      </td><td>92      </td><td>90      </td><td>89      </td><td>75      </td><td>81      </td><td>79      </td><td>4       </td><td>7.65e+07</td></tr>\n",
       "\t<tr><td>32      </td><td>90      </td><td>90      </td><td>93      </td><td>53      </td><td>87      </td><td>92      </td><td>50      </td><td>75      </td><td>94      </td><td>90      </td><td>78      </td><td>89      </td><td>89      </td><td>4       </td><td>6.00e+07</td></tr>\n",
       "\t<tr><td>30      </td><td>87      </td><td>87      </td><td>88      </td><td>73      </td><td>83      </td><td>86      </td><td>72      </td><td>83      </td><td>87      </td><td>88      </td><td>84      </td><td>86      </td><td>88      </td><td>3       </td><td>4.65e+07</td></tr>\n",
       "\t<tr><td>30      </td><td>87      </td><td>87      </td><td>87      </td><td>74      </td><td>90      </td><td>86      </td><td>75      </td><td>90      </td><td>87      </td><td>77      </td><td>84      </td><td>84      </td><td>79      </td><td>4       </td><td>4.65e+07</td></tr>\n",
       "\t<tr><td>25      </td><td>86      </td><td>89      </td><td>90      </td><td>83      </td><td>89      </td><td>87      </td><td>84      </td><td>58      </td><td>88      </td><td>85      </td><td>77      </td><td>90      </td><td>71      </td><td>3       </td><td>5.50e+07</td></tr>\n",
       "\t<tr><td>27      </td><td>86      </td><td>86      </td><td>90      </td><td>63      </td><td>87      </td><td>86      </td><td>78      </td><td>79      </td><td>90      </td><td>84      </td><td>75      </td><td>90      </td><td>79      </td><td>3       </td><td>4.55e+07</td></tr>\n",
       "\t<tr><td>23      </td><td>85      </td><td>90      </td><td>85      </td><td>77      </td><td>85      </td><td>85      </td><td>78      </td><td>80      </td><td>87      </td><td>80      </td><td>85      </td><td>86      </td><td>79      </td><td>2       </td><td>5.05e+07</td></tr>\n",
       "\t<tr><td>23      </td><td>85      </td><td>88      </td><td>85      </td><td>81      </td><td>80      </td><td>79      </td><td>79      </td><td>69      </td><td>85      </td><td>85      </td><td>85      </td><td>80      </td><td>80      </td><td>3       </td><td>4.05e+07</td></tr>\n",
       "\t<tr><td>23      </td><td>85      </td><td>90      </td><td>85      </td><td>79      </td><td>83      </td><td>82      </td><td>78      </td><td>79      </td><td>85      </td><td>82      </td><td>86      </td><td>83      </td><td>82      </td><td>3       </td><td>5.05e+07</td></tr>\n",
       "\t<tr><td>29      </td><td>85      </td><td>85      </td><td>90      </td><td>68      </td><td>87      </td><td>86      </td><td>81      </td><td>82      </td><td>84      </td><td>78      </td><td>78      </td><td>78      </td><td>81      </td><td>2       </td><td>3.70e+07</td></tr>\n",
       "\t<tr><td>31      </td><td>85      </td><td>85      </td><td>85      </td><td>83      </td><td>82      </td><td>82      </td><td>86      </td><td>78      </td><td>84      </td><td>87      </td><td>78      </td><td>81      </td><td>79      </td><td>3       </td><td>3.30e+07</td></tr>\n",
       "\t<tr><td>23      </td><td>84      </td><td>88      </td><td>85      </td><td>66      </td><td>82      </td><td>86      </td><td>70      </td><td>88      </td><td>85      </td><td>84      </td><td>89      </td><td>83      </td><td>79      </td><td>2       </td><td>4.05e+07</td></tr>\n",
       "\t<tr><td>22      </td><td>84      </td><td>90      </td><td>85      </td><td>70      </td><td>80      </td><td>85      </td><td>74      </td><td>80      </td><td>85      </td><td>85      </td><td>90      </td><td>83      </td><td>86      </td><td>3       </td><td>4.25e+07</td></tr>\n",
       "\t<tr><td>26      </td><td>84      </td><td>87      </td><td>89      </td><td>78      </td><td>87      </td><td>87      </td><td>78      </td><td>62      </td><td>85      </td><td>83      </td><td>79      </td><td>82      </td><td>72      </td><td>2       </td><td>3.80e+07</td></tr>\n",
       "\t<tr><td>27      </td><td>84      </td><td>84      </td><td>88      </td><td>68      </td><td>83      </td><td>86      </td><td>77      </td><td>73      </td><td>86      </td><td>85      </td><td>69      </td><td>85      </td><td>79      </td><td>3       </td><td>3.20e+07</td></tr>\n",
       "\t<tr><td>29      </td><td>84      </td><td>84      </td><td>89      </td><td>79      </td><td>79      </td><td>79      </td><td>80      </td><td>74      </td><td>84      </td><td>84      </td><td>86      </td><td>78      </td><td>75      </td><td>3       </td><td>2.40e+07</td></tr>\n",
       "\t<tr><td>23      </td><td>83      </td><td>88      </td><td>88      </td><td>62      </td><td>78      </td><td>81      </td><td>75      </td><td>73      </td><td>88      </td><td>82      </td><td>82      </td><td>88      </td><td>74      </td><td>2       </td><td>3.40e+07</td></tr>\n",
       "\t<tr><td>23      </td><td>83      </td><td>88      </td><td>84      </td><td>78      </td><td>86      </td><td>80      </td><td>76      </td><td>81      </td><td>81      </td><td>83      </td><td>87      </td><td>77      </td><td>79      </td><td>2       </td><td>3.40e+07</td></tr>\n",
       "</tbody>\n",
       "</table>\n"
      ],
      "text/latex": [
       "\\begin{tabular}{r|llllllllllllllll}\n",
       " Age & Overall & Potential & ShortPassing & StandingTackle & LongPassing & Vision & Interceptions & LongShots & BallControl & Reactions & Stamina & Dribbling & Positioning & International.Reputation & Value\\\\\n",
       "\\hline\n",
       "\t 27       & 91       & 92       & 92       & 58       & 91       & 94       & 61       & 91       & 91       & 91       & 90       & 86       & 87       & 4        & 1.02e+08\\\\\n",
       "\t 32       & 91       & 91       & 93       & 76       & 88       & 92       & 83       & 82       & 93       & 90       & 89       & 90       & 79       & 4        & 6.70e+07\\\\\n",
       "\t 28       & 90       & 90       & 92       & 79       & 93       & 86       & 82       & 92       & 90       & 89       & 75       & 81       & 79       & 4        & 7.65e+07\\\\\n",
       "\t 32       & 90       & 90       & 93       & 53       & 87       & 92       & 50       & 75       & 94       & 90       & 78       & 89       & 89       & 4        & 6.00e+07\\\\\n",
       "\t 30       & 87       & 87       & 88       & 73       & 83       & 86       & 72       & 83       & 87       & 88       & 84       & 86       & 88       & 3        & 4.65e+07\\\\\n",
       "\t 30       & 87       & 87       & 87       & 74       & 90       & 86       & 75       & 90       & 87       & 77       & 84       & 84       & 79       & 4        & 4.65e+07\\\\\n",
       "\t 25       & 86       & 89       & 90       & 83       & 89       & 87       & 84       & 58       & 88       & 85       & 77       & 90       & 71       & 3        & 5.50e+07\\\\\n",
       "\t 27       & 86       & 86       & 90       & 63       & 87       & 86       & 78       & 79       & 90       & 84       & 75       & 90       & 79       & 3        & 4.55e+07\\\\\n",
       "\t 23       & 85       & 90       & 85       & 77       & 85       & 85       & 78       & 80       & 87       & 80       & 85       & 86       & 79       & 2        & 5.05e+07\\\\\n",
       "\t 23       & 85       & 88       & 85       & 81       & 80       & 79       & 79       & 69       & 85       & 85       & 85       & 80       & 80       & 3        & 4.05e+07\\\\\n",
       "\t 23       & 85       & 90       & 85       & 79       & 83       & 82       & 78       & 79       & 85       & 82       & 86       & 83       & 82       & 3        & 5.05e+07\\\\\n",
       "\t 29       & 85       & 85       & 90       & 68       & 87       & 86       & 81       & 82       & 84       & 78       & 78       & 78       & 81       & 2        & 3.70e+07\\\\\n",
       "\t 31       & 85       & 85       & 85       & 83       & 82       & 82       & 86       & 78       & 84       & 87       & 78       & 81       & 79       & 3        & 3.30e+07\\\\\n",
       "\t 23       & 84       & 88       & 85       & 66       & 82       & 86       & 70       & 88       & 85       & 84       & 89       & 83       & 79       & 2        & 4.05e+07\\\\\n",
       "\t 22       & 84       & 90       & 85       & 70       & 80       & 85       & 74       & 80       & 85       & 85       & 90       & 83       & 86       & 3        & 4.25e+07\\\\\n",
       "\t 26       & 84       & 87       & 89       & 78       & 87       & 87       & 78       & 62       & 85       & 83       & 79       & 82       & 72       & 2        & 3.80e+07\\\\\n",
       "\t 27       & 84       & 84       & 88       & 68       & 83       & 86       & 77       & 73       & 86       & 85       & 69       & 85       & 79       & 3        & 3.20e+07\\\\\n",
       "\t 29       & 84       & 84       & 89       & 79       & 79       & 79       & 80       & 74       & 84       & 84       & 86       & 78       & 75       & 3        & 2.40e+07\\\\\n",
       "\t 23       & 83       & 88       & 88       & 62       & 78       & 81       & 75       & 73       & 88       & 82       & 82       & 88       & 74       & 2        & 3.40e+07\\\\\n",
       "\t 23       & 83       & 88       & 84       & 78       & 86       & 80       & 76       & 81       & 81       & 83       & 87       & 77       & 79       & 2        & 3.40e+07\\\\\n",
       "\\end{tabular}\n"
      ],
      "text/markdown": [
       "\n",
       "| Age | Overall | Potential | ShortPassing | StandingTackle | LongPassing | Vision | Interceptions | LongShots | BallControl | Reactions | Stamina | Dribbling | Positioning | International.Reputation | Value |\n",
       "|---|---|---|---|---|---|---|---|---|---|---|---|---|---|---|---|\n",
       "| 27       | 91       | 92       | 92       | 58       | 91       | 94       | 61       | 91       | 91       | 91       | 90       | 86       | 87       | 4        | 1.02e+08 |\n",
       "| 32       | 91       | 91       | 93       | 76       | 88       | 92       | 83       | 82       | 93       | 90       | 89       | 90       | 79       | 4        | 6.70e+07 |\n",
       "| 28       | 90       | 90       | 92       | 79       | 93       | 86       | 82       | 92       | 90       | 89       | 75       | 81       | 79       | 4        | 7.65e+07 |\n",
       "| 32       | 90       | 90       | 93       | 53       | 87       | 92       | 50       | 75       | 94       | 90       | 78       | 89       | 89       | 4        | 6.00e+07 |\n",
       "| 30       | 87       | 87       | 88       | 73       | 83       | 86       | 72       | 83       | 87       | 88       | 84       | 86       | 88       | 3        | 4.65e+07 |\n",
       "| 30       | 87       | 87       | 87       | 74       | 90       | 86       | 75       | 90       | 87       | 77       | 84       | 84       | 79       | 4        | 4.65e+07 |\n",
       "| 25       | 86       | 89       | 90       | 83       | 89       | 87       | 84       | 58       | 88       | 85       | 77       | 90       | 71       | 3        | 5.50e+07 |\n",
       "| 27       | 86       | 86       | 90       | 63       | 87       | 86       | 78       | 79       | 90       | 84       | 75       | 90       | 79       | 3        | 4.55e+07 |\n",
       "| 23       | 85       | 90       | 85       | 77       | 85       | 85       | 78       | 80       | 87       | 80       | 85       | 86       | 79       | 2        | 5.05e+07 |\n",
       "| 23       | 85       | 88       | 85       | 81       | 80       | 79       | 79       | 69       | 85       | 85       | 85       | 80       | 80       | 3        | 4.05e+07 |\n",
       "| 23       | 85       | 90       | 85       | 79       | 83       | 82       | 78       | 79       | 85       | 82       | 86       | 83       | 82       | 3        | 5.05e+07 |\n",
       "| 29       | 85       | 85       | 90       | 68       | 87       | 86       | 81       | 82       | 84       | 78       | 78       | 78       | 81       | 2        | 3.70e+07 |\n",
       "| 31       | 85       | 85       | 85       | 83       | 82       | 82       | 86       | 78       | 84       | 87       | 78       | 81       | 79       | 3        | 3.30e+07 |\n",
       "| 23       | 84       | 88       | 85       | 66       | 82       | 86       | 70       | 88       | 85       | 84       | 89       | 83       | 79       | 2        | 4.05e+07 |\n",
       "| 22       | 84       | 90       | 85       | 70       | 80       | 85       | 74       | 80       | 85       | 85       | 90       | 83       | 86       | 3        | 4.25e+07 |\n",
       "| 26       | 84       | 87       | 89       | 78       | 87       | 87       | 78       | 62       | 85       | 83       | 79       | 82       | 72       | 2        | 3.80e+07 |\n",
       "| 27       | 84       | 84       | 88       | 68       | 83       | 86       | 77       | 73       | 86       | 85       | 69       | 85       | 79       | 3        | 3.20e+07 |\n",
       "| 29       | 84       | 84       | 89       | 79       | 79       | 79       | 80       | 74       | 84       | 84       | 86       | 78       | 75       | 3        | 2.40e+07 |\n",
       "| 23       | 83       | 88       | 88       | 62       | 78       | 81       | 75       | 73       | 88       | 82       | 82       | 88       | 74       | 2        | 3.40e+07 |\n",
       "| 23       | 83       | 88       | 84       | 78       | 86       | 80       | 76       | 81       | 81       | 83       | 87       | 77       | 79       | 2        | 3.40e+07 |\n",
       "\n"
      ],
      "text/plain": [
       "   Age Overall Potential ShortPassing StandingTackle LongPassing Vision\n",
       "1  27  91      92        92           58             91          94    \n",
       "2  32  91      91        93           76             88          92    \n",
       "3  28  90      90        92           79             93          86    \n",
       "4  32  90      90        93           53             87          92    \n",
       "5  30  87      87        88           73             83          86    \n",
       "6  30  87      87        87           74             90          86    \n",
       "7  25  86      89        90           83             89          87    \n",
       "8  27  86      86        90           63             87          86    \n",
       "9  23  85      90        85           77             85          85    \n",
       "10 23  85      88        85           81             80          79    \n",
       "11 23  85      90        85           79             83          82    \n",
       "12 29  85      85        90           68             87          86    \n",
       "13 31  85      85        85           83             82          82    \n",
       "14 23  84      88        85           66             82          86    \n",
       "15 22  84      90        85           70             80          85    \n",
       "16 26  84      87        89           78             87          87    \n",
       "17 27  84      84        88           68             83          86    \n",
       "18 29  84      84        89           79             79          79    \n",
       "19 23  83      88        88           62             78          81    \n",
       "20 23  83      88        84           78             86          80    \n",
       "   Interceptions LongShots BallControl Reactions Stamina Dribbling Positioning\n",
       "1  61            91        91          91        90      86        87         \n",
       "2  83            82        93          90        89      90        79         \n",
       "3  82            92        90          89        75      81        79         \n",
       "4  50            75        94          90        78      89        89         \n",
       "5  72            83        87          88        84      86        88         \n",
       "6  75            90        87          77        84      84        79         \n",
       "7  84            58        88          85        77      90        71         \n",
       "8  78            79        90          84        75      90        79         \n",
       "9  78            80        87          80        85      86        79         \n",
       "10 79            69        85          85        85      80        80         \n",
       "11 78            79        85          82        86      83        82         \n",
       "12 81            82        84          78        78      78        81         \n",
       "13 86            78        84          87        78      81        79         \n",
       "14 70            88        85          84        89      83        79         \n",
       "15 74            80        85          85        90      83        86         \n",
       "16 78            62        85          83        79      82        72         \n",
       "17 77            73        86          85        69      85        79         \n",
       "18 80            74        84          84        86      78        75         \n",
       "19 75            73        88          82        82      88        74         \n",
       "20 76            81        81          83        87      77        79         \n",
       "   International.Reputation Value   \n",
       "1  4                        1.02e+08\n",
       "2  4                        6.70e+07\n",
       "3  4                        7.65e+07\n",
       "4  4                        6.00e+07\n",
       "5  3                        4.65e+07\n",
       "6  4                        4.65e+07\n",
       "7  3                        5.50e+07\n",
       "8  3                        4.55e+07\n",
       "9  2                        5.05e+07\n",
       "10 3                        4.05e+07\n",
       "11 3                        5.05e+07\n",
       "12 2                        3.70e+07\n",
       "13 3                        3.30e+07\n",
       "14 2                        4.05e+07\n",
       "15 3                        4.25e+07\n",
       "16 2                        3.80e+07\n",
       "17 3                        3.20e+07\n",
       "18 3                        2.40e+07\n",
       "19 2                        3.40e+07\n",
       "20 2                        3.40e+07"
      ]
     },
     "metadata": {},
     "output_type": "display_data"
    },
    {
     "data": {
      "text/html": [
       "<dl class=dl-horizontal>\n",
       "\t<dt>Age</dt>\n",
       "\t\t<dd>0</dd>\n",
       "\t<dt>Overall</dt>\n",
       "\t\t<dd>0</dd>\n",
       "\t<dt>Potential</dt>\n",
       "\t\t<dd>0</dd>\n",
       "\t<dt>ShortPassing</dt>\n",
       "\t\t<dd>0</dd>\n",
       "\t<dt>StandingTackle</dt>\n",
       "\t\t<dd>0</dd>\n",
       "\t<dt>LongPassing</dt>\n",
       "\t\t<dd>0</dd>\n",
       "\t<dt>Vision</dt>\n",
       "\t\t<dd>0</dd>\n",
       "\t<dt>Interceptions</dt>\n",
       "\t\t<dd>0</dd>\n",
       "\t<dt>LongShots</dt>\n",
       "\t\t<dd>0</dd>\n",
       "\t<dt>BallControl</dt>\n",
       "\t\t<dd>0</dd>\n",
       "\t<dt>Reactions</dt>\n",
       "\t\t<dd>0</dd>\n",
       "\t<dt>Stamina</dt>\n",
       "\t\t<dd>0</dd>\n",
       "\t<dt>Dribbling</dt>\n",
       "\t\t<dd>0</dd>\n",
       "\t<dt>Positioning</dt>\n",
       "\t\t<dd>0</dd>\n",
       "\t<dt>International.Reputation</dt>\n",
       "\t\t<dd>0</dd>\n",
       "\t<dt>Value</dt>\n",
       "\t\t<dd>0</dd>\n",
       "</dl>\n"
      ],
      "text/latex": [
       "\\begin{description*}\n",
       "\\item[Age] 0\n",
       "\\item[Overall] 0\n",
       "\\item[Potential] 0\n",
       "\\item[ShortPassing] 0\n",
       "\\item[StandingTackle] 0\n",
       "\\item[LongPassing] 0\n",
       "\\item[Vision] 0\n",
       "\\item[Interceptions] 0\n",
       "\\item[LongShots] 0\n",
       "\\item[BallControl] 0\n",
       "\\item[Reactions] 0\n",
       "\\item[Stamina] 0\n",
       "\\item[Dribbling] 0\n",
       "\\item[Positioning] 0\n",
       "\\item[International.Reputation] 0\n",
       "\\item[Value] 0\n",
       "\\end{description*}\n"
      ],
      "text/markdown": [
       "Age\n",
       ":   0Overall\n",
       ":   0Potential\n",
       ":   0ShortPassing\n",
       ":   0StandingTackle\n",
       ":   0LongPassing\n",
       ":   0Vision\n",
       ":   0Interceptions\n",
       ":   0LongShots\n",
       ":   0BallControl\n",
       ":   0Reactions\n",
       ":   0Stamina\n",
       ":   0Dribbling\n",
       ":   0Positioning\n",
       ":   0International.Reputation\n",
       ":   0Value\n",
       ":   0\n",
       "\n"
      ],
      "text/plain": [
       "                     Age                  Overall                Potential \n",
       "                       0                        0                        0 \n",
       "            ShortPassing           StandingTackle              LongPassing \n",
       "                       0                        0                        0 \n",
       "                  Vision            Interceptions                LongShots \n",
       "                       0                        0                        0 \n",
       "             BallControl                Reactions                  Stamina \n",
       "                       0                        0                        0 \n",
       "               Dribbling              Positioning International.Reputation \n",
       "                       0                        0                        0 \n",
       "                   Value \n",
       "                       0 "
      ]
     },
     "metadata": {},
     "output_type": "display_data"
    }
   ],
   "source": [
    "#Dataset para Central Midfielders\n",
    "fifaCM <- fifaClean %>% filter(Position == \"CM\")%>% \n",
    "                   select(Age, Overall, Potential, ShortPassing, StandingTackle, LongPassing, \n",
    "                          Vision, Interceptions, LongShots, BallControl, Reactions, Stamina, \n",
    "                          Dribbling, Positioning, International.Reputation, Value)  \n",
    "head(fifaCM, 20)\n",
    "colSums(is.na(fifaCM))"
   ]
  },
  {
   "cell_type": "markdown",
   "metadata": {},
   "source": [
    "<a id='Left/RightCentralMidfielders'></a>\n",
    "## Dataset para Left/Right Central Midfielders"
   ]
  },
  {
   "cell_type": "code",
   "execution_count": 150,
   "metadata": {},
   "outputs": [
    {
     "data": {
      "text/html": [
       "<table>\n",
       "<thead><tr><th scope=col>Age</th><th scope=col>Overall</th><th scope=col>Potential</th><th scope=col>ShortPassing</th><th scope=col>StandingTackle</th><th scope=col>LongPassing</th><th scope=col>Vision</th><th scope=col>Interceptions</th><th scope=col>LongShots</th><th scope=col>BallControl</th><th scope=col>Reactions</th><th scope=col>Stamina</th><th scope=col>Dribbling</th><th scope=col>Positioning</th><th scope=col>International.Reputation</th><th scope=col>Value</th></tr></thead>\n",
       "<tbody>\n",
       "\t<tr><td>27      </td><td>89      </td><td>90      </td><td>86      </td><td>91      </td><td>81      </td><td>79      </td><td>92      </td><td>69      </td><td>80      </td><td>93      </td><td>96      </td><td>79      </td><td>71      </td><td>3       </td><td>63000000</td></tr>\n",
       "\t<tr><td>25      </td><td>87      </td><td>91      </td><td>86      </td><td>70      </td><td>90      </td><td>87      </td><td>66      </td><td>81      </td><td>90      </td><td>81      </td><td>88      </td><td>87      </td><td>81      </td><td>4       </td><td>64000000</td></tr>\n",
       "\t<tr><td>29      </td><td>85      </td><td>85      </td><td>84      </td><td>81      </td><td>80      </td><td>78      </td><td>81      </td><td>80      </td><td>84      </td><td>84      </td><td>92      </td><td>82      </td><td>84      </td><td>3       </td><td>37000000</td></tr>\n",
       "\t<tr><td>24      </td><td>84      </td><td>89      </td><td>81      </td><td>87      </td><td>78      </td><td>51      </td><td>84      </td><td>35      </td><td>76      </td><td>81      </td><td>75      </td><td>59      </td><td>46      </td><td>3       </td><td>35500000</td></tr>\n",
       "\t<tr><td>28      </td><td>84      </td><td>84      </td><td>86      </td><td>83      </td><td>82      </td><td>86      </td><td>87      </td><td>76      </td><td>83      </td><td>84      </td><td>77      </td><td>78      </td><td>79      </td><td>2       </td><td>31000000</td></tr>\n",
       "\t<tr><td>28      </td><td>83      </td><td>83      </td><td>80      </td><td>89      </td><td>72      </td><td>67      </td><td>87      </td><td>66      </td><td>79      </td><td>81      </td><td>89      </td><td>75      </td><td>67      </td><td>2       </td><td>21000000</td></tr>\n",
       "\t<tr><td>31      </td><td>83      </td><td>83      </td><td>82      </td><td>82      </td><td>81      </td><td>81      </td><td>87      </td><td>66      </td><td>78      </td><td>82      </td><td>80      </td><td>77      </td><td>66      </td><td>3       </td><td>17500000</td></tr>\n",
       "\t<tr><td>34      </td><td>83      </td><td>83      </td><td>81      </td><td>82      </td><td>80      </td><td>71      </td><td>87      </td><td>72      </td><td>77      </td><td>80      </td><td>74      </td><td>64      </td><td>55      </td><td>3       </td><td> 8000000</td></tr>\n",
       "\t<tr><td>33      </td><td>82      </td><td>82      </td><td>80      </td><td>80      </td><td>83      </td><td>78      </td><td>80      </td><td>86      </td><td>79      </td><td>82      </td><td>88      </td><td>75      </td><td>82      </td><td>2       </td><td> 9000000</td></tr>\n",
       "\t<tr><td>21      </td><td>81      </td><td>89      </td><td>87      </td><td>73      </td><td>82      </td><td>85      </td><td>78      </td><td>55      </td><td>88      </td><td>83      </td><td>74      </td><td>86      </td><td>63      </td><td>1       </td><td>26000000</td></tr>\n",
       "\t<tr><td>26      </td><td>81      </td><td>82      </td><td>86      </td><td>73      </td><td>84      </td><td>83      </td><td>74      </td><td>76      </td><td>84      </td><td>75      </td><td>75      </td><td>78      </td><td>73      </td><td>2       </td><td>20500000</td></tr>\n",
       "\t<tr><td>25      </td><td>81      </td><td>84      </td><td>83      </td><td>77      </td><td>83      </td><td>80      </td><td>81      </td><td>81      </td><td>83      </td><td>77      </td><td>84      </td><td>81      </td><td>69      </td><td>2       </td><td>18500000</td></tr>\n",
       "\t<tr><td>25      </td><td>81      </td><td>85      </td><td>82      </td><td>83      </td><td>74      </td><td>76      </td><td>82      </td><td>75      </td><td>80      </td><td>74      </td><td>93      </td><td>78      </td><td>73      </td><td>2       </td><td>19500000</td></tr>\n",
       "\t<tr><td>25      </td><td>81      </td><td>84      </td><td>85      </td><td>72      </td><td>85      </td><td>81      </td><td>71      </td><td>80      </td><td>80      </td><td>77      </td><td>80      </td><td>70      </td><td>77      </td><td>3       </td><td>22000000</td></tr>\n",
       "\t<tr><td>29      </td><td>81      </td><td>81      </td><td>84      </td><td>71      </td><td>83      </td><td>81      </td><td>74      </td><td>75      </td><td>82      </td><td>76      </td><td>87      </td><td>75      </td><td>75      </td><td>2       </td><td>17000000</td></tr>\n",
       "\t<tr><td>21      </td><td>80      </td><td>85      </td><td>74      </td><td>84      </td><td>70      </td><td>67      </td><td>84      </td><td>74      </td><td>75      </td><td>79      </td><td>92      </td><td>74      </td><td>67      </td><td>1       </td><td>17000000</td></tr>\n",
       "\t<tr><td>24      </td><td>80      </td><td>85      </td><td>82      </td><td>75      </td><td>81      </td><td>81      </td><td>74      </td><td>71      </td><td>78      </td><td>77      </td><td>76      </td><td>80      </td><td>74      </td><td>3       </td><td>19500000</td></tr>\n",
       "\t<tr><td>23      </td><td>80      </td><td>85      </td><td>80      </td><td>73      </td><td>84      </td><td>82      </td><td>77      </td><td>73      </td><td>79      </td><td>80      </td><td>79      </td><td>77      </td><td>77      </td><td>2       </td><td>19500000</td></tr>\n",
       "\t<tr><td>28      </td><td>80      </td><td>80      </td><td>81      </td><td>79      </td><td>77      </td><td>69      </td><td>82      </td><td>70      </td><td>78      </td><td>78      </td><td>82      </td><td>64      </td><td>54      </td><td>1       </td><td>12000000</td></tr>\n",
       "\t<tr><td>32      </td><td>80      </td><td>80      </td><td>81      </td><td>76      </td><td>80      </td><td>81      </td><td>77      </td><td>73      </td><td>81      </td><td>80      </td><td>75      </td><td>78      </td><td>78      </td><td>2       </td><td>11000000</td></tr>\n",
       "</tbody>\n",
       "</table>\n"
      ],
      "text/latex": [
       "\\begin{tabular}{r|llllllllllllllll}\n",
       " Age & Overall & Potential & ShortPassing & StandingTackle & LongPassing & Vision & Interceptions & LongShots & BallControl & Reactions & Stamina & Dribbling & Positioning & International.Reputation & Value\\\\\n",
       "\\hline\n",
       "\t 27       & 89       & 90       & 86       & 91       & 81       & 79       & 92       & 69       & 80       & 93       & 96       & 79       & 71       & 3        & 63000000\\\\\n",
       "\t 25       & 87       & 91       & 86       & 70       & 90       & 87       & 66       & 81       & 90       & 81       & 88       & 87       & 81       & 4        & 64000000\\\\\n",
       "\t 29       & 85       & 85       & 84       & 81       & 80       & 78       & 81       & 80       & 84       & 84       & 92       & 82       & 84       & 3        & 37000000\\\\\n",
       "\t 24       & 84       & 89       & 81       & 87       & 78       & 51       & 84       & 35       & 76       & 81       & 75       & 59       & 46       & 3        & 35500000\\\\\n",
       "\t 28       & 84       & 84       & 86       & 83       & 82       & 86       & 87       & 76       & 83       & 84       & 77       & 78       & 79       & 2        & 31000000\\\\\n",
       "\t 28       & 83       & 83       & 80       & 89       & 72       & 67       & 87       & 66       & 79       & 81       & 89       & 75       & 67       & 2        & 21000000\\\\\n",
       "\t 31       & 83       & 83       & 82       & 82       & 81       & 81       & 87       & 66       & 78       & 82       & 80       & 77       & 66       & 3        & 17500000\\\\\n",
       "\t 34       & 83       & 83       & 81       & 82       & 80       & 71       & 87       & 72       & 77       & 80       & 74       & 64       & 55       & 3        &  8000000\\\\\n",
       "\t 33       & 82       & 82       & 80       & 80       & 83       & 78       & 80       & 86       & 79       & 82       & 88       & 75       & 82       & 2        &  9000000\\\\\n",
       "\t 21       & 81       & 89       & 87       & 73       & 82       & 85       & 78       & 55       & 88       & 83       & 74       & 86       & 63       & 1        & 26000000\\\\\n",
       "\t 26       & 81       & 82       & 86       & 73       & 84       & 83       & 74       & 76       & 84       & 75       & 75       & 78       & 73       & 2        & 20500000\\\\\n",
       "\t 25       & 81       & 84       & 83       & 77       & 83       & 80       & 81       & 81       & 83       & 77       & 84       & 81       & 69       & 2        & 18500000\\\\\n",
       "\t 25       & 81       & 85       & 82       & 83       & 74       & 76       & 82       & 75       & 80       & 74       & 93       & 78       & 73       & 2        & 19500000\\\\\n",
       "\t 25       & 81       & 84       & 85       & 72       & 85       & 81       & 71       & 80       & 80       & 77       & 80       & 70       & 77       & 3        & 22000000\\\\\n",
       "\t 29       & 81       & 81       & 84       & 71       & 83       & 81       & 74       & 75       & 82       & 76       & 87       & 75       & 75       & 2        & 17000000\\\\\n",
       "\t 21       & 80       & 85       & 74       & 84       & 70       & 67       & 84       & 74       & 75       & 79       & 92       & 74       & 67       & 1        & 17000000\\\\\n",
       "\t 24       & 80       & 85       & 82       & 75       & 81       & 81       & 74       & 71       & 78       & 77       & 76       & 80       & 74       & 3        & 19500000\\\\\n",
       "\t 23       & 80       & 85       & 80       & 73       & 84       & 82       & 77       & 73       & 79       & 80       & 79       & 77       & 77       & 2        & 19500000\\\\\n",
       "\t 28       & 80       & 80       & 81       & 79       & 77       & 69       & 82       & 70       & 78       & 78       & 82       & 64       & 54       & 1        & 12000000\\\\\n",
       "\t 32       & 80       & 80       & 81       & 76       & 80       & 81       & 77       & 73       & 81       & 80       & 75       & 78       & 78       & 2        & 11000000\\\\\n",
       "\\end{tabular}\n"
      ],
      "text/markdown": [
       "\n",
       "| Age | Overall | Potential | ShortPassing | StandingTackle | LongPassing | Vision | Interceptions | LongShots | BallControl | Reactions | Stamina | Dribbling | Positioning | International.Reputation | Value |\n",
       "|---|---|---|---|---|---|---|---|---|---|---|---|---|---|---|---|\n",
       "| 27       | 89       | 90       | 86       | 91       | 81       | 79       | 92       | 69       | 80       | 93       | 96       | 79       | 71       | 3        | 63000000 |\n",
       "| 25       | 87       | 91       | 86       | 70       | 90       | 87       | 66       | 81       | 90       | 81       | 88       | 87       | 81       | 4        | 64000000 |\n",
       "| 29       | 85       | 85       | 84       | 81       | 80       | 78       | 81       | 80       | 84       | 84       | 92       | 82       | 84       | 3        | 37000000 |\n",
       "| 24       | 84       | 89       | 81       | 87       | 78       | 51       | 84       | 35       | 76       | 81       | 75       | 59       | 46       | 3        | 35500000 |\n",
       "| 28       | 84       | 84       | 86       | 83       | 82       | 86       | 87       | 76       | 83       | 84       | 77       | 78       | 79       | 2        | 31000000 |\n",
       "| 28       | 83       | 83       | 80       | 89       | 72       | 67       | 87       | 66       | 79       | 81       | 89       | 75       | 67       | 2        | 21000000 |\n",
       "| 31       | 83       | 83       | 82       | 82       | 81       | 81       | 87       | 66       | 78       | 82       | 80       | 77       | 66       | 3        | 17500000 |\n",
       "| 34       | 83       | 83       | 81       | 82       | 80       | 71       | 87       | 72       | 77       | 80       | 74       | 64       | 55       | 3        |  8000000 |\n",
       "| 33       | 82       | 82       | 80       | 80       | 83       | 78       | 80       | 86       | 79       | 82       | 88       | 75       | 82       | 2        |  9000000 |\n",
       "| 21       | 81       | 89       | 87       | 73       | 82       | 85       | 78       | 55       | 88       | 83       | 74       | 86       | 63       | 1        | 26000000 |\n",
       "| 26       | 81       | 82       | 86       | 73       | 84       | 83       | 74       | 76       | 84       | 75       | 75       | 78       | 73       | 2        | 20500000 |\n",
       "| 25       | 81       | 84       | 83       | 77       | 83       | 80       | 81       | 81       | 83       | 77       | 84       | 81       | 69       | 2        | 18500000 |\n",
       "| 25       | 81       | 85       | 82       | 83       | 74       | 76       | 82       | 75       | 80       | 74       | 93       | 78       | 73       | 2        | 19500000 |\n",
       "| 25       | 81       | 84       | 85       | 72       | 85       | 81       | 71       | 80       | 80       | 77       | 80       | 70       | 77       | 3        | 22000000 |\n",
       "| 29       | 81       | 81       | 84       | 71       | 83       | 81       | 74       | 75       | 82       | 76       | 87       | 75       | 75       | 2        | 17000000 |\n",
       "| 21       | 80       | 85       | 74       | 84       | 70       | 67       | 84       | 74       | 75       | 79       | 92       | 74       | 67       | 1        | 17000000 |\n",
       "| 24       | 80       | 85       | 82       | 75       | 81       | 81       | 74       | 71       | 78       | 77       | 76       | 80       | 74       | 3        | 19500000 |\n",
       "| 23       | 80       | 85       | 80       | 73       | 84       | 82       | 77       | 73       | 79       | 80       | 79       | 77       | 77       | 2        | 19500000 |\n",
       "| 28       | 80       | 80       | 81       | 79       | 77       | 69       | 82       | 70       | 78       | 78       | 82       | 64       | 54       | 1        | 12000000 |\n",
       "| 32       | 80       | 80       | 81       | 76       | 80       | 81       | 77       | 73       | 81       | 80       | 75       | 78       | 78       | 2        | 11000000 |\n",
       "\n"
      ],
      "text/plain": [
       "   Age Overall Potential ShortPassing StandingTackle LongPassing Vision\n",
       "1  27  89      90        86           91             81          79    \n",
       "2  25  87      91        86           70             90          87    \n",
       "3  29  85      85        84           81             80          78    \n",
       "4  24  84      89        81           87             78          51    \n",
       "5  28  84      84        86           83             82          86    \n",
       "6  28  83      83        80           89             72          67    \n",
       "7  31  83      83        82           82             81          81    \n",
       "8  34  83      83        81           82             80          71    \n",
       "9  33  82      82        80           80             83          78    \n",
       "10 21  81      89        87           73             82          85    \n",
       "11 26  81      82        86           73             84          83    \n",
       "12 25  81      84        83           77             83          80    \n",
       "13 25  81      85        82           83             74          76    \n",
       "14 25  81      84        85           72             85          81    \n",
       "15 29  81      81        84           71             83          81    \n",
       "16 21  80      85        74           84             70          67    \n",
       "17 24  80      85        82           75             81          81    \n",
       "18 23  80      85        80           73             84          82    \n",
       "19 28  80      80        81           79             77          69    \n",
       "20 32  80      80        81           76             80          81    \n",
       "   Interceptions LongShots BallControl Reactions Stamina Dribbling Positioning\n",
       "1  92            69        80          93        96      79        71         \n",
       "2  66            81        90          81        88      87        81         \n",
       "3  81            80        84          84        92      82        84         \n",
       "4  84            35        76          81        75      59        46         \n",
       "5  87            76        83          84        77      78        79         \n",
       "6  87            66        79          81        89      75        67         \n",
       "7  87            66        78          82        80      77        66         \n",
       "8  87            72        77          80        74      64        55         \n",
       "9  80            86        79          82        88      75        82         \n",
       "10 78            55        88          83        74      86        63         \n",
       "11 74            76        84          75        75      78        73         \n",
       "12 81            81        83          77        84      81        69         \n",
       "13 82            75        80          74        93      78        73         \n",
       "14 71            80        80          77        80      70        77         \n",
       "15 74            75        82          76        87      75        75         \n",
       "16 84            74        75          79        92      74        67         \n",
       "17 74            71        78          77        76      80        74         \n",
       "18 77            73        79          80        79      77        77         \n",
       "19 82            70        78          78        82      64        54         \n",
       "20 77            73        81          80        75      78        78         \n",
       "   International.Reputation Value   \n",
       "1  3                        63000000\n",
       "2  4                        64000000\n",
       "3  3                        37000000\n",
       "4  3                        35500000\n",
       "5  2                        31000000\n",
       "6  2                        21000000\n",
       "7  3                        17500000\n",
       "8  3                         8000000\n",
       "9  2                         9000000\n",
       "10 1                        26000000\n",
       "11 2                        20500000\n",
       "12 2                        18500000\n",
       "13 2                        19500000\n",
       "14 3                        22000000\n",
       "15 2                        17000000\n",
       "16 1                        17000000\n",
       "17 3                        19500000\n",
       "18 2                        19500000\n",
       "19 1                        12000000\n",
       "20 2                        11000000"
      ]
     },
     "metadata": {},
     "output_type": "display_data"
    },
    {
     "data": {
      "text/html": [
       "<dl class=dl-horizontal>\n",
       "\t<dt>Age</dt>\n",
       "\t\t<dd>0</dd>\n",
       "\t<dt>Overall</dt>\n",
       "\t\t<dd>0</dd>\n",
       "\t<dt>Potential</dt>\n",
       "\t\t<dd>0</dd>\n",
       "\t<dt>ShortPassing</dt>\n",
       "\t\t<dd>0</dd>\n",
       "\t<dt>StandingTackle</dt>\n",
       "\t\t<dd>0</dd>\n",
       "\t<dt>LongPassing</dt>\n",
       "\t\t<dd>0</dd>\n",
       "\t<dt>Vision</dt>\n",
       "\t\t<dd>0</dd>\n",
       "\t<dt>Interceptions</dt>\n",
       "\t\t<dd>0</dd>\n",
       "\t<dt>LongShots</dt>\n",
       "\t\t<dd>0</dd>\n",
       "\t<dt>BallControl</dt>\n",
       "\t\t<dd>0</dd>\n",
       "\t<dt>Reactions</dt>\n",
       "\t\t<dd>0</dd>\n",
       "\t<dt>Stamina</dt>\n",
       "\t\t<dd>0</dd>\n",
       "\t<dt>Dribbling</dt>\n",
       "\t\t<dd>0</dd>\n",
       "\t<dt>Positioning</dt>\n",
       "\t\t<dd>0</dd>\n",
       "\t<dt>International.Reputation</dt>\n",
       "\t\t<dd>0</dd>\n",
       "\t<dt>Value</dt>\n",
       "\t\t<dd>0</dd>\n",
       "</dl>\n"
      ],
      "text/latex": [
       "\\begin{description*}\n",
       "\\item[Age] 0\n",
       "\\item[Overall] 0\n",
       "\\item[Potential] 0\n",
       "\\item[ShortPassing] 0\n",
       "\\item[StandingTackle] 0\n",
       "\\item[LongPassing] 0\n",
       "\\item[Vision] 0\n",
       "\\item[Interceptions] 0\n",
       "\\item[LongShots] 0\n",
       "\\item[BallControl] 0\n",
       "\\item[Reactions] 0\n",
       "\\item[Stamina] 0\n",
       "\\item[Dribbling] 0\n",
       "\\item[Positioning] 0\n",
       "\\item[International.Reputation] 0\n",
       "\\item[Value] 0\n",
       "\\end{description*}\n"
      ],
      "text/markdown": [
       "Age\n",
       ":   0Overall\n",
       ":   0Potential\n",
       ":   0ShortPassing\n",
       ":   0StandingTackle\n",
       ":   0LongPassing\n",
       ":   0Vision\n",
       ":   0Interceptions\n",
       ":   0LongShots\n",
       ":   0BallControl\n",
       ":   0Reactions\n",
       ":   0Stamina\n",
       ":   0Dribbling\n",
       ":   0Positioning\n",
       ":   0International.Reputation\n",
       ":   0Value\n",
       ":   0\n",
       "\n"
      ],
      "text/plain": [
       "                     Age                  Overall                Potential \n",
       "                       0                        0                        0 \n",
       "            ShortPassing           StandingTackle              LongPassing \n",
       "                       0                        0                        0 \n",
       "                  Vision            Interceptions                LongShots \n",
       "                       0                        0                        0 \n",
       "             BallControl                Reactions                  Stamina \n",
       "                       0                        0                        0 \n",
       "               Dribbling              Positioning International.Reputation \n",
       "                       0                        0                        0 \n",
       "                   Value \n",
       "                       0 "
      ]
     },
     "metadata": {},
     "output_type": "display_data"
    }
   ],
   "source": [
    "#Dataset para Left/Right Central Midfielders\n",
    "fifaLRDM <- fifaClean %>% filter(Position == \"LRDM\")%>% \n",
    "                   select(Age, Overall, Potential, ShortPassing, StandingTackle, LongPassing, Vision, \n",
    "                          Interceptions, LongShots, BallControl, Reactions, Stamina, Dribbling, Positioning, \n",
    "                          International.Reputation, Value)  \n",
    "head(fifaLRDM, 20)\n",
    "colSums(is.na(fifaLRDM))"
   ]
  },
  {
   "cell_type": "markdown",
   "metadata": {},
   "source": [
    "<a id='CentralAttackingMidfielders'></a>\n",
    "## Dataset para Central Attacking Midfielders"
   ]
  },
  {
   "cell_type": "code",
   "execution_count": 151,
   "metadata": {},
   "outputs": [
    {
     "data": {
      "text/html": [
       "<table>\n",
       "<thead><tr><th scope=col>Age</th><th scope=col>Overall</th><th scope=col>Potential</th><th scope=col>ShortPassing</th><th scope=col>Agility</th><th scope=col>Acceleration</th><th scope=col>Vision</th><th scope=col>Finishing</th><th scope=col>LongShots</th><th scope=col>BallControl</th><th scope=col>Reactions</th><th scope=col>ShotPower</th><th scope=col>Dribbling</th><th scope=col>Positioning</th><th scope=col>International.Reputation</th><th scope=col>Value</th></tr></thead>\n",
       "<tbody>\n",
       "\t<tr><td>27      </td><td>89      </td><td>90      </td><td>83      </td><td>90      </td><td>88      </td><td>83      </td><td>90      </td><td>82      </td><td>90      </td><td>90      </td><td>80      </td><td>88      </td><td>91      </td><td>4       </td><td>78000000</td></tr>\n",
       "\t<tr><td>26      </td><td>88      </td><td>91      </td><td>91      </td><td>79      </td><td>75      </td><td>91      </td><td>80      </td><td>89      </td><td>91      </td><td>88      </td><td>84      </td><td>84      </td><td>83      </td><td>3       </td><td>73500000</td></tr>\n",
       "\t<tr><td>26      </td><td>86      </td><td>87      </td><td>86      </td><td>80      </td><td>78      </td><td>85      </td><td>87      </td><td>76      </td><td>88      </td><td>86      </td><td>81      </td><td>87      </td><td>87      </td><td>3       </td><td>53000000</td></tr>\n",
       "\t<tr><td>28      </td><td>86      </td><td>86      </td><td>83      </td><td>75      </td><td>73      </td><td>85      </td><td>87      </td><td>80      </td><td>82      </td><td>91      </td><td>78      </td><td>75      </td><td>92      </td><td>4       </td><td>45000000</td></tr>\n",
       "\t<tr><td>29      </td><td>86      </td><td>86      </td><td>89      </td><td>79      </td><td>72      </td><td>91      </td><td>73      </td><td>75      </td><td>90      </td><td>84      </td><td>70      </td><td>84      </td><td>83      </td><td>4       </td><td>43500000</td></tr>\n",
       "\t<tr><td>24      </td><td>85      </td><td>89      </td><td>83      </td><td>90      </td><td>79      </td><td>81      </td><td>82      </td><td>82      </td><td>89      </td><td>80      </td><td>84      </td><td>90      </td><td>81      </td><td>3       </td><td>50000000</td></tr>\n",
       "\t<tr><td>31      </td><td>85      </td><td>85      </td><td>83      </td><td>74      </td><td>60      </td><td>80      </td><td>75      </td><td>85      </td><td>82      </td><td>84      </td><td>86      </td><td>76      </td><td>80      </td><td>4       </td><td>26000000</td></tr>\n",
       "\t<tr><td>30      </td><td>85      </td><td>85      </td><td>84      </td><td>76      </td><td>78      </td><td>76      </td><td>75      </td><td>86      </td><td>85      </td><td>87      </td><td>84      </td><td>80      </td><td>86      </td><td>3       </td><td>35500000</td></tr>\n",
       "\t<tr><td>31      </td><td>84      </td><td>84      </td><td>84      </td><td>79      </td><td>75      </td><td>87      </td><td>78      </td><td>82      </td><td>90      </td><td>75      </td><td>80      </td><td>86      </td><td>79      </td><td>3       </td><td>27500000</td></tr>\n",
       "\t<tr><td>24      </td><td>83      </td><td>90      </td><td>81      </td><td>76      </td><td>77      </td><td>81      </td><td>80      </td><td>88      </td><td>84      </td><td>79      </td><td>84      </td><td>82      </td><td>86      </td><td>2       </td><td>36500000</td></tr>\n",
       "\t<tr><td>28      </td><td>83      </td><td>83      </td><td>82      </td><td>85      </td><td>85      </td><td>80      </td><td>79      </td><td>76      </td><td>84      </td><td>81      </td><td>78      </td><td>84      </td><td>81      </td><td>2       </td><td>26000000</td></tr>\n",
       "\t<tr><td>25      </td><td>82      </td><td>83      </td><td>78      </td><td>86      </td><td>84      </td><td>82      </td><td>78      </td><td>80      </td><td>83      </td><td>83      </td><td>80      </td><td>83      </td><td>86      </td><td>2       </td><td>26500000</td></tr>\n",
       "\t<tr><td>25      </td><td>82      </td><td>87      </td><td>86      </td><td>80      </td><td>71      </td><td>81      </td><td>73      </td><td>82      </td><td>84      </td><td>79      </td><td>79      </td><td>87      </td><td>77      </td><td>2       </td><td>29500000</td></tr>\n",
       "\t<tr><td>29      </td><td>82      </td><td>82      </td><td>86      </td><td>79      </td><td>69      </td><td>87      </td><td>73      </td><td>76      </td><td>86      </td><td>78      </td><td>78      </td><td>87      </td><td>78      </td><td>3       </td><td>21500000</td></tr>\n",
       "\t<tr><td>27      </td><td>82      </td><td>83      </td><td>84      </td><td>73      </td><td>64      </td><td>79      </td><td>74      </td><td>74      </td><td>82      </td><td>81      </td><td>81      </td><td>81      </td><td>84      </td><td>3       </td><td>25000000</td></tr>\n",
       "\t<tr><td>28      </td><td>82      </td><td>82      </td><td>84      </td><td>68      </td><td>58      </td><td>86      </td><td>77      </td><td>86      </td><td>85      </td><td>78      </td><td>83      </td><td>80      </td><td>79      </td><td>3       </td><td>22500000</td></tr>\n",
       "\t<tr><td>30      </td><td>82      </td><td>82      </td><td>81      </td><td>87      </td><td>84      </td><td>82      </td><td>71      </td><td>73      </td><td>83      </td><td>82      </td><td>72      </td><td>84      </td><td>77      </td><td>3       </td><td>21000000</td></tr>\n",
       "\t<tr><td>27      </td><td>82      </td><td>82      </td><td>84      </td><td>80      </td><td>77      </td><td>78      </td><td>70      </td><td>71      </td><td>84      </td><td>82      </td><td>76      </td><td>84      </td><td>79      </td><td>3       </td><td>23000000</td></tr>\n",
       "\t<tr><td>30      </td><td>81      </td><td>81      </td><td>79      </td><td>89      </td><td>86      </td><td>80      </td><td>72      </td><td>75      </td><td>82      </td><td>80      </td><td>67      </td><td>82      </td><td>82      </td><td>1       </td><td>17000000</td></tr>\n",
       "\t<tr><td>22      </td><td>81      </td><td>86      </td><td>84      </td><td>79      </td><td>71      </td><td>86      </td><td>77      </td><td>80      </td><td>81      </td><td>76      </td><td>75      </td><td>81      </td><td>77      </td><td>1       </td><td>24000000</td></tr>\n",
       "</tbody>\n",
       "</table>\n"
      ],
      "text/latex": [
       "\\begin{tabular}{r|llllllllllllllll}\n",
       " Age & Overall & Potential & ShortPassing & Agility & Acceleration & Vision & Finishing & LongShots & BallControl & Reactions & ShotPower & Dribbling & Positioning & International.Reputation & Value\\\\\n",
       "\\hline\n",
       "\t 27       & 89       & 90       & 83       & 90       & 88       & 83       & 90       & 82       & 90       & 90       & 80       & 88       & 91       & 4        & 78000000\\\\\n",
       "\t 26       & 88       & 91       & 91       & 79       & 75       & 91       & 80       & 89       & 91       & 88       & 84       & 84       & 83       & 3        & 73500000\\\\\n",
       "\t 26       & 86       & 87       & 86       & 80       & 78       & 85       & 87       & 76       & 88       & 86       & 81       & 87       & 87       & 3        & 53000000\\\\\n",
       "\t 28       & 86       & 86       & 83       & 75       & 73       & 85       & 87       & 80       & 82       & 91       & 78       & 75       & 92       & 4        & 45000000\\\\\n",
       "\t 29       & 86       & 86       & 89       & 79       & 72       & 91       & 73       & 75       & 90       & 84       & 70       & 84       & 83       & 4        & 43500000\\\\\n",
       "\t 24       & 85       & 89       & 83       & 90       & 79       & 81       & 82       & 82       & 89       & 80       & 84       & 90       & 81       & 3        & 50000000\\\\\n",
       "\t 31       & 85       & 85       & 83       & 74       & 60       & 80       & 75       & 85       & 82       & 84       & 86       & 76       & 80       & 4        & 26000000\\\\\n",
       "\t 30       & 85       & 85       & 84       & 76       & 78       & 76       & 75       & 86       & 85       & 87       & 84       & 80       & 86       & 3        & 35500000\\\\\n",
       "\t 31       & 84       & 84       & 84       & 79       & 75       & 87       & 78       & 82       & 90       & 75       & 80       & 86       & 79       & 3        & 27500000\\\\\n",
       "\t 24       & 83       & 90       & 81       & 76       & 77       & 81       & 80       & 88       & 84       & 79       & 84       & 82       & 86       & 2        & 36500000\\\\\n",
       "\t 28       & 83       & 83       & 82       & 85       & 85       & 80       & 79       & 76       & 84       & 81       & 78       & 84       & 81       & 2        & 26000000\\\\\n",
       "\t 25       & 82       & 83       & 78       & 86       & 84       & 82       & 78       & 80       & 83       & 83       & 80       & 83       & 86       & 2        & 26500000\\\\\n",
       "\t 25       & 82       & 87       & 86       & 80       & 71       & 81       & 73       & 82       & 84       & 79       & 79       & 87       & 77       & 2        & 29500000\\\\\n",
       "\t 29       & 82       & 82       & 86       & 79       & 69       & 87       & 73       & 76       & 86       & 78       & 78       & 87       & 78       & 3        & 21500000\\\\\n",
       "\t 27       & 82       & 83       & 84       & 73       & 64       & 79       & 74       & 74       & 82       & 81       & 81       & 81       & 84       & 3        & 25000000\\\\\n",
       "\t 28       & 82       & 82       & 84       & 68       & 58       & 86       & 77       & 86       & 85       & 78       & 83       & 80       & 79       & 3        & 22500000\\\\\n",
       "\t 30       & 82       & 82       & 81       & 87       & 84       & 82       & 71       & 73       & 83       & 82       & 72       & 84       & 77       & 3        & 21000000\\\\\n",
       "\t 27       & 82       & 82       & 84       & 80       & 77       & 78       & 70       & 71       & 84       & 82       & 76       & 84       & 79       & 3        & 23000000\\\\\n",
       "\t 30       & 81       & 81       & 79       & 89       & 86       & 80       & 72       & 75       & 82       & 80       & 67       & 82       & 82       & 1        & 17000000\\\\\n",
       "\t 22       & 81       & 86       & 84       & 79       & 71       & 86       & 77       & 80       & 81       & 76       & 75       & 81       & 77       & 1        & 24000000\\\\\n",
       "\\end{tabular}\n"
      ],
      "text/markdown": [
       "\n",
       "| Age | Overall | Potential | ShortPassing | Agility | Acceleration | Vision | Finishing | LongShots | BallControl | Reactions | ShotPower | Dribbling | Positioning | International.Reputation | Value |\n",
       "|---|---|---|---|---|---|---|---|---|---|---|---|---|---|---|---|\n",
       "| 27       | 89       | 90       | 83       | 90       | 88       | 83       | 90       | 82       | 90       | 90       | 80       | 88       | 91       | 4        | 78000000 |\n",
       "| 26       | 88       | 91       | 91       | 79       | 75       | 91       | 80       | 89       | 91       | 88       | 84       | 84       | 83       | 3        | 73500000 |\n",
       "| 26       | 86       | 87       | 86       | 80       | 78       | 85       | 87       | 76       | 88       | 86       | 81       | 87       | 87       | 3        | 53000000 |\n",
       "| 28       | 86       | 86       | 83       | 75       | 73       | 85       | 87       | 80       | 82       | 91       | 78       | 75       | 92       | 4        | 45000000 |\n",
       "| 29       | 86       | 86       | 89       | 79       | 72       | 91       | 73       | 75       | 90       | 84       | 70       | 84       | 83       | 4        | 43500000 |\n",
       "| 24       | 85       | 89       | 83       | 90       | 79       | 81       | 82       | 82       | 89       | 80       | 84       | 90       | 81       | 3        | 50000000 |\n",
       "| 31       | 85       | 85       | 83       | 74       | 60       | 80       | 75       | 85       | 82       | 84       | 86       | 76       | 80       | 4        | 26000000 |\n",
       "| 30       | 85       | 85       | 84       | 76       | 78       | 76       | 75       | 86       | 85       | 87       | 84       | 80       | 86       | 3        | 35500000 |\n",
       "| 31       | 84       | 84       | 84       | 79       | 75       | 87       | 78       | 82       | 90       | 75       | 80       | 86       | 79       | 3        | 27500000 |\n",
       "| 24       | 83       | 90       | 81       | 76       | 77       | 81       | 80       | 88       | 84       | 79       | 84       | 82       | 86       | 2        | 36500000 |\n",
       "| 28       | 83       | 83       | 82       | 85       | 85       | 80       | 79       | 76       | 84       | 81       | 78       | 84       | 81       | 2        | 26000000 |\n",
       "| 25       | 82       | 83       | 78       | 86       | 84       | 82       | 78       | 80       | 83       | 83       | 80       | 83       | 86       | 2        | 26500000 |\n",
       "| 25       | 82       | 87       | 86       | 80       | 71       | 81       | 73       | 82       | 84       | 79       | 79       | 87       | 77       | 2        | 29500000 |\n",
       "| 29       | 82       | 82       | 86       | 79       | 69       | 87       | 73       | 76       | 86       | 78       | 78       | 87       | 78       | 3        | 21500000 |\n",
       "| 27       | 82       | 83       | 84       | 73       | 64       | 79       | 74       | 74       | 82       | 81       | 81       | 81       | 84       | 3        | 25000000 |\n",
       "| 28       | 82       | 82       | 84       | 68       | 58       | 86       | 77       | 86       | 85       | 78       | 83       | 80       | 79       | 3        | 22500000 |\n",
       "| 30       | 82       | 82       | 81       | 87       | 84       | 82       | 71       | 73       | 83       | 82       | 72       | 84       | 77       | 3        | 21000000 |\n",
       "| 27       | 82       | 82       | 84       | 80       | 77       | 78       | 70       | 71       | 84       | 82       | 76       | 84       | 79       | 3        | 23000000 |\n",
       "| 30       | 81       | 81       | 79       | 89       | 86       | 80       | 72       | 75       | 82       | 80       | 67       | 82       | 82       | 1        | 17000000 |\n",
       "| 22       | 81       | 86       | 84       | 79       | 71       | 86       | 77       | 80       | 81       | 76       | 75       | 81       | 77       | 1        | 24000000 |\n",
       "\n"
      ],
      "text/plain": [
       "   Age Overall Potential ShortPassing Agility Acceleration Vision Finishing\n",
       "1  27  89      90        83           90      88           83     90       \n",
       "2  26  88      91        91           79      75           91     80       \n",
       "3  26  86      87        86           80      78           85     87       \n",
       "4  28  86      86        83           75      73           85     87       \n",
       "5  29  86      86        89           79      72           91     73       \n",
       "6  24  85      89        83           90      79           81     82       \n",
       "7  31  85      85        83           74      60           80     75       \n",
       "8  30  85      85        84           76      78           76     75       \n",
       "9  31  84      84        84           79      75           87     78       \n",
       "10 24  83      90        81           76      77           81     80       \n",
       "11 28  83      83        82           85      85           80     79       \n",
       "12 25  82      83        78           86      84           82     78       \n",
       "13 25  82      87        86           80      71           81     73       \n",
       "14 29  82      82        86           79      69           87     73       \n",
       "15 27  82      83        84           73      64           79     74       \n",
       "16 28  82      82        84           68      58           86     77       \n",
       "17 30  82      82        81           87      84           82     71       \n",
       "18 27  82      82        84           80      77           78     70       \n",
       "19 30  81      81        79           89      86           80     72       \n",
       "20 22  81      86        84           79      71           86     77       \n",
       "   LongShots BallControl Reactions ShotPower Dribbling Positioning\n",
       "1  82        90          90        80        88        91         \n",
       "2  89        91          88        84        84        83         \n",
       "3  76        88          86        81        87        87         \n",
       "4  80        82          91        78        75        92         \n",
       "5  75        90          84        70        84        83         \n",
       "6  82        89          80        84        90        81         \n",
       "7  85        82          84        86        76        80         \n",
       "8  86        85          87        84        80        86         \n",
       "9  82        90          75        80        86        79         \n",
       "10 88        84          79        84        82        86         \n",
       "11 76        84          81        78        84        81         \n",
       "12 80        83          83        80        83        86         \n",
       "13 82        84          79        79        87        77         \n",
       "14 76        86          78        78        87        78         \n",
       "15 74        82          81        81        81        84         \n",
       "16 86        85          78        83        80        79         \n",
       "17 73        83          82        72        84        77         \n",
       "18 71        84          82        76        84        79         \n",
       "19 75        82          80        67        82        82         \n",
       "20 80        81          76        75        81        77         \n",
       "   International.Reputation Value   \n",
       "1  4                        78000000\n",
       "2  3                        73500000\n",
       "3  3                        53000000\n",
       "4  4                        45000000\n",
       "5  4                        43500000\n",
       "6  3                        50000000\n",
       "7  4                        26000000\n",
       "8  3                        35500000\n",
       "9  3                        27500000\n",
       "10 2                        36500000\n",
       "11 2                        26000000\n",
       "12 2                        26500000\n",
       "13 2                        29500000\n",
       "14 3                        21500000\n",
       "15 3                        25000000\n",
       "16 3                        22500000\n",
       "17 3                        21000000\n",
       "18 3                        23000000\n",
       "19 1                        17000000\n",
       "20 1                        24000000"
      ]
     },
     "metadata": {},
     "output_type": "display_data"
    },
    {
     "data": {
      "text/html": [
       "<dl class=dl-horizontal>\n",
       "\t<dt>Age</dt>\n",
       "\t\t<dd>0</dd>\n",
       "\t<dt>Overall</dt>\n",
       "\t\t<dd>0</dd>\n",
       "\t<dt>Potential</dt>\n",
       "\t\t<dd>0</dd>\n",
       "\t<dt>ShortPassing</dt>\n",
       "\t\t<dd>0</dd>\n",
       "\t<dt>Agility</dt>\n",
       "\t\t<dd>0</dd>\n",
       "\t<dt>Acceleration</dt>\n",
       "\t\t<dd>0</dd>\n",
       "\t<dt>Vision</dt>\n",
       "\t\t<dd>0</dd>\n",
       "\t<dt>Finishing</dt>\n",
       "\t\t<dd>0</dd>\n",
       "\t<dt>LongShots</dt>\n",
       "\t\t<dd>0</dd>\n",
       "\t<dt>BallControl</dt>\n",
       "\t\t<dd>0</dd>\n",
       "\t<dt>Reactions</dt>\n",
       "\t\t<dd>0</dd>\n",
       "\t<dt>ShotPower</dt>\n",
       "\t\t<dd>0</dd>\n",
       "\t<dt>Dribbling</dt>\n",
       "\t\t<dd>0</dd>\n",
       "\t<dt>Positioning</dt>\n",
       "\t\t<dd>0</dd>\n",
       "\t<dt>International.Reputation</dt>\n",
       "\t\t<dd>0</dd>\n",
       "\t<dt>Value</dt>\n",
       "\t\t<dd>0</dd>\n",
       "</dl>\n"
      ],
      "text/latex": [
       "\\begin{description*}\n",
       "\\item[Age] 0\n",
       "\\item[Overall] 0\n",
       "\\item[Potential] 0\n",
       "\\item[ShortPassing] 0\n",
       "\\item[Agility] 0\n",
       "\\item[Acceleration] 0\n",
       "\\item[Vision] 0\n",
       "\\item[Finishing] 0\n",
       "\\item[LongShots] 0\n",
       "\\item[BallControl] 0\n",
       "\\item[Reactions] 0\n",
       "\\item[ShotPower] 0\n",
       "\\item[Dribbling] 0\n",
       "\\item[Positioning] 0\n",
       "\\item[International.Reputation] 0\n",
       "\\item[Value] 0\n",
       "\\end{description*}\n"
      ],
      "text/markdown": [
       "Age\n",
       ":   0Overall\n",
       ":   0Potential\n",
       ":   0ShortPassing\n",
       ":   0Agility\n",
       ":   0Acceleration\n",
       ":   0Vision\n",
       ":   0Finishing\n",
       ":   0LongShots\n",
       ":   0BallControl\n",
       ":   0Reactions\n",
       ":   0ShotPower\n",
       ":   0Dribbling\n",
       ":   0Positioning\n",
       ":   0International.Reputation\n",
       ":   0Value\n",
       ":   0\n",
       "\n"
      ],
      "text/plain": [
       "                     Age                  Overall                Potential \n",
       "                       0                        0                        0 \n",
       "            ShortPassing                  Agility             Acceleration \n",
       "                       0                        0                        0 \n",
       "                  Vision                Finishing                LongShots \n",
       "                       0                        0                        0 \n",
       "             BallControl                Reactions                ShotPower \n",
       "                       0                        0                        0 \n",
       "               Dribbling              Positioning International.Reputation \n",
       "                       0                        0                        0 \n",
       "                   Value \n",
       "                       0 "
      ]
     },
     "metadata": {},
     "output_type": "display_data"
    }
   ],
   "source": [
    "#Dataset para Central Attacking Midfielders\n",
    "fifaCAM <- fifaClean %>% filter(Position == \"CAM\")%>% \n",
    "                   select(Age, Overall, Potential, ShortPassing, Agility, Acceleration, Vision, \n",
    "                          Finishing, LongShots, BallControl, Reactions, ShotPower, Dribbling, \n",
    "                          Positioning, International.Reputation, Value)  \n",
    "head(fifaCAM, 20)\n",
    "colSums(is.na(fifaCAM))"
   ]
  },
  {
   "cell_type": "markdown",
   "metadata": {},
   "source": [
    "<a id='Left/RightMidfielders'></a>\n",
    "## Dataset para Left/Right Midfielders"
   ]
  },
  {
   "cell_type": "code",
   "execution_count": 152,
   "metadata": {},
   "outputs": [
    {
     "data": {
      "text/html": [
       "<table>\n",
       "<thead><tr><th scope=col>Age</th><th scope=col>Overall</th><th scope=col>Potential</th><th scope=col>Crossing</th><th scope=col>ShortPassing</th><th scope=col>Agility</th><th scope=col>Acceleration</th><th scope=col>Vision</th><th scope=col>SprintSpeed</th><th scope=col>LongPassing</th><th scope=col>BallControl</th><th scope=col>Reactions</th><th scope=col>Dribbling</th><th scope=col>Stamina</th><th scope=col>Positioning</th><th scope=col>International.Reputation</th><th scope=col>Value</th></tr></thead>\n",
       "<tbody>\n",
       "\t<tr><td>19      </td><td>88      </td><td>95      </td><td>77      </td><td>82      </td><td>92      </td><td>96      </td><td>82      </td><td>96      </td><td>73      </td><td>91      </td><td>87      </td><td>90      </td><td>83      </td><td>88      </td><td>3       </td><td>81000000</td></tr>\n",
       "\t<tr><td>26      </td><td>88      </td><td>89      </td><td>78      </td><td>82      </td><td>91      </td><td>94      </td><td>82      </td><td>91      </td><td>72      </td><td>88      </td><td>91      </td><td>89      </td><td>84      </td><td>90      </td><td>3       </td><td>69500000</td></tr>\n",
       "\t<tr><td>29      </td><td>88      </td><td>88      </td><td>77      </td><td>77      </td><td>76      </td><td>93      </td><td>77      </td><td>95      </td><td>64      </td><td>82      </td><td>87      </td><td>79      </td><td>76      </td><td>90      </td><td>3       </td><td>59000000</td></tr>\n",
       "\t<tr><td>26      </td><td>86      </td><td>87      </td><td>73      </td><td>79      </td><td>91      </td><td>95      </td><td>82      </td><td>93      </td><td>71      </td><td>86      </td><td>86      </td><td>87      </td><td>84      </td><td>87      </td><td>3       </td><td>52000000</td></tr>\n",
       "\t<tr><td>27      </td><td>86      </td><td>86      </td><td>84      </td><td>84      </td><td>93      </td><td>97      </td><td>84      </td><td>93      </td><td>68      </td><td>91      </td><td>84      </td><td>92      </td><td>78      </td><td>76      </td><td>3       </td><td>46500000</td></tr>\n",
       "\t<tr><td>29      </td><td>86      </td><td>86      </td><td>79      </td><td>86      </td><td>86      </td><td>86      </td><td>86      </td><td>85      </td><td>75      </td><td>86      </td><td>87      </td><td>87      </td><td>73      </td><td>88      </td><td>4       </td><td>43500000</td></tr>\n",
       "\t<tr><td>26      </td><td>85      </td><td>86      </td><td>86      </td><td>90      </td><td>74      </td><td>71      </td><td>87      </td><td>68      </td><td>89      </td><td>86      </td><td>85      </td><td>82      </td><td>90      </td><td>84      </td><td>3       </td><td>45000000</td></tr>\n",
       "\t<tr><td>28      </td><td>85      </td><td>85      </td><td>79      </td><td>79      </td><td>92      </td><td>87      </td><td>79      </td><td>75      </td><td>72      </td><td>86      </td><td>84      </td><td>93      </td><td>85      </td><td>83      </td><td>3       </td><td>39000000</td></tr>\n",
       "\t<tr><td>29      </td><td>85      </td><td>85      </td><td>83      </td><td>81      </td><td>78      </td><td>84      </td><td>79      </td><td>88      </td><td>77      </td><td>85      </td><td>81      </td><td>84      </td><td>89      </td><td>85      </td><td>3       </td><td>37500000</td></tr>\n",
       "\t<tr><td>31      </td><td>85      </td><td>85      </td><td>75      </td><td>83      </td><td>83      </td><td>79      </td><td>76      </td><td>77      </td><td>77      </td><td>79      </td><td>84      </td><td>78      </td><td>94      </td><td>72      </td><td>3       </td><td>26000000</td></tr>\n",
       "\t<tr><td>25      </td><td>84      </td><td>87      </td><td>83      </td><td>83      </td><td>86      </td><td>87      </td><td>80      </td><td>80      </td><td>76      </td><td>86      </td><td>83      </td><td>85      </td><td>83      </td><td>83      </td><td>2       </td><td>39000000</td></tr>\n",
       "\t<tr><td>25      </td><td>84      </td><td>85      </td><td>78      </td><td>79      </td><td>82      </td><td>88      </td><td>80      </td><td>87      </td><td>64      </td><td>85      </td><td>84      </td><td>88      </td><td>85      </td><td>85      </td><td>3       </td><td>37000000</td></tr>\n",
       "\t<tr><td>31      </td><td>84      </td><td>84      </td><td>82      </td><td>80      </td><td>85      </td><td>88      </td><td>78      </td><td>89      </td><td>51      </td><td>85      </td><td>82      </td><td>82      </td><td>91      </td><td>88      </td><td>3       </td><td>27500000</td></tr>\n",
       "\t<tr><td>30      </td><td>84      </td><td>84      </td><td>83      </td><td>82      </td><td>92      </td><td>85      </td><td>82      </td><td>84      </td><td>79      </td><td>85      </td><td>80      </td><td>86      </td><td>73      </td><td>82      </td><td>4       </td><td>29500000</td></tr>\n",
       "\t<tr><td>34      </td><td>84      </td><td>84      </td><td>92      </td><td>79      </td><td>91      </td><td>84      </td><td>84      </td><td>82      </td><td>75      </td><td>88      </td><td>78      </td><td>89      </td><td>65      </td><td>78      </td><td>3       </td><td>15500000</td></tr>\n",
       "\t<tr><td>34      </td><td>84      </td><td>84      </td><td>80      </td><td>82      </td><td>87      </td><td>83      </td><td>80      </td><td>76      </td><td>71      </td><td>88      </td><td>85      </td><td>89      </td><td>64      </td><td>84      </td><td>4       </td><td>15500000</td></tr>\n",
       "\t<tr><td>22      </td><td>83      </td><td>89      </td><td>83      </td><td>84      </td><td>87      </td><td>86      </td><td>85      </td><td>84      </td><td>75      </td><td>86      </td><td>80      </td><td>85      </td><td>79      </td><td>77      </td><td>3       </td><td>35500000</td></tr>\n",
       "\t<tr><td>22      </td><td>83      </td><td>87      </td><td>81      </td><td>77      </td><td>87      </td><td>95      </td><td>75      </td><td>93      </td><td>63      </td><td>83      </td><td>81      </td><td>88      </td><td>76      </td><td>79      </td><td>2       </td><td>34000000</td></tr>\n",
       "\t<tr><td>26      </td><td>83      </td><td>84      </td><td>79      </td><td>78      </td><td>87      </td><td>90      </td><td>81      </td><td>91      </td><td>73      </td><td>82      </td><td>82      </td><td>84      </td><td>83      </td><td>79      </td><td>2       </td><td>30500000</td></tr>\n",
       "\t<tr><td>24      </td><td>83      </td><td>86      </td><td>78      </td><td>77      </td><td>88      </td><td>89      </td><td>71      </td><td>87      </td><td>71      </td><td>87      </td><td>83      </td><td>88      </td><td>74      </td><td>81      </td><td>3       </td><td>33000000</td></tr>\n",
       "</tbody>\n",
       "</table>\n"
      ],
      "text/latex": [
       "\\begin{tabular}{r|lllllllllllllllll}\n",
       " Age & Overall & Potential & Crossing & ShortPassing & Agility & Acceleration & Vision & SprintSpeed & LongPassing & BallControl & Reactions & Dribbling & Stamina & Positioning & International.Reputation & Value\\\\\n",
       "\\hline\n",
       "\t 19       & 88       & 95       & 77       & 82       & 92       & 96       & 82       & 96       & 73       & 91       & 87       & 90       & 83       & 88       & 3        & 81000000\\\\\n",
       "\t 26       & 88       & 89       & 78       & 82       & 91       & 94       & 82       & 91       & 72       & 88       & 91       & 89       & 84       & 90       & 3        & 69500000\\\\\n",
       "\t 29       & 88       & 88       & 77       & 77       & 76       & 93       & 77       & 95       & 64       & 82       & 87       & 79       & 76       & 90       & 3        & 59000000\\\\\n",
       "\t 26       & 86       & 87       & 73       & 79       & 91       & 95       & 82       & 93       & 71       & 86       & 86       & 87       & 84       & 87       & 3        & 52000000\\\\\n",
       "\t 27       & 86       & 86       & 84       & 84       & 93       & 97       & 84       & 93       & 68       & 91       & 84       & 92       & 78       & 76       & 3        & 46500000\\\\\n",
       "\t 29       & 86       & 86       & 79       & 86       & 86       & 86       & 86       & 85       & 75       & 86       & 87       & 87       & 73       & 88       & 4        & 43500000\\\\\n",
       "\t 26       & 85       & 86       & 86       & 90       & 74       & 71       & 87       & 68       & 89       & 86       & 85       & 82       & 90       & 84       & 3        & 45000000\\\\\n",
       "\t 28       & 85       & 85       & 79       & 79       & 92       & 87       & 79       & 75       & 72       & 86       & 84       & 93       & 85       & 83       & 3        & 39000000\\\\\n",
       "\t 29       & 85       & 85       & 83       & 81       & 78       & 84       & 79       & 88       & 77       & 85       & 81       & 84       & 89       & 85       & 3        & 37500000\\\\\n",
       "\t 31       & 85       & 85       & 75       & 83       & 83       & 79       & 76       & 77       & 77       & 79       & 84       & 78       & 94       & 72       & 3        & 26000000\\\\\n",
       "\t 25       & 84       & 87       & 83       & 83       & 86       & 87       & 80       & 80       & 76       & 86       & 83       & 85       & 83       & 83       & 2        & 39000000\\\\\n",
       "\t 25       & 84       & 85       & 78       & 79       & 82       & 88       & 80       & 87       & 64       & 85       & 84       & 88       & 85       & 85       & 3        & 37000000\\\\\n",
       "\t 31       & 84       & 84       & 82       & 80       & 85       & 88       & 78       & 89       & 51       & 85       & 82       & 82       & 91       & 88       & 3        & 27500000\\\\\n",
       "\t 30       & 84       & 84       & 83       & 82       & 92       & 85       & 82       & 84       & 79       & 85       & 80       & 86       & 73       & 82       & 4        & 29500000\\\\\n",
       "\t 34       & 84       & 84       & 92       & 79       & 91       & 84       & 84       & 82       & 75       & 88       & 78       & 89       & 65       & 78       & 3        & 15500000\\\\\n",
       "\t 34       & 84       & 84       & 80       & 82       & 87       & 83       & 80       & 76       & 71       & 88       & 85       & 89       & 64       & 84       & 4        & 15500000\\\\\n",
       "\t 22       & 83       & 89       & 83       & 84       & 87       & 86       & 85       & 84       & 75       & 86       & 80       & 85       & 79       & 77       & 3        & 35500000\\\\\n",
       "\t 22       & 83       & 87       & 81       & 77       & 87       & 95       & 75       & 93       & 63       & 83       & 81       & 88       & 76       & 79       & 2        & 34000000\\\\\n",
       "\t 26       & 83       & 84       & 79       & 78       & 87       & 90       & 81       & 91       & 73       & 82       & 82       & 84       & 83       & 79       & 2        & 30500000\\\\\n",
       "\t 24       & 83       & 86       & 78       & 77       & 88       & 89       & 71       & 87       & 71       & 87       & 83       & 88       & 74       & 81       & 3        & 33000000\\\\\n",
       "\\end{tabular}\n"
      ],
      "text/markdown": [
       "\n",
       "| Age | Overall | Potential | Crossing | ShortPassing | Agility | Acceleration | Vision | SprintSpeed | LongPassing | BallControl | Reactions | Dribbling | Stamina | Positioning | International.Reputation | Value |\n",
       "|---|---|---|---|---|---|---|---|---|---|---|---|---|---|---|---|---|\n",
       "| 19       | 88       | 95       | 77       | 82       | 92       | 96       | 82       | 96       | 73       | 91       | 87       | 90       | 83       | 88       | 3        | 81000000 |\n",
       "| 26       | 88       | 89       | 78       | 82       | 91       | 94       | 82       | 91       | 72       | 88       | 91       | 89       | 84       | 90       | 3        | 69500000 |\n",
       "| 29       | 88       | 88       | 77       | 77       | 76       | 93       | 77       | 95       | 64       | 82       | 87       | 79       | 76       | 90       | 3        | 59000000 |\n",
       "| 26       | 86       | 87       | 73       | 79       | 91       | 95       | 82       | 93       | 71       | 86       | 86       | 87       | 84       | 87       | 3        | 52000000 |\n",
       "| 27       | 86       | 86       | 84       | 84       | 93       | 97       | 84       | 93       | 68       | 91       | 84       | 92       | 78       | 76       | 3        | 46500000 |\n",
       "| 29       | 86       | 86       | 79       | 86       | 86       | 86       | 86       | 85       | 75       | 86       | 87       | 87       | 73       | 88       | 4        | 43500000 |\n",
       "| 26       | 85       | 86       | 86       | 90       | 74       | 71       | 87       | 68       | 89       | 86       | 85       | 82       | 90       | 84       | 3        | 45000000 |\n",
       "| 28       | 85       | 85       | 79       | 79       | 92       | 87       | 79       | 75       | 72       | 86       | 84       | 93       | 85       | 83       | 3        | 39000000 |\n",
       "| 29       | 85       | 85       | 83       | 81       | 78       | 84       | 79       | 88       | 77       | 85       | 81       | 84       | 89       | 85       | 3        | 37500000 |\n",
       "| 31       | 85       | 85       | 75       | 83       | 83       | 79       | 76       | 77       | 77       | 79       | 84       | 78       | 94       | 72       | 3        | 26000000 |\n",
       "| 25       | 84       | 87       | 83       | 83       | 86       | 87       | 80       | 80       | 76       | 86       | 83       | 85       | 83       | 83       | 2        | 39000000 |\n",
       "| 25       | 84       | 85       | 78       | 79       | 82       | 88       | 80       | 87       | 64       | 85       | 84       | 88       | 85       | 85       | 3        | 37000000 |\n",
       "| 31       | 84       | 84       | 82       | 80       | 85       | 88       | 78       | 89       | 51       | 85       | 82       | 82       | 91       | 88       | 3        | 27500000 |\n",
       "| 30       | 84       | 84       | 83       | 82       | 92       | 85       | 82       | 84       | 79       | 85       | 80       | 86       | 73       | 82       | 4        | 29500000 |\n",
       "| 34       | 84       | 84       | 92       | 79       | 91       | 84       | 84       | 82       | 75       | 88       | 78       | 89       | 65       | 78       | 3        | 15500000 |\n",
       "| 34       | 84       | 84       | 80       | 82       | 87       | 83       | 80       | 76       | 71       | 88       | 85       | 89       | 64       | 84       | 4        | 15500000 |\n",
       "| 22       | 83       | 89       | 83       | 84       | 87       | 86       | 85       | 84       | 75       | 86       | 80       | 85       | 79       | 77       | 3        | 35500000 |\n",
       "| 22       | 83       | 87       | 81       | 77       | 87       | 95       | 75       | 93       | 63       | 83       | 81       | 88       | 76       | 79       | 2        | 34000000 |\n",
       "| 26       | 83       | 84       | 79       | 78       | 87       | 90       | 81       | 91       | 73       | 82       | 82       | 84       | 83       | 79       | 2        | 30500000 |\n",
       "| 24       | 83       | 86       | 78       | 77       | 88       | 89       | 71       | 87       | 71       | 87       | 83       | 88       | 74       | 81       | 3        | 33000000 |\n",
       "\n"
      ],
      "text/plain": [
       "   Age Overall Potential Crossing ShortPassing Agility Acceleration Vision\n",
       "1  19  88      95        77       82           92      96           82    \n",
       "2  26  88      89        78       82           91      94           82    \n",
       "3  29  88      88        77       77           76      93           77    \n",
       "4  26  86      87        73       79           91      95           82    \n",
       "5  27  86      86        84       84           93      97           84    \n",
       "6  29  86      86        79       86           86      86           86    \n",
       "7  26  85      86        86       90           74      71           87    \n",
       "8  28  85      85        79       79           92      87           79    \n",
       "9  29  85      85        83       81           78      84           79    \n",
       "10 31  85      85        75       83           83      79           76    \n",
       "11 25  84      87        83       83           86      87           80    \n",
       "12 25  84      85        78       79           82      88           80    \n",
       "13 31  84      84        82       80           85      88           78    \n",
       "14 30  84      84        83       82           92      85           82    \n",
       "15 34  84      84        92       79           91      84           84    \n",
       "16 34  84      84        80       82           87      83           80    \n",
       "17 22  83      89        83       84           87      86           85    \n",
       "18 22  83      87        81       77           87      95           75    \n",
       "19 26  83      84        79       78           87      90           81    \n",
       "20 24  83      86        78       77           88      89           71    \n",
       "   SprintSpeed LongPassing BallControl Reactions Dribbling Stamina Positioning\n",
       "1  96          73          91          87        90        83      88         \n",
       "2  91          72          88          91        89        84      90         \n",
       "3  95          64          82          87        79        76      90         \n",
       "4  93          71          86          86        87        84      87         \n",
       "5  93          68          91          84        92        78      76         \n",
       "6  85          75          86          87        87        73      88         \n",
       "7  68          89          86          85        82        90      84         \n",
       "8  75          72          86          84        93        85      83         \n",
       "9  88          77          85          81        84        89      85         \n",
       "10 77          77          79          84        78        94      72         \n",
       "11 80          76          86          83        85        83      83         \n",
       "12 87          64          85          84        88        85      85         \n",
       "13 89          51          85          82        82        91      88         \n",
       "14 84          79          85          80        86        73      82         \n",
       "15 82          75          88          78        89        65      78         \n",
       "16 76          71          88          85        89        64      84         \n",
       "17 84          75          86          80        85        79      77         \n",
       "18 93          63          83          81        88        76      79         \n",
       "19 91          73          82          82        84        83      79         \n",
       "20 87          71          87          83        88        74      81         \n",
       "   International.Reputation Value   \n",
       "1  3                        81000000\n",
       "2  3                        69500000\n",
       "3  3                        59000000\n",
       "4  3                        52000000\n",
       "5  3                        46500000\n",
       "6  4                        43500000\n",
       "7  3                        45000000\n",
       "8  3                        39000000\n",
       "9  3                        37500000\n",
       "10 3                        26000000\n",
       "11 2                        39000000\n",
       "12 3                        37000000\n",
       "13 3                        27500000\n",
       "14 4                        29500000\n",
       "15 3                        15500000\n",
       "16 4                        15500000\n",
       "17 3                        35500000\n",
       "18 2                        34000000\n",
       "19 2                        30500000\n",
       "20 3                        33000000"
      ]
     },
     "metadata": {},
     "output_type": "display_data"
    },
    {
     "data": {
      "text/html": [
       "<dl class=dl-horizontal>\n",
       "\t<dt>Age</dt>\n",
       "\t\t<dd>0</dd>\n",
       "\t<dt>Overall</dt>\n",
       "\t\t<dd>0</dd>\n",
       "\t<dt>Potential</dt>\n",
       "\t\t<dd>0</dd>\n",
       "\t<dt>Crossing</dt>\n",
       "\t\t<dd>0</dd>\n",
       "\t<dt>ShortPassing</dt>\n",
       "\t\t<dd>0</dd>\n",
       "\t<dt>Agility</dt>\n",
       "\t\t<dd>0</dd>\n",
       "\t<dt>Acceleration</dt>\n",
       "\t\t<dd>0</dd>\n",
       "\t<dt>Vision</dt>\n",
       "\t\t<dd>0</dd>\n",
       "\t<dt>SprintSpeed</dt>\n",
       "\t\t<dd>0</dd>\n",
       "\t<dt>LongPassing</dt>\n",
       "\t\t<dd>0</dd>\n",
       "\t<dt>BallControl</dt>\n",
       "\t\t<dd>0</dd>\n",
       "\t<dt>Reactions</dt>\n",
       "\t\t<dd>0</dd>\n",
       "\t<dt>Dribbling</dt>\n",
       "\t\t<dd>0</dd>\n",
       "\t<dt>Stamina</dt>\n",
       "\t\t<dd>0</dd>\n",
       "\t<dt>Positioning</dt>\n",
       "\t\t<dd>0</dd>\n",
       "\t<dt>International.Reputation</dt>\n",
       "\t\t<dd>0</dd>\n",
       "\t<dt>Value</dt>\n",
       "\t\t<dd>0</dd>\n",
       "</dl>\n"
      ],
      "text/latex": [
       "\\begin{description*}\n",
       "\\item[Age] 0\n",
       "\\item[Overall] 0\n",
       "\\item[Potential] 0\n",
       "\\item[Crossing] 0\n",
       "\\item[ShortPassing] 0\n",
       "\\item[Agility] 0\n",
       "\\item[Acceleration] 0\n",
       "\\item[Vision] 0\n",
       "\\item[SprintSpeed] 0\n",
       "\\item[LongPassing] 0\n",
       "\\item[BallControl] 0\n",
       "\\item[Reactions] 0\n",
       "\\item[Dribbling] 0\n",
       "\\item[Stamina] 0\n",
       "\\item[Positioning] 0\n",
       "\\item[International.Reputation] 0\n",
       "\\item[Value] 0\n",
       "\\end{description*}\n"
      ],
      "text/markdown": [
       "Age\n",
       ":   0Overall\n",
       ":   0Potential\n",
       ":   0Crossing\n",
       ":   0ShortPassing\n",
       ":   0Agility\n",
       ":   0Acceleration\n",
       ":   0Vision\n",
       ":   0SprintSpeed\n",
       ":   0LongPassing\n",
       ":   0BallControl\n",
       ":   0Reactions\n",
       ":   0Dribbling\n",
       ":   0Stamina\n",
       ":   0Positioning\n",
       ":   0International.Reputation\n",
       ":   0Value\n",
       ":   0\n",
       "\n"
      ],
      "text/plain": [
       "                     Age                  Overall                Potential \n",
       "                       0                        0                        0 \n",
       "                Crossing             ShortPassing                  Agility \n",
       "                       0                        0                        0 \n",
       "            Acceleration                   Vision              SprintSpeed \n",
       "                       0                        0                        0 \n",
       "             LongPassing              BallControl                Reactions \n",
       "                       0                        0                        0 \n",
       "               Dribbling                  Stamina              Positioning \n",
       "                       0                        0                        0 \n",
       "International.Reputation                    Value \n",
       "                       0                        0 "
      ]
     },
     "metadata": {},
     "output_type": "display_data"
    }
   ],
   "source": [
    "#Dataset para Left/Right Midfielders\n",
    "fifaLRM <- fifaClean %>% filter(Position == \"LRM\")%>% \n",
    "                   select(Age, Overall, Potential, Crossing, ShortPassing, Agility, Acceleration, \n",
    "                          Vision, SprintSpeed, LongPassing, BallControl, Reactions, Dribbling, \n",
    "                          Stamina, Positioning, International.Reputation, Value)  \n",
    "head(fifaLRM, 20)\n",
    "colSums(is.na(fifaLRM))"
   ]
  },
  {
   "cell_type": "markdown",
   "metadata": {},
   "source": [
    "<a id='Left/RightAttackingWingers'></a>\n",
    "## Dataset para Left/Right Attacking Wingers"
   ]
  },
  {
   "cell_type": "code",
   "execution_count": 153,
   "metadata": {},
   "outputs": [
    {
     "data": {
      "text/html": [
       "<table>\n",
       "<thead><tr><th scope=col>Age</th><th scope=col>Overall</th><th scope=col>Potential</th><th scope=col>Crossing</th><th scope=col>ShortPassing</th><th scope=col>HeadingAccuracy</th><th scope=col>Acceleration</th><th scope=col>Vision</th><th scope=col>SprintSpeed</th><th scope=col>ShotPower</th><th scope=col>BallControl</th><th scope=col>Reactions</th><th scope=col>Dribbling</th><th scope=col>LongShots</th><th scope=col>Positioning</th><th scope=col>International.Reputation</th><th scope=col>Value</th></tr></thead>\n",
       "<tbody>\n",
       "\t<tr><td>26       </td><td>92       </td><td>93       </td><td>79       </td><td>84       </td><td>62       </td><td>94       </td><td>87       </td><td>90       </td><td>80       </td><td>95       </td><td>94       </td><td>96       </td><td>82       </td><td>89       </td><td>5        </td><td>118500000</td></tr>\n",
       "\t<tr><td>26       </td><td>88       </td><td>89       </td><td>90       </td><td>89       </td><td>62       </td><td>73       </td><td>89       </td><td>67       </td><td>86       </td><td>90       </td><td>85       </td><td>85       </td><td>92       </td><td>80       </td><td>4        </td><td> 69500000</td></tr>\n",
       "\t<tr><td>27       </td><td>88       </td><td>88       </td><td>86       </td><td>85       </td><td>56       </td><td>94       </td><td>87       </td><td>86       </td><td>75       </td><td>93       </td><td>83       </td><td>90       </td><td>84       </td><td>83       </td><td>3        </td><td> 62000000</td></tr>\n",
       "\t<tr><td>26       </td><td>88       </td><td>91       </td><td>75       </td><td>89       </td><td>55       </td><td>75       </td><td>89       </td><td>69       </td><td>69       </td><td>95       </td><td>77       </td><td>94       </td><td>87       </td><td>78       </td><td>3        </td><td> 73500000</td></tr>\n",
       "\t<tr><td>26       </td><td>88       </td><td>89       </td><td>79       </td><td>88       </td><td>48       </td><td>89       </td><td>90       </td><td>75       </td><td>83       </td><td>92       </td><td>83       </td><td>91       </td><td>93       </td><td>84       </td><td>3        </td><td> 69500000</td></tr>\n",
       "\t<tr><td>22       </td><td>86       </td><td>92       </td><td>83       </td><td>79       </td><td>72       </td><td>93       </td><td>82       </td><td>96       </td><td>86       </td><td>85       </td><td>81       </td><td>88       </td><td>78       </td><td>84       </td><td>2        </td><td> 61000000</td></tr>\n",
       "\t<tr><td>23       </td><td>86       </td><td>91       </td><td>85       </td><td>85       </td><td>51       </td><td>84       </td><td>86       </td><td>74       </td><td>70       </td><td>91       </td><td>82       </td><td>92       </td><td>72       </td><td>83       </td><td>2        </td><td> 59500000</td></tr>\n",
       "\t<tr><td>23       </td><td>86       </td><td>89       </td><td>77       </td><td>84       </td><td>38       </td><td>95       </td><td>77       </td><td>92       </td><td>73       </td><td>87       </td><td>87       </td><td>88       </td><td>73       </td><td>87       </td><td>3        </td><td> 56500000</td></tr>\n",
       "\t<tr><td>22       </td><td>85       </td><td>92       </td><td>82       </td><td>83       </td><td>50       </td><td>85       </td><td>84       </td><td>82       </td><td>86       </td><td>85       </td><td>82       </td><td>86       </td><td>88       </td><td>82       </td><td>3        </td><td> 54000000</td></tr>\n",
       "\t<tr><td>27       </td><td>85       </td><td>85       </td><td>81       </td><td>82       </td><td>48       </td><td>88       </td><td>81       </td><td>83       </td><td>79       </td><td>90       </td><td>77       </td><td>91       </td><td>81       </td><td>80       </td><td>3        </td><td> 40500000</td></tr>\n",
       "\t<tr><td>29       </td><td>85       </td><td>85       </td><td>77       </td><td>77       </td><td>73       </td><td>86       </td><td>82       </td><td>79       </td><td>84       </td><td>86       </td><td>83       </td><td>87       </td><td>81       </td><td>84       </td><td>4        </td><td> 37500000</td></tr>\n",
       "\t<tr><td>22       </td><td>84       </td><td>90       </td><td>76       </td><td>77       </td><td>69       </td><td>88       </td><td>73       </td><td>89       </td><td>84       </td><td>86       </td><td>81       </td><td>87       </td><td>80       </td><td>83       </td><td>3        </td><td> 42500000</td></tr>\n",
       "\t<tr><td>30       </td><td>84       </td><td>84       </td><td>80       </td><td>80       </td><td>58       </td><td>89       </td><td>76       </td><td>93       </td><td>84       </td><td>85       </td><td>80       </td><td>90       </td><td>80       </td><td>78       </td><td>3        </td><td> 29500000</td></tr>\n",
       "\t<tr><td>29       </td><td>84       </td><td>84       </td><td>76       </td><td>80       </td><td>31       </td><td>91       </td><td>83       </td><td>86       </td><td>79       </td><td>84       </td><td>82       </td><td>88       </td><td>81       </td><td>80       </td><td>3        </td><td> 30500000</td></tr>\n",
       "\t<tr><td>21       </td><td>83       </td><td>92       </td><td>78       </td><td>78       </td><td>43       </td><td>93       </td><td>84       </td><td>92       </td><td>83       </td><td>83       </td><td>82       </td><td>90       </td><td>70       </td><td>79       </td><td>3        </td><td> 40000000</td></tr>\n",
       "\t<tr><td>26       </td><td>83       </td><td>83       </td><td>83       </td><td>83       </td><td>64       </td><td>88       </td><td>83       </td><td>87       </td><td>82       </td><td>83       </td><td>84       </td><td>85       </td><td>78       </td><td>82       </td><td>1        </td><td> 28000000</td></tr>\n",
       "\t<tr><td>22       </td><td>83       </td><td>87       </td><td>69       </td><td>77       </td><td>76       </td><td>93       </td><td>61       </td><td>93       </td><td>74       </td><td>84       </td><td>86       </td><td>83       </td><td>67       </td><td>85       </td><td>3        </td><td> 34500000</td></tr>\n",
       "\t<tr><td>25       </td><td>83       </td><td>86       </td><td>84       </td><td>86       </td><td>53       </td><td>76       </td><td>88       </td><td>74       </td><td>80       </td><td>83       </td><td>82       </td><td>83       </td><td>75       </td><td>75       </td><td>3        </td><td> 32500000</td></tr>\n",
       "\t<tr><td>27       </td><td>83       </td><td>83       </td><td>86       </td><td>83       </td><td>52       </td><td>84       </td><td>83       </td><td>79       </td><td>82       </td><td>83       </td><td>85       </td><td>82       </td><td>80       </td><td>81       </td><td>2        </td><td> 27000000</td></tr>\n",
       "\t<tr><td>24       </td><td>83       </td><td>86       </td><td>84       </td><td>86       </td><td>50       </td><td>83       </td><td>84       </td><td>77       </td><td>78       </td><td>89       </td><td>78       </td><td>88       </td><td>87       </td><td>76       </td><td>3        </td><td> 33000000</td></tr>\n",
       "</tbody>\n",
       "</table>\n"
      ],
      "text/latex": [
       "\\begin{tabular}{r|lllllllllllllllll}\n",
       " Age & Overall & Potential & Crossing & ShortPassing & HeadingAccuracy & Acceleration & Vision & SprintSpeed & ShotPower & BallControl & Reactions & Dribbling & LongShots & Positioning & International.Reputation & Value\\\\\n",
       "\\hline\n",
       "\t 26        & 92        & 93        & 79        & 84        & 62        & 94        & 87        & 90        & 80        & 95        & 94        & 96        & 82        & 89        & 5         & 118500000\\\\\n",
       "\t 26        & 88        & 89        & 90        & 89        & 62        & 73        & 89        & 67        & 86        & 90        & 85        & 85        & 92        & 80        & 4         &  69500000\\\\\n",
       "\t 27        & 88        & 88        & 86        & 85        & 56        & 94        & 87        & 86        & 75        & 93        & 83        & 90        & 84        & 83        & 3         &  62000000\\\\\n",
       "\t 26        & 88        & 91        & 75        & 89        & 55        & 75        & 89        & 69        & 69        & 95        & 77        & 94        & 87        & 78        & 3         &  73500000\\\\\n",
       "\t 26        & 88        & 89        & 79        & 88        & 48        & 89        & 90        & 75        & 83        & 92        & 83        & 91        & 93        & 84        & 3         &  69500000\\\\\n",
       "\t 22        & 86        & 92        & 83        & 79        & 72        & 93        & 82        & 96        & 86        & 85        & 81        & 88        & 78        & 84        & 2         &  61000000\\\\\n",
       "\t 23        & 86        & 91        & 85        & 85        & 51        & 84        & 86        & 74        & 70        & 91        & 82        & 92        & 72        & 83        & 2         &  59500000\\\\\n",
       "\t 23        & 86        & 89        & 77        & 84        & 38        & 95        & 77        & 92        & 73        & 87        & 87        & 88        & 73        & 87        & 3         &  56500000\\\\\n",
       "\t 22        & 85        & 92        & 82        & 83        & 50        & 85        & 84        & 82        & 86        & 85        & 82        & 86        & 88        & 82        & 3         &  54000000\\\\\n",
       "\t 27        & 85        & 85        & 81        & 82        & 48        & 88        & 81        & 83        & 79        & 90        & 77        & 91        & 81        & 80        & 3         &  40500000\\\\\n",
       "\t 29        & 85        & 85        & 77        & 77        & 73        & 86        & 82        & 79        & 84        & 86        & 83        & 87        & 81        & 84        & 4         &  37500000\\\\\n",
       "\t 22        & 84        & 90        & 76        & 77        & 69        & 88        & 73        & 89        & 84        & 86        & 81        & 87        & 80        & 83        & 3         &  42500000\\\\\n",
       "\t 30        & 84        & 84        & 80        & 80        & 58        & 89        & 76        & 93        & 84        & 85        & 80        & 90        & 80        & 78        & 3         &  29500000\\\\\n",
       "\t 29        & 84        & 84        & 76        & 80        & 31        & 91        & 83        & 86        & 79        & 84        & 82        & 88        & 81        & 80        & 3         &  30500000\\\\\n",
       "\t 21        & 83        & 92        & 78        & 78        & 43        & 93        & 84        & 92        & 83        & 83        & 82        & 90        & 70        & 79        & 3         &  40000000\\\\\n",
       "\t 26        & 83        & 83        & 83        & 83        & 64        & 88        & 83        & 87        & 82        & 83        & 84        & 85        & 78        & 82        & 1         &  28000000\\\\\n",
       "\t 22        & 83        & 87        & 69        & 77        & 76        & 93        & 61        & 93        & 74        & 84        & 86        & 83        & 67        & 85        & 3         &  34500000\\\\\n",
       "\t 25        & 83        & 86        & 84        & 86        & 53        & 76        & 88        & 74        & 80        & 83        & 82        & 83        & 75        & 75        & 3         &  32500000\\\\\n",
       "\t 27        & 83        & 83        & 86        & 83        & 52        & 84        & 83        & 79        & 82        & 83        & 85        & 82        & 80        & 81        & 2         &  27000000\\\\\n",
       "\t 24        & 83        & 86        & 84        & 86        & 50        & 83        & 84        & 77        & 78        & 89        & 78        & 88        & 87        & 76        & 3         &  33000000\\\\\n",
       "\\end{tabular}\n"
      ],
      "text/markdown": [
       "\n",
       "| Age | Overall | Potential | Crossing | ShortPassing | HeadingAccuracy | Acceleration | Vision | SprintSpeed | ShotPower | BallControl | Reactions | Dribbling | LongShots | Positioning | International.Reputation | Value |\n",
       "|---|---|---|---|---|---|---|---|---|---|---|---|---|---|---|---|---|\n",
       "| 26        | 92        | 93        | 79        | 84        | 62        | 94        | 87        | 90        | 80        | 95        | 94        | 96        | 82        | 89        | 5         | 118500000 |\n",
       "| 26        | 88        | 89        | 90        | 89        | 62        | 73        | 89        | 67        | 86        | 90        | 85        | 85        | 92        | 80        | 4         |  69500000 |\n",
       "| 27        | 88        | 88        | 86        | 85        | 56        | 94        | 87        | 86        | 75        | 93        | 83        | 90        | 84        | 83        | 3         |  62000000 |\n",
       "| 26        | 88        | 91        | 75        | 89        | 55        | 75        | 89        | 69        | 69        | 95        | 77        | 94        | 87        | 78        | 3         |  73500000 |\n",
       "| 26        | 88        | 89        | 79        | 88        | 48        | 89        | 90        | 75        | 83        | 92        | 83        | 91        | 93        | 84        | 3         |  69500000 |\n",
       "| 22        | 86        | 92        | 83        | 79        | 72        | 93        | 82        | 96        | 86        | 85        | 81        | 88        | 78        | 84        | 2         |  61000000 |\n",
       "| 23        | 86        | 91        | 85        | 85        | 51        | 84        | 86        | 74        | 70        | 91        | 82        | 92        | 72        | 83        | 2         |  59500000 |\n",
       "| 23        | 86        | 89        | 77        | 84        | 38        | 95        | 77        | 92        | 73        | 87        | 87        | 88        | 73        | 87        | 3         |  56500000 |\n",
       "| 22        | 85        | 92        | 82        | 83        | 50        | 85        | 84        | 82        | 86        | 85        | 82        | 86        | 88        | 82        | 3         |  54000000 |\n",
       "| 27        | 85        | 85        | 81        | 82        | 48        | 88        | 81        | 83        | 79        | 90        | 77        | 91        | 81        | 80        | 3         |  40500000 |\n",
       "| 29        | 85        | 85        | 77        | 77        | 73        | 86        | 82        | 79        | 84        | 86        | 83        | 87        | 81        | 84        | 4         |  37500000 |\n",
       "| 22        | 84        | 90        | 76        | 77        | 69        | 88        | 73        | 89        | 84        | 86        | 81        | 87        | 80        | 83        | 3         |  42500000 |\n",
       "| 30        | 84        | 84        | 80        | 80        | 58        | 89        | 76        | 93        | 84        | 85        | 80        | 90        | 80        | 78        | 3         |  29500000 |\n",
       "| 29        | 84        | 84        | 76        | 80        | 31        | 91        | 83        | 86        | 79        | 84        | 82        | 88        | 81        | 80        | 3         |  30500000 |\n",
       "| 21        | 83        | 92        | 78        | 78        | 43        | 93        | 84        | 92        | 83        | 83        | 82        | 90        | 70        | 79        | 3         |  40000000 |\n",
       "| 26        | 83        | 83        | 83        | 83        | 64        | 88        | 83        | 87        | 82        | 83        | 84        | 85        | 78        | 82        | 1         |  28000000 |\n",
       "| 22        | 83        | 87        | 69        | 77        | 76        | 93        | 61        | 93        | 74        | 84        | 86        | 83        | 67        | 85        | 3         |  34500000 |\n",
       "| 25        | 83        | 86        | 84        | 86        | 53        | 76        | 88        | 74        | 80        | 83        | 82        | 83        | 75        | 75        | 3         |  32500000 |\n",
       "| 27        | 83        | 83        | 86        | 83        | 52        | 84        | 83        | 79        | 82        | 83        | 85        | 82        | 80        | 81        | 2         |  27000000 |\n",
       "| 24        | 83        | 86        | 84        | 86        | 50        | 83        | 84        | 77        | 78        | 89        | 78        | 88        | 87        | 76        | 3         |  33000000 |\n",
       "\n"
      ],
      "text/plain": [
       "   Age Overall Potential Crossing ShortPassing HeadingAccuracy Acceleration\n",
       "1  26  92      93        79       84           62              94          \n",
       "2  26  88      89        90       89           62              73          \n",
       "3  27  88      88        86       85           56              94          \n",
       "4  26  88      91        75       89           55              75          \n",
       "5  26  88      89        79       88           48              89          \n",
       "6  22  86      92        83       79           72              93          \n",
       "7  23  86      91        85       85           51              84          \n",
       "8  23  86      89        77       84           38              95          \n",
       "9  22  85      92        82       83           50              85          \n",
       "10 27  85      85        81       82           48              88          \n",
       "11 29  85      85        77       77           73              86          \n",
       "12 22  84      90        76       77           69              88          \n",
       "13 30  84      84        80       80           58              89          \n",
       "14 29  84      84        76       80           31              91          \n",
       "15 21  83      92        78       78           43              93          \n",
       "16 26  83      83        83       83           64              88          \n",
       "17 22  83      87        69       77           76              93          \n",
       "18 25  83      86        84       86           53              76          \n",
       "19 27  83      83        86       83           52              84          \n",
       "20 24  83      86        84       86           50              83          \n",
       "   Vision SprintSpeed ShotPower BallControl Reactions Dribbling LongShots\n",
       "1  87     90          80        95          94        96        82       \n",
       "2  89     67          86        90          85        85        92       \n",
       "3  87     86          75        93          83        90        84       \n",
       "4  89     69          69        95          77        94        87       \n",
       "5  90     75          83        92          83        91        93       \n",
       "6  82     96          86        85          81        88        78       \n",
       "7  86     74          70        91          82        92        72       \n",
       "8  77     92          73        87          87        88        73       \n",
       "9  84     82          86        85          82        86        88       \n",
       "10 81     83          79        90          77        91        81       \n",
       "11 82     79          84        86          83        87        81       \n",
       "12 73     89          84        86          81        87        80       \n",
       "13 76     93          84        85          80        90        80       \n",
       "14 83     86          79        84          82        88        81       \n",
       "15 84     92          83        83          82        90        70       \n",
       "16 83     87          82        83          84        85        78       \n",
       "17 61     93          74        84          86        83        67       \n",
       "18 88     74          80        83          82        83        75       \n",
       "19 83     79          82        83          85        82        80       \n",
       "20 84     77          78        89          78        88        87       \n",
       "   Positioning International.Reputation Value    \n",
       "1  89          5                        118500000\n",
       "2  80          4                         69500000\n",
       "3  83          3                         62000000\n",
       "4  78          3                         73500000\n",
       "5  84          3                         69500000\n",
       "6  84          2                         61000000\n",
       "7  83          2                         59500000\n",
       "8  87          3                         56500000\n",
       "9  82          3                         54000000\n",
       "10 80          3                         40500000\n",
       "11 84          4                         37500000\n",
       "12 83          3                         42500000\n",
       "13 78          3                         29500000\n",
       "14 80          3                         30500000\n",
       "15 79          3                         40000000\n",
       "16 82          1                         28000000\n",
       "17 85          3                         34500000\n",
       "18 75          3                         32500000\n",
       "19 81          2                         27000000\n",
       "20 76          3                         33000000"
      ]
     },
     "metadata": {},
     "output_type": "display_data"
    },
    {
     "data": {
      "text/html": [
       "<dl class=dl-horizontal>\n",
       "\t<dt>Age</dt>\n",
       "\t\t<dd>0</dd>\n",
       "\t<dt>Overall</dt>\n",
       "\t\t<dd>0</dd>\n",
       "\t<dt>Potential</dt>\n",
       "\t\t<dd>0</dd>\n",
       "\t<dt>Crossing</dt>\n",
       "\t\t<dd>0</dd>\n",
       "\t<dt>ShortPassing</dt>\n",
       "\t\t<dd>0</dd>\n",
       "\t<dt>HeadingAccuracy</dt>\n",
       "\t\t<dd>0</dd>\n",
       "\t<dt>Acceleration</dt>\n",
       "\t\t<dd>0</dd>\n",
       "\t<dt>Vision</dt>\n",
       "\t\t<dd>0</dd>\n",
       "\t<dt>SprintSpeed</dt>\n",
       "\t\t<dd>0</dd>\n",
       "\t<dt>ShotPower</dt>\n",
       "\t\t<dd>0</dd>\n",
       "\t<dt>BallControl</dt>\n",
       "\t\t<dd>0</dd>\n",
       "\t<dt>Reactions</dt>\n",
       "\t\t<dd>0</dd>\n",
       "\t<dt>Dribbling</dt>\n",
       "\t\t<dd>0</dd>\n",
       "\t<dt>LongShots</dt>\n",
       "\t\t<dd>0</dd>\n",
       "\t<dt>Positioning</dt>\n",
       "\t\t<dd>0</dd>\n",
       "\t<dt>International.Reputation</dt>\n",
       "\t\t<dd>0</dd>\n",
       "\t<dt>Value</dt>\n",
       "\t\t<dd>0</dd>\n",
       "</dl>\n"
      ],
      "text/latex": [
       "\\begin{description*}\n",
       "\\item[Age] 0\n",
       "\\item[Overall] 0\n",
       "\\item[Potential] 0\n",
       "\\item[Crossing] 0\n",
       "\\item[ShortPassing] 0\n",
       "\\item[HeadingAccuracy] 0\n",
       "\\item[Acceleration] 0\n",
       "\\item[Vision] 0\n",
       "\\item[SprintSpeed] 0\n",
       "\\item[ShotPower] 0\n",
       "\\item[BallControl] 0\n",
       "\\item[Reactions] 0\n",
       "\\item[Dribbling] 0\n",
       "\\item[LongShots] 0\n",
       "\\item[Positioning] 0\n",
       "\\item[International.Reputation] 0\n",
       "\\item[Value] 0\n",
       "\\end{description*}\n"
      ],
      "text/markdown": [
       "Age\n",
       ":   0Overall\n",
       ":   0Potential\n",
       ":   0Crossing\n",
       ":   0ShortPassing\n",
       ":   0HeadingAccuracy\n",
       ":   0Acceleration\n",
       ":   0Vision\n",
       ":   0SprintSpeed\n",
       ":   0ShotPower\n",
       ":   0BallControl\n",
       ":   0Reactions\n",
       ":   0Dribbling\n",
       ":   0LongShots\n",
       ":   0Positioning\n",
       ":   0International.Reputation\n",
       ":   0Value\n",
       ":   0\n",
       "\n"
      ],
      "text/plain": [
       "                     Age                  Overall                Potential \n",
       "                       0                        0                        0 \n",
       "                Crossing             ShortPassing          HeadingAccuracy \n",
       "                       0                        0                        0 \n",
       "            Acceleration                   Vision              SprintSpeed \n",
       "                       0                        0                        0 \n",
       "               ShotPower              BallControl                Reactions \n",
       "                       0                        0                        0 \n",
       "               Dribbling                LongShots              Positioning \n",
       "                       0                        0                        0 \n",
       "International.Reputation                    Value \n",
       "                       0                        0 "
      ]
     },
     "metadata": {},
     "output_type": "display_data"
    }
   ],
   "source": [
    "#Dataset para Left/Right Attacking Wingers\n",
    "fifaLRAW <- fifaClean %>% filter(Position == \"LRAW\")%>% \n",
    "                   select(Age, Overall, Potential, Crossing, ShortPassing, HeadingAccuracy, Acceleration, \n",
    "                          Vision, SprintSpeed, ShotPower, BallControl, Reactions, Dribbling, LongShots, \n",
    "                          Positioning, International.Reputation, Value)  \n",
    "head(fifaLRAW, 20)\n",
    "colSums(is.na(fifaLRAW))"
   ]
  },
  {
   "cell_type": "markdown",
   "metadata": {},
   "source": [
    "<a id='Center/Left/RightForwarders'></a>\n",
    "## Dataset para Center/Left/Right Forwarders"
   ]
  },
  {
   "cell_type": "code",
   "execution_count": 154,
   "metadata": {},
   "outputs": [
    {
     "data": {
      "text/html": [
       "<table>\n",
       "<thead><tr><th scope=col>Age</th><th scope=col>Overall</th><th scope=col>Potential</th><th scope=col>Finishing</th><th scope=col>ShortPassing</th><th scope=col>HeadingAccuracy</th><th scope=col>Acceleration</th><th scope=col>Vision</th><th scope=col>SprintSpeed</th><th scope=col>ShotPower</th><th scope=col>BallControl</th><th scope=col>Reactions</th><th scope=col>Dribbling</th><th scope=col>LongShots</th><th scope=col>Positioning</th><th scope=col>International.Reputation</th><th scope=col>Value</th></tr></thead>\n",
       "<tbody>\n",
       "\t<tr><td>31       </td><td>94       </td><td>94       </td><td>95       </td><td>90       </td><td>70       </td><td>91       </td><td>94       </td><td>86       </td><td>85       </td><td>96       </td><td>95       </td><td>97       </td><td>94       </td><td>94       </td><td>5        </td><td>110500000</td></tr>\n",
       "\t<tr><td>27       </td><td>91       </td><td>91       </td><td>84       </td><td>89       </td><td>61       </td><td>94       </td><td>89       </td><td>88       </td><td>82       </td><td>94       </td><td>90       </td><td>95       </td><td>80       </td><td>87       </td><td>4        </td><td> 93000000</td></tr>\n",
       "\t<tr><td>24       </td><td>89       </td><td>94       </td><td>84       </td><td>87       </td><td>68       </td><td>87       </td><td>87       </td><td>83       </td><td>82       </td><td>92       </td><td>86       </td><td>92       </td><td>88       </td><td>84       </td><td>3        </td><td> 89000000</td></tr>\n",
       "\t<tr><td>31       </td><td>87       </td><td>87       </td><td>86       </td><td>82       </td><td>35       </td><td>93       </td><td>83       </td><td>85       </td><td>80       </td><td>89       </td><td>88       </td><td>91       </td><td>81       </td><td>87       </td><td>3        </td><td> 45000000</td></tr>\n",
       "\t<tr><td>34       </td><td>86       </td><td>86       </td><td>70       </td><td>90       </td><td>54       </td><td>70       </td><td>93       </td><td>67       </td><td>65       </td><td>92       </td><td>86       </td><td>90       </td><td>71       </td><td>81       </td><td>4        </td><td> 21500000</td></tr>\n",
       "\t<tr><td>25       </td><td>82       </td><td>85       </td><td>80       </td><td>88       </td><td>49       </td><td>77       </td><td>87       </td><td>72       </td><td>77       </td><td>88       </td><td>83       </td><td>86       </td><td>77       </td><td>81       </td><td>2        </td><td> 28500000</td></tr>\n",
       "\t<tr><td>28       </td><td>82       </td><td>82       </td><td>78       </td><td>84       </td><td>41       </td><td>86       </td><td>84       </td><td>76       </td><td>70       </td><td>82       </td><td>81       </td><td>84       </td><td>79       </td><td>72       </td><td>2        </td><td> 22500000</td></tr>\n",
       "\t<tr><td>31       </td><td>82       </td><td>82       </td><td>80       </td><td>80       </td><td>34       </td><td>88       </td><td>81       </td><td>80       </td><td>80       </td><td>86       </td><td>80       </td><td>86       </td><td>81       </td><td>82       </td><td>2        </td><td> 20000000</td></tr>\n",
       "\t<tr><td>24       </td><td>81       </td><td>88       </td><td>88       </td><td>63       </td><td>78       </td><td>69       </td><td>60       </td><td>74       </td><td>85       </td><td>78       </td><td>75       </td><td>74       </td><td>82       </td><td>81       </td><td>3        </td><td> 25500000</td></tr>\n",
       "\t<tr><td>29       </td><td>81       </td><td>81       </td><td>79       </td><td>85       </td><td>64       </td><td>74       </td><td>83       </td><td>67       </td><td>81       </td><td>83       </td><td>84       </td><td>78       </td><td>83       </td><td>84       </td><td>2        </td><td> 18000000</td></tr>\n",
       "\t<tr><td>33       </td><td>81       </td><td>81       </td><td>78       </td><td>83       </td><td>63       </td><td>74       </td><td>81       </td><td>66       </td><td>77       </td><td>85       </td><td>82       </td><td>87       </td><td>74       </td><td>82       </td><td>2        </td><td> 11000000</td></tr>\n",
       "\t<tr><td>32       </td><td>80       </td><td>80       </td><td>80       </td><td>79       </td><td>70       </td><td>62       </td><td>82       </td><td>60       </td><td>85       </td><td>82       </td><td>80       </td><td>78       </td><td>84       </td><td>84       </td><td>2        </td><td> 11500000</td></tr>\n",
       "\t<tr><td>27       </td><td>79       </td><td>80       </td><td>77       </td><td>81       </td><td>76       </td><td>80       </td><td>77       </td><td>77       </td><td>76       </td><td>81       </td><td>76       </td><td>78       </td><td>74       </td><td>83       </td><td>2        </td><td> 14500000</td></tr>\n",
       "\t<tr><td>33       </td><td>78       </td><td>78       </td><td>77       </td><td>76       </td><td>66       </td><td>76       </td><td>79       </td><td>75       </td><td>92       </td><td>78       </td><td>76       </td><td>78       </td><td>80       </td><td>75       </td><td>3        </td><td>  6500000</td></tr>\n",
       "\t<tr><td>24       </td><td>76       </td><td>81       </td><td>78       </td><td>71       </td><td>66       </td><td>77       </td><td>71       </td><td>75       </td><td>66       </td><td>78       </td><td>76       </td><td>82       </td><td>64       </td><td>80       </td><td>1        </td><td> 10500000</td></tr>\n",
       "\t<tr><td>28       </td><td>76       </td><td>76       </td><td>72       </td><td>74       </td><td>73       </td><td>77       </td><td>78       </td><td>76       </td><td>70       </td><td>76       </td><td>78       </td><td>78       </td><td>69       </td><td>77       </td><td>1        </td><td>  8000000</td></tr>\n",
       "\t<tr><td>24       </td><td>76       </td><td>79       </td><td>72       </td><td>78       </td><td>63       </td><td>61       </td><td>77       </td><td>58       </td><td>86       </td><td>81       </td><td>71       </td><td>84       </td><td>84       </td><td>72       </td><td>2        </td><td> 10000000</td></tr>\n",
       "\t<tr><td>30       </td><td>76       </td><td>76       </td><td>69       </td><td>76       </td><td>66       </td><td>76       </td><td>74       </td><td>78       </td><td>79       </td><td>77       </td><td>76       </td><td>75       </td><td>79       </td><td>71       </td><td>1        </td><td>  7500000</td></tr>\n",
       "\t<tr><td>26       </td><td>76       </td><td>77       </td><td>70       </td><td>73       </td><td>52       </td><td>85       </td><td>72       </td><td>83       </td><td>82       </td><td>77       </td><td>70       </td><td>78       </td><td>74       </td><td>73       </td><td>2        </td><td>  9000000</td></tr>\n",
       "\t<tr><td>32       </td><td>75       </td><td>75       </td><td>70       </td><td>74       </td><td>73       </td><td>75       </td><td>69       </td><td>61       </td><td>76       </td><td>78       </td><td>83       </td><td>77       </td><td>66       </td><td>83       </td><td>2        </td><td>  5500000</td></tr>\n",
       "</tbody>\n",
       "</table>\n"
      ],
      "text/latex": [
       "\\begin{tabular}{r|lllllllllllllllll}\n",
       " Age & Overall & Potential & Finishing & ShortPassing & HeadingAccuracy & Acceleration & Vision & SprintSpeed & ShotPower & BallControl & Reactions & Dribbling & LongShots & Positioning & International.Reputation & Value\\\\\n",
       "\\hline\n",
       "\t 31        & 94        & 94        & 95        & 90        & 70        & 91        & 94        & 86        & 85        & 96        & 95        & 97        & 94        & 94        & 5         & 110500000\\\\\n",
       "\t 27        & 91        & 91        & 84        & 89        & 61        & 94        & 89        & 88        & 82        & 94        & 90        & 95        & 80        & 87        & 4         &  93000000\\\\\n",
       "\t 24        & 89        & 94        & 84        & 87        & 68        & 87        & 87        & 83        & 82        & 92        & 86        & 92        & 88        & 84        & 3         &  89000000\\\\\n",
       "\t 31        & 87        & 87        & 86        & 82        & 35        & 93        & 83        & 85        & 80        & 89        & 88        & 91        & 81        & 87        & 3         &  45000000\\\\\n",
       "\t 34        & 86        & 86        & 70        & 90        & 54        & 70        & 93        & 67        & 65        & 92        & 86        & 90        & 71        & 81        & 4         &  21500000\\\\\n",
       "\t 25        & 82        & 85        & 80        & 88        & 49        & 77        & 87        & 72        & 77        & 88        & 83        & 86        & 77        & 81        & 2         &  28500000\\\\\n",
       "\t 28        & 82        & 82        & 78        & 84        & 41        & 86        & 84        & 76        & 70        & 82        & 81        & 84        & 79        & 72        & 2         &  22500000\\\\\n",
       "\t 31        & 82        & 82        & 80        & 80        & 34        & 88        & 81        & 80        & 80        & 86        & 80        & 86        & 81        & 82        & 2         &  20000000\\\\\n",
       "\t 24        & 81        & 88        & 88        & 63        & 78        & 69        & 60        & 74        & 85        & 78        & 75        & 74        & 82        & 81        & 3         &  25500000\\\\\n",
       "\t 29        & 81        & 81        & 79        & 85        & 64        & 74        & 83        & 67        & 81        & 83        & 84        & 78        & 83        & 84        & 2         &  18000000\\\\\n",
       "\t 33        & 81        & 81        & 78        & 83        & 63        & 74        & 81        & 66        & 77        & 85        & 82        & 87        & 74        & 82        & 2         &  11000000\\\\\n",
       "\t 32        & 80        & 80        & 80        & 79        & 70        & 62        & 82        & 60        & 85        & 82        & 80        & 78        & 84        & 84        & 2         &  11500000\\\\\n",
       "\t 27        & 79        & 80        & 77        & 81        & 76        & 80        & 77        & 77        & 76        & 81        & 76        & 78        & 74        & 83        & 2         &  14500000\\\\\n",
       "\t 33        & 78        & 78        & 77        & 76        & 66        & 76        & 79        & 75        & 92        & 78        & 76        & 78        & 80        & 75        & 3         &   6500000\\\\\n",
       "\t 24        & 76        & 81        & 78        & 71        & 66        & 77        & 71        & 75        & 66        & 78        & 76        & 82        & 64        & 80        & 1         &  10500000\\\\\n",
       "\t 28        & 76        & 76        & 72        & 74        & 73        & 77        & 78        & 76        & 70        & 76        & 78        & 78        & 69        & 77        & 1         &   8000000\\\\\n",
       "\t 24        & 76        & 79        & 72        & 78        & 63        & 61        & 77        & 58        & 86        & 81        & 71        & 84        & 84        & 72        & 2         &  10000000\\\\\n",
       "\t 30        & 76        & 76        & 69        & 76        & 66        & 76        & 74        & 78        & 79        & 77        & 76        & 75        & 79        & 71        & 1         &   7500000\\\\\n",
       "\t 26        & 76        & 77        & 70        & 73        & 52        & 85        & 72        & 83        & 82        & 77        & 70        & 78        & 74        & 73        & 2         &   9000000\\\\\n",
       "\t 32        & 75        & 75        & 70        & 74        & 73        & 75        & 69        & 61        & 76        & 78        & 83        & 77        & 66        & 83        & 2         &   5500000\\\\\n",
       "\\end{tabular}\n"
      ],
      "text/markdown": [
       "\n",
       "| Age | Overall | Potential | Finishing | ShortPassing | HeadingAccuracy | Acceleration | Vision | SprintSpeed | ShotPower | BallControl | Reactions | Dribbling | LongShots | Positioning | International.Reputation | Value |\n",
       "|---|---|---|---|---|---|---|---|---|---|---|---|---|---|---|---|---|\n",
       "| 31        | 94        | 94        | 95        | 90        | 70        | 91        | 94        | 86        | 85        | 96        | 95        | 97        | 94        | 94        | 5         | 110500000 |\n",
       "| 27        | 91        | 91        | 84        | 89        | 61        | 94        | 89        | 88        | 82        | 94        | 90        | 95        | 80        | 87        | 4         |  93000000 |\n",
       "| 24        | 89        | 94        | 84        | 87        | 68        | 87        | 87        | 83        | 82        | 92        | 86        | 92        | 88        | 84        | 3         |  89000000 |\n",
       "| 31        | 87        | 87        | 86        | 82        | 35        | 93        | 83        | 85        | 80        | 89        | 88        | 91        | 81        | 87        | 3         |  45000000 |\n",
       "| 34        | 86        | 86        | 70        | 90        | 54        | 70        | 93        | 67        | 65        | 92        | 86        | 90        | 71        | 81        | 4         |  21500000 |\n",
       "| 25        | 82        | 85        | 80        | 88        | 49        | 77        | 87        | 72        | 77        | 88        | 83        | 86        | 77        | 81        | 2         |  28500000 |\n",
       "| 28        | 82        | 82        | 78        | 84        | 41        | 86        | 84        | 76        | 70        | 82        | 81        | 84        | 79        | 72        | 2         |  22500000 |\n",
       "| 31        | 82        | 82        | 80        | 80        | 34        | 88        | 81        | 80        | 80        | 86        | 80        | 86        | 81        | 82        | 2         |  20000000 |\n",
       "| 24        | 81        | 88        | 88        | 63        | 78        | 69        | 60        | 74        | 85        | 78        | 75        | 74        | 82        | 81        | 3         |  25500000 |\n",
       "| 29        | 81        | 81        | 79        | 85        | 64        | 74        | 83        | 67        | 81        | 83        | 84        | 78        | 83        | 84        | 2         |  18000000 |\n",
       "| 33        | 81        | 81        | 78        | 83        | 63        | 74        | 81        | 66        | 77        | 85        | 82        | 87        | 74        | 82        | 2         |  11000000 |\n",
       "| 32        | 80        | 80        | 80        | 79        | 70        | 62        | 82        | 60        | 85        | 82        | 80        | 78        | 84        | 84        | 2         |  11500000 |\n",
       "| 27        | 79        | 80        | 77        | 81        | 76        | 80        | 77        | 77        | 76        | 81        | 76        | 78        | 74        | 83        | 2         |  14500000 |\n",
       "| 33        | 78        | 78        | 77        | 76        | 66        | 76        | 79        | 75        | 92        | 78        | 76        | 78        | 80        | 75        | 3         |   6500000 |\n",
       "| 24        | 76        | 81        | 78        | 71        | 66        | 77        | 71        | 75        | 66        | 78        | 76        | 82        | 64        | 80        | 1         |  10500000 |\n",
       "| 28        | 76        | 76        | 72        | 74        | 73        | 77        | 78        | 76        | 70        | 76        | 78        | 78        | 69        | 77        | 1         |   8000000 |\n",
       "| 24        | 76        | 79        | 72        | 78        | 63        | 61        | 77        | 58        | 86        | 81        | 71        | 84        | 84        | 72        | 2         |  10000000 |\n",
       "| 30        | 76        | 76        | 69        | 76        | 66        | 76        | 74        | 78        | 79        | 77        | 76        | 75        | 79        | 71        | 1         |   7500000 |\n",
       "| 26        | 76        | 77        | 70        | 73        | 52        | 85        | 72        | 83        | 82        | 77        | 70        | 78        | 74        | 73        | 2         |   9000000 |\n",
       "| 32        | 75        | 75        | 70        | 74        | 73        | 75        | 69        | 61        | 76        | 78        | 83        | 77        | 66        | 83        | 2         |   5500000 |\n",
       "\n"
      ],
      "text/plain": [
       "   Age Overall Potential Finishing ShortPassing HeadingAccuracy Acceleration\n",
       "1  31  94      94        95        90           70              91          \n",
       "2  27  91      91        84        89           61              94          \n",
       "3  24  89      94        84        87           68              87          \n",
       "4  31  87      87        86        82           35              93          \n",
       "5  34  86      86        70        90           54              70          \n",
       "6  25  82      85        80        88           49              77          \n",
       "7  28  82      82        78        84           41              86          \n",
       "8  31  82      82        80        80           34              88          \n",
       "9  24  81      88        88        63           78              69          \n",
       "10 29  81      81        79        85           64              74          \n",
       "11 33  81      81        78        83           63              74          \n",
       "12 32  80      80        80        79           70              62          \n",
       "13 27  79      80        77        81           76              80          \n",
       "14 33  78      78        77        76           66              76          \n",
       "15 24  76      81        78        71           66              77          \n",
       "16 28  76      76        72        74           73              77          \n",
       "17 24  76      79        72        78           63              61          \n",
       "18 30  76      76        69        76           66              76          \n",
       "19 26  76      77        70        73           52              85          \n",
       "20 32  75      75        70        74           73              75          \n",
       "   Vision SprintSpeed ShotPower BallControl Reactions Dribbling LongShots\n",
       "1  94     86          85        96          95        97        94       \n",
       "2  89     88          82        94          90        95        80       \n",
       "3  87     83          82        92          86        92        88       \n",
       "4  83     85          80        89          88        91        81       \n",
       "5  93     67          65        92          86        90        71       \n",
       "6  87     72          77        88          83        86        77       \n",
       "7  84     76          70        82          81        84        79       \n",
       "8  81     80          80        86          80        86        81       \n",
       "9  60     74          85        78          75        74        82       \n",
       "10 83     67          81        83          84        78        83       \n",
       "11 81     66          77        85          82        87        74       \n",
       "12 82     60          85        82          80        78        84       \n",
       "13 77     77          76        81          76        78        74       \n",
       "14 79     75          92        78          76        78        80       \n",
       "15 71     75          66        78          76        82        64       \n",
       "16 78     76          70        76          78        78        69       \n",
       "17 77     58          86        81          71        84        84       \n",
       "18 74     78          79        77          76        75        79       \n",
       "19 72     83          82        77          70        78        74       \n",
       "20 69     61          76        78          83        77        66       \n",
       "   Positioning International.Reputation Value    \n",
       "1  94          5                        110500000\n",
       "2  87          4                         93000000\n",
       "3  84          3                         89000000\n",
       "4  87          3                         45000000\n",
       "5  81          4                         21500000\n",
       "6  81          2                         28500000\n",
       "7  72          2                         22500000\n",
       "8  82          2                         20000000\n",
       "9  81          3                         25500000\n",
       "10 84          2                         18000000\n",
       "11 82          2                         11000000\n",
       "12 84          2                         11500000\n",
       "13 83          2                         14500000\n",
       "14 75          3                          6500000\n",
       "15 80          1                         10500000\n",
       "16 77          1                          8000000\n",
       "17 72          2                         10000000\n",
       "18 71          1                          7500000\n",
       "19 73          2                          9000000\n",
       "20 83          2                          5500000"
      ]
     },
     "metadata": {},
     "output_type": "display_data"
    },
    {
     "data": {
      "text/html": [
       "<dl class=dl-horizontal>\n",
       "\t<dt>Age</dt>\n",
       "\t\t<dd>0</dd>\n",
       "\t<dt>Overall</dt>\n",
       "\t\t<dd>0</dd>\n",
       "\t<dt>Potential</dt>\n",
       "\t\t<dd>0</dd>\n",
       "\t<dt>Finishing</dt>\n",
       "\t\t<dd>0</dd>\n",
       "\t<dt>ShortPassing</dt>\n",
       "\t\t<dd>0</dd>\n",
       "\t<dt>HeadingAccuracy</dt>\n",
       "\t\t<dd>0</dd>\n",
       "\t<dt>Acceleration</dt>\n",
       "\t\t<dd>0</dd>\n",
       "\t<dt>Vision</dt>\n",
       "\t\t<dd>0</dd>\n",
       "\t<dt>SprintSpeed</dt>\n",
       "\t\t<dd>0</dd>\n",
       "\t<dt>ShotPower</dt>\n",
       "\t\t<dd>0</dd>\n",
       "\t<dt>BallControl</dt>\n",
       "\t\t<dd>0</dd>\n",
       "\t<dt>Reactions</dt>\n",
       "\t\t<dd>0</dd>\n",
       "\t<dt>Dribbling</dt>\n",
       "\t\t<dd>0</dd>\n",
       "\t<dt>LongShots</dt>\n",
       "\t\t<dd>0</dd>\n",
       "\t<dt>Positioning</dt>\n",
       "\t\t<dd>0</dd>\n",
       "\t<dt>International.Reputation</dt>\n",
       "\t\t<dd>0</dd>\n",
       "\t<dt>Value</dt>\n",
       "\t\t<dd>0</dd>\n",
       "</dl>\n"
      ],
      "text/latex": [
       "\\begin{description*}\n",
       "\\item[Age] 0\n",
       "\\item[Overall] 0\n",
       "\\item[Potential] 0\n",
       "\\item[Finishing] 0\n",
       "\\item[ShortPassing] 0\n",
       "\\item[HeadingAccuracy] 0\n",
       "\\item[Acceleration] 0\n",
       "\\item[Vision] 0\n",
       "\\item[SprintSpeed] 0\n",
       "\\item[ShotPower] 0\n",
       "\\item[BallControl] 0\n",
       "\\item[Reactions] 0\n",
       "\\item[Dribbling] 0\n",
       "\\item[LongShots] 0\n",
       "\\item[Positioning] 0\n",
       "\\item[International.Reputation] 0\n",
       "\\item[Value] 0\n",
       "\\end{description*}\n"
      ],
      "text/markdown": [
       "Age\n",
       ":   0Overall\n",
       ":   0Potential\n",
       ":   0Finishing\n",
       ":   0ShortPassing\n",
       ":   0HeadingAccuracy\n",
       ":   0Acceleration\n",
       ":   0Vision\n",
       ":   0SprintSpeed\n",
       ":   0ShotPower\n",
       ":   0BallControl\n",
       ":   0Reactions\n",
       ":   0Dribbling\n",
       ":   0LongShots\n",
       ":   0Positioning\n",
       ":   0International.Reputation\n",
       ":   0Value\n",
       ":   0\n",
       "\n"
      ],
      "text/plain": [
       "                     Age                  Overall                Potential \n",
       "                       0                        0                        0 \n",
       "               Finishing             ShortPassing          HeadingAccuracy \n",
       "                       0                        0                        0 \n",
       "            Acceleration                   Vision              SprintSpeed \n",
       "                       0                        0                        0 \n",
       "               ShotPower              BallControl                Reactions \n",
       "                       0                        0                        0 \n",
       "               Dribbling                LongShots              Positioning \n",
       "                       0                        0                        0 \n",
       "International.Reputation                    Value \n",
       "                       0                        0 "
      ]
     },
     "metadata": {},
     "output_type": "display_data"
    }
   ],
   "source": [
    "#Dataset para Center/Left/Right Forwarders\n",
    "fifaCLRF <- fifaClean %>% filter(Position == \"CLRF\")%>% \n",
    "                   select(Age, Overall, Potential, Finishing, ShortPassing, HeadingAccuracy, \n",
    "                          Acceleration, Vision, SprintSpeed, ShotPower, BallControl, Reactions, \n",
    "                          Dribbling, LongShots, Positioning, International.Reputation, Value)  \n",
    "head(fifaCLRF, 20)\n",
    "colSums(is.na(fifaCLRF))"
   ]
  },
  {
   "cell_type": "markdown",
   "metadata": {},
   "source": [
    "<a id='Strikers'></a>\n",
    "## Dataset para Strikers"
   ]
  },
  {
   "cell_type": "code",
   "execution_count": 155,
   "metadata": {},
   "outputs": [
    {
     "data": {
      "text/html": [
       "<table>\n",
       "<thead><tr><th scope=col>Age</th><th scope=col>Overall</th><th scope=col>Potential</th><th scope=col>Finishing</th><th scope=col>Strength</th><th scope=col>HeadingAccuracy</th><th scope=col>Acceleration</th><th scope=col>Volleys</th><th scope=col>SprintSpeed</th><th scope=col>ShotPower</th><th scope=col>BallControl</th><th scope=col>Reactions</th><th scope=col>Dribbling</th><th scope=col>LongShots</th><th scope=col>Positioning</th><th scope=col>International.Reputation</th><th scope=col>Value</th></tr></thead>\n",
       "<tbody>\n",
       "\t<tr><td>33      </td><td>94      </td><td>94      </td><td>94      </td><td>79      </td><td>89      </td><td>89      </td><td>87      </td><td>91      </td><td>95      </td><td>94      </td><td>96      </td><td>88      </td><td>93      </td><td>95      </td><td>5       </td><td>77000000</td></tr>\n",
       "\t<tr><td>31      </td><td>91      </td><td>91      </td><td>93      </td><td>83      </td><td>77      </td><td>86      </td><td>88      </td><td>75      </td><td>86      </td><td>90      </td><td>92      </td><td>87      </td><td>85      </td><td>92      </td><td>5       </td><td>80000000</td></tr>\n",
       "\t<tr><td>29      </td><td>90      </td><td>90      </td><td>91      </td><td>84      </td><td>85      </td><td>77      </td><td>89      </td><td>78      </td><td>88      </td><td>89      </td><td>90      </td><td>85      </td><td>84      </td><td>91      </td><td>4       </td><td>77000000</td></tr>\n",
       "\t<tr><td>24      </td><td>89      </td><td>91      </td><td>94      </td><td>84      </td><td>85      </td><td>68      </td><td>84      </td><td>72      </td><td>88      </td><td>84      </td><td>91      </td><td>80      </td><td>85      </td><td>93      </td><td>3       </td><td>83500000</td></tr>\n",
       "\t<tr><td>31      </td><td>89      </td><td>89      </td><td>89      </td><td>78      </td><td>89      </td><td>75      </td><td>90      </td><td>76      </td><td>87      </td><td>82      </td><td>91      </td><td>80      </td><td>79      </td><td>93      </td><td>4       </td><td>60000000</td></tr>\n",
       "\t<tr><td>30      </td><td>89      </td><td>89      </td><td>93      </td><td>73      </td><td>77      </td><td>88      </td><td>85      </td><td>80      </td><td>88      </td><td>89      </td><td>90      </td><td>89      </td><td>83      </td><td>92      </td><td>4       </td><td>64500000</td></tr>\n",
       "\t<tr><td>28      </td><td>88      </td><td>88      </td><td>86      </td><td>80      </td><td>84      </td><td>94      </td><td>85      </td><td>95      </td><td>92      </td><td>85      </td><td>85      </td><td>87      </td><td>91      </td><td>85      </td><td>4       </td><td>60000000</td></tr>\n",
       "\t<tr><td>30      </td><td>88      </td><td>88      </td><td>92      </td><td>85      </td><td>80      </td><td>73      </td><td>90      </td><td>73      </td><td>86      </td><td>85      </td><td>86      </td><td>84      </td><td>80      </td><td>92      </td><td>4       </td><td>57000000</td></tr>\n",
       "\t<tr><td>25      </td><td>87      </td><td>90      </td><td>91      </td><td>76      </td><td>91      </td><td>77      </td><td>85      </td><td>78      </td><td>84      </td><td>81      </td><td>88      </td><td>77      </td><td>70      </td><td>92      </td><td>3       </td><td>64500000</td></tr>\n",
       "\t<tr><td>25      </td><td>87      </td><td>89      </td><td>87      </td><td>94      </td><td>86      </td><td>77      </td><td>79      </td><td>90      </td><td>88      </td><td>72      </td><td>86      </td><td>80      </td><td>74      </td><td>89      </td><td>3       </td><td>62500000</td></tr>\n",
       "\t<tr><td>28      </td><td>87      </td><td>87      </td><td>90      </td><td>76      </td><td>81      </td><td>78      </td><td>87      </td><td>85      </td><td>86      </td><td>83      </td><td>87      </td><td>83      </td><td>80      </td><td>91      </td><td>3       </td><td>52000000</td></tr>\n",
       "\t<tr><td>27      </td><td>85      </td><td>86      </td><td>88      </td><td>73      </td><td>73      </td><td>81      </td><td>81      </td><td>84      </td><td>83      </td><td>83      </td><td>85      </td><td>85      </td><td>75      </td><td>86      </td><td>3       </td><td>45000000</td></tr>\n",
       "\t<tr><td>32      </td><td>85      </td><td>85      </td><td>89      </td><td>80      </td><td>84      </td><td>65      </td><td>77      </td><td>66      </td><td>86      </td><td>84      </td><td>83      </td><td>76      </td><td>79      </td><td>89      </td><td>3       </td><td>30500000</td></tr>\n",
       "\t<tr><td>29      </td><td>85      </td><td>85      </td><td>87      </td><td>92      </td><td>82      </td><td>74      </td><td>81      </td><td>76      </td><td>83      </td><td>83      </td><td>85      </td><td>77      </td><td>74      </td><td>87      </td><td>4       </td><td>38500000</td></tr>\n",
       "\t<tr><td>30      </td><td>85      </td><td>85      </td><td>81      </td><td>80      </td><td>80      </td><td>76      </td><td>82      </td><td>76      </td><td>81      </td><td>86      </td><td>83      </td><td>83      </td><td>75      </td><td>86      </td><td>4       </td><td>37000000</td></tr>\n",
       "\t<tr><td>36      </td><td>85      </td><td>85      </td><td>86      </td><td>86      </td><td>83      </td><td>58      </td><td>86      </td><td>59      </td><td>90      </td><td>84      </td><td>82      </td><td>79      </td><td>82      </td><td>85      </td><td>5       </td><td>14000000</td></tr>\n",
       "\t<tr><td>24      </td><td>84      </td><td>89      </td><td>79      </td><td>80      </td><td>65      </td><td>87      </td><td>74      </td><td>87      </td><td>87      </td><td>85      </td><td>79      </td><td>85      </td><td>81      </td><td>83      </td><td>3       </td><td>42000000</td></tr>\n",
       "\t<tr><td>30      </td><td>84      </td><td>84      </td><td>88      </td><td>60      </td><td>78      </td><td>85      </td><td>83      </td><td>78      </td><td>79      </td><td>85      </td><td>85      </td><td>86      </td><td>82      </td><td>86      </td><td>2       </td><td>30000000</td></tr>\n",
       "\t<tr><td>32      </td><td>84      </td><td>84      </td><td>84      </td><td>85      </td><td>90      </td><td>67      </td><td>86      </td><td>73      </td><td>80      </td><td>77      </td><td>86      </td><td>76      </td><td>60      </td><td>90      </td><td>3       </td><td>25000000</td></tr>\n",
       "\t<tr><td>34      </td><td>84      </td><td>84      </td><td>88      </td><td>63      </td><td>84      </td><td>65      </td><td>85      </td><td>64      </td><td>84      </td><td>88      </td><td>85      </td><td>84      </td><td>85      </td><td>87      </td><td>3       </td><td>16500000</td></tr>\n",
       "</tbody>\n",
       "</table>\n"
      ],
      "text/latex": [
       "\\begin{tabular}{r|lllllllllllllllll}\n",
       " Age & Overall & Potential & Finishing & Strength & HeadingAccuracy & Acceleration & Volleys & SprintSpeed & ShotPower & BallControl & Reactions & Dribbling & LongShots & Positioning & International.Reputation & Value\\\\\n",
       "\\hline\n",
       "\t 33       & 94       & 94       & 94       & 79       & 89       & 89       & 87       & 91       & 95       & 94       & 96       & 88       & 93       & 95       & 5        & 77000000\\\\\n",
       "\t 31       & 91       & 91       & 93       & 83       & 77       & 86       & 88       & 75       & 86       & 90       & 92       & 87       & 85       & 92       & 5        & 80000000\\\\\n",
       "\t 29       & 90       & 90       & 91       & 84       & 85       & 77       & 89       & 78       & 88       & 89       & 90       & 85       & 84       & 91       & 4        & 77000000\\\\\n",
       "\t 24       & 89       & 91       & 94       & 84       & 85       & 68       & 84       & 72       & 88       & 84       & 91       & 80       & 85       & 93       & 3        & 83500000\\\\\n",
       "\t 31       & 89       & 89       & 89       & 78       & 89       & 75       & 90       & 76       & 87       & 82       & 91       & 80       & 79       & 93       & 4        & 60000000\\\\\n",
       "\t 30       & 89       & 89       & 93       & 73       & 77       & 88       & 85       & 80       & 88       & 89       & 90       & 89       & 83       & 92       & 4        & 64500000\\\\\n",
       "\t 28       & 88       & 88       & 86       & 80       & 84       & 94       & 85       & 95       & 92       & 85       & 85       & 87       & 91       & 85       & 4        & 60000000\\\\\n",
       "\t 30       & 88       & 88       & 92       & 85       & 80       & 73       & 90       & 73       & 86       & 85       & 86       & 84       & 80       & 92       & 4        & 57000000\\\\\n",
       "\t 25       & 87       & 90       & 91       & 76       & 91       & 77       & 85       & 78       & 84       & 81       & 88       & 77       & 70       & 92       & 3        & 64500000\\\\\n",
       "\t 25       & 87       & 89       & 87       & 94       & 86       & 77       & 79       & 90       & 88       & 72       & 86       & 80       & 74       & 89       & 3        & 62500000\\\\\n",
       "\t 28       & 87       & 87       & 90       & 76       & 81       & 78       & 87       & 85       & 86       & 83       & 87       & 83       & 80       & 91       & 3        & 52000000\\\\\n",
       "\t 27       & 85       & 86       & 88       & 73       & 73       & 81       & 81       & 84       & 83       & 83       & 85       & 85       & 75       & 86       & 3        & 45000000\\\\\n",
       "\t 32       & 85       & 85       & 89       & 80       & 84       & 65       & 77       & 66       & 86       & 84       & 83       & 76       & 79       & 89       & 3        & 30500000\\\\\n",
       "\t 29       & 85       & 85       & 87       & 92       & 82       & 74       & 81       & 76       & 83       & 83       & 85       & 77       & 74       & 87       & 4        & 38500000\\\\\n",
       "\t 30       & 85       & 85       & 81       & 80       & 80       & 76       & 82       & 76       & 81       & 86       & 83       & 83       & 75       & 86       & 4        & 37000000\\\\\n",
       "\t 36       & 85       & 85       & 86       & 86       & 83       & 58       & 86       & 59       & 90       & 84       & 82       & 79       & 82       & 85       & 5        & 14000000\\\\\n",
       "\t 24       & 84       & 89       & 79       & 80       & 65       & 87       & 74       & 87       & 87       & 85       & 79       & 85       & 81       & 83       & 3        & 42000000\\\\\n",
       "\t 30       & 84       & 84       & 88       & 60       & 78       & 85       & 83       & 78       & 79       & 85       & 85       & 86       & 82       & 86       & 2        & 30000000\\\\\n",
       "\t 32       & 84       & 84       & 84       & 85       & 90       & 67       & 86       & 73       & 80       & 77       & 86       & 76       & 60       & 90       & 3        & 25000000\\\\\n",
       "\t 34       & 84       & 84       & 88       & 63       & 84       & 65       & 85       & 64       & 84       & 88       & 85       & 84       & 85       & 87       & 3        & 16500000\\\\\n",
       "\\end{tabular}\n"
      ],
      "text/markdown": [
       "\n",
       "| Age | Overall | Potential | Finishing | Strength | HeadingAccuracy | Acceleration | Volleys | SprintSpeed | ShotPower | BallControl | Reactions | Dribbling | LongShots | Positioning | International.Reputation | Value |\n",
       "|---|---|---|---|---|---|---|---|---|---|---|---|---|---|---|---|---|\n",
       "| 33       | 94       | 94       | 94       | 79       | 89       | 89       | 87       | 91       | 95       | 94       | 96       | 88       | 93       | 95       | 5        | 77000000 |\n",
       "| 31       | 91       | 91       | 93       | 83       | 77       | 86       | 88       | 75       | 86       | 90       | 92       | 87       | 85       | 92       | 5        | 80000000 |\n",
       "| 29       | 90       | 90       | 91       | 84       | 85       | 77       | 89       | 78       | 88       | 89       | 90       | 85       | 84       | 91       | 4        | 77000000 |\n",
       "| 24       | 89       | 91       | 94       | 84       | 85       | 68       | 84       | 72       | 88       | 84       | 91       | 80       | 85       | 93       | 3        | 83500000 |\n",
       "| 31       | 89       | 89       | 89       | 78       | 89       | 75       | 90       | 76       | 87       | 82       | 91       | 80       | 79       | 93       | 4        | 60000000 |\n",
       "| 30       | 89       | 89       | 93       | 73       | 77       | 88       | 85       | 80       | 88       | 89       | 90       | 89       | 83       | 92       | 4        | 64500000 |\n",
       "| 28       | 88       | 88       | 86       | 80       | 84       | 94       | 85       | 95       | 92       | 85       | 85       | 87       | 91       | 85       | 4        | 60000000 |\n",
       "| 30       | 88       | 88       | 92       | 85       | 80       | 73       | 90       | 73       | 86       | 85       | 86       | 84       | 80       | 92       | 4        | 57000000 |\n",
       "| 25       | 87       | 90       | 91       | 76       | 91       | 77       | 85       | 78       | 84       | 81       | 88       | 77       | 70       | 92       | 3        | 64500000 |\n",
       "| 25       | 87       | 89       | 87       | 94       | 86       | 77       | 79       | 90       | 88       | 72       | 86       | 80       | 74       | 89       | 3        | 62500000 |\n",
       "| 28       | 87       | 87       | 90       | 76       | 81       | 78       | 87       | 85       | 86       | 83       | 87       | 83       | 80       | 91       | 3        | 52000000 |\n",
       "| 27       | 85       | 86       | 88       | 73       | 73       | 81       | 81       | 84       | 83       | 83       | 85       | 85       | 75       | 86       | 3        | 45000000 |\n",
       "| 32       | 85       | 85       | 89       | 80       | 84       | 65       | 77       | 66       | 86       | 84       | 83       | 76       | 79       | 89       | 3        | 30500000 |\n",
       "| 29       | 85       | 85       | 87       | 92       | 82       | 74       | 81       | 76       | 83       | 83       | 85       | 77       | 74       | 87       | 4        | 38500000 |\n",
       "| 30       | 85       | 85       | 81       | 80       | 80       | 76       | 82       | 76       | 81       | 86       | 83       | 83       | 75       | 86       | 4        | 37000000 |\n",
       "| 36       | 85       | 85       | 86       | 86       | 83       | 58       | 86       | 59       | 90       | 84       | 82       | 79       | 82       | 85       | 5        | 14000000 |\n",
       "| 24       | 84       | 89       | 79       | 80       | 65       | 87       | 74       | 87       | 87       | 85       | 79       | 85       | 81       | 83       | 3        | 42000000 |\n",
       "| 30       | 84       | 84       | 88       | 60       | 78       | 85       | 83       | 78       | 79       | 85       | 85       | 86       | 82       | 86       | 2        | 30000000 |\n",
       "| 32       | 84       | 84       | 84       | 85       | 90       | 67       | 86       | 73       | 80       | 77       | 86       | 76       | 60       | 90       | 3        | 25000000 |\n",
       "| 34       | 84       | 84       | 88       | 63       | 84       | 65       | 85       | 64       | 84       | 88       | 85       | 84       | 85       | 87       | 3        | 16500000 |\n",
       "\n"
      ],
      "text/plain": [
       "   Age Overall Potential Finishing Strength HeadingAccuracy Acceleration\n",
       "1  33  94      94        94        79       89              89          \n",
       "2  31  91      91        93        83       77              86          \n",
       "3  29  90      90        91        84       85              77          \n",
       "4  24  89      91        94        84       85              68          \n",
       "5  31  89      89        89        78       89              75          \n",
       "6  30  89      89        93        73       77              88          \n",
       "7  28  88      88        86        80       84              94          \n",
       "8  30  88      88        92        85       80              73          \n",
       "9  25  87      90        91        76       91              77          \n",
       "10 25  87      89        87        94       86              77          \n",
       "11 28  87      87        90        76       81              78          \n",
       "12 27  85      86        88        73       73              81          \n",
       "13 32  85      85        89        80       84              65          \n",
       "14 29  85      85        87        92       82              74          \n",
       "15 30  85      85        81        80       80              76          \n",
       "16 36  85      85        86        86       83              58          \n",
       "17 24  84      89        79        80       65              87          \n",
       "18 30  84      84        88        60       78              85          \n",
       "19 32  84      84        84        85       90              67          \n",
       "20 34  84      84        88        63       84              65          \n",
       "   Volleys SprintSpeed ShotPower BallControl Reactions Dribbling LongShots\n",
       "1  87      91          95        94          96        88        93       \n",
       "2  88      75          86        90          92        87        85       \n",
       "3  89      78          88        89          90        85        84       \n",
       "4  84      72          88        84          91        80        85       \n",
       "5  90      76          87        82          91        80        79       \n",
       "6  85      80          88        89          90        89        83       \n",
       "7  85      95          92        85          85        87        91       \n",
       "8  90      73          86        85          86        84        80       \n",
       "9  85      78          84        81          88        77        70       \n",
       "10 79      90          88        72          86        80        74       \n",
       "11 87      85          86        83          87        83        80       \n",
       "12 81      84          83        83          85        85        75       \n",
       "13 77      66          86        84          83        76        79       \n",
       "14 81      76          83        83          85        77        74       \n",
       "15 82      76          81        86          83        83        75       \n",
       "16 86      59          90        84          82        79        82       \n",
       "17 74      87          87        85          79        85        81       \n",
       "18 83      78          79        85          85        86        82       \n",
       "19 86      73          80        77          86        76        60       \n",
       "20 85      64          84        88          85        84        85       \n",
       "   Positioning International.Reputation Value   \n",
       "1  95          5                        77000000\n",
       "2  92          5                        80000000\n",
       "3  91          4                        77000000\n",
       "4  93          3                        83500000\n",
       "5  93          4                        60000000\n",
       "6  92          4                        64500000\n",
       "7  85          4                        60000000\n",
       "8  92          4                        57000000\n",
       "9  92          3                        64500000\n",
       "10 89          3                        62500000\n",
       "11 91          3                        52000000\n",
       "12 86          3                        45000000\n",
       "13 89          3                        30500000\n",
       "14 87          4                        38500000\n",
       "15 86          4                        37000000\n",
       "16 85          5                        14000000\n",
       "17 83          3                        42000000\n",
       "18 86          2                        30000000\n",
       "19 90          3                        25000000\n",
       "20 87          3                        16500000"
      ]
     },
     "metadata": {},
     "output_type": "display_data"
    },
    {
     "data": {
      "text/html": [
       "<dl class=dl-horizontal>\n",
       "\t<dt>Age</dt>\n",
       "\t\t<dd>0</dd>\n",
       "\t<dt>Overall</dt>\n",
       "\t\t<dd>0</dd>\n",
       "\t<dt>Potential</dt>\n",
       "\t\t<dd>0</dd>\n",
       "\t<dt>Finishing</dt>\n",
       "\t\t<dd>0</dd>\n",
       "\t<dt>Strength</dt>\n",
       "\t\t<dd>0</dd>\n",
       "\t<dt>HeadingAccuracy</dt>\n",
       "\t\t<dd>0</dd>\n",
       "\t<dt>Acceleration</dt>\n",
       "\t\t<dd>0</dd>\n",
       "\t<dt>Volleys</dt>\n",
       "\t\t<dd>0</dd>\n",
       "\t<dt>SprintSpeed</dt>\n",
       "\t\t<dd>0</dd>\n",
       "\t<dt>ShotPower</dt>\n",
       "\t\t<dd>0</dd>\n",
       "\t<dt>BallControl</dt>\n",
       "\t\t<dd>0</dd>\n",
       "\t<dt>Reactions</dt>\n",
       "\t\t<dd>0</dd>\n",
       "\t<dt>Dribbling</dt>\n",
       "\t\t<dd>0</dd>\n",
       "\t<dt>LongShots</dt>\n",
       "\t\t<dd>0</dd>\n",
       "\t<dt>Positioning</dt>\n",
       "\t\t<dd>0</dd>\n",
       "\t<dt>International.Reputation</dt>\n",
       "\t\t<dd>0</dd>\n",
       "\t<dt>Value</dt>\n",
       "\t\t<dd>0</dd>\n",
       "</dl>\n"
      ],
      "text/latex": [
       "\\begin{description*}\n",
       "\\item[Age] 0\n",
       "\\item[Overall] 0\n",
       "\\item[Potential] 0\n",
       "\\item[Finishing] 0\n",
       "\\item[Strength] 0\n",
       "\\item[HeadingAccuracy] 0\n",
       "\\item[Acceleration] 0\n",
       "\\item[Volleys] 0\n",
       "\\item[SprintSpeed] 0\n",
       "\\item[ShotPower] 0\n",
       "\\item[BallControl] 0\n",
       "\\item[Reactions] 0\n",
       "\\item[Dribbling] 0\n",
       "\\item[LongShots] 0\n",
       "\\item[Positioning] 0\n",
       "\\item[International.Reputation] 0\n",
       "\\item[Value] 0\n",
       "\\end{description*}\n"
      ],
      "text/markdown": [
       "Age\n",
       ":   0Overall\n",
       ":   0Potential\n",
       ":   0Finishing\n",
       ":   0Strength\n",
       ":   0HeadingAccuracy\n",
       ":   0Acceleration\n",
       ":   0Volleys\n",
       ":   0SprintSpeed\n",
       ":   0ShotPower\n",
       ":   0BallControl\n",
       ":   0Reactions\n",
       ":   0Dribbling\n",
       ":   0LongShots\n",
       ":   0Positioning\n",
       ":   0International.Reputation\n",
       ":   0Value\n",
       ":   0\n",
       "\n"
      ],
      "text/plain": [
       "                     Age                  Overall                Potential \n",
       "                       0                        0                        0 \n",
       "               Finishing                 Strength          HeadingAccuracy \n",
       "                       0                        0                        0 \n",
       "            Acceleration                  Volleys              SprintSpeed \n",
       "                       0                        0                        0 \n",
       "               ShotPower              BallControl                Reactions \n",
       "                       0                        0                        0 \n",
       "               Dribbling                LongShots              Positioning \n",
       "                       0                        0                        0 \n",
       "International.Reputation                    Value \n",
       "                       0                        0 "
      ]
     },
     "metadata": {},
     "output_type": "display_data"
    }
   ],
   "source": [
    "#Dataset para Strikers\n",
    "fifaST <- fifaClean %>% filter(Position == \"ST\")%>% \n",
    "                   select(Age, Overall, Potential, Finishing, Strength, HeadingAccuracy, Acceleration, \n",
    "                          Volleys, SprintSpeed, ShotPower, BallControl, Reactions, Dribbling, LongShots, \n",
    "                          Positioning, International.Reputation, Value)  \n",
    "head(fifaST, 20)\n",
    "colSums(is.na(fifaST))"
   ]
  },
  {
   "cell_type": "markdown",
   "metadata": {},
   "source": [
    "## Separar la columna value e intentar predecirla con una regresión lineal"
   ]
  },
  {
   "cell_type": "code",
   "execution_count": null,
   "metadata": {},
   "outputs": [],
   "source": []
  },
  {
   "cell_type": "markdown",
   "metadata": {},
   "source": [
    "## Utilizar validación cruzada y estimar el error del clasificador"
   ]
  },
  {
   "cell_type": "code",
   "execution_count": null,
   "metadata": {},
   "outputs": [],
   "source": []
  }
 ],
 "metadata": {
  "kernelspec": {
   "display_name": "R",
   "language": "R",
   "name": "ir"
  },
  "language_info": {
   "codemirror_mode": "r",
   "file_extension": ".r",
   "mimetype": "text/x-r-source",
   "name": "R",
   "pygments_lexer": "r",
   "version": "3.6.1"
  }
 },
 "nbformat": 4,
 "nbformat_minor": 2
}
